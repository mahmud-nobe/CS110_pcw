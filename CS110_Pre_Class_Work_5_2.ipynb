{
  "nbformat": 4,
  "nbformat_minor": 0,
  "metadata": {
    "kernelspec": {
      "display_name": "Python 3",
      "language": "python",
      "name": "python3"
    },
    "language_info": {
      "codemirror_mode": {
        "name": "ipython",
        "version": 3
      },
      "file_extension": ".py",
      "mimetype": "text/x-python",
      "name": "python",
      "nbconvert_exporter": "python",
      "pygments_lexer": "ipython3",
      "version": "3.6.5"
    },
    "colab": {
      "name": "CS110 Pre Class Work 5.2",
      "provenance": [],
      "include_colab_link": true
    }
  },
  "cells": [
    {
      "cell_type": "markdown",
      "metadata": {
        "id": "view-in-github",
        "colab_type": "text"
      },
      "source": [
        "<a href=\"https://colab.research.google.com/github/mahmud-nobe/CS110_pcw/blob/master/CS110_Pre_Class_Work_5_2.ipynb\" target=\"_parent\"><img src=\"https://colab.research.google.com/assets/colab-badge.svg\" alt=\"Open In Colab\"/></a>"
      ]
    },
    {
      "cell_type": "markdown",
      "metadata": {
        "id": "6i35EAhhjU7D",
        "colab_type": "text"
      },
      "source": [
        "Before you turn this problem in, make sure everything runs as expected. First, **restart the kernel** (in the menubar, select Kernel$\\rightarrow$Restart) and then **run all cells** (in the menubar, select Cell$\\rightarrow$Run All).\n",
        "\n",
        "Make sure you fill in any place that says `YOUR CODE HERE` or \"YOUR ANSWER HERE\", as well as your name and collaborators below:"
      ]
    },
    {
      "cell_type": "code",
      "metadata": {
        "id": "Vj76mAqojU7H",
        "colab_type": "code",
        "colab": {}
      },
      "source": [
        "NAME = \"Md Mahmudunnobe\"\n",
        "COLLABORATORS = \"\""
      ],
      "execution_count": 0,
      "outputs": []
    },
    {
      "cell_type": "markdown",
      "metadata": {
        "id": "IuV9B-SejU7O",
        "colab_type": "text"
      },
      "source": [
        "---"
      ]
    },
    {
      "cell_type": "markdown",
      "metadata": {
        "deletable": false,
        "editable": false,
        "nbgrader": {
          "checksum": "1a4c3cfc3c34bf644ee45d91835b6f70",
          "grade": false,
          "grade_id": "cell-61b183447ded09ef",
          "locked": true,
          "schema_version": 1,
          "solution": false
        },
        "id": "KC9NRG-XjU7P",
        "colab_type": "text"
      },
      "source": [
        "# CS110 Pre-class Work 5.2\n",
        "\n",
        "## Question 1.\n",
        "Using Figure 7.1 in Cormen et al. as a model, perform manually the partition process on the following list: A = [1,5,6,2,3,8,9,4,7]. You just need to specify the followings:\n",
        "1. The array after the process is done.\n",
        "2. The value of $i$ after the process is done."
      ]
    },
    {
      "cell_type": "markdown",
      "metadata": {
        "deletable": false,
        "nbgrader": {
          "checksum": "06dce98d07f8f042785a795b32e7ef75",
          "grade": true,
          "grade_id": "cell-7aa520f8af13679b",
          "locked": false,
          "points": 0,
          "schema_version": 1,
          "solution": true
        },
        "id": "9T52ao3bjU7R",
        "colab_type": "text"
      },
      "source": [
        "\n",
        "\n",
        "for calling partition (A, 0, 9)\n",
        "1. Array will be, A = [1,2,3,5,6,7,8,9]\n",
        "2. i = 5 using python index"
      ]
    },
    {
      "cell_type": "markdown",
      "metadata": {
        "deletable": false,
        "editable": false,
        "nbgrader": {
          "checksum": "21059776e9083caf84e8abb5b6fb893e",
          "grade": false,
          "grade_id": "cell-6c0a9dfd6980c336",
          "locked": true,
          "schema_version": 1,
          "solution": false
        },
        "id": "HleWh3DkjU7T",
        "colab_type": "text"
      },
      "source": [
        "## Question 2.\n",
        "Code up a Python implementation of `partition(A, p, r)`, closely follow the pseudo-code in Cormen et al., p.172. Your function should return the index of the pivot in the array."
      ]
    },
    {
      "cell_type": "code",
      "metadata": {
        "deletable": false,
        "nbgrader": {
          "checksum": "395997ac94ed1416c67b22f7977c07a5",
          "grade": false,
          "grade_id": "cell-1ceb2600756c60ff",
          "locked": false,
          "schema_version": 1,
          "solution": true
        },
        "id": "K5SXQ0S_jU7V",
        "colab_type": "code",
        "colab": {}
      },
      "source": [
        "def partition(A,p,r):\n",
        "    \"\"\"\n",
        "    Assume r<len(A) and p>=0\n",
        "    \"\"\"\n",
        "    x = A[r]\n",
        "    i = p - 1\n",
        "    for j in range(p,r):\n",
        "      if(A[j] <= x):\n",
        "        i += 1\n",
        "        A[i], A[j] = A[j], A[i]\n",
        "    A[i+1], A[r] = A[r], A[i+1]\n",
        "    return i+1\n",
        "\n",
        "    # YOUR CODE HERE\n",
        "    raise NotImplementedError()"
      ],
      "execution_count": 0,
      "outputs": []
    },
    {
      "cell_type": "code",
      "metadata": {
        "deletable": false,
        "editable": false,
        "nbgrader": {
          "checksum": "34aa315313b6f9d8de8efe0922e5b563",
          "grade": true,
          "grade_id": "cell-a57b60117a7b82fb",
          "locked": true,
          "points": 1,
          "schema_version": 1,
          "solution": false
        },
        "id": "0KUkoOXwjU7a",
        "colab_type": "code",
        "colab": {}
      },
      "source": [
        "A = [1,5,6,2,3,8,9,4,7]\n",
        "assert(partition(A, 0, len(A)-1)==6)"
      ],
      "execution_count": 0,
      "outputs": []
    },
    {
      "cell_type": "markdown",
      "metadata": {
        "deletable": false,
        "editable": false,
        "nbgrader": {
          "checksum": "3496e310776eba92a8290d114db627cd",
          "grade": false,
          "grade_id": "cell-cd490c45f6733522",
          "locked": true,
          "schema_version": 1,
          "solution": false
        },
        "id": "Mw4Cf_DijU7e",
        "colab_type": "text"
      },
      "source": [
        "## Question 3.\n",
        "\n",
        "Code up your own Python implementation of `quicksort(A, p, r)`, using `partition(A,p,r)`."
      ]
    },
    {
      "cell_type": "code",
      "metadata": {
        "deletable": false,
        "nbgrader": {
          "checksum": "7e40c51fd1bd31c790aa0dd8abde1fb7",
          "grade": false,
          "grade_id": "cell-8c39ebb8cd1aa83a",
          "locked": false,
          "schema_version": 1,
          "solution": true
        },
        "id": "lvQrH4aVjU7g",
        "colab_type": "code",
        "colab": {}
      },
      "source": [
        "def quick_sort(A,p,r):\n",
        "    if p < r:\n",
        "      q = partition(A,p,r)\n",
        "      quick_sort(A,p,q-1)\n",
        "      quick_sort(A,q+1,r)\n",
        "    return A\n",
        "    raise NotImplementedError()"
      ],
      "execution_count": 0,
      "outputs": []
    },
    {
      "cell_type": "code",
      "metadata": {
        "deletable": false,
        "editable": false,
        "nbgrader": {
          "checksum": "80923d1142f0ef958a616db1105a8c1a",
          "grade": true,
          "grade_id": "cell-4f822430efd456ee",
          "locked": true,
          "points": 1,
          "schema_version": 1,
          "solution": false
        },
        "id": "0Qp-fLx6jU7l",
        "colab_type": "code",
        "colab": {}
      },
      "source": [
        "A = [0]\n",
        "assert(quick_sort(A, 0, 0) == [0])\n",
        "A = [3,1,2]\n",
        "assert(quick_sort(A, 0, 2) == [1,2,3])"
      ],
      "execution_count": 0,
      "outputs": []
    },
    {
      "cell_type": "markdown",
      "metadata": {
        "deletable": false,
        "editable": false,
        "nbgrader": {
          "checksum": "741cfe874ccaef343713f81ec963360c",
          "grade": false,
          "grade_id": "cell-53941fba9302c591",
          "locked": true,
          "schema_version": 1,
          "solution": false
        },
        "id": "9nAkFbg9jU7p",
        "colab_type": "text"
      },
      "source": [
        "## Question 4. \n",
        "Explain (using experimental plots) the running time of `quick_sort` when: \n",
        "1. all elements of array A have the same value (e.g., [1,1,1])?\n",
        "2. array A contains distinct elements sorted in decreasing order (e.g., [5,4,2,1])?\n"
      ]
    },
    {
      "cell_type": "code",
      "metadata": {
        "deletable": false,
        "nbgrader": {
          "checksum": "f5ddaf0e684d72d229df078b18f321f8",
          "grade": true,
          "grade_id": "cell-b58035dd5fa02329",
          "locked": false,
          "points": 0,
          "schema_version": 1,
          "solution": true
        },
        "id": "zjY38n-8jU7q",
        "colab_type": "code",
        "colab": {
          "base_uri": "https://localhost:8080/",
          "height": 282
        },
        "outputId": "f4d21abf-d63c-4e80-fc4e-55648876a4c6"
      },
      "source": [
        "import time\n",
        "import matplotlib.pyplot as plt\n",
        "\n",
        "same_value = []\n",
        "reverse_order = []\n",
        "\n",
        "for n in range(1,30):\n",
        "  k1 = list([n] * n)\n",
        "  k2 = list(range(n,0,-1))\n",
        "\n",
        "  start = time.clock()\n",
        "  quick_sort(k1, 0, n-1)\n",
        "  end = time.clock()\n",
        "  same_value.append(end - start)\n",
        "\n",
        "  start = time.clock()\n",
        "  quick_sort(k2, 0, n-1)\n",
        "  end = time.clock()\n",
        "  reverse_order.append(end - start)\n",
        "\n",
        "plt.plot(range(1,30), same_value, 'g')\n",
        "plt.plot(range(1,30), reverse_order, 'b')\n",
        "\n",
        "#raise NotImplementedError()"
      ],
      "execution_count": 13,
      "outputs": [
        {
          "output_type": "execute_result",
          "data": {
            "text/plain": [
              "[<matplotlib.lines.Line2D at 0x7f63dc7293c8>]"
            ]
          },
          "metadata": {
            "tags": []
          },
          "execution_count": 13
        },
        {
          "output_type": "display_data",
          "data": {
            "image/png": "[encoded data removed]",
            "text/plain": [
              "<Figure size 432x288 with 1 Axes>"
            ]
          },
          "metadata": {
            "tags": []
          }
        }
      ]
    },
    {
      "cell_type": "code",
      "metadata": {
        "id": "z66iWAnwlX1f",
        "colab_type": "code",
        "colab": {}
      },
      "source": [
        ""
      ],
      "execution_count": 0,
      "outputs": []
    }
  ]
}