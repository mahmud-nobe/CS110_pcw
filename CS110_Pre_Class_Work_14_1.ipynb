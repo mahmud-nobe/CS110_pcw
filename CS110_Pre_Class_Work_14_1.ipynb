{
  "nbformat": 4,
  "nbformat_minor": 0,
  "metadata": {
    "kernelspec": {
      "display_name": "Python 3",
      "language": "python",
      "name": "python3"
    },
    "language_info": {
      "codemirror_mode": {
        "name": "ipython",
        "version": 3
      },
      "file_extension": ".py",
      "mimetype": "text/x-python",
      "name": "python",
      "nbconvert_exporter": "python",
      "pygments_lexer": "ipython3",
      "version": "3.6.5"
    },
    "colab": {
      "name": "CS110 Pre Class Work 14.1",
      "provenance": [],
      "include_colab_link": true
    }
  },
  "cells": [
    {
      "cell_type": "markdown",
      "metadata": {
        "id": "view-in-github",
        "colab_type": "text"
      },
      "source": [
        "<a href=\"https://colab.research.google.com/github/mahmud-nobe/CS110_pcw/blob/master/CS110_Pre_Class_Work_14_1.ipynb\" target=\"_parent\"><img src=\"https://colab.research.google.com/assets/colab-badge.svg\" alt=\"Open In Colab\"/></a>"
      ]
    },
    {
      "cell_type": "markdown",
      "metadata": {
        "id": "vXpZn6BV6adJ",
        "colab_type": "text"
      },
      "source": [
        "Before you turn this problem in, make sure everything runs as expected. First, **restart the kernel** (in the menubar, select Kernel$\\rightarrow$Restart) and then **run all cells** (in the menubar, select Cell$\\rightarrow$Run All).\n",
        "\n",
        "Make sure you fill in any place that says `YOUR CODE HERE` or \"YOUR ANSWER HERE\", as well as your name and collaborators below:"
      ]
    },
    {
      "cell_type": "code",
      "metadata": {
        "id": "SSX0SKvk6adK",
        "colab_type": "code",
        "colab": {}
      },
      "source": [
        "NAME = \"Md Mahmudunnobe\"\n",
        "COLLABORATORS = \"\""
      ],
      "execution_count": 0,
      "outputs": []
    },
    {
      "cell_type": "markdown",
      "metadata": {
        "id": "lI-N6DlF6adT",
        "colab_type": "text"
      },
      "source": [
        "---"
      ]
    },
    {
      "cell_type": "markdown",
      "metadata": {
        "deletable": false,
        "editable": false,
        "nbgrader": {
          "checksum": "0367f5474791e0925c489ff94bbd2547",
          "grade": false,
          "grade_id": "cell-9c63b12e232759b8",
          "locked": true,
          "schema_version": 1,
          "solution": false
        },
        "id": "JTOtSdjE6adU",
        "colab_type": "text"
      },
      "source": [
        "# CS110 Pre-class Work 13.2\n",
        "\n",
        "## Question 1.\n",
        "\n",
        "The Python class `Activity` is defined below. Each activity is characterized by its name, its start time and its finish time. Your task is to complete the `greedy_activity_selector` function, which takes a list of activities sorted by their finish times as an argument."
      ]
    },
    {
      "cell_type": "code",
      "metadata": {
        "deletable": false,
        "nbgrader": {
          "checksum": "413193869a5088c6f8dc9097a1772c8b",
          "grade": false,
          "grade_id": "cell-0a1157809bc7cc0d",
          "locked": false,
          "schema_version": 1,
          "solution": true
        },
        "id": "NTb9Qx1a6adV",
        "colab_type": "code",
        "colab": {}
      },
      "source": [
        "\n",
        "class Activity:\n",
        "    def __init__(self, name, start, finish):\n",
        "        self.name = name\n",
        "        self.start = start\n",
        "        self.finish = finish\n",
        "    \n",
        "def greedy_activity_selector(A):\n",
        "    \"\"\"\n",
        "    Implements an iterative greedy algorithm to solve the activity-selection \n",
        "    problem (making use of NO recursive calls). See GREEDY-ACTIVITY-SELECTOR \n",
        "    in Cormen et al., p.421\n",
        "    \n",
        "    Inputs:\n",
        "    - A: list of activities, instances of Activity, already sorted by finish \n",
        "    times\n",
        "    \n",
        "    Outputs:\n",
        "    - out_list: the longest list possible of mutually compatible activities.\n",
        "    \"\"\"\n",
        "    \n",
        "    n = len(A) # number of activities\n",
        "\n",
        "    out_list = [A[0]]\n",
        "\n",
        "    k = 0\n",
        "\n",
        "    for i in range(1, n):\n",
        "        if(A[i].start >= A[k].finish):\n",
        "            out_list = out_list + [A[i]]\n",
        "            k = i\n",
        "    \n",
        "    return out_list\n",
        "\n",
        "    raise NotImplementedError()\n",
        "\n"
      ],
      "execution_count": 0,
      "outputs": []
    },
    {
      "cell_type": "markdown",
      "metadata": {
        "deletable": false,
        "editable": false,
        "nbgrader": {
          "checksum": "70bd334a21ec65d7d1714cc14fd634e0",
          "grade": false,
          "grade_id": "cell-3ba3cac56e3df1ee",
          "locked": true,
          "schema_version": 1,
          "solution": false
        },
        "id": "tI0Ob5dP6add",
        "colab_type": "text"
      },
      "source": [
        "## Question 2. \n",
        "Complete the function below."
      ]
    },
    {
      "cell_type": "code",
      "metadata": {
        "deletable": false,
        "nbgrader": {
          "checksum": "552c1219b681e97208d8dd79bb2b0227",
          "grade": false,
          "grade_id": "cell-28155118284d41d4",
          "locked": false,
          "schema_version": 1,
          "solution": true
        },
        "id": "s-P0ycJu6ade",
        "colab_type": "code",
        "colab": {}
      },
      "source": [
        "def recursive_activity_selector(A, k, n):\n",
        "    \"\"\"\n",
        "    Implements a recursive greedy algorithm to solve the activity-selection \n",
        "    problem. See RECURSIVE-ACTIVITY-SELECTOR in Cormen et al., p.419. Note \n",
        "    that in Cormen et al., the call that solves the entire problem is the call\n",
        "    with k=0. Because of the 0-indexing scheme in Python, the call that solves \n",
        "    the entire problem is with k=-1 (i.e., recursive_activity_selector(A, -1, len(A)))\n",
        "    \n",
        "    Inputs:\n",
        "    - A: list of activities, instances of Activity, already sorted by finish \n",
        "    times\n",
        "    - k: int, defines the subproblem S_k it is to solve (see Cormen et al.) for \n",
        "    the definition of the subproblem S_k\n",
        "    - n: int, the size n of the original problem\n",
        "    \n",
        "    Outputs:\n",
        "    - out_list: the longest list possible of mutually compatible activities. \n",
        "    \"\"\"\n",
        "    \n",
        "    m = k + 1\n",
        "\n",
        "    out_list = []\n",
        "\n",
        "    while(m < n and A[m].start < A[k].finish):\n",
        "        m += 1\n",
        "    \n",
        "    if (m < n):\n",
        "        return [A[m]] + recursive_activity_selector(A, m, n)\n",
        "    else:\n",
        "        return []\n",
        "\n",
        "    #raise NotImplementedError()\n",
        "\n"
      ],
      "execution_count": 0,
      "outputs": []
    },
    {
      "cell_type": "code",
      "metadata": {
        "id": "7f92zk7jrEZL",
        "colab_type": "code",
        "colab": {
          "base_uri": "https://localhost:8080/",
          "height": 187
        },
        "outputId": "c7a77260-7f9d-4753-ceb8-5af4af7b250b"
      },
      "source": [
        "A = activity_list_gen(10)\n",
        "for i in range(len(A)):\n",
        "    print(A[i].name, A[i].start, A[i].finish)"
      ],
      "execution_count": 40,
      "outputs": [
        {
          "output_type": "stream",
          "text": [
            "0 0 2\n",
            "1 3 4\n",
            "2 3 7\n",
            "3 5 8\n",
            "4 10 15\n",
            "5 16 18\n",
            "6 18 19\n",
            "7 17 21\n",
            "8 17 22\n",
            "9 22 26\n"
          ],
          "name": "stdout"
        }
      ]
    },
    {
      "cell_type": "code",
      "metadata": {
        "id": "O0rHrCQerS0-",
        "colab_type": "code",
        "colab": {
          "base_uri": "https://localhost:8080/",
          "height": 34
        },
        "outputId": "873a329d-8087-46cb-a51c-617e5a18c8c9"
      },
      "source": [
        "out_list = recursive_activity_selector(A, -1, len(A))\n",
        "for i in range(len(out_list)):\n",
        "    print(out_list[i].name, out_list[i].start, out_list[i].finish)\n",
        "out_list"
      ],
      "execution_count": 41,
      "outputs": [
        {
          "output_type": "execute_result",
          "data": {
            "text/plain": [
              "[]"
            ]
          },
          "metadata": {
            "tags": []
          },
          "execution_count": 41
        }
      ]
    },
    {
      "cell_type": "markdown",
      "metadata": {
        "deletable": false,
        "editable": false,
        "nbgrader": {
          "checksum": "d358371608b96d9cf1c95a70e45d897c",
          "grade": false,
          "grade_id": "cell-e6deaa568f277413",
          "locked": true,
          "schema_version": 1,
          "solution": false
        },
        "id": "684dBpHv6adh",
        "colab_type": "text"
      },
      "source": [
        "## Question 3. \n",
        "Compare the running time of `greedy_activity_selector` and `recursive_activity_selector` on different lengths of a random activity list. Do this by producing a plot, where the x axis is the length of the activity list (`list(range(1,1000,10))`) and the y axis is the running time. Note that:\n",
        "1. Don't forget to average your results over 100 iterations for each length of the activity list.\n",
        "2. The two lines for `greedy_activity_selector` and `recursive_activity_selector` should be present in the same plot (with different colors), not two separate plots, for easy comparison. \n",
        "3. To generate an random activity list of a certain length, use the function `activity_list_gen` below. "
      ]
    },
    {
      "cell_type": "code",
      "metadata": {
        "deletable": false,
        "editable": false,
        "nbgrader": {
          "checksum": "cfb588e2ed22b6ecf70e59b053577239",
          "grade": false,
          "grade_id": "cell-5dcfc08cf359cece",
          "locked": true,
          "schema_version": 1,
          "solution": false
        },
        "id": "a0uYIe1g6adh",
        "colab_type": "code",
        "colab": {}
      },
      "source": [
        "import random\n",
        "def activity_list_gen(n):\n",
        "    finish_times = random.sample(range(n*3), n)\n",
        "    finish_times.sort()\n",
        "    \n",
        "    start_times = []\n",
        "    for ftime in finish_times:\n",
        "        offset = random.randint(1,5)\n",
        "        start_times.append(max(ftime-offset, 0))\n",
        "    \n",
        "    out_list = []\n",
        "    for i in range(n):\n",
        "        out_list.append(Activity(str(i), start_times[i], finish_times[i]))\n",
        "    \n",
        "    return out_list"
      ],
      "execution_count": 0,
      "outputs": []
    },
    {
      "cell_type": "code",
      "metadata": {
        "id": "YdRmwvNUpBX8",
        "colab_type": "code",
        "colab": {
          "base_uri": "https://localhost:8080/",
          "height": 187
        },
        "outputId": "f3fe3ad4-467e-4328-8ae8-270ffb67e5a5"
      },
      "source": [
        "A = activity_list_gen(10)\n",
        "for i in range(len(A)):\n",
        "    print(A[i].name, A[i].start, A[i].finish)"
      ],
      "execution_count": 11,
      "outputs": [
        {
          "output_type": "stream",
          "text": [
            "0 0 2\n",
            "1 0 5\n",
            "2 3 7\n",
            "3 4 8\n",
            "4 7 9\n",
            "5 9 14\n",
            "6 15 16\n",
            "7 15 18\n",
            "8 18 20\n",
            "9 23 28\n"
          ],
          "name": "stdout"
        }
      ]
    },
    {
      "cell_type": "code",
      "metadata": {
        "id": "EvMaadDGpKfL",
        "colab_type": "code",
        "colab": {
          "base_uri": "https://localhost:8080/",
          "height": 136
        },
        "outputId": "4707e3fd-8c1a-4fe2-ec4c-ee880995d44b"
      },
      "source": [
        "out_list = greedy_activity_selector(A)\n",
        "for i in range(len(out_list)):\n",
        "    print(out_list[i].name, out_list[i].start, out_list[i].finish)"
      ],
      "execution_count": 13,
      "outputs": [
        {
          "output_type": "stream",
          "text": [
            "0 0 2\n",
            "2 3 7\n",
            "4 7 9\n",
            "5 9 14\n",
            "6 15 16\n",
            "8 18 20\n",
            "9 23 28\n"
          ],
          "name": "stdout"
        }
      ]
    },
    {
      "cell_type": "code",
      "metadata": {
        "id": "3d5IGb-5pyLK",
        "colab_type": "code",
        "colab": {}
      },
      "source": [
        "out_list = recursive_activity_selector(A, -1, len(A))\n",
        "for i in range(len(out_list)):\n",
        "    print(out_list[i].name, out_list[i].start, out_list[i].finish)\n",
        "# out_list"
      ],
      "execution_count": 0,
      "outputs": []
    },
    {
      "cell_type": "code",
      "metadata": {
        "deletable": false,
        "nbgrader": {
          "checksum": "4ab7dbacbfb7ec0218e98b3cbce93849",
          "grade": true,
          "grade_id": "cell-c17d8c7a46d900d4",
          "locked": false,
          "points": 0,
          "schema_version": 1,
          "solution": true
        },
        "id": "9OseB7166adk",
        "colab_type": "code",
        "colab": {}
      },
      "source": [
        "import matplotlib.pyplot as plt\n",
        "import seaborn as sns\n",
        "import time\n",
        "\n",
        "recursive_time = []\n",
        "iterative_time = []\n",
        "\n",
        "for n in range(1,1000,10):\n",
        "    iterative = 0\n",
        "    recursive = 0\n",
        "\n",
        "    for _ in range(100):\n",
        "        print(n)\n",
        "        A = activity_list_gen(n)\n",
        "\n",
        "        start = time.time()\n",
        "        out_list = recursive_activity_selector(A, -1, len(A))\n",
        "        end = time.time()\n",
        "        recursive += end - start\n",
        "\n",
        "        start = time.time()\n",
        "        out_list = greedy_activity_selector(A)\n",
        "        end = time.time()\n",
        "        iterative += end - start\n",
        "\n",
        "    recursive_time.append(recursive/100)\n",
        "    iterative_time.append(iterative/100)\n",
        "\n",
        "\n",
        "\n",
        "\n",
        "        \n",
        "\n",
        "# raise NotImplementedError()"
      ],
      "execution_count": 0,
      "outputs": []
    },
    {
      "cell_type": "code",
      "metadata": {
        "id": "iavg9_Q8tePO",
        "colab_type": "code",
        "colab": {
          "base_uri": "https://localhost:8080/",
          "height": 279
        },
        "outputId": "ed19d844-04e5-4112-d6c8-b4bed56e89e6"
      },
      "source": [
        "sns.lineplot(range(1,1000,10), iterative_time, label = 'greedy_activity_selector')\n",
        "sns.lineplot(range(1,1000,10), recursive_time, label = 'recursive_activity_selector')\n",
        "plt.xlabel('Number of Activity')\n",
        "plt.ylabel('Time (s)')\n",
        "plt.show()"
      ],
      "execution_count": 44,
      "outputs": [
        {
          "output_type": "display_data",
          "data": {
            "image/png": "[encoded data removed]",
            "text/plain": [
              "<Figure size 432x288 with 1 Axes>"
            ]
          },
          "metadata": {
            "tags": [],
            "needs_background": "light"
          }
        }
      ]
    },
    {
      "cell_type": "markdown",
      "metadata": {
        "deletable": false,
        "editable": false,
        "nbgrader": {
          "checksum": "ef53f9d29a3d6ad20ef5fd89d07f496d",
          "grade": false,
          "grade_id": "cell-ddb1a8b21fec268c",
          "locked": true,
          "schema_version": 1,
          "solution": false
        },
        "id": "A7sbnUdV6ado",
        "colab_type": "text"
      },
      "source": [
        "## Question 4. \n",
        "Explain the results in question 3."
      ]
    },
    {
      "cell_type": "markdown",
      "metadata": {
        "deletable": false,
        "nbgrader": {
          "checksum": "7458e09161fa43cfd28acf6b96fd477d",
          "grade": true,
          "grade_id": "cell-9b12191daa3f4086",
          "locked": false,
          "points": 0,
          "schema_version": 1,
          "solution": true
        },
        "id": "o08u5ttI6ado",
        "colab_type": "text"
      },
      "source": [
        "\n",
        "\n",
        "\n",
        "\n",
        "The iterative activity selector has a complexity of polynomial (n^2), while the recursive ones shows almost linear complexity."
      ]
    },
    {
      "cell_type": "markdown",
      "metadata": {
        "deletable": false,
        "editable": false,
        "nbgrader": {
          "checksum": "c31c0a7c2d604dd8cfeb752010cde829",
          "grade": false,
          "grade_id": "cell-eacc2a9d0cf501b2",
          "locked": true,
          "schema_version": 1,
          "solution": false
        },
        "id": "9WhjXDxJ6adp",
        "colab_type": "text"
      },
      "source": [
        "## [Optional] Question 5. \n",
        "Overload the operator \"<\" for a comparison between two instances of the class Activity so that A.sort() will sort A, a list of activities, by their finish times.\n",
        "\n",
        "**This might be very helpful for your final project, so please try this exercise and reach out to the TAs if you'd like to further discuss Overloading in Python**"
      ]
    },
    {
      "cell_type": "code",
      "metadata": {
        "deletable": false,
        "nbgrader": {
          "checksum": "4ada10c6b3b59595715c8fb6330d1254",
          "grade": true,
          "grade_id": "cell-d71b61f1ff24eab6",
          "locked": false,
          "points": 0,
          "schema_version": 1,
          "solution": true
        },
        "id": "nHcq_j0W6adq",
        "colab_type": "code",
        "colab": {}
      },
      "source": [
        "import copy\n",
        "class Activity:\n",
        "    def __init__(self, name, start, finish):\n",
        "        self.name = name\n",
        "        self.start = start\n",
        "        self.finish = finish\n",
        "    \n",
        "    def __lt__(self, other):\n",
        "        # YOUR CODE HERE\n",
        "        raise NotImplementedError()\n",
        "\n",
        "# Testing code\n",
        "\n",
        "A = [Activity('1', 0, 2),\n",
        "     Activity('2', 1, 5),\n",
        "     Activity('3', 0, 1),\n",
        "     Activity('4', 5, 6)]\n",
        "\n",
        "A.sort()\n",
        "\n",
        "finish_time_list = []\n",
        "\n",
        "for act in A:\n",
        "    finish_time_list.append(act.finish)\n",
        "\n",
        "B = copy.deepcopy(finish_time_list)\n",
        "B.sort()\n",
        "B == finish_time_list"
      ],
      "execution_count": 0,
      "outputs": []
    }
  ]
}