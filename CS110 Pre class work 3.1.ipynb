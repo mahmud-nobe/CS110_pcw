{
  "nbformat": 4,
  "nbformat_minor": 0,
  "metadata": {
    "kernelspec": {
      "display_name": "Python 3",
      "language": "python",
      "name": "python3"
    },
    "language_info": {
      "codemirror_mode": {
        "name": "ipython",
        "version": 3
      },
      "file_extension": ".py",
      "mimetype": "text/x-python",
      "name": "python",
      "nbconvert_exporter": "python",
      "pygments_lexer": "ipython3",
      "version": "3.6.5"
    },
    "colab": {
      "name": "CS110 Pre-class work 3.1",
      "provenance": [],
      "include_colab_link": true
    }
  },
  "cells": [
    {
      "cell_type": "markdown",
      "metadata": {
        "id": "view-in-github",
        "colab_type": "text"
      },
      "source": [
        "<a href=\"https://colab.research.google.com/github/mahmud-nobe/CS110_pcw/blob/master/CS110%20Pre%20class%20work%203.1.ipynb\" target=\"_parent\"><img src=\"https://colab.research.google.com/assets/colab-badge.svg\" alt=\"Open In Colab\"/></a>"
      ]
    },
    {
      "cell_type": "markdown",
      "metadata": {
        "id": "ZYVO75wb436j",
        "colab_type": "text"
      },
      "source": [
        "Before you turn this problem in, make sure everything runs as expected. First, **restart the kernel** (in the menubar, select Kernel$\\rightarrow$Restart) and then **run all cells** (in the menubar, select Cell$\\rightarrow$Run All).\n",
        "\n",
        "Make sure you fill in any place that says `YOUR CODE HERE` or \"YOUR ANSWER HERE\", as well as your name and collaborators below:"
      ]
    },
    {
      "cell_type": "code",
      "metadata": {
        "id": "qYo7x6FY436o",
        "colab_type": "code",
        "colab": {}
      },
      "source": [
        "NAME = \"Md Mahmudunnobe\"\n",
        "COLLABORATORS = \"\""
      ],
      "execution_count": 0,
      "outputs": []
    },
    {
      "cell_type": "markdown",
      "metadata": {
        "id": "QYfKLSi2436z",
        "colab_type": "text"
      },
      "source": [
        "---"
      ]
    },
    {
      "cell_type": "markdown",
      "metadata": {
        "deletable": false,
        "editable": false,
        "nbgrader": {
          "checksum": "6eb33d4bbb91bdad042e00eb02fae1ad",
          "grade": false,
          "grade_id": "cell-f941f4ddd5e342f7",
          "locked": true,
          "schema_version": 1,
          "solution": false
        },
        "id": "f2HDEEwi4361",
        "colab_type": "text"
      },
      "source": [
        "# CS110 Pre-class Work 3.1\n",
        "\n",
        "## Question 1. \n",
        "Paste in your Python implementation of the maximum subarray from the previous class in the cell below and use that to find out the value of the maximum subarray of this array: `A = [-2, -3, 4, -1, -2, 1]`"
      ]
    },
    {
      "cell_type": "code",
      "metadata": {
        "deletable": false,
        "nbgrader": {
          "checksum": "6c4991e90ad8cdfb8cf42529b7e5edd6",
          "grade": true,
          "grade_id": "cell-e69c8bbcd40ca242",
          "locked": false,
          "points": 0,
          "schema_version": 1,
          "solution": true
        },
        "id": "IIAS3xiE4362",
        "colab_type": "code",
        "colab": {}
      },
      "source": [
        "def bruteforce_max_subarray(A):\n",
        "    \"\"\"Implements brute-force maximum subarray finding.\n",
        "    \n",
        "    Inputs:\n",
        "    - A: a NON-EMPTY list of floats\n",
        "    \n",
        "    Outputs: A tuple of\n",
        "    - the start index of the max subarray\n",
        "    - the end index of the max subarray\n",
        "    - the value of the maximum subarray\n",
        "    \"\"\"\n",
        "    # setting initial maximum summation as negative infinity\n",
        "    max_sum = -float('inf')\n",
        "\n",
        "    # checking every possible pairs and taking the sum of corresponding subarray\n",
        "    # if the sum is larger than max_sum, then store it in max_sum and store the indices\n",
        "    for i in range(len(A)):\n",
        "      pair_sum = 0\n",
        "      for j in range(i,len(A)):\n",
        "        pair_sum += A[j]\n",
        "        if (pair_sum > max_sum):\n",
        "          max_sum = pair_sum\n",
        "          max_i = i\n",
        "          max_j = j\n",
        "    return (max_i, max_j, max_sum)\n",
        "    raise NotImplementedError()"
      ],
      "execution_count": 0,
      "outputs": []
    },
    {
      "cell_type": "code",
      "metadata": {
        "id": "P5r_8-L1ttAg",
        "colab_type": "code",
        "outputId": "f89cc6d2-495c-4329-984b-46681d7bd780",
        "colab": {
          "base_uri": "https://localhost:8080/",
          "height": 34
        }
      },
      "source": [
        "A = [-2, -3, 4, -1, -2, 1]\n",
        "bruteforce_max_subarray(A)"
      ],
      "execution_count": 0,
      "outputs": [
        {
          "output_type": "execute_result",
          "data": {
            "text/plain": [
              "(2, 2, 4)"
            ]
          },
          "metadata": {
            "tags": []
          },
          "execution_count": 6
        }
      ]
    },
    {
      "cell_type": "code",
      "metadata": {
        "id": "U-EPDYEtt08U",
        "colab_type": "code",
        "colab": {}
      },
      "source": [
        ""
      ],
      "execution_count": 0,
      "outputs": []
    },
    {
      "cell_type": "markdown",
      "metadata": {
        "deletable": false,
        "editable": false,
        "nbgrader": {
          "checksum": "676f4558ca97298a50665d2b57563a54",
          "grade": false,
          "grade_id": "cell-6b2d39096ef80c67",
          "locked": true,
          "schema_version": 1,
          "solution": false
        },
        "id": "lePXuGsK437A",
        "colab_type": "text"
      },
      "source": [
        "## Question 2. \n",
        "Now, your friend Joe comes and appends a single extra number at the end of the array, which becomes:  `B = [-2, -3, 4, -1, -2, 1, 8]`. Do you have to re-run the entire maximum subarray again? Explain your answer. \n",
        "The subsequent questions will help you figure out an efficient algorithmic strategy to address the last question, but make sure to write your explanation above first, before answering the remaining questions.\n"
      ]
    },
    {
      "cell_type": "markdown",
      "metadata": {
        "deletable": false,
        "nbgrader": {
          "checksum": "b848c0f0fa07252cc99055a801b12e47",
          "grade": true,
          "grade_id": "cell-d4b7cd845c816263",
          "locked": false,
          "points": 0,
          "schema_version": 1,
          "solution": true
        },
        "id": "tJlGlwfY437C",
        "colab_type": "text"
      },
      "source": [
        "No, I don't need to run it again.\n",
        "\n",
        "We already know the maximum subarray (indices and values) of the previous array A.\n",
        "\n",
        "So, as we add only one new term, we can only check the subarrays, where the last index is the newly added one and compare them with the previous maximum subarray. "
      ]
    },
    {
      "cell_type": "markdown",
      "metadata": {
        "deletable": false,
        "editable": false,
        "nbgrader": {
          "checksum": "055be509a3fd9e61e64a6572949aa994",
          "grade": false,
          "grade_id": "cell-7280eecbaa455be1",
          "locked": true,
          "schema_version": 1,
          "solution": false
        },
        "id": "RlCE2s9V437E",
        "colab_type": "text"
      },
      "source": [
        "## Question 3. \n",
        "\n",
        "**Determine if the following statement is True or False and explain your answer.**\n",
        "If the maximum subarray of the array A is different than the maximum subarray of the array B (questions 1 and 2), the new maximum-subarray doesn’t need to include 8 (i.e., the newly appended element). \n"
      ]
    },
    {
      "cell_type": "markdown",
      "metadata": {
        "deletable": false,
        "nbgrader": {
          "checksum": "2b29f3c119737d73a7578e00d43972a4",
          "grade": true,
          "grade_id": "cell-9377964a8756f13b",
          "locked": false,
          "points": 0,
          "schema_version": 1,
          "solution": true
        },
        "id": "tdxjoECo437G",
        "colab_type": "text"
      },
      "source": [
        "**FALSE**\n",
        "\n",
        "The only extra number that comes in array B is the last number, 8. So, if the maximum subarray of A and B are different, then it will be because of the last index and new maximum-subarray must include the last index. Otherwise their maximum subarry will be the same."
      ]
    },
    {
      "cell_type": "markdown",
      "metadata": {
        "deletable": false,
        "editable": false,
        "nbgrader": {
          "checksum": "461bf61cb22c2304f3988c6f34a901e8",
          "grade": false,
          "grade_id": "cell-e7cc711ccdade69f",
          "locked": true,
          "schema_version": 1,
          "solution": false
        },
        "id": "bOkWoM1i437I",
        "colab_type": "text"
      },
      "source": [
        "## Question 4.\n",
        "Complete the Python function `incremental_max_subarray(x, mx)` in the cell below.\n",
        "\n",
        "This [video](https://www.youtube.com/watch?v=AAgErqQmwmA&list=PLF_a-qBXTGFektoI6JUOTRL36JlvD04BR&index=4&t=0s)  might be helpful to understand the `incremental_max_subarray` problem."
      ]
    },
    {
      "cell_type": "code",
      "metadata": {
        "deletable": false,
        "nbgrader": {
          "checksum": "ac3f0799ce4ff7159403a97b99cbb5bd",
          "grade": false,
          "grade_id": "cell-0230e459f3d701f8",
          "locked": false,
          "schema_version": 1,
          "solution": true
        },
        "id": "3Q6IGmtc437N",
        "colab_type": "code",
        "colab": {}
      },
      "source": [
        "def incremental_max_subarray(x, mx):\n",
        "    \"\"\" \n",
        "    Inputs:\n",
        "    - x: a NON-EMPTY list of numbers (e.g., the array B in the first two questions above). \n",
        "        * If x has 1 element: returns the value of the element regardless of the value of mx\n",
        "    - mx: the maximum subarray of x excluding its last element (i.e., compute the \n",
        "    maximum subarray of the input array x considering only its first len(x) - 1 elements)\n",
        "    \n",
        "    Output: The maximum subarray of the array x.\n",
        "    \n",
        "    For example, using the array B in question 2, the result of incremental_max_subarray(B, 4) \n",
        "    is 10 (10 = 8 + 1 - 2 -1 + 4). \n",
        "    \"\"\"\n",
        "    max_sum = mx\n",
        "    pair_sum = 0\n",
        "    for i in reversed(range(len(x))):\n",
        "      pair_sum += x[i]\n",
        "      if (pair_sum > max_sum):\n",
        "        max_sum = pair_sum\n",
        "    \n",
        "    return max_sum\n",
        "\n",
        "    raise NotImplementedError()"
      ],
      "execution_count": 0,
      "outputs": []
    },
    {
      "cell_type": "code",
      "metadata": {
        "id": "0ZXajB64vnM0",
        "colab_type": "code",
        "outputId": "e86f4374-ea54-48fc-8d5f-0e1589f21246",
        "colab": {
          "base_uri": "https://localhost:8080/",
          "height": 34
        }
      },
      "source": [
        "B = [-2, -3, 4, -1, -2, 1, 8]\n",
        "incremental_max_subarray(B, 4)"
      ],
      "execution_count": 0,
      "outputs": [
        {
          "output_type": "execute_result",
          "data": {
            "text/plain": [
              "10"
            ]
          },
          "metadata": {
            "tags": []
          },
          "execution_count": 24
        }
      ]
    },
    {
      "cell_type": "code",
      "metadata": {
        "id": "wlUbvmdHx3CX",
        "colab_type": "code",
        "outputId": "11c65037-af9c-4a14-ad5d-c61cc92b95ae",
        "colab": {
          "base_uri": "https://localhost:8080/",
          "height": 52
        }
      },
      "source": [
        "B[:1]\n",
        "print(incremental_max_subarray(B[:1], 0))\n",
        "print(B[0])"
      ],
      "execution_count": 0,
      "outputs": [
        {
          "output_type": "stream",
          "text": [
            "0\n",
            "-2\n"
          ],
          "name": "stdout"
        }
      ]
    },
    {
      "cell_type": "code",
      "metadata": {
        "deletable": false,
        "editable": false,
        "nbgrader": {
          "checksum": "70a3880be02d6f703dfa95229957e71f",
          "grade": true,
          "grade_id": "cell-9abf19e56620ffa3",
          "locked": true,
          "points": 1,
          "schema_version": 1,
          "solution": false
        },
        "id": "JaM6AlpT437U",
        "colab_type": "code",
        "colab": {}
      },
      "source": [
        "B = [-2, -3, 4, -1, -2, 1, 8]\n",
        "assert(incremental_max_subarray(B, 4) == 10)\n",
        "# assert(incremental_max_subarray(B[:1], 0) == B[0])\n",
        "# the last assert will be false as the B[0] = -2, but the mx = 0, which is larger than B[0],\n",
        "# so the output will be 0, not B[0] (which equals -2)"
      ],
      "execution_count": 0,
      "outputs": []
    },
    {
      "cell_type": "code",
      "metadata": {
        "deletable": false,
        "nbgrader": {
          "checksum": "d9cdd0a60c40e487e87d79d21915e36b",
          "grade": false,
          "grade_id": "cell-fd96d4ccccd99fe6",
          "locked": false,
          "schema_version": 1,
          "solution": true
        },
        "id": "Q-9ssdCH437f",
        "colab_type": "code",
        "colab": {}
      },
      "source": [
        "def max_subarray(A):\n",
        "    \"\"\"\n",
        "    Using `incremental_max_subarray` iteratively on A to produce the value of the maximum\n",
        "    subarray of A.\n",
        "    \n",
        "    Inputs:\n",
        "    - A: a NON-EMPTY list of floats\n",
        "    \n",
        "    Outputs: flaot, the sum of the maximum subarray of A\n",
        "    \"\"\"\n",
        "\n",
        "    if (len(A)==1):\n",
        "      return A[0]\n",
        "    else:\n",
        "      return incremental_max_subarray(A, max_subarray(A[:-1]))\n",
        "\n",
        "    raise NotImplementedError()\n"
      ],
      "execution_count": 0,
      "outputs": []
    },
    {
      "cell_type": "code",
      "metadata": {
        "id": "6SbnH7LSzgzt",
        "colab_type": "code",
        "outputId": "47e72df9-04a8-49f4-b98b-7166c10be9d0",
        "colab": {
          "base_uri": "https://localhost:8080/",
          "height": 34
        }
      },
      "source": [
        "B = [-2, -3, 4, -1, -2, 1, 8]\n",
        "max_subarray(B)"
      ],
      "execution_count": 0,
      "outputs": [
        {
          "output_type": "execute_result",
          "data": {
            "text/plain": [
              "10"
            ]
          },
          "metadata": {
            "tags": []
          },
          "execution_count": 45
        }
      ]
    },
    {
      "cell_type": "code",
      "metadata": {
        "id": "KqTTh2p7z9oO",
        "colab_type": "code",
        "outputId": "1ce9b3e0-1aef-4433-b81d-24f0b53595c9",
        "colab": {
          "base_uri": "https://localhost:8080/",
          "height": 34
        }
      },
      "source": [
        "C = [1,2,3,4,5,6,7,8]\n",
        "max_subarray(C)"
      ],
      "execution_count": 0,
      "outputs": [
        {
          "output_type": "execute_result",
          "data": {
            "text/plain": [
              "36"
            ]
          },
          "metadata": {
            "tags": []
          },
          "execution_count": 47
        }
      ]
    },
    {
      "cell_type": "code",
      "metadata": {
        "id": "9eFkNkmj0I_R",
        "colab_type": "code",
        "outputId": "d3bb9833-4d35-415d-88bc-e98b9355fc43",
        "colab": {
          "base_uri": "https://localhost:8080/",
          "height": 52
        }
      },
      "source": [
        "import random\n",
        "D = random.sample(range(-50,50),10)\n",
        "print(D)\n",
        "max_subarray(D)"
      ],
      "execution_count": 0,
      "outputs": [
        {
          "output_type": "stream",
          "text": [
            "[-35, -19, 21, -15, 24, -38, -2, 42, 7, -50]\n"
          ],
          "name": "stdout"
        },
        {
          "output_type": "execute_result",
          "data": {
            "text/plain": [
              "49"
            ]
          },
          "metadata": {
            "tags": []
          },
          "execution_count": 51
        }
      ]
    },
    {
      "cell_type": "code",
      "metadata": {
        "deletable": false,
        "editable": false,
        "nbgrader": {
          "checksum": "74149a9559625383203ec1320bff5558",
          "grade": true,
          "grade_id": "cell-669ad779766aa2c3",
          "locked": true,
          "points": 1,
          "schema_version": 1,
          "solution": false
        },
        "id": "OJPMBMdR437l",
        "colab_type": "code",
        "colab": {}
      },
      "source": [
        "# Please ignore this cell. This cell is for us to implement the tests \n",
        "# to see if your code works properly. "
      ],
      "execution_count": 0,
      "outputs": []
    },
    {
      "cell_type": "markdown",
      "metadata": {
        "deletable": false,
        "editable": false,
        "nbgrader": {
          "checksum": "03054d2ff22ec9310060ab534208ec0d",
          "grade": false,
          "grade_id": "cell-ae966fc92d098939",
          "locked": true,
          "schema_version": 1,
          "solution": false
        },
        "id": "tG_DMMiI437q",
        "colab_type": "text"
      },
      "source": [
        "### Part 2.\n",
        "Is this more efficient than the divide-and-conquer approach? Explain."
      ]
    },
    {
      "cell_type": "markdown",
      "metadata": {
        "deletable": false,
        "nbgrader": {
          "checksum": "69eb86a7f05367f6396017910664f67d",
          "grade": true,
          "grade_id": "cell-cd8f0b130a7136db",
          "locked": false,
          "points": 0,
          "schema_version": 1,
          "solution": true
        },
        "id": "0mSfJdHd437u",
        "colab_type": "text"
      },
      "source": [
        "In the divide-conquer approach, our recurrance function is,\n",
        "\n",
        "$T(n) = 2(T(n/2)) + \\Theta(n)$\n",
        "\n",
        "which by solving with tree method, results in the complexisty of\n",
        "\n",
        "$\\Theta(n) = n\\,lg\\,n$\n",
        "\n",
        "Now let's analyze our approach:\n",
        "\n",
        "*incremental_max_subarray* has only one for loop of length of x and inside of the loop, everything is linear.\n",
        "so, it's complexity is $O(n)$\n",
        "\n",
        "Then, in *max_subarray* we are dividing the problem into n subproblems with each of complexity of T(n/n) = T(1).\n",
        "\n",
        "So, the recurrance is,\n",
        "\n",
        "$T(n) = n(T(1)) + O(n)$\n",
        "\n",
        "So the complexity is $O(n)$\n",
        "\n",
        "So it is more effecient"
      ]
    },
    {
      "cell_type": "code",
      "metadata": {
        "id": "0JsT_zaKNwN1",
        "colab_type": "code",
        "colab": {}
      },
      "source": [
        ""
      ],
      "execution_count": 0,
      "outputs": []
    }
  ]
}