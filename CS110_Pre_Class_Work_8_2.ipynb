{
  "nbformat": 4,
  "nbformat_minor": 0,
  "metadata": {
    "kernelspec": {
      "display_name": "Python 3",
      "language": "python",
      "name": "python3"
    },
    "language_info": {
      "codemirror_mode": {
        "name": "ipython",
        "version": 3
      },
      "file_extension": ".py",
      "mimetype": "text/x-python",
      "name": "python",
      "nbconvert_exporter": "python",
      "pygments_lexer": "ipython3",
      "version": "3.6.5"
    },
    "colab": {
      "name": "CS110 Pre Class Work 8.2",
      "provenance": [],
      "include_colab_link": true
    }
  },
  "cells": [
    {
      "cell_type": "markdown",
      "metadata": {
        "id": "view-in-github",
        "colab_type": "text"
      },
      "source": [
        "<a href=\"https://colab.research.google.com/github/mahmud-nobe/CS110_pcw/blob/master/CS110_Pre_Class_Work_8_2.ipynb\" target=\"_parent\"><img src=\"https://colab.research.google.com/assets/colab-badge.svg\" alt=\"Open In Colab\"/></a>"
      ]
    },
    {
      "cell_type": "markdown",
      "metadata": {
        "id": "OPoC_b-g2oFW",
        "colab_type": "text"
      },
      "source": [
        "Before you turn this problem in, make sure everything runs as expected. First, **restart the kernel** (in the menubar, select Kernel$\\rightarrow$Restart) and then **run all cells** (in the menubar, select Cell$\\rightarrow$Run All).\n",
        "\n",
        "Make sure you fill in any place that says `YOUR CODE HERE` or \"YOUR ANSWER HERE\", as well as your name and collaborators below:"
      ]
    },
    {
      "cell_type": "code",
      "metadata": {
        "id": "vdeUKTlB2oFc",
        "colab_type": "code",
        "colab": {}
      },
      "source": [
        "NAME = \"Md Mahmudunnobe\"\n",
        "COLLABORATORS = \"\""
      ],
      "execution_count": 0,
      "outputs": []
    },
    {
      "cell_type": "markdown",
      "metadata": {
        "id": "jNu4PX732oFm",
        "colab_type": "text"
      },
      "source": [
        "---"
      ]
    },
    {
      "cell_type": "code",
      "metadata": {
        "id": "eH3Gw_3dahYT",
        "colab_type": "code",
        "colab": {
          "base_uri": "https://localhost:8080/",
          "height": 1000
        },
        "outputId": "0e052a6e-08f4-4b83-f4ac-9b69be0fe727"
      },
      "source": [
        "!pip install jupyter_contrib_nbextensions\n"
      ],
      "execution_count": 1,
      "outputs": [
        {
          "output_type": "stream",
          "text": [
            "Collecting jupyter_contrib_nbextensions\n",
            "\u001b[?25l  Downloading https://files.pythonhosted.org/packages/33/f0/6e2c00afda860f655fbf0f795f7310bdbf12122846344dfdc803fc7455d5/jupyter_contrib_nbextensions-0.5.1-py2.py3-none-any.whl (20.9MB)\n",
            "\u001b[K     |████████████████████████████████| 20.9MB 220kB/s \n",
            "\u001b[?25hCollecting jupyter-latex-envs>=1.3.8\n",
            "\u001b[?25l  Downloading https://files.pythonhosted.org/packages/0e/15/55805de080d5542f76920364635e96e64d3b37f678befdfe3b16aa154205/jupyter_latex_envs-1.4.6.tar.gz (861kB)\n",
            "\u001b[K     |████████████████████████████████| 870kB 49.6MB/s \n",
            "\u001b[?25hCollecting jupyter-nbextensions-configurator>=0.4.0\n",
            "\u001b[?25l  Downloading https://files.pythonhosted.org/packages/51/a3/d72d5f2dc10c5ccf5a6f4c79f636bf071a5ce462dedd07af2f70384db6cb/jupyter_nbextensions_configurator-0.4.1.tar.gz (479kB)\n",
            "\u001b[K     |████████████████████████████████| 481kB 48.1MB/s \n",
            "\u001b[?25hRequirement already satisfied: pyyaml in /usr/local/lib/python3.6/dist-packages (from jupyter_contrib_nbextensions) (3.13)\n",
            "Requirement already satisfied: nbconvert>=4.2 in /usr/local/lib/python3.6/dist-packages (from jupyter_contrib_nbextensions) (5.6.1)\n",
            "Collecting jupyter-highlight-selected-word>=0.1.1\n",
            "  Downloading https://files.pythonhosted.org/packages/50/d7/19ab7cfd60bf268d2abbacc52d4295a40f52d74dfc0d938e4761ee5e598b/jupyter_highlight_selected_word-0.2.0-py2.py3-none-any.whl\n",
            "Requirement already satisfied: jupyter-core in /usr/local/lib/python3.6/dist-packages (from jupyter_contrib_nbextensions) (4.6.2)\n",
            "Requirement already satisfied: traitlets>=4.1 in /usr/local/lib/python3.6/dist-packages (from jupyter_contrib_nbextensions) (4.3.3)\n",
            "Collecting jupyter-contrib-core>=0.3.3\n",
            "  Downloading https://files.pythonhosted.org/packages/e6/8f/04a752a8b66a66e7092c035e5d87d2502ac7ec07f9fb6059059b6c0dc272/jupyter_contrib_core-0.3.3-py2.py3-none-any.whl\n",
            "Requirement already satisfied: lxml in /usr/local/lib/python3.6/dist-packages (from jupyter_contrib_nbextensions) (4.2.6)\n",
            "Requirement already satisfied: notebook>=4.0 in /usr/local/lib/python3.6/dist-packages (from jupyter_contrib_nbextensions) (5.2.2)\n",
            "Requirement already satisfied: ipython-genutils in /usr/local/lib/python3.6/dist-packages (from jupyter_contrib_nbextensions) (0.2.0)\n",
            "Requirement already satisfied: tornado in /usr/local/lib/python3.6/dist-packages (from jupyter_contrib_nbextensions) (4.5.3)\n",
            "Requirement already satisfied: ipython in /usr/local/lib/python3.6/dist-packages (from jupyter-latex-envs>=1.3.8->jupyter_contrib_nbextensions) (5.5.0)\n",
            "Requirement already satisfied: entrypoints>=0.2.2 in /usr/local/lib/python3.6/dist-packages (from nbconvert>=4.2->jupyter_contrib_nbextensions) (0.3)\n",
            "Requirement already satisfied: nbformat>=4.4 in /usr/local/lib/python3.6/dist-packages (from nbconvert>=4.2->jupyter_contrib_nbextensions) (5.0.4)\n",
            "Requirement already satisfied: testpath in /usr/local/lib/python3.6/dist-packages (from nbconvert>=4.2->jupyter_contrib_nbextensions) (0.4.4)\n",
            "Requirement already satisfied: jinja2>=2.4 in /usr/local/lib/python3.6/dist-packages (from nbconvert>=4.2->jupyter_contrib_nbextensions) (2.11.1)\n",
            "Requirement already satisfied: bleach in /usr/local/lib/python3.6/dist-packages (from nbconvert>=4.2->jupyter_contrib_nbextensions) (3.1.0)\n",
            "Requirement already satisfied: pandocfilters>=1.4.1 in /usr/local/lib/python3.6/dist-packages (from nbconvert>=4.2->jupyter_contrib_nbextensions) (1.4.2)\n",
            "Requirement already satisfied: defusedxml in /usr/local/lib/python3.6/dist-packages (from nbconvert>=4.2->jupyter_contrib_nbextensions) (0.6.0)\n",
            "Requirement already satisfied: mistune<2,>=0.8.1 in /usr/local/lib/python3.6/dist-packages (from nbconvert>=4.2->jupyter_contrib_nbextensions) (0.8.4)\n",
            "Requirement already satisfied: pygments in /usr/local/lib/python3.6/dist-packages (from nbconvert>=4.2->jupyter_contrib_nbextensions) (2.1.3)\n",
            "Requirement already satisfied: six in /usr/local/lib/python3.6/dist-packages (from traitlets>=4.1->jupyter_contrib_nbextensions) (1.12.0)\n",
            "Requirement already satisfied: decorator in /usr/local/lib/python3.6/dist-packages (from traitlets>=4.1->jupyter_contrib_nbextensions) (4.4.1)\n",
            "Requirement already satisfied: setuptools in /usr/local/lib/python3.6/dist-packages (from jupyter-contrib-core>=0.3.3->jupyter_contrib_nbextensions) (45.2.0)\n",
            "Requirement already satisfied: jupyter-client in /usr/local/lib/python3.6/dist-packages (from notebook>=4.0->jupyter_contrib_nbextensions) (5.3.4)\n",
            "Requirement already satisfied: terminado>=0.3.3; sys_platform != \"win32\" in /usr/local/lib/python3.6/dist-packages (from notebook>=4.0->jupyter_contrib_nbextensions) (0.8.3)\n",
            "Requirement already satisfied: ipykernel in /usr/local/lib/python3.6/dist-packages (from notebook>=4.0->jupyter_contrib_nbextensions) (4.6.1)\n",
            "Requirement already satisfied: pexpect; sys_platform != \"win32\" in /usr/local/lib/python3.6/dist-packages (from ipython->jupyter-latex-envs>=1.3.8->jupyter_contrib_nbextensions) (4.8.0)\n",
            "Requirement already satisfied: simplegeneric>0.8 in /usr/local/lib/python3.6/dist-packages (from ipython->jupyter-latex-envs>=1.3.8->jupyter_contrib_nbextensions) (0.8.1)\n",
            "Requirement already satisfied: pickleshare in /usr/local/lib/python3.6/dist-packages (from ipython->jupyter-latex-envs>=1.3.8->jupyter_contrib_nbextensions) (0.7.5)\n",
            "Requirement already satisfied: prompt-toolkit<2.0.0,>=1.0.4 in /usr/local/lib/python3.6/dist-packages (from ipython->jupyter-latex-envs>=1.3.8->jupyter_contrib_nbextensions) (1.0.18)\n",
            "Requirement already satisfied: jsonschema!=2.5.0,>=2.4 in /usr/local/lib/python3.6/dist-packages (from nbformat>=4.4->nbconvert>=4.2->jupyter_contrib_nbextensions) (2.6.0)\n",
            "Requirement already satisfied: MarkupSafe>=0.23 in /usr/local/lib/python3.6/dist-packages (from jinja2>=2.4->nbconvert>=4.2->jupyter_contrib_nbextensions) (1.1.1)\n",
            "Requirement already satisfied: webencodings in /usr/local/lib/python3.6/dist-packages (from bleach->nbconvert>=4.2->jupyter_contrib_nbextensions) (0.5.1)\n",
            "Requirement already satisfied: python-dateutil>=2.1 in /usr/local/lib/python3.6/dist-packages (from jupyter-client->notebook>=4.0->jupyter_contrib_nbextensions) (2.6.1)\n",
            "Requirement already satisfied: pyzmq>=13 in /usr/local/lib/python3.6/dist-packages (from jupyter-client->notebook>=4.0->jupyter_contrib_nbextensions) (17.0.0)\n",
            "Requirement already satisfied: ptyprocess; os_name != \"nt\" in /usr/local/lib/python3.6/dist-packages (from terminado>=0.3.3; sys_platform != \"win32\"->notebook>=4.0->jupyter_contrib_nbextensions) (0.6.0)\n",
            "Requirement already satisfied: wcwidth in /usr/local/lib/python3.6/dist-packages (from prompt-toolkit<2.0.0,>=1.0.4->ipython->jupyter-latex-envs>=1.3.8->jupyter_contrib_nbextensions) (0.1.8)\n",
            "Building wheels for collected packages: jupyter-latex-envs, jupyter-nbextensions-configurator\n",
            "  Building wheel for jupyter-latex-envs (setup.py) ... \u001b[?25l\u001b[?25hdone\n",
            "  Created wheel for jupyter-latex-envs: filename=jupyter_latex_envs-1.4.6-py2.py3-none-any.whl size=963395 sha256=a1c9ccd3da2ae87931b18628553115b36881897c252f93548ea57ebdbad02506\n",
            "  Stored in directory: /root/.cache/pip/wheels/0d/71/2a/164491997299b9f2479a251e254323fe35d946779e18f27956\n",
            "  Building wheel for jupyter-nbextensions-configurator (setup.py) ... \u001b[?25l\u001b[?25hdone\n",
            "  Created wheel for jupyter-nbextensions-configurator: filename=jupyter_nbextensions_configurator-0.4.1-py2.py3-none-any.whl size=465825 sha256=4eda304e3764e339db3cb8449a34925e08fc5a9112ef5acd43ea7091ede368f4\n",
            "  Stored in directory: /root/.cache/pip/wheels/15/df/fe/2a74fe34709e7fdc5ae153a768675d9fda93cc7d5133ed1fb0\n",
            "Successfully built jupyter-latex-envs jupyter-nbextensions-configurator\n",
            "Installing collected packages: jupyter-latex-envs, jupyter-contrib-core, jupyter-nbextensions-configurator, jupyter-highlight-selected-word, jupyter-contrib-nbextensions\n",
            "Successfully installed jupyter-contrib-core-0.3.3 jupyter-contrib-nbextensions-0.5.1 jupyter-highlight-selected-word-0.2.0 jupyter-latex-envs-1.4.6 jupyter-nbextensions-configurator-0.4.1\n"
          ],
          "name": "stdout"
        }
      ]
    },
    {
      "cell_type": "code",
      "metadata": {
        "id": "ikHl3M_pam1e",
        "colab_type": "code",
        "colab": {
          "base_uri": "https://localhost:8080/",
          "height": 163
        },
        "outputId": "999d7f52-b016-4d7a-cc80-24cd00ecd441"
      },
      "source": [
        "jupyter contrib nbextension install --user\n",
        "jupyter nbextension enable spellchecker/main"
      ],
      "execution_count": 7,
      "outputs": [
        {
          "output_type": "error",
          "ename": "NameError",
          "evalue": "ignored",
          "traceback": [
            "\u001b[0;31m---------------------------------------------------------------------------\u001b[0m",
            "\u001b[0;31mNameError\u001b[0m                                 Traceback (most recent call last)",
            "\u001b[0;32m<ipython-input-7-d05eaf6fbef4>\u001b[0m in \u001b[0;36m<module>\u001b[0;34m()\u001b[0m\n\u001b[0;32m----> 1\u001b[0;31m \u001b[0mjupyter_contrib_nbextension\u001b[0m\u001b[0;34m\u001b[0m\u001b[0;34m\u001b[0m\u001b[0m\n\u001b[0m",
            "\u001b[0;31mNameError\u001b[0m: name 'jupyter_contrib_nbextension' is not defined"
          ]
        }
      ]
    },
    {
      "cell_type": "markdown",
      "metadata": {
        "id": "UzeXcKEJacyf",
        "colab_type": "text"
      },
      "source": [
        "I mispellde it. \n",
        "\n"
      ]
    },
    {
      "cell_type": "markdown",
      "metadata": {
        "deletable": false,
        "editable": false,
        "nbgrader": {
          "checksum": "c87c76aab5414c691aa63dd316a3aad4",
          "grade": false,
          "grade_id": "cell-856b478addb28fe9",
          "locked": true,
          "schema_version": 1,
          "solution": false
        },
        "id": "b5LKSoxE2oFo",
        "colab_type": "text"
      },
      "source": [
        "# CS110 Pre-class Work 8.2\n",
        "\n",
        "# Question 1. (Exercise 12.2-1, Cormen et al.)\n",
        "\n",
        "Suppose that we have numbers between 1 and 1000 in a binary search tree, and we want to search for the number 363. Which of the following sequences could not be the sequence of nodes examined?\n",
        "\n",
        "a. 2, 252, 401, 398, 330, 344, 397, 363.\n",
        "\n",
        "b. 924, 220, 911, 244, 898, 258, 362, 363.\n",
        "\n",
        "c. 925, 202, 911, 240, 912, 245, 363.\n",
        "\n",
        "d. 2, 399, 387, 219, 266, 382, 381, 278, 363.\n",
        "\n",
        "e. 935, 278, 347, 621, 299, 392, 358, 363.\n"
      ]
    },
    {
      "cell_type": "markdown",
      "metadata": {
        "deletable": false,
        "nbgrader": {
          "checksum": "caad0ddbf7180e6e9f1cf54ef809d5a8",
          "grade": true,
          "grade_id": "cell-4ba31a88562b2669",
          "locked": false,
          "points": 0,
          "schema_version": 1,
          "solution": true
        },
        "id": "Kj6RaBSa2oFr",
        "colab_type": "text"
      },
      "source": [
        "**(c):**\n",
        "- 925 > 363, "
      ]
    },
    {
      "cell_type": "markdown",
      "metadata": {
        "deletable": false,
        "editable": false,
        "nbgrader": {
          "checksum": "2608634a994745e8cabbc68e04197aeb",
          "grade": false,
          "grade_id": "cell-e2fe6a81a328e94e",
          "locked": true,
          "schema_version": 1,
          "solution": false
        },
        "id": "aMTphRAv2oFs",
        "colab_type": "text"
      },
      "source": [
        "## Question 2. Comparing complexities\n",
        "Complete the following table with the average vs worst case complexities for the data structures in each row.\n",
        "\n",
        "You should copy the following table and paste and edit it in the cell below. \n",
        "\n",
        "Operations | BST | Hash table using open addressing | Min heap\n",
        "--- | --- | --- | ---\n",
        "Search | O(h) | O(1) | O(n)\n",
        "Find max | O(h) | O(n) | O(n)\n",
        "Find min | O(h) | O(n) | O(1)\n",
        "Max extraction  | O(h) | O(n) | O(n)\n",
        "Min extraction | O(h) | O(n) | O(1)\n",
        "Find successor | O(h) | - | -\n",
        "Find predecessor | O(h) | - | -\n",
        "Insert | O(h) | O(1) | O(lg n)\n",
        "Delete | O(h) | O(1) | O(lg n)\n",
        "\n"
      ]
    },
    {
      "cell_type": "markdown",
      "metadata": {
        "deletable": false,
        "nbgrader": {
          "checksum": "b333dea7231946830dc83e0374b46384",
          "grade": true,
          "grade_id": "cell-103e7647a8a92a95",
          "locked": false,
          "points": 0,
          "schema_version": 1,
          "solution": true
        },
        "id": "JYGRkOcO2oFt",
        "colab_type": "text"
      },
      "source": [
        "YOUR ANSWER HERE"
      ]
    },
    {
      "cell_type": "markdown",
      "metadata": {
        "deletable": false,
        "editable": false,
        "nbgrader": {
          "checksum": "350918858ed77bb73434c159714237a6",
          "grade": false,
          "grade_id": "cell-f0b8945e898ae4eb",
          "locked": true,
          "schema_version": 1,
          "solution": false
        },
        "id": "LyErQJex2oFu",
        "colab_type": "text"
      },
      "source": [
        "## Question 3. Programming a recursive BST\n",
        "The code given in the cell below, write python code for the corresponding functions:\n",
        "\n",
        "* function `search(self, value)`: searches a *non-empty* BST rooted at the node for a node with `data=value`, returns the node if found, None otherwise\n",
        "* function `delete(self, value)`: if a node with data = value is present in the tree rooted at Node, deletes that node and returns the root.\n",
        "* function `inorder(self)`: returns a list of all data in the tree rooted at root produced using an in order traversal. When correctly implemented on a BST, the produced list will be sorted in ascending order.\n",
        "\n",
        "You may find it useful to define additional helper functions.\n"
      ]
    },
    {
      "cell_type": "code",
      "metadata": {
        "deletable": false,
        "nbgrader": {
          "checksum": "d30a8a11c0dc7730c76d82543f16814f",
          "grade": false,
          "grade_id": "cell-699ae21855637a38",
          "locked": false,
          "schema_version": 1,
          "solution": true
        },
        "id": "Q9-H65fK2oFv",
        "colab_type": "code",
        "colab": {}
      },
      "source": [
        "## Binary Search Tree\n",
        "##\n",
        "class Node:\n",
        "    def __init__(self, val):\n",
        "        self.l_child = None\n",
        "        self.r_child = None\n",
        "        self.parent = None\n",
        "        self.data = val\n",
        "        self.node_list = [self]\n",
        "\n",
        "    def insert(self, node):\n",
        "        \"\"\"inserts a node into a *non-empty* tree rooted at the node, returns\n",
        "        the root\"\"\"\n",
        "\n",
        "        self.node_list.append(node)\n",
        "\n",
        "        if self.data > node.data:\n",
        "            if self.l_child is None:\n",
        "                self.l_child = node\n",
        "                node.parent = self\n",
        "            else:\n",
        "                self.l_child.insert(node)\n",
        "        else:\n",
        "            if self.r_child is None:\n",
        "                self.r_child = node\n",
        "                node.parent = self\n",
        "            else:\n",
        "                self.r_child.insert(node)\n",
        "        return self\n",
        "    \n",
        "    def minimum(self):\n",
        "        node = self\n",
        "        while node.l_child != None:\n",
        "            node = node.l_child\n",
        "        return node\n",
        "\n",
        "    def search_data(self, value):\n",
        "        \"\"\"searches a *non-empty* tree rooted at the node for a node with\n",
        "        data = value, returns the value if found, None otherwise\"\"\"\n",
        "        node = self.search(value)\n",
        "        if node:\n",
        "            return node.data\n",
        "        else:\n",
        "            return None\n",
        "        \n",
        "    def to_string(self): \n",
        "        print('self.data', self.data)\n",
        "        root=self\n",
        "        if not root: \n",
        "            return 'Nil'\n",
        "        else: \n",
        "            r = root.r_child.to_string() if root.r_child else 'Nil'\n",
        "            l = root.l_child.to_string() if root.l_child else 'Nil'\n",
        "        return 'Node(' + str(root.data) + ' L: ' + l + ' R: ' + r + ')'\n",
        "    \n",
        "    def search(self, value):\n",
        "      '''\n",
        "      searches a non-empty BST rooted at the node for a node with data=value, \n",
        "      returns the node if found, None otherwise\n",
        "      '''\n",
        "      current_node = self\n",
        "      while(current_node != None and current_node.data != value):\n",
        "        if(value < current_node.data):\n",
        "          current_node = current_node.l_child\n",
        "        else: \n",
        "          current_node = current_node.r_child\n",
        "\n",
        "      return current_node\n",
        "\n",
        "    def transplant(self, old_node, new_node):\n",
        "      '''\n",
        "      Replaced the subtree rooted at old_node by\n",
        "      the subtree rooted at new_node.\n",
        "      '''\n",
        "      if(old_node == self):\n",
        "        new_node = self\n",
        "      \n",
        "      elif (old_node == old_node.parent.l_child):\n",
        "        old_node.parent.l_child = new_node\n",
        "\n",
        "      else:\n",
        "        old_node.parent.r_child = new_node\n",
        "\n",
        "      if (new_node != None):\n",
        "        new_node.parent = old_node.parent\n",
        "\n",
        "    def delete(self, value):\n",
        "      '''\n",
        "      if a node with data = value is present in the tree rooted at Node, \n",
        "      deletes that node and returns the root.\n",
        "      '''\n",
        "      ## finding the node where data = value\n",
        "      node = self.search(value)\n",
        "      \n",
        "      # if the node has no left child\n",
        "      # replace it with its right child\n",
        "      if (node.l_child == None):\n",
        "        self.transplant(node, node.r_child)\n",
        "\n",
        "      # if the node has no right child\n",
        "      # replace it with its left child\n",
        "      elif (node.r_child == None):\n",
        "        self.transplant(node, node.l_child)\n",
        "\n",
        "      ## if it has both children\n",
        "      else:\n",
        "        successor = node.r_child.minimum()\n",
        "        \n",
        "        # if the successor stays in the right subtree but\n",
        "        # it is not the right child of the node,\n",
        "        # then replace it with its own right child\n",
        "        if (successor.parent != node):\n",
        "          self.transplant(successor, successor.r_child)\n",
        "          successor.r_child = node.r_child\n",
        "          successor.r_child.parent = successor\n",
        "\n",
        "        # replace the deleting node by its successor\n",
        "        self.transplant(node, successor)\n",
        "        successor.l_child = node.l_child\n",
        "        successor.l_child.parent = successor\n",
        "\n",
        "      return self\n",
        "\n",
        "    def inorder(self):\n",
        "      '''\n",
        "      Returns a list of all data in the tree rooted at root produced \n",
        "      using an in order traversal. When correctly implemented on a BST, \n",
        "      the produced list will be sorted in ascending order\n",
        "      '''\n",
        "      current_node = self\n",
        "\n",
        "      if (current_node.data == None):\n",
        "        return []\n",
        "      else: \n",
        "          r = current_node.r_child.inorder() if current_node.r_child else []\n",
        "          l = current_node.l_child.inorder() if current_node.l_child else []\n",
        "      return l + [current_node.data] + r\n",
        "\n",
        "    #raise NotImplementedError()\n"
      ],
      "execution_count": 0,
      "outputs": []
    },
    {
      "cell_type": "markdown",
      "metadata": {
        "deletable": false,
        "editable": false,
        "nbgrader": {
          "checksum": "8b126b45ed170734c6d243dbde6ec892",
          "grade": false,
          "grade_id": "cell-6e99c15ebbccbcff",
          "locked": true,
          "schema_version": 1,
          "solution": false
        },
        "id": "gCLntj7U2oF2",
        "colab_type": "text"
      },
      "source": [
        "## Question 4. Validating the BST python code\n",
        "\n",
        "### Question 4a.\n",
        "\n",
        "It is good practice to make the necessary tests in your code to ensure it produces the intended outputs. In the cells below, implement slow, but simple:\n",
        "* inserts,\n",
        "* searches,\n",
        "* deletes.\n"
      ]
    },
    {
      "cell_type": "code",
      "metadata": {
        "deletable": false,
        "nbgrader": {
          "checksum": "2e246944222ceb6db976ba1af84f791a",
          "grade": false,
          "grade_id": "cell-8ffe02954ab45b77",
          "locked": false,
          "schema_version": 1,
          "solution": true
        },
        "id": "hHq0IX7i2oF3",
        "colab_type": "code",
        "colab": {}
      },
      "source": [
        "def list_insert(lst, value):\n",
        "    \"\"\"inserts value into lst in sorted order\"\"\"\n",
        "    \n",
        "    lst.append(value)\n",
        "    lst = sorted(lst)\n",
        "\n",
        "    # raise NotImplementedError()\n"
      ],
      "execution_count": 0,
      "outputs": []
    },
    {
      "cell_type": "code",
      "metadata": {
        "deletable": false,
        "nbgrader": {
          "checksum": "99cadda3119181ec5d6c967d7ea15090",
          "grade": false,
          "grade_id": "cell-0e246c5c19ef7b80",
          "locked": false,
          "schema_version": 1,
          "solution": true
        },
        "id": "3AT7sGjr2oF9",
        "colab_type": "code",
        "colab": {}
      },
      "source": [
        "def list_delete(lst, value):\n",
        "    \"\"\" deletes first instance of value from lst if it present\"\"\"\n",
        "    \n",
        "    lst.remove(value)\n",
        "    \n",
        "    # raise NotImplementedError()"
      ],
      "execution_count": 0,
      "outputs": []
    },
    {
      "cell_type": "code",
      "metadata": {
        "deletable": false,
        "nbgrader": {
          "checksum": "024018f03e113eced89d464c96d522f6",
          "grade": false,
          "grade_id": "cell-f6b55b9878c6fdf1",
          "locked": false,
          "schema_version": 1,
          "solution": true
        },
        "id": "HZ315xeF2oGC",
        "colab_type": "code",
        "colab": {}
      },
      "source": [
        "def list_search(lst, value): \n",
        "    \"\"\" searches lst for value and returns value if present, None if it is not present\"\"\"\n",
        "    \n",
        "    if value in lst:\n",
        "      return value\n",
        "    else:\n",
        "      return None\n",
        "\n",
        "    # raise NotImplementedError()"
      ],
      "execution_count": 0,
      "outputs": []
    },
    {
      "cell_type": "markdown",
      "metadata": {
        "deletable": false,
        "editable": false,
        "nbgrader": {
          "checksum": "4b67b5285b803538fc34c696acb4fce3",
          "grade": false,
          "grade_id": "cell-50a5730f995c1ec5",
          "locked": true,
          "schema_version": 1,
          "solution": false
        },
        "id": "CamR3IZ-2oGH",
        "colab_type": "text"
      },
      "source": [
        "### Question 4b. \n",
        "Run the testing code provided in the cell below to generate a sequence of random inserts, followed by a sequence of random deletes, and finally followed by a sequence of random searches. Apply this sequence to both your BST implementation and the sorted list implementation. Do the final results both match? Does this mean your code is free of bugs? Provide your answer to these questions in the cell below the Python-code cell."
      ]
    },
    {
      "cell_type": "code",
      "metadata": {
        "id": "HrFn_RN_2oGK",
        "colab_type": "code",
        "outputId": "a51a215e-2000-45be-cb9e-a9a70a748dbc",
        "colab": {
          "base_uri": "https://localhost:8080/",
          "height": 391
        }
      },
      "source": [
        "bst = None # bst is a misnormer, this variable contains the Node that is the root of the BST of interest\n",
        "lst = []\n",
        "\n",
        "my_Nodes = [2, 3, 5, 1]\n",
        "for x in [Node(_) for _ in my_Nodes]:\n",
        "    print(\"###################\")\n",
        "    print('Inserting the following node: ', x.data)\n",
        "    if not bst:\n",
        "        bst = x\n",
        "    else:\n",
        "        bst = bst.insert(x)\n",
        "    print(bst.to_string())"
      ],
      "execution_count": 0,
      "outputs": [
        {
          "output_type": "stream",
          "text": [
            "###################\n",
            "Inserting the following node:  2\n",
            "self.data 2\n",
            "Node(2 L: Nil R: Nil)\n",
            "###################\n",
            "Inserting the following node:  3\n",
            "self.data 2\n",
            "self.data 3\n",
            "Node(2 L: Nil R: Node(3 L: Nil R: Nil))\n",
            "###################\n",
            "Inserting the following node:  5\n",
            "self.data 2\n",
            "self.data 3\n",
            "self.data 5\n",
            "Node(2 L: Nil R: Node(3 L: Nil R: Node(5 L: Nil R: Nil)))\n",
            "###################\n",
            "Inserting the following node:  1\n",
            "self.data 2\n",
            "self.data 3\n",
            "self.data 5\n",
            "self.data 1\n",
            "Node(2 L: Node(1 L: Nil R: Nil) R: Node(3 L: Nil R: Node(5 L: Nil R: Nil)))\n"
          ],
          "name": "stdout"
        }
      ]
    },
    {
      "cell_type": "code",
      "metadata": {
        "deletable": false,
        "editable": false,
        "nbgrader": {
          "checksum": "813d6c322f5d9944bdff40f84aa5f4e1",
          "grade": true,
          "grade_id": "cell-ebddd4da79a3da28",
          "locked": true,
          "points": 0,
          "schema_version": 1,
          "solution": false
        },
        "id": "8Lz-7R3y2oGP",
        "colab_type": "code",
        "outputId": "38ee6fae-e218-481c-aaec-d762469fd0f1",
        "colab": {
          "base_uri": "https://localhost:8080/",
          "height": 459
        }
      },
      "source": [
        "### Testing Code\n",
        "###\n",
        "\n",
        "import random\n",
        "\n",
        "bst = None # bst is a misnormer, this variable contains the Node that is the root of the BST of interest\n",
        "lst = []\n",
        "\n",
        "# sampling with replacement\n",
        "for x in [Node(random.randint(0,10)) for _ in range(10)]:\n",
        "    print('Inserting the following node: ', x.data)\n",
        "    if not bst:\n",
        "        bst = x\n",
        "    else:\n",
        "        bst.insert(x)\n",
        "    list_insert(lst, x.data)\n",
        "\n",
        "print('In order traversal: ', bst.inorder())\n",
        "print('The non-order list:', lst)\n",
        "\n",
        "for x in [random.randint(0,10) for _ in range(4)]:\n",
        "    print('Look for the following node: ', x)\n",
        "    if bst.search_data(x):\n",
        "        print(' Node exists, hence removing the Node...')\n",
        "        bst = bst.delete(x)\n",
        "    else:\n",
        "        print(' Node does not exist and cannot be removed!')\n",
        "    if list_search(lst, x):\n",
        "        print(' Element exists in list, hence removing it...!')\n",
        "        list_delete(lst,x)\n",
        "    else:\n",
        "        print(' Element does not exist in list, and cannot be removed!')\n",
        "\n",
        "print('In order traversal of final BST: ', bst.inorder())\n",
        "print('Final list: ', lst)\n",
        "\n",
        "\n",
        "\n",
        "\n",
        "\n"
      ],
      "execution_count": 0,
      "outputs": [
        {
          "output_type": "stream",
          "text": [
            "Inserting the following node:  5\n",
            "Inserting the following node:  10\n",
            "Inserting the following node:  7\n",
            "Inserting the following node:  0\n",
            "Inserting the following node:  1\n",
            "Inserting the following node:  10\n",
            "Inserting the following node:  6\n",
            "Inserting the following node:  2\n",
            "Inserting the following node:  0\n",
            "Inserting the following node:  8\n",
            "In order traversal:  [0, 0, 1, 2, 5, 6, 7, 8, 10, 10]\n",
            "The non-order list: [5, 10, 7, 0, 1, 10, 6, 2, 0, 8]\n",
            "Look for the following node:  4\n",
            " Node does not exist and cannot be removed!\n",
            " Element does not exist in list, and cannot be removed!\n",
            "Look for the following node:  7\n",
            " Node exists, hence removing the Node...\n",
            " Element exists in list, hence removing it...!\n",
            "Look for the following node:  2\n",
            " Node exists, hence removing the Node...\n",
            " Element exists in list, hence removing it...!\n",
            "Look for the following node:  1\n",
            " Node exists, hence removing the Node...\n",
            " Element exists in list, hence removing it...!\n",
            "In order traversal of final BST:  [0, 0, 5, 6, 8, 10, 10]\n",
            "Final list:  [5, 10, 0, 10, 6, 0, 8]\n"
          ],
          "name": "stdout"
        }
      ]
    },
    {
      "cell_type": "code",
      "metadata": {
        "id": "bIu2WSa6NA_L",
        "colab_type": "code",
        "outputId": "23f427d3-722d-492f-c99e-bf22439ded6a",
        "colab": {
          "base_uri": "https://localhost:8080/",
          "height": 442
        }
      },
      "source": [
        "bst = None # bst is a misnormer, # variable contains the Node that is the root of the BST of interest\n",
        "lst = []\n",
        "\n",
        "# sampling with replacement\n",
        "for x in [Node(random.randint(0,10)) for _ in range(10)]:\n",
        "    print('Inserting the following node: ', x.data)\n",
        "    if not bst:\n",
        "        bst = x\n",
        "    else:\n",
        "        bst.insert(x)\n",
        "    list_insert(lst, x.data)\n",
        "#print(bst.to_string())\n",
        "print('In order traversal: ', bst.inorder())\n",
        "\n",
        "\n",
        "for x in [random.randint(0,10) for _ in range(4)]:\n",
        "    print('Look for the following node: ', x)\n",
        "    if bst.search_data(x):\n",
        "        print(' Node exists, hence removing the Node...')\n",
        "        bst = bst.delete(x)\n",
        "    else:\n",
        "        print(' Node does not exist and cannot be removed!')\n",
        "    if list_search(lst, x):\n",
        "        print(' Element exists in list, hence removing it...!')\n",
        "        list_delete(lst,x)\n",
        "    else:\n",
        "        print(' Element does not exist in list, and cannot be removed!')\n",
        "#print(bst.to_string())\n",
        "\n",
        "\n",
        "print('In order traversal of final BST: ', bst.inorder())\n",
        "print('Final list: ', lst)\n",
        "\n"
      ],
      "execution_count": 0,
      "outputs": [
        {
          "output_type": "stream",
          "text": [
            "Inserting the following node:  5\n",
            "Inserting the following node:  10\n",
            "Inserting the following node:  5\n",
            "Inserting the following node:  10\n",
            "Inserting the following node:  9\n",
            "Inserting the following node:  9\n",
            "Inserting the following node:  10\n",
            "Inserting the following node:  7\n",
            "Inserting the following node:  6\n",
            "Inserting the following node:  0\n",
            "In order traversal:  [0, 5, 5, 6, 7, 9, 9, 10, 10, 10]\n",
            "Look for the following node:  5\n",
            " Node exists, hence removing the Node...\n",
            " Element exists in list, hence removing it...!\n",
            "Look for the following node:  0\n",
            " Node does not exist and cannot be removed!\n",
            " Element does not exist in list, and cannot be removed!\n",
            "Look for the following node:  8\n",
            " Node does not exist and cannot be removed!\n",
            " Element does not exist in list, and cannot be removed!\n",
            "Look for the following node:  9\n",
            " Node exists, hence removing the Node...\n",
            " Element exists in list, hence removing it...!\n",
            "In order traversal of final BST:  [0, 5, 6, 7, 9, 10, 10, 10]\n",
            "Final list:  [10, 5, 10, 9, 10, 7, 6, 0]\n"
          ],
          "name": "stdout"
        }
      ]
    },
    {
      "cell_type": "markdown",
      "metadata": {
        "deletable": false,
        "nbgrader": {
          "checksum": "11743c20bdd473ed59d8b90c514f6176",
          "grade": true,
          "grade_id": "cell-1af64135f3359698",
          "locked": false,
          "points": 0,
          "schema_version": 1,
          "solution": true
        },
        "id": "SX2egsgk2oGV",
        "colab_type": "text"
      },
      "source": [
        "YOUR ANSWER HERE"
      ]
    }
  ]
}