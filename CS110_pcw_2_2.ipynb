{
  "nbformat": 4,
  "nbformat_minor": 0,
  "metadata": {
    "kernelspec": {
      "display_name": "Python 3",
      "language": "python",
      "name": "python3"
    },
    "language_info": {
      "codemirror_mode": {
        "name": "ipython",
        "version": 3
      },
      "file_extension": ".py",
      "mimetype": "text/x-python",
      "name": "python",
      "nbconvert_exporter": "python",
      "pygments_lexer": "ipython3",
      "version": "3.6.5"
    },
    "colab": {
      "name": "CS110_pcw_2.2",
      "provenance": [],
      "include_colab_link": true
    }
  },
  "cells": [
    {
      "cell_type": "markdown",
      "metadata": {
        "id": "view-in-github",
        "colab_type": "text"
      },
      "source": [
        "<a href=\"https://colab.research.google.com/github/mahmud-nobe/CS110_pcw/blob/master/CS110_pcw_2_2.ipynb\" target=\"_parent\"><img src=\"https://colab.research.google.com/assets/colab-badge.svg\" alt=\"Open In Colab\"/></a>"
      ]
    },
    {
      "cell_type": "markdown",
      "metadata": {
        "id": "KoKRMlouBnLo",
        "colab_type": "text"
      },
      "source": [
        "Before you turn this problem in, make sure everything runs as expected. First, **restart the kernel** (in the menubar, select Kernel$\\rightarrow$Restart) and then **run all cells** (in the menubar, select Cell$\\rightarrow$Run All).\n",
        "\n",
        "Make sure you fill in any place that says `YOUR CODE HERE` or \"YOUR ANSWER HERE\", as well as your name and collaborators below:"
      ]
    },
    {
      "cell_type": "code",
      "metadata": {
        "id": "a6T5U4mwBnLq",
        "colab_type": "code",
        "colab": {}
      },
      "source": [
        "NAME = \"Md Mahmudunnobe\"\n",
        "COLLABORATORS = \"\""
      ],
      "execution_count": 0,
      "outputs": []
    },
    {
      "cell_type": "markdown",
      "metadata": {
        "id": "KKPmWtgPBnLv",
        "colab_type": "text"
      },
      "source": [
        "---"
      ]
    },
    {
      "cell_type": "markdown",
      "metadata": {
        "deletable": false,
        "editable": false,
        "nbgrader": {
          "checksum": "c650e4f3477fb1b0666f4f7d1d7cfd38",
          "grade": false,
          "grade_id": "cell-a415b724e36aa852",
          "locked": true,
          "schema_version": 1,
          "solution": false
        },
        "id": "gDTSx6AjBnLy",
        "colab_type": "text"
      },
      "source": [
        "# CS110 Pre-class Work 2.2\n",
        "\n",
        "## Question 1 (Exercise 3.1-3 of Cormen, et al. )\n",
        "Explain why the statement, \"The running time of algorithm A is at least $O(n^2)$,\" is meaningless.\n"
      ]
    },
    {
      "cell_type": "markdown",
      "metadata": {
        "deletable": false,
        "nbgrader": {
          "checksum": "d6f28cb6ab1a8f547f022f1932f609f9",
          "grade": true,
          "grade_id": "cell-437d61c1420d4f99",
          "locked": false,
          "points": 0,
          "schema_version": 1,
          "solution": true
        },
        "id": "KxsOLUlxBnL0",
        "colab_type": "text"
      },
      "source": [
        "\n",
        "When we are saying 'The running time of Algorihm A is $O(n^2)$', it immediately means that the upper limit for the running time function of Algorithm A is proportional to $n^2$, when $n$ becomes sufficiently large.\n",
        "\n",
        "Or, in other word we can say, no matter how the input is (i.e sorted, reversed sorted for sorting algorithm), the runtime of the algorithm will at maximum would be proportional to $n^2$.\n",
        "\n",
        "So, there is no need to use the words *at least* or *at most* when we use $O(n^2)$ or $\\Omega(n^2)$. Also, as $O(n^2)$ gives the upper limit of the running time, it doesn't make sense to use *at least* with this."
      ]
    },
    {
      "cell_type": "markdown",
      "metadata": {
        "deletable": false,
        "editable": false,
        "nbgrader": {
          "checksum": "def6c9c9f606feea2e7a711e51c65304",
          "grade": false,
          "grade_id": "cell-7d82282e0c8a03e3",
          "locked": true,
          "schema_version": 1,
          "solution": false
        },
        "id": "Xdm-5O3lBnL2",
        "colab_type": "text"
      },
      "source": [
        "## Question 2 (Exercise 3.1-4 of Cormen, et al. )\n",
        "\n",
        "Is $2^{n+1}=O(2^n)$? Is $2^{2n}=O(2^n)$?"
      ]
    },
    {
      "cell_type": "markdown",
      "metadata": {
        "deletable": false,
        "nbgrader": {
          "checksum": "9ea64ba2361ca4a6d09f468ddf82f39b",
          "grade": true,
          "grade_id": "cell-6a0c4ee19dadfddf",
          "locked": false,
          "points": 0,
          "schema_version": 1,
          "solution": true
        },
        "id": "FIuDwvuYBnL3",
        "colab_type": "text"
      },
      "source": [
        "From the definition, we know that,\n",
        "\n",
        "\" $O(g(n))$ = { $f(n)$ : there exist positive constants $c$ and $n_0$ such that $0 \\leq f(n) \\leq c g(n)$ for all $n>n_0$ \"\n",
        "\n",
        "If we check using this definition, we will get,\n",
        "\n",
        "$0 \\leq 2^{n+1}\\leq c 2^n$\n",
        "\n",
        "$\\Rightarrow 0 \\leq 2 \\leq c$ [Dividing by $2^n$] \n",
        "\n",
        "This is true for $c\\geq 2$\n",
        "\n",
        "$\\therefore $ $2^{n+1}=O(2^n)$\n"
      ]
    },
    {
      "cell_type": "markdown",
      "metadata": {
        "id": "J7-qrxf7Ks3d",
        "colab_type": "text"
      },
      "source": [
        "For the 2nd one,\n",
        "\n",
        "$0 \\leq 2^{2n}\\leq c 2^n$\n",
        "\n",
        "$\\Rightarrow 0 \\leq 2^n \\leq c$\n",
        "\n",
        "There is no constant c is which is larger than any value of $2^n$, where n can be larger than any constant $n_0$. So, this is **False**.\n",
        "\n"
      ]
    },
    {
      "cell_type": "code",
      "metadata": {
        "id": "M5bH6cqsMI8z",
        "colab_type": "code",
        "colab": {}
      },
      "source": [
        ""
      ],
      "execution_count": 0,
      "outputs": []
    },
    {
      "cell_type": "code",
      "metadata": {
        "id": "nWYpPzASMSO1",
        "colab_type": "code",
        "colab": {}
      },
      "source": [
        "n = 1000000\n",
        "n = 1000000\n",
        "2^(n+1)\n",
        "2^n"
      ],
      "execution_count": 0,
      "outputs": []
    },
    {
      "cell_type": "markdown",
      "metadata": {
        "deletable": false,
        "editable": false,
        "nbgrader": {
          "checksum": "b7ea4393551187246e7a7a7399d38250",
          "grade": false,
          "grade_id": "cell-e4fe88238c9e912a",
          "locked": true,
          "schema_version": 1,
          "solution": false
        },
        "id": "1nH4M0l0BnL5",
        "colab_type": "text"
      },
      "source": [
        "## Question 3.\n",
        "Write a function in Python that solves the maximum-subarray problem using a brute-force approach. Your Python function must:\n",
        "* Take as Input an array/list  of numbers\n",
        "* Produce the following Output: \n",
        "    * the start and end indices of the subarray containing the maximum sum.\n",
        "    * value of the maximum subarray (float)\n"
      ]
    },
    {
      "cell_type": "code",
      "metadata": {
        "deletable": false,
        "nbgrader": {
          "checksum": "c98e89c42d52953c5e460a0126592e2a",
          "grade": false,
          "grade_id": "cell-527e6532d6992fd0",
          "locked": false,
          "schema_version": 1,
          "solution": true
        },
        "id": "AkLnUKPoBnL8",
        "colab_type": "code",
        "colab": {}
      },
      "source": [
        "def bruteforce_max_subarray(A):\n",
        "    \"\"\"Implements brute-force maximum subarray finding.\n",
        "    \n",
        "    Inputs:\n",
        "    - A: a NON-EMPTY list of floats\n",
        "    \n",
        "    Outputs: A tuple of\n",
        "    - the start index of the max subarray\n",
        "    - the end index of the max subarray\n",
        "    - the value of the maximum subarray\n",
        "    \"\"\"\n",
        "    # YOUR CODE HERE\n",
        "    raise NotImplementedError()"
      ],
      "execution_count": 0,
      "outputs": []
    },
    {
      "cell_type": "code",
      "metadata": {
        "deletable": false,
        "editable": false,
        "nbgrader": {
          "checksum": "57ec4672631bc8d61833077d1977b3e3",
          "grade": true,
          "grade_id": "cell-a28a56466c9537ff",
          "locked": true,
          "points": 1,
          "schema_version": 1,
          "solution": false
        },
        "id": "Hp3Ma96dBnMA",
        "colab_type": "code",
        "colab": {}
      },
      "source": [
        "assert(bruteforce_max_subarray([-2,1,-1,2,-5]) == (1, 3, 2))\n",
        "assert(bruteforce_max_subarray([-2, -5, 6, -2, -3, 1, 5, -6]) == (2, 6, 7))"
      ],
      "execution_count": 0,
      "outputs": []
    },
    {
      "cell_type": "markdown",
      "metadata": {
        "deletable": false,
        "editable": false,
        "nbgrader": {
          "checksum": "8625e044853f9c85838ca9f6ca4db9c4",
          "grade": false,
          "grade_id": "cell-ba342b15913cb4d3",
          "locked": true,
          "schema_version": 1,
          "solution": false
        },
        "id": "zfpTx1JMBnMF",
        "colab_type": "text"
      },
      "source": [
        "## Question 4. \n",
        "Test your Python maximum-subarray function using the following input list (from Figure 4.3 of Cormen et al.):  \n",
        "`A = [13, -3, -25, 20, -3, -16, -23, 18, 20, -7, 12, -5, -22, 15, -4, 7] `\n",
        "\n",
        "If your Python implementation is correct, your code must return: \n",
        "* 43 - which is the answer to the maximum subarray problem, and \n",
        "* <7, 10> -the start and the end indices of the max subarray. \n",
        "\n"
      ]
    },
    {
      "cell_type": "code",
      "metadata": {
        "deletable": false,
        "nbgrader": {
          "checksum": "9084301761509ba09820ee55035fd115",
          "grade": true,
          "grade_id": "cell-e4a632ce0edc1697",
          "locked": false,
          "points": 0,
          "schema_version": 1,
          "solution": true
        },
        "id": "bZHuXVqrBnMG",
        "colab_type": "code",
        "colab": {}
      },
      "source": [
        "# YOUR CODE HERE\n",
        "raise NotImplementedError()"
      ],
      "execution_count": 0,
      "outputs": []
    },
    {
      "cell_type": "markdown",
      "metadata": {
        "deletable": false,
        "editable": false,
        "nbgrader": {
          "checksum": "e99f275368a5231d3692d72e62ad372d",
          "grade": false,
          "grade_id": "cell-345f6f0bc7b4e001",
          "locked": true,
          "schema_version": 1,
          "solution": false
        },
        "id": "Yum2JZz_BnMK",
        "colab_type": "text"
      },
      "source": [
        "## Question 5. Asymptotic notation. \n",
        "Complete the following table using the asymptotic notation that best describes the problem. For example, if both $O(n^3)$ and $O(n)$ are possible for an algorithm, the answer is $O(n)$ because the function $f(n) = O(n)$ provides a tighter and more accurate fit; if both $O(n)$ and $\\Theta(n)$ are possible, the correct answer is $\\Theta(n)$ because $\\Theta(n)$ provides both information about the upper and lower bound, thus it is more accurate than $O(n)$.\n",
        "\n",
        "You should copy the following table and paste and edit it in the cell below. \n",
        "\n",
        "Algorithm | Big Oh ($O$) | Big Theta ($\\Theta$)\n",
        "--- | --- | ---\n",
        "Insertion sort |  |\n",
        "Selection sort |  |\n",
        "Bubble sort |  | \n",
        "Finding maximum subarray |  |"
      ]
    },
    {
      "cell_type": "markdown",
      "metadata": {
        "deletable": false,
        "nbgrader": {
          "checksum": "6a2e8546bb697eda40015086f8405788",
          "grade": true,
          "grade_id": "cell-247c51df276b622e",
          "locked": false,
          "points": 0,
          "schema_version": 1,
          "solution": true
        },
        "id": "kbRfCz2uBnML",
        "colab_type": "text"
      },
      "source": [
        "YOUR ANSWER HERE"
      ]
    },
    {
      "cell_type": "markdown",
      "metadata": {
        "deletable": false,
        "editable": false,
        "nbgrader": {
          "checksum": "033981aff08a9064f5553137db1a4841",
          "grade": false,
          "grade_id": "cell-9e53f43b4530cd79",
          "locked": true,
          "schema_version": 1,
          "solution": false
        },
        "id": "Qhd_E6XoBnMN",
        "colab_type": "text"
      },
      "source": [
        "## [Optional] Question 6. \n",
        "How can you change this code to make it find the minimum-subarray?"
      ]
    },
    {
      "cell_type": "code",
      "metadata": {
        "deletable": false,
        "nbgrader": {
          "checksum": "462bcec4b06cc6fbda0e34c29e30b1fb",
          "grade": false,
          "grade_id": "cell-f4553f71858d1bc4",
          "locked": false,
          "schema_version": 1,
          "solution": true
        },
        "id": "JNPBdI1aBnMP",
        "colab_type": "code",
        "colab": {}
      },
      "source": [
        "def bruteforce_min_subarray(A):\n",
        "    \"\"\"Implements brute-force maximum subarray finding.\n",
        "    \n",
        "    Inputs:\n",
        "    - A: a NON-EMPTY list of floats\n",
        "    \n",
        "    Outputs: A tuple of\n",
        "    - the start index of the max subarray\n",
        "    - the end index of the max subarray\n",
        "    - the value of the maximum subarray\n",
        "    \"\"\"\n",
        "    # YOUR CODE HERE\n",
        "    raise NotImplementedError()"
      ],
      "execution_count": 0,
      "outputs": []
    },
    {
      "cell_type": "code",
      "metadata": {
        "deletable": false,
        "editable": false,
        "nbgrader": {
          "checksum": "70322c36cf22b5f720e6c338f08925c2",
          "grade": true,
          "grade_id": "cell-4263c7494a5f09d3",
          "locked": true,
          "points": 0,
          "schema_version": 1,
          "solution": false
        },
        "id": "w7VcpRxzBnMV",
        "colab_type": "code",
        "colab": {}
      },
      "source": [
        "assert(bruteforce_min_subarray([1]*10)[0] == bruteforce_min_subarray([1]*10)[1])\n",
        "assert(bruteforce_min_subarray([1]*10)[2] == 1)"
      ],
      "execution_count": 0,
      "outputs": []
    }
  ]
}