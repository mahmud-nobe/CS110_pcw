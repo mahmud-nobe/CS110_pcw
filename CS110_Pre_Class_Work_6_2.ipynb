{
  "nbformat": 4,
  "nbformat_minor": 0,
  "metadata": {
    "kernelspec": {
      "display_name": "Python 3",
      "language": "python",
      "name": "python3"
    },
    "language_info": {
      "codemirror_mode": {
        "name": "ipython",
        "version": 3
      },
      "file_extension": ".py",
      "mimetype": "text/x-python",
      "name": "python",
      "nbconvert_exporter": "python",
      "pygments_lexer": "ipython3",
      "version": "3.6.5"
    },
    "colab": {
      "name": "CS110 Pre Class Work 6.2",
      "provenance": [],
      "include_colab_link": true
    }
  },
  "cells": [
    {
      "cell_type": "markdown",
      "metadata": {
        "id": "view-in-github",
        "colab_type": "text"
      },
      "source": [
        "<a href=\"https://colab.research.google.com/github/mahmud-nobe/CS110_pcw/blob/master/CS110_Pre_Class_Work_6_2.ipynb\" target=\"_parent\"><img src=\"https://colab.research.google.com/assets/colab-badge.svg\" alt=\"Open In Colab\"/></a>"
      ]
    },
    {
      "cell_type": "markdown",
      "metadata": {
        "id": "XwM4Nq-GvvQo",
        "colab_type": "text"
      },
      "source": [
        "Before you turn this problem in, make sure everything runs as expected. First, **restart the kernel** (in the menubar, select Kernel$\\rightarrow$Restart) and then **run all cells** (in the menubar, select Cell$\\rightarrow$Run All).\n",
        "\n",
        "Make sure you fill in any place that says `YOUR CODE HERE` or \"YOUR ANSWER HERE\", as well as your name and collaborators below:"
      ]
    },
    {
      "cell_type": "code",
      "metadata": {
        "id": "rerIPiR7vvQz",
        "colab_type": "code",
        "colab": {}
      },
      "source": [
        "NAME = \"Md Mahmudunnobe\"\n",
        "COLLABORATORS = \"\""
      ],
      "execution_count": 0,
      "outputs": []
    },
    {
      "cell_type": "markdown",
      "metadata": {
        "id": "g3Z1jHivvvQ-",
        "colab_type": "text"
      },
      "source": [
        "---"
      ]
    },
    {
      "cell_type": "markdown",
      "metadata": {
        "deletable": false,
        "editable": false,
        "nbgrader": {
          "checksum": "499babfdbdc05aec285e42abdf82edd4",
          "grade": false,
          "grade_id": "cell-f534ec91df9dff5f",
          "locked": true,
          "schema_version": 1,
          "solution": false
        },
        "id": "ehXYwTJ-vvRB",
        "colab_type": "text"
      },
      "source": [
        "# CS110 Pre-class Work 6.2\n",
        "\n",
        "## Part A. Median-of-3 partitioning quicksort \n",
        "\n",
        "## Question 1.\n",
        "\n",
        "Read through the following Python code. What does each function (i.e., median, qsort, randomized_qsort, test_qsort) do? Comment in details each function. \n"
      ]
    },
    {
      "cell_type": "code",
      "metadata": {
        "id": "8gen5HGQvvRD",
        "colab_type": "code",
        "colab": {
          "base_uri": "https://localhost:8080/",
          "height": 34
        },
        "outputId": "839753ea-7f64-4acd-8adb-621e95d1f152"
      },
      "source": [
        "import timeit\n",
        "import random\n",
        "\n",
        "eps = 1e-16\n",
        "N = 10000\n",
        "# three extreme position, 1st position (Oth percentile)\n",
        "# median (50th percentile) and last element (100th percentile)\n",
        "locations = [0.0, 0.5, 1.0 - eps]\n",
        "\n",
        "# compare x2 with both of them, if it is less than one and greather than other, it is median\n",
        "# do same for x3 and if both of them failed return x1 as median\n",
        "def median(x1, x2, x3):\n",
        "    if (x1 < x2 < x3) or (x3 < x2 < x1):\n",
        "        return x2\n",
        "    elif (x1 < x3 < x2) or (x2 < x3 < x1):\n",
        "        return x3\n",
        "    else:\n",
        "        return x1\n",
        "\n",
        "def qsort(lst):\n",
        "    # first and last index of initial array \n",
        "    indices = [(0, len(lst))]\n",
        "\n",
        "    # loop until there is any value left in indices,\n",
        "    # indices have the first and last index of every subset, if these two index\n",
        "    # are same  (base case), continue without adding any new value to indices.\n",
        "    while indices:\n",
        "        (frm, to) = indices.pop()\n",
        "        if frm == to:\n",
        "            continue\n",
        "\n",
        "        # Find the partition:\n",
        "        N = to - frm # Number of elements\n",
        "        inds = [frm + int(N * n) for n in locations] # index of each extreme locations\n",
        "        values = [lst[ind] for ind in inds] # values of these extreme locations\n",
        "        partition = median(*values) # partition is the median of these three values in extreme position\n",
        "\n",
        "        # Split into lists:\n",
        "        lower = [a for a in lst[frm:to] if a < partition] # lower list, where all elements lower than partition\n",
        "        upper = [a for a in lst[frm:to] if a > partition] # upper list, where all elements higher than partition\n",
        "        counts = sum([1 for a in lst[frm:to] if a == partition]) # count how many elements are same as partition\n",
        "\n",
        "        ind1 = frm + len(lower) # last index of the lower list\n",
        "        ind2 = ind1 + counts # first index of the upper list\n",
        "\n",
        "        # Push back into correct place:\n",
        "        lst[frm:ind1] = lower # replace lower list in the first positions\n",
        "        lst[ind1:ind2] = [partition] * counts # then the partition value\n",
        "        lst[ind2:to] = upper # then the upper list\n",
        "\n",
        "        # Enqueue other locations\n",
        "        # so that they can again go to the loop and continue partitioning\n",
        "        indices.append((frm, ind1)) \n",
        "        indices.append((ind2, to))\n",
        "    return lst\n",
        "\n",
        "\n",
        "def randomized_quicksort():\n",
        "    lst = [i for i in range(N)]\n",
        "    # shuffling the list to get a randimized order\n",
        "    random.shuffle(lst)\n",
        "    # sort the list using qsort\n",
        "    return qsort(lst)\n",
        "\n",
        "\n",
        "def test_quicksort():\n",
        "    # lst is initially a list of range 0 to N, \n",
        "    # then it got shuffled in randomized_quick_sort, then go in qsort for sorting\n",
        "    lst = randomized_quicksort()\n",
        "    # if qsort works fine, we should finally get the list as range 0 to N again\n",
        "    assert (lst == [i for i in range(N)])\n",
        "\n",
        "\n",
        "# Is our algorithm correct\n",
        "# if not then asser will print an error\n",
        "test_quicksort()\n",
        "\n",
        "# How fast is our algorithm\n",
        "# here inout array size, N = 10000 and it will print the running time of randomized_quicksort if we run it only one time.\n",
        "print(timeit.timeit(randomized_quicksort, number=1))"
      ],
      "execution_count": 9,
      "outputs": [
        {
          "output_type": "stream",
          "text": [
            "0.06100400300010733\n"
          ],
          "name": "stdout"
        }
      ]
    },
    {
      "cell_type": "markdown",
      "metadata": {
        "deletable": false,
        "editable": false,
        "nbgrader": {
          "checksum": "61fb11bff1434e4b7276c7443b0267c6",
          "grade": false,
          "grade_id": "cell-a2b2429aa4e81403",
          "locked": true,
          "schema_version": 1,
          "solution": false
        },
        "id": "i534QaDDvvRJ",
        "colab_type": "text"
      },
      "source": [
        "## Question 2.\n",
        "\n",
        "What are the main differences between the `randomized_quicksort` in the code and $RANDOMIZED-QUICKSORT$ in Cormen et al., besides that the partition of `randomized_quicksort` uses a median of 3 as a pivot?"
      ]
    },
    {
      "cell_type": "markdown",
      "metadata": {
        "deletable": false,
        "nbgrader": {
          "checksum": "8915b75d94bc194ba0f4e52e475063b4",
          "grade": true,
          "grade_id": "cell-4a3cd727ccac7404",
          "locked": false,
          "points": 0,
          "schema_version": 1,
          "solution": true
        },
        "id": "G3cdwW8xvvRM",
        "colab_type": "text"
      },
      "source": [
        "YOUR ANSWER HERE"
      ]
    },
    {
      "cell_type": "markdown",
      "metadata": {
        "deletable": false,
        "editable": false,
        "nbgrader": {
          "checksum": "5853f10cab01212736d0e92ce408fa97",
          "grade": false,
          "grade_id": "cell-49bff57d4018e133",
          "locked": true,
          "schema_version": 1,
          "solution": false
        },
        "id": "r05jq9GHvvRO",
        "colab_type": "text"
      },
      "source": [
        "## Question 3.\n",
        "What is the time complexity of this `randomized_qsort`? Time the algorithm on lists of various lengths, each list being a list of the first $n$ consecutive positive integers. Produce a graph with list lengths on the x axis and running time on the y axis. As always, don’t forget to time the algorithm several times for each list’s length and then average the results. "
      ]
    },
    {
      "cell_type": "code",
      "metadata": {
        "deletable": false,
        "nbgrader": {
          "checksum": "a321a7fcecb9c9cce252ea2c6030d4ce",
          "grade": true,
          "grade_id": "cell-e0e1dac71ac7feb6",
          "locked": false,
          "points": 0,
          "schema_version": 1,
          "solution": true
        },
        "id": "YbiTgpmpvvRR",
        "colab_type": "code",
        "colab": {}
      },
      "source": [
        "# YOUR CODE HERE\n",
        "raise NotImplementedError()"
      ],
      "execution_count": 0,
      "outputs": []
    },
    {
      "cell_type": "markdown",
      "metadata": {
        "deletable": false,
        "editable": false,
        "nbgrader": {
          "checksum": "b8751f930d9dc208113425646ea7fea8",
          "grade": false,
          "grade_id": "cell-1e8309c07c2f2908",
          "locked": true,
          "schema_version": 1,
          "solution": false
        },
        "id": "R1xhy0T2vvRY",
        "colab_type": "text"
      },
      "source": [
        "## Question 4.\n",
        "\n",
        "### Question 4a.\n",
        "\n",
        "Change the `qsort()` function in a way that you **don’t** separate the items that are equal to the partition. \n"
      ]
    },
    {
      "cell_type": "code",
      "metadata": {
        "deletable": false,
        "nbgrader": {
          "checksum": "797888f53fa36bcf0f9d891c4819d8e9",
          "grade": false,
          "grade_id": "cell-a9d1f063c0340b14",
          "locked": false,
          "schema_version": 1,
          "solution": true
        },
        "id": "iH0tKN_OvvRa",
        "colab_type": "code",
        "colab": {}
      },
      "source": [
        "def qsort(lst):\n",
        "    # YOUR CODE HERE\n",
        "    raise NotImplementedError()"
      ],
      "execution_count": 0,
      "outputs": []
    },
    {
      "cell_type": "code",
      "metadata": {
        "deletable": false,
        "editable": false,
        "nbgrader": {
          "checksum": "ce755b787f1b82629d627d2f8bea66a5",
          "grade": true,
          "grade_id": "cell-2c0cbd296d612f85",
          "locked": true,
          "points": 1,
          "schema_version": 1,
          "solution": false
        },
        "id": "N5bGp3SSvvRj",
        "colab_type": "code",
        "colab": {}
      },
      "source": [
        "assert(qsort([4,2,1])==[1,2,4])\n",
        "assert(qsort([0])==[0])"
      ],
      "execution_count": 0,
      "outputs": []
    },
    {
      "cell_type": "markdown",
      "metadata": {
        "deletable": false,
        "editable": false,
        "nbgrader": {
          "checksum": "3f5f9ca976fb636978e2bdfda98a5eeb",
          "grade": false,
          "grade_id": "cell-76883a453f020d72",
          "locked": true,
          "schema_version": 1,
          "solution": false
        },
        "id": "ACXD4HfkvvRq",
        "colab_type": "text"
      },
      "source": [
        "### Question 4b.\n",
        "\n",
        "Now time the algorithm on the same inputs you have used in question 3, adding one more line in the previous graph you have produced. "
      ]
    },
    {
      "cell_type": "code",
      "metadata": {
        "deletable": false,
        "nbgrader": {
          "checksum": "33188fb282e53d117dfe275067ad3567",
          "grade": true,
          "grade_id": "cell-31ee807cec9ce8bf",
          "locked": false,
          "points": 0,
          "schema_version": 1,
          "solution": true
        },
        "id": "8D3iOEBxvvRs",
        "colab_type": "code",
        "colab": {}
      },
      "source": [
        "# YOUR CODE HERE\n",
        "raise NotImplementedError()"
      ],
      "execution_count": 0,
      "outputs": []
    },
    {
      "cell_type": "markdown",
      "metadata": {
        "deletable": false,
        "editable": false,
        "nbgrader": {
          "checksum": "991ee87c525d8fa29bd448aa80dbf243",
          "grade": false,
          "grade_id": "cell-b666e68e84dfce03",
          "locked": true,
          "schema_version": 1,
          "solution": false
        },
        "id": "hT3KgFNTvvRz",
        "colab_type": "text"
      },
      "source": [
        "## Question 5.\n",
        "\n",
        "### Question 5a.\n",
        "\n",
        "Remove the median-of-3 partitioning, and just use the first element in the array. "
      ]
    },
    {
      "cell_type": "code",
      "metadata": {
        "deletable": false,
        "nbgrader": {
          "checksum": "90dbb100f881a2c9a61720a0753ca401",
          "grade": false,
          "grade_id": "cell-4daf36021c15eaf0",
          "locked": false,
          "schema_version": 1,
          "solution": true
        },
        "id": "kOq14BTAvvR1",
        "colab_type": "code",
        "colab": {}
      },
      "source": [
        "def qsort(lst):\n",
        "    # YOUR CODE HERE\n",
        "    raise NotImplementedError()"
      ],
      "execution_count": 0,
      "outputs": []
    },
    {
      "cell_type": "code",
      "metadata": {
        "deletable": false,
        "editable": false,
        "nbgrader": {
          "checksum": "9d457eff304d19e031a8eabb4615ca3b",
          "grade": true,
          "grade_id": "cell-97473a9e0d12e745",
          "locked": true,
          "points": 1,
          "schema_version": 1,
          "solution": false
        },
        "id": "JerSxWmAvvR9",
        "colab_type": "code",
        "colab": {}
      },
      "source": [
        "assert(qsort([4,2,1])==[1,2,4])\n",
        "assert(qsort([0])==[0])"
      ],
      "execution_count": 0,
      "outputs": []
    },
    {
      "cell_type": "markdown",
      "metadata": {
        "deletable": false,
        "editable": false,
        "nbgrader": {
          "checksum": "8f0166e7d0021886bb7176f35011a633",
          "grade": false,
          "grade_id": "cell-2ca71dd53b31262b",
          "locked": true,
          "schema_version": 1,
          "solution": false
        },
        "id": "4fnrgF_AvvSE",
        "colab_type": "text"
      },
      "source": [
        "### Question 5b.\n",
        "\n",
        "Does this change the running time of your algorithm? Justify your response with a graph. \n",
        "\n"
      ]
    },
    {
      "cell_type": "code",
      "metadata": {
        "deletable": false,
        "nbgrader": {
          "checksum": "bd863db414089f9ead9906b3c2c34a15",
          "grade": true,
          "grade_id": "cell-1f3a6df29d324853",
          "locked": false,
          "points": 0,
          "schema_version": 1,
          "solution": true
        },
        "id": "3att4XWyvvSG",
        "colab_type": "code",
        "colab": {}
      },
      "source": [
        "# YOUR CODE HERE\n",
        "raise NotImplementedError()"
      ],
      "execution_count": 0,
      "outputs": []
    },
    {
      "cell_type": "markdown",
      "metadata": {
        "deletable": false,
        "editable": false,
        "nbgrader": {
          "checksum": "51af6d987694ab6231a6f4aa19f39164",
          "grade": false,
          "grade_id": "cell-67512d1d42af415f",
          "locked": true,
          "schema_version": 1,
          "solution": false
        },
        "id": "15eG2rvJvvSS",
        "colab_type": "text"
      },
      "source": [
        "## Part B. Recursive quicksort. \n",
        "\n",
        "One main difference between the quicksort algorithms in Cormen et al. and the implementation in the code above is that quick sort (in the code in this notebook) is not recursive, while $QUICKSORT$ in Cormen et al. is. Given the limitation of Python so that it can only make 500 recursive calls, estimate the maximum size of the list that can be sorted by Python if a recursive quicksort is to be used. Explicitly state all assumptions you make in getting to an answer.\n"
      ]
    },
    {
      "cell_type": "markdown",
      "metadata": {
        "deletable": false,
        "nbgrader": {
          "checksum": "7be7bc411376ac8090621f3d68630c10",
          "grade": true,
          "grade_id": "cell-4af5aab4ad1a7225",
          "locked": false,
          "points": 0,
          "schema_version": 1,
          "solution": true
        },
        "id": "mpfHC2CXvvSV",
        "colab_type": "text"
      },
      "source": [
        "YOUR ANSWER HERE"
      ]
    }
  ]
}