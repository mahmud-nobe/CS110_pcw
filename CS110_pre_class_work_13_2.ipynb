{
  "nbformat": 4,
  "nbformat_minor": 0,
  "metadata": {
    "kernelspec": {
      "display_name": "Python 3",
      "language": "python",
      "name": "python3"
    },
    "language_info": {
      "codemirror_mode": {
        "name": "ipython",
        "version": 3
      },
      "file_extension": ".py",
      "mimetype": "text/x-python",
      "name": "python",
      "nbconvert_exporter": "python",
      "pygments_lexer": "ipython3",
      "version": "3.6.5"
    },
    "colab": {
      "name": "CS110 pre class work 13.2",
      "provenance": [],
      "include_colab_link": true
    }
  },
  "cells": [
    {
      "cell_type": "markdown",
      "metadata": {
        "id": "view-in-github",
        "colab_type": "text"
      },
      "source": [
        "<a href=\"https://colab.research.google.com/github/mahmud-nobe/CS110_pcw/blob/master/CS110_pre_class_work_13_2.ipynb\" target=\"_parent\"><img src=\"https://colab.research.google.com/assets/colab-badge.svg\" alt=\"Open In Colab\"/></a>"
      ]
    },
    {
      "cell_type": "markdown",
      "metadata": {
        "id": "6VIFJsAAGh0n",
        "colab_type": "text"
      },
      "source": [
        "Before you turn this problem in, make sure everything runs as expected. First, **restart the kernel** (in the menubar, select Kernel$\\rightarrow$Restart) and then **run all cells** (in the menubar, select Cell$\\rightarrow$Run All).\n",
        "\n",
        "Make sure you fill in any place that says `YOUR CODE HERE` or \"YOUR ANSWER HERE\", as well as your name and collaborators below:"
      ]
    },
    {
      "cell_type": "code",
      "metadata": {
        "id": "IJhLWaVWGh0p",
        "colab_type": "code",
        "colab": {}
      },
      "source": [
        "NAME = \"Md Mahmudunnobe\"\n",
        "COLLABORATORS = \"\""
      ],
      "execution_count": 0,
      "outputs": []
    },
    {
      "cell_type": "markdown",
      "metadata": {
        "id": "dtuj6vC9Gh0t",
        "colab_type": "text"
      },
      "source": [
        "---"
      ]
    },
    {
      "cell_type": "markdown",
      "metadata": {
        "deletable": false,
        "editable": false,
        "nbgrader": {
          "checksum": "0f21ce4c9e01aa6a231ae85c9319acf3",
          "grade": false,
          "grade_id": "cell-f49515decdd20fa1",
          "locked": true,
          "schema_version": 1,
          "solution": false
        },
        "id": "LOZXXFgVGh0t",
        "colab_type": "text"
      },
      "source": [
        "# CS110 Pre-class Work 12.1\n",
        "\n",
        "## Question 1.\n",
        "Define the `enqueue(self, x)` and `dequeue(self)` methods of the class `Queue` below, by modifying the cell. You do not need to include the error checking for underflow and overflow. You can follow the pseudo-codes on p.235, Cormen et al. to complete this task."
      ]
    },
    {
      "cell_type": "code",
      "metadata": {
        "deletable": false,
        "nbgrader": {
          "checksum": "7e29f9d49b8f1ac6d8a416278c338aaa",
          "grade": false,
          "grade_id": "cell-ebbe229b0421e86e",
          "locked": false,
          "schema_version": 1,
          "solution": true
        },
        "id": "AT-5ngY4Gh0u",
        "colab_type": "code",
        "colab": {}
      },
      "source": [
        "class Queue(object):\n",
        "    def __init__(self, length):\n",
        "        self.length = length\n",
        "        self.head = 1\n",
        "        self.tail = 1\n",
        "        self.q = {}\n",
        "        for i in range(1, self.length+1):\n",
        "            self.q[i] = None\n",
        "    \n",
        "    def enqueue(self, x):\n",
        "        self.q[self.tail] = x\n",
        "        if(self.tail == self.length):\n",
        "            self.tail = 1\n",
        "        else: \n",
        "            self.tail += 1\n",
        "        \n",
        "        self.length += 1\n",
        "\n",
        "    def dequeue(self):\n",
        "        x = self.q[self.head]\n",
        "        if(self.head == self.head):\n",
        "            self.head = 1\n",
        "        else: \n",
        "            self.head += 1\n",
        "        self.length -= 1\n",
        "        return x\n",
        "\n",
        "    # raise NotImplementedError()"
      ],
      "execution_count": 0,
      "outputs": []
    },
    {
      "cell_type": "markdown",
      "metadata": {
        "deletable": false,
        "editable": false,
        "nbgrader": {
          "checksum": "70c402b90b1c8213eaf69a116c0a3c45",
          "grade": false,
          "grade_id": "cell-9e685a1fdf0e1bf6",
          "locked": true,
          "schema_version": 1,
          "solution": false
        },
        "id": "9MO22ynrGh0w",
        "colab_type": "text"
      },
      "source": [
        "## Question 2. \n",
        "\n",
        "Below, the first cell is a working code for two classes, `Node` and `Graph` that can be used to represent undirected or directed graphs. Use these two classes to complete the function `bfs` that implements the breath-first search algorithm in the second cell."
      ]
    },
    {
      "cell_type": "code",
      "metadata": {
        "deletable": false,
        "editable": false,
        "nbgrader": {
          "checksum": "67f0f9b0f8b0039c23ed185490e394fb",
          "grade": false,
          "grade_id": "cell-2dfede3b8a3adb96",
          "locked": true,
          "schema_version": 1,
          "solution": false
        },
        "id": "GrR5c0nKGh0x",
        "colab_type": "code",
        "colab": {
          "base_uri": "https://localhost:8080/",
          "height": 170
        },
        "outputId": "d1d88e68-1be9-4115-8596-2f306ea3f918"
      },
      "source": [
        "class Node: \n",
        "    \n",
        "    BLACK = 'B'\n",
        "    GRAY = 'G'\n",
        "    WHITE = 'W'\n",
        "    \n",
        "    def __init__(self, name, adj_list=None, weighted_adj_list=None): \n",
        "        self.name = name\n",
        "        self.color = Node.WHITE\n",
        "        self.pi = None\n",
        "        self.dist = float('inf')\n",
        "        self.adj_list = adj_list\n",
        "        if not adj_list: \n",
        "            self.adj_list = []\n",
        "        \n",
        "    def add_edge(self, node): \n",
        "        if node.name not in self.adj_list: \n",
        "            self.adj_list.append(node.name)\n",
        "        \n",
        "    def remove_edge(self, node): \n",
        "        self.adj_list.remove(node.name)\n",
        "        \n",
        "    def to_string(self): \n",
        "        res = self.name + ': [' + ' '.join(self.adj_list) + '] color: ' + self.color + ' dist: ' + str(self.dist)\n",
        "        if not self.pi:\n",
        "            res += ' pi: Nil'\n",
        "        else: \n",
        "            res += ' pi: ' + self.pi\n",
        "        return res\n",
        "\n",
        "class Graph: \n",
        "    \n",
        "    def __init__(self, nodes={}): \n",
        "        self.nodes = nodes\n",
        "        \n",
        "    def add_node(self,node): \n",
        "        self.nodes[node.name] = node\n",
        "        \n",
        "    def add_edge(self,n1,n2): \n",
        "        self.nodes[n1].add_edge(self.nodes[n2])\n",
        "        \n",
        "    def remove_edge(self, n1, n2): \n",
        "        self.nodes[n1].remove_edge(self.nodes[n2])\n",
        "        \n",
        "    def to_string(self): \n",
        "        res = \"\"\n",
        "        for n in self.nodes.keys(): \n",
        "            res += self.nodes[n].to_string() + \",\\n\"\n",
        "        return res\n",
        "      \n",
        "g = Graph({})\n",
        "g.add_node(Node('r', ['s','v']))\n",
        "g.add_node(Node('s', ['r','w']))\n",
        "g.add_node(Node('t', ['w','x','u']))\n",
        "g.add_node(Node('u', ['t','x','y']))\n",
        "g.add_node(Node('v', ['r']))\n",
        "g.add_node(Node('w', ['s','t','x']))\n",
        "g.add_node(Node('x', ['w','t','u','y']))\n",
        "g.add_node(Node('y', ['u','x']))\n",
        "\n",
        "print(g.to_string())"
      ],
      "execution_count": 68,
      "outputs": [
        {
          "output_type": "stream",
          "text": [
            "r: [s v] color: W dist: inf pi: Nil,\n",
            "s: [r w] color: W dist: inf pi: Nil,\n",
            "t: [w x u] color: W dist: inf pi: Nil,\n",
            "u: [t x y] color: W dist: inf pi: Nil,\n",
            "v: [r] color: W dist: inf pi: Nil,\n",
            "w: [s t x] color: W dist: inf pi: Nil,\n",
            "x: [w t u y] color: W dist: inf pi: Nil,\n",
            "y: [u x] color: W dist: inf pi: Nil,\n",
            "\n"
          ],
          "name": "stdout"
        }
      ]
    },
    {
      "cell_type": "code",
      "metadata": {
        "id": "pTa1j7EBMReg",
        "colab_type": "code",
        "colab": {
          "base_uri": "https://localhost:8080/",
          "height": 34
        },
        "outputId": "ef39c483-aecd-4b4d-eef5-c6b532579f30"
      },
      "source": [
        "Node.GRAY"
      ],
      "execution_count": 69,
      "outputs": [
        {
          "output_type": "execute_result",
          "data": {
            "text/plain": [
              "'G'"
            ]
          },
          "metadata": {
            "tags": []
          },
          "execution_count": 69
        }
      ]
    },
    {
      "cell_type": "code",
      "metadata": {
        "id": "f2MQXmEHILWo",
        "colab_type": "code",
        "colab": {
          "base_uri": "https://localhost:8080/",
          "height": 34
        },
        "outputId": "c97ae5b6-5457-4bc3-a6b2-6d215f7af0c7"
      },
      "source": [
        "g.nodes['s'].dist"
      ],
      "execution_count": 70,
      "outputs": [
        {
          "output_type": "execute_result",
          "data": {
            "text/plain": [
              "inf"
            ]
          },
          "metadata": {
            "tags": []
          },
          "execution_count": 70
        }
      ]
    },
    {
      "cell_type": "code",
      "metadata": {
        "deletable": false,
        "nbgrader": {
          "checksum": "760f180f167347b70d63a81bd97bdc00",
          "grade": false,
          "grade_id": "cell-79459bfd60700881",
          "locked": false,
          "schema_version": 1,
          "solution": true
        },
        "id": "PGgs1lTdGh00",
        "colab_type": "code",
        "colab": {}
      },
      "source": [
        "def bfs(G,s):\n",
        "    \"\"\"\n",
        "    Breath-first search\n",
        "    \n",
        "    Inputs:\n",
        "    - G: a graph (instance of Graph)\n",
        "    - s: string, name of the source vertex which is an instance of Node\n",
        "    \n",
        "    Output:\n",
        "    - info: string, what is returned by G.to_string()\n",
        "    \"\"\"\n",
        "    \n",
        "    G.nodes[s].dist = 0\n",
        "    G.nodes[s].color = Node.GRAY\n",
        "\n",
        "    q = Queue(0)\n",
        "\n",
        "    q.enqueue(s)\n",
        "\n",
        "    while q.length > 0:\n",
        "        u = q.dequeue()\n",
        "        for node in G.nodes[u].adj_list:\n",
        "            if G.nodes[node].color == Node.WHITE:\n",
        "                G.nodes[node].color = Node.GRAY\n",
        "                G.nodes[node].dist = G.nodes[u].dist + 1\n",
        "                G.nodes[node].pi = u\n",
        "                q.enqueue(node)\n",
        "        G.nodes[u].color = Node.BLACK\n",
        "\n",
        "    return G.to_string()\n",
        "    # raise NotImplementedError()"
      ],
      "execution_count": 0,
      "outputs": []
    },
    {
      "cell_type": "code",
      "metadata": {
        "id": "eGxfEhS-LVqj",
        "colab_type": "code",
        "colab": {
          "base_uri": "https://localhost:8080/",
          "height": 170
        },
        "outputId": "4548ac02-4b6f-4205-97b6-4ad10755cae7"
      },
      "source": [
        "print(bfs(g,'s'))"
      ],
      "execution_count": 73,
      "outputs": [
        {
          "output_type": "stream",
          "text": [
            "r: [s v] color: G dist: 1 pi: s,\n",
            "s: [r w] color: B dist: 0 pi: Nil,\n",
            "t: [w x u] color: W dist: inf pi: Nil,\n",
            "u: [t x y] color: W dist: inf pi: Nil,\n",
            "v: [r] color: W dist: inf pi: Nil,\n",
            "w: [s t x] color: G dist: 1 pi: s,\n",
            "x: [w t u y] color: W dist: inf pi: Nil,\n",
            "y: [u x] color: W dist: inf pi: Nil,\n",
            "\n"
          ],
          "name": "stdout"
        }
      ]
    },
    {
      "cell_type": "markdown",
      "metadata": {
        "deletable": false,
        "editable": false,
        "nbgrader": {
          "checksum": "39083ef10d9964de5fedd745ae0216a1",
          "grade": false,
          "grade_id": "cell-df5e25eea74070b9",
          "locked": true,
          "schema_version": 1,
          "solution": false
        },
        "id": "zHZgIrZpGh03",
        "colab_type": "text"
      },
      "source": [
        "## Question 3.\n",
        "\n",
        "Solve exercise 22.2-1 in Cormen et al. by following these steps:\n",
        "1. Build a graph G that represents the graph in Figure 22.2-(a). The names of the vertices are noted in each vertex (1, 2, 3, 4, 5, and 6)\n",
        "2. Print the info returned by `bfs`"
      ]
    },
    {
      "cell_type": "code",
      "metadata": {
        "deletable": false,
        "nbgrader": {
          "checksum": "b0d6e287db54e8c0cc714362ffdb21ef",
          "grade": true,
          "grade_id": "cell-692a09a756ecaa40",
          "locked": false,
          "points": 0,
          "schema_version": 1,
          "solution": true
        },
        "id": "wuk12iZIGh04",
        "colab_type": "code",
        "colab": {
          "base_uri": "https://localhost:8080/",
          "height": 136
        },
        "outputId": "6f8fbf9a-41b3-454c-dc39-18b2c8c929f9"
      },
      "source": [
        "g = Graph({})\n",
        "g.add_node(Node('1', ['2','4']))\n",
        "g.add_node(Node('2', ['5']))\n",
        "g.add_node(Node('3', ['5','6']))\n",
        "g.add_node(Node('4', ['2']))\n",
        "g.add_node(Node('5', ['4']))\n",
        "g.add_node(Node('6', ['6']))\n",
        "\n",
        "print(bfs(g,'3'))\n",
        "# raise NotImplementedError()"
      ],
      "execution_count": 76,
      "outputs": [
        {
          "output_type": "stream",
          "text": [
            "1: [2 4] color: W dist: inf pi: Nil,\n",
            "2: [5] color: W dist: inf pi: Nil,\n",
            "3: [5 6] color: B dist: 0 pi: Nil,\n",
            "4: [2] color: W dist: inf pi: Nil,\n",
            "5: [4] color: G dist: 1 pi: 3,\n",
            "6: [6] color: G dist: 1 pi: 3,\n",
            "\n"
          ],
          "name": "stdout"
        }
      ]
    },
    {
      "cell_type": "markdown",
      "metadata": {
        "deletable": false,
        "editable": false,
        "nbgrader": {
          "checksum": "e383fc84bbdac7b0911f3d6f17c80a34",
          "grade": false,
          "grade_id": "cell-71c8b5ed8faa8e34",
          "locked": true,
          "schema_version": 1,
          "solution": false
        },
        "id": "xXtbZ5ccGh07",
        "colab_type": "text"
      },
      "source": [
        "## Question 4.\n",
        "Solve exercise 22.2-2 in Cormen et al. by following these steps:\n",
        "1. Build a graph G that represents the graph in Figure 22.3-(a). Note that the names of the vertices are given as `r`, `x`, `t`, `u`, etc.\n",
        "2. Print the info returned by `bfs`"
      ]
    },
    {
      "cell_type": "code",
      "metadata": {
        "deletable": false,
        "nbgrader": {
          "checksum": "c977a39ba030c39d3fba8cc1ca0d5dfe",
          "grade": true,
          "grade_id": "cell-eccd2dcb9f2eec18",
          "locked": false,
          "points": 0,
          "schema_version": 1,
          "solution": true
        },
        "id": "w3IdI1eHGh08",
        "colab_type": "code",
        "colab": {
          "base_uri": "https://localhost:8080/",
          "height": 272
        },
        "outputId": "b79ce155-92aa-4e20-bd1f-2eabf9fac1a4"
      },
      "source": [
        "g.add_node(Node('r', ['v','s']))\n",
        "g.add_node(Node('w', ['s','t', 'x']))\n",
        "g.add_node(Node('x', ['w','u','y']))\n",
        "g.add_node(Node('v', ['r']))\n",
        "g.add_node(Node('t', ['w','x', 'u']))\n",
        "g.add_node(Node('y', ['x','u']))\n",
        "g.add_node(Node('s', ['r','w']))\n",
        "g.add_node(Node('u', ['t','x', 'y']))\n",
        "\n",
        "print(bfs(g, 't'))\n",
        "# raise NotImplementedError()"
      ],
      "execution_count": 78,
      "outputs": [
        {
          "output_type": "stream",
          "text": [
            "1: [2 4] color: W dist: inf pi: Nil,\n",
            "2: [5] color: W dist: inf pi: Nil,\n",
            "3: [5 6] color: B dist: 0 pi: Nil,\n",
            "4: [2] color: W dist: inf pi: Nil,\n",
            "5: [4] color: G dist: 1 pi: 3,\n",
            "6: [6] color: G dist: 1 pi: 3,\n",
            "r: [v s] color: W dist: inf pi: Nil,\n",
            "w: [s t x] color: G dist: 1 pi: t,\n",
            "x: [w u y] color: G dist: 1 pi: t,\n",
            "v: [r] color: W dist: inf pi: Nil,\n",
            "t: [w x u] color: B dist: 0 pi: Nil,\n",
            "y: [x u] color: W dist: inf pi: Nil,\n",
            "s: [r w] color: W dist: inf pi: Nil,\n",
            "u: [t x y] color: G dist: 1 pi: t,\n",
            "\n"
          ],
          "name": "stdout"
        }
      ]
    },
    {
      "cell_type": "markdown",
      "metadata": {
        "deletable": false,
        "editable": false,
        "nbgrader": {
          "checksum": "5a09e4cae5de3aec672714362e8b27d2",
          "grade": false,
          "grade_id": "cell-aae6917929e609dd",
          "locked": true,
          "schema_version": 1,
          "solution": false
        },
        "id": "tgMYoR_PGh0_",
        "colab_type": "text"
      },
      "source": [
        "## Question 5.\n",
        "Is the shortest path problem in an undirected graph suitable for a dynamic programming solution? Why or why not?\n"
      ]
    },
    {
      "cell_type": "markdown",
      "metadata": {
        "deletable": false,
        "nbgrader": {
          "checksum": "4ce458227450628bf1c354006e74dc8d",
          "grade": true,
          "grade_id": "cell-e0446af225564643",
          "locked": false,
          "points": 0,
          "schema_version": 1,
          "solution": true
        },
        "id": "Txm5bhRMGh0_",
        "colab_type": "text"
      },
      "source": [
        "YOUR ANSWER HERE"
      ]
    },
    {
      "cell_type": "markdown",
      "metadata": {
        "deletable": false,
        "editable": false,
        "nbgrader": {
          "checksum": "f9a675e4875e995f261285d322e59ac2",
          "grade": false,
          "grade_id": "cell-bc2f4b735ce6608d",
          "locked": true,
          "schema_version": 1,
          "solution": false
        },
        "id": "p83JETjYGh1A",
        "colab_type": "text"
      },
      "source": [
        "## Question 6. \n",
        "Answer in prose what changes need to be made to the graph representation to incorporate the concept of edge weights."
      ]
    },
    {
      "cell_type": "markdown",
      "metadata": {
        "deletable": false,
        "nbgrader": {
          "checksum": "29d70dd6835f376857472704851c81f0",
          "grade": true,
          "grade_id": "cell-a9d4e31b797ed485",
          "locked": false,
          "points": 0,
          "schema_version": 1,
          "solution": true
        },
        "id": "unT-qoekGh1A",
        "colab_type": "text"
      },
      "source": [
        "YOUR ANSWER HERE"
      ]
    }
  ]
}