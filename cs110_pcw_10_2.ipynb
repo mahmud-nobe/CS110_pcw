{
  "nbformat": 4,
  "nbformat_minor": 0,
  "metadata": {
    "kernelspec": {
      "display_name": "Python 3",
      "language": "python",
      "name": "python3"
    },
    "language_info": {
      "codemirror_mode": {
        "name": "ipython",
        "version": 3
      },
      "file_extension": ".py",
      "mimetype": "text/x-python",
      "name": "python",
      "nbconvert_exporter": "python",
      "pygments_lexer": "ipython3",
      "version": "3.6.8"
    },
    "latex_envs": {
      "LaTeX_envs_menu_present": true,
      "autoclose": false,
      "autocomplete": true,
      "bibliofile": "biblio.bib",
      "cite_by": "apalike",
      "current_citInitial": 1,
      "eqLabelWithNumbers": true,
      "eqNumInitial": 1,
      "hotkeys": {
        "equation": "Ctrl-E",
        "itemize": "Ctrl-I"
      },
      "labels_anchors": false,
      "latex_user_defs": false,
      "report_style_numbering": false,
      "user_envs_cfg": false
    },
    "colab": {
      "name": "cs110_pcw_10_2.ipynb",
      "provenance": [],
      "include_colab_link": true
    }
  },
  "cells": [
    {
      "cell_type": "markdown",
      "metadata": {
        "id": "view-in-github",
        "colab_type": "text"
      },
      "source": [
        "<a href=\"https://colab.research.google.com/github/mahmud-nobe/CS110_pcw/blob/master/cs110_pcw_10_2.ipynb\" target=\"_parent\"><img src=\"https://colab.research.google.com/assets/colab-badge.svg\" alt=\"Open In Colab\"/></a>"
      ]
    },
    {
      "cell_type": "markdown",
      "metadata": {
        "id": "_8Yk2VydpUgk",
        "colab_type": "text"
      },
      "source": [
        "Before you turn this problem in, make sure everything runs as expected. First, **restart the kernel** (in the menubar, select Kernel$\\rightarrow$Restart) and then **run all cells** (in the menubar, select Cell$\\rightarrow$Run All).\n",
        "\n",
        "Make sure you fill in any place that says `YOUR CODE HERE` or \"YOUR ANSWER HERE\", as well as your name and collaborators below:"
      ]
    },
    {
      "cell_type": "code",
      "metadata": {
        "id": "HZFqxSH1pUgr",
        "colab_type": "code",
        "colab": {}
      },
      "source": [
        "NAME = \"Md Mahmudunnobe\"\n",
        "COLLABORATORS = \"\""
      ],
      "execution_count": 0,
      "outputs": []
    },
    {
      "cell_type": "markdown",
      "metadata": {
        "id": "QGVa8OgbpUg5",
        "colab_type": "text"
      },
      "source": [
        "---"
      ]
    },
    {
      "cell_type": "markdown",
      "metadata": {
        "deletable": false,
        "editable": false,
        "nbgrader": {
          "checksum": "d0fd0bb7c384064cb041a44bf70e8b02",
          "grade": false,
          "grade_id": "cell-33bec640a44b2efb",
          "locked": true,
          "schema_version": 1,
          "solution": false
        },
        "id": "5jKOoElhpUg8",
        "colab_type": "text"
      },
      "source": [
        "# CS110 Pre-class Work 10.2\n",
        "\n",
        "## Question 1.\n",
        "\n",
        "# Question 1. \n",
        "\n",
        "Fill in the code below for the method `insert` for a node in a BST. This should be a matter of copy-paste, as this is part of the pre-class work for lesson 8.2"
      ]
    },
    {
      "cell_type": "code",
      "metadata": {
        "deletable": false,
        "nbgrader": {
          "checksum": "1e73c46c2a2a875237544d6dc55bb5dd",
          "grade": false,
          "grade_id": "cell-745f89da313e6515",
          "locked": false,
          "schema_version": 1,
          "solution": true
        },
        "id": "oU5cwn3jpUhB",
        "colab_type": "code",
        "colab": {}
      },
      "source": [
        "## Binary Search Tree\n",
        "##\n",
        "class Node:\n",
        "    def __init__(self, val):\n",
        "        self.l_child = None\n",
        "        self.r_child = None\n",
        "        self.parent = None\n",
        "        self.data = val\n",
        "        self.node_list = [self] \n",
        "\n",
        "        \n",
        "    def insert(self, node):\n",
        "        \"\"\"inserts a node into a *non-empty* tree rooted at the node, returns\n",
        "        the root\"\"\"\n",
        "        self.node_list.append(node)\n",
        "        if self.data > node.data:\n",
        "            if self.l_child is None:\n",
        "                self.l_child = node\n",
        "                node.parent = self\n",
        "            else:\n",
        "                self.l_child.insert(node)\n",
        "        else:\n",
        "            if self.r_child is None:\n",
        "                self.r_child = node\n",
        "                node.parent = self\n",
        "            else:\n",
        "                self.r_child.insert(node)\n",
        "        return self\n",
        "        # raise NotImplementedError()"
      ],
      "execution_count": 0,
      "outputs": []
    },
    {
      "cell_type": "markdown",
      "metadata": {
        "deletable": false,
        "editable": false,
        "nbgrader": {
          "checksum": "d7869a1408da6c53f19a4997a5f9f19d",
          "grade": false,
          "grade_id": "cell-cb50799e5896410d",
          "locked": true,
          "schema_version": 1,
          "solution": false
        },
        "id": "i12GJqBKpUhM",
        "colab_type": "text"
      },
      "source": [
        "## Question 2. \n",
        "\n",
        "Below you are provided the code for insertion in an AVL tree. However, to make it work, you need to complete the functions `left_rotate` and `right_rotate`. Use the pseudo-code `LEFT-ROTATE` in Cormen et al. and the one you wrote for `RIGHT-ROTATE` from lesson 10.1 to fill in the code."
      ]
    },
    {
      "cell_type": "code",
      "metadata": {
        "deletable": false,
        "nbgrader": {
          "checksum": "4d07355d974c38bbebe0126bd35fc223",
          "grade": false,
          "grade_id": "cell-361ebe4f40c15ba5",
          "locked": false,
          "schema_version": 1,
          "solution": true
        },
        "id": "kHYEZz9_pUhP",
        "colab_type": "code",
        "colab": {}
      },
      "source": [
        "\n",
        "## AVL Tree\n",
        "##\n",
        "class AVLNode(Node):\n",
        "    def __init__(self, val):\n",
        "        self.l_child = None\n",
        "        self.r_child = None\n",
        "        self.parent = None\n",
        "        self.data = val\n",
        "        self.lr_balance = 0\n",
        "        self.height = 0\n",
        "        self.node_list = [self]\n",
        "    \n",
        "    def get_violating_node(self, root):\n",
        "        if self == root:\n",
        "            return None\n",
        "        if self == self.parent.r_child:\n",
        "            if not self.parent.l_child:\n",
        "                self.parent.height = max(-1, self.height) + 1\n",
        "                self.parent.lr_balance = -1-self.height\n",
        "            else:\n",
        "                self.parent.height = max(self.parent.l_child.height, self.height) + 1\n",
        "                self.parent.lr_balance = self.parent.l_child.height-self.height\n",
        "        else:\n",
        "            if not self.parent.r_child:\n",
        "                self.parent.height = max(-1, self.height) + 1\n",
        "                self.parent.lr_balance = self.height + 1\n",
        "            else:\n",
        "                self.parent.height = max(self.parent.r_child.height, self.height) + 1\n",
        "                self.parent.lr_balance = self.height-self.parent.r_child.height\n",
        "        if abs(self.parent.lr_balance) > 1:\n",
        "            return self.parent\n",
        "        else:\n",
        "            return self.parent.get_violating_node(root)\n",
        "                \n",
        "\n",
        "    def insert(self, node):\n",
        "        \"\"\"inserts a node into a *non-empty* tree rooted at the node, returns the root\"\"\"\n",
        "\n",
        "        self.node_list.append(node)\n",
        "\n",
        "        violating_node = None\n",
        "        curr_node = self\n",
        "        root = self\n",
        "        while curr_node:\n",
        "            if curr_node.data > node.data:\n",
        "                if curr_node.l_child is None:\n",
        "                    curr_node.l_child = node\n",
        "                    node.parent = curr_node\n",
        "                    break\n",
        "                else:\n",
        "                    curr_node = curr_node.l_child \n",
        "            else:   \n",
        "                if curr_node.r_child is None:\n",
        "                    curr_node.r_child = node\n",
        "                    node.parent = curr_node\n",
        "                    break\n",
        "                else:\n",
        "                    curr_node = curr_node.r_child\n",
        "        # fix up the tree\n",
        "        violating_node = node.get_violating_node(root)\n",
        "        \n",
        "        while violating_node:\n",
        "            x = violating_node\n",
        "            if x.lr_balance < 0: # right heavy\n",
        "                y = x.r_child\n",
        "                if y.lr_balance < 0:\n",
        "                    root = left_rotate(x, root)\n",
        "                    x.lr_balance = 0\n",
        "                    x.height -= 2\n",
        "                    y.lr_balance = 0\n",
        "                elif y.lr_balance == 0:\n",
        "                    root = left_rotate(x, root)\n",
        "                    x.lr_balance = -1\n",
        "                    x.height -= 1\n",
        "                    y.lr_balance = 1\n",
        "                    y.height += 1 \n",
        "                else:\n",
        "                    z = x.r_child\n",
        "                    y = z.l_child\n",
        "                    root = right_rotate(z, root)\n",
        "                    root = left_rotate(x, root)\n",
        "                    x.height -= 2\n",
        "                    y.lr_balance = 0\n",
        "                    y.height += 1\n",
        "                    z.height -= 1 \n",
        "                    if y.lr_balance == -1: \n",
        "                        x.lr_balance = 1\n",
        "                        z.lr_balance = 0\n",
        "                    elif y.lr_balance == 0: \n",
        "                        x.lr_balance = 0\n",
        "                        z.lr_balance = 0\n",
        "                    else: \n",
        "                        x.lr_balance = 0\n",
        "                        z.lr_balance = -1 \n",
        "       \n",
        "            else:\n",
        "                y = x.l_child\n",
        "                if y.lr_balance > 0:\n",
        "                    root = right_rotate(x, root)\n",
        "                    x.lr_balance = 0\n",
        "                    x.height -= 2\n",
        "                    y.lr_balance = 0\n",
        "                elif y.lr_balance == 0:\n",
        "                    root = right_rotate(x, root)\n",
        "                    x.lr_balance = 1\n",
        "                    x.height -= 1\n",
        "                    y.lr_balance = -1\n",
        "                    y.height += 1\n",
        "                else:\n",
        "                    z = x.l_child \n",
        "                    y = z.r_child\n",
        "                    root = left_rotate(z, root)\n",
        "                    root = right_rotate(x, root)\n",
        "                    x.height -= 2\n",
        "                    y.lr_balance = 0\n",
        "                    y.height += 1\n",
        "                    z.height -= 1\n",
        "                    if y.lr_balance == -1: # B: k-2, C: k-1\n",
        "                        x.lr_balance = 0\n",
        "                        z.lr_balance = 1\n",
        "                    elif y.lr_balance == 0: # B=C=k-1\n",
        "                        x.lr_balance = 0\n",
        "                        z.lr_balance = 0\n",
        "                    else: # B: k-1, C: k-2\n",
        "                        x.lr_balance = -1\n",
        "                        z.lr_balance = 0\n",
        "            if root == y: \n",
        "                violating_node = None\n",
        "                continue\n",
        "            elif y == y.parent.l_child:\n",
        "                y.parent.lr_balance = y.height - y.parent.r_child.height\n",
        "                y.parent.height = max(y.height, y.parent.r_child.height) + 1\n",
        "            elif y == y.parent.r_child:\n",
        "                y.parent.lr_balance = y.parent.l_child.height - y.height\n",
        "                y.parent.height = max(y.parent.l_child.height, y.height) + 1\n",
        "            if abs(y.parent.lr_balance) > 1:\n",
        "                violating_node = y.parent\n",
        "            else: violating_node = None \n",
        "        return root\n",
        "\n",
        "    def to_string(self): \n",
        "        print('self.data', self.data)\n",
        "        root=self\n",
        "        if not root: \n",
        "            return 'Nil'\n",
        "        else: \n",
        "            r = root.r_child.to_string() if root.r_child else 'Nil'\n",
        "            l = root.l_child.to_string() if root.l_child else 'Nil'\n",
        "        return 'Node(' + str(root.data) + ' L: ' + l + ' R: ' + r + ')'\n",
        "\n",
        "\n",
        "def left_rotate(x, root):\n",
        "    \"\"\"Performs left-rotation on x, returns the root.\n",
        "    This procedure does NOT update any augmented data (if any)\n",
        "    of the nodes (e.g., height, left-right balance, etc.), simply\n",
        "    changing the pointers and the parent-child relationship,\n",
        "    and setting the new root (if any). The updating task belongs to \n",
        "    the procedure that calls this function.\n",
        "    \n",
        "    Input:\n",
        "    - x: a node, to be performed the rotation on\n",
        "    - root: the root node of the tree.\n",
        "    \n",
        "    Output:\n",
        "    - root: the (new) root of the tree\n",
        "    \"\"\"\n",
        "    \n",
        "    y = x.r_child ## set y\n",
        "    x.r_child = y.l_child    ## turn y’s left subtree into x’s right subtree\n",
        "    if (y.l_child != None):\n",
        "        y.l_child.parent = x\n",
        "    \n",
        "    y.parent = x.parent    ## link x’s parent to y\n",
        "    if (x.parent == None):\n",
        "        root = y\n",
        "    elif (x == x.parent.l_child):\n",
        "        x.parent.l_child = y\n",
        "    else:\n",
        "        x.parent.r_child = y\n",
        "\n",
        "    y.l_child = x     ## put x on y’s left\n",
        "    x.parent = y\n",
        "\n",
        "    return root\n",
        "\n",
        "    # raise NotImplementedError()"
      ],
      "execution_count": 0,
      "outputs": []
    },
    {
      "cell_type": "code",
      "metadata": {
        "deletable": false,
        "nbgrader": {
          "checksum": "7e1816bd591f129a1c9fbf246aae552f",
          "grade": false,
          "grade_id": "cell-a66fe31e657ca5d1",
          "locked": false,
          "schema_version": 1,
          "solution": true
        },
        "id": "tkzV2lLUpUhW",
        "colab_type": "code",
        "colab": {}
      },
      "source": [
        "def right_rotate(y, root):\n",
        "    \"\"\"Performs right-rotation on y, returns the root.\n",
        "    This procedure does NOT update any augmented data (if any)\n",
        "    of the nodes (e.g., height, left-right balance, etc.), simply\n",
        "    changing the pointers and the parent-child relationship,\n",
        "    and setting the new root (if any). The updating task belongs to \n",
        "    the procedure that calls this function.\n",
        "    \n",
        "    Input:\n",
        "    - y: a node, to be performed the rotation on\n",
        "    - root: the root node of the tree.\n",
        "    \n",
        "    Output:\n",
        "    - root: the (new) root of the tree\n",
        "    \"\"\"\n",
        "    \n",
        "    x = y.l_child ## set x\n",
        "    y.l_child = x.r_child    ## turn x’s right subtree into y’s left subtree\n",
        "    if (x.r_child != None):\n",
        "        x.r_child.parent = y\n",
        "    \n",
        "    x.parent = y.parent    ## link y’s parent to x\n",
        "    if (y.parent == None):\n",
        "        root = x\n",
        "    elif (y == y.parent.l_child):\n",
        "        y.parent.l_child = x\n",
        "    else:\n",
        "        y.parent.r_child = x\n",
        "\n",
        "    x.r_child = y     ## put y on x’s right\n",
        "    y.parent = x\n",
        "\n",
        "    return root\n",
        "\n",
        "    # raise NotImplementedError()"
      ],
      "execution_count": 0,
      "outputs": []
    },
    {
      "cell_type": "code",
      "metadata": {
        "id": "vJz5IC3zuBn5",
        "colab_type": "code",
        "colab": {
          "base_uri": "https://localhost:8080/",
          "height": 136
        },
        "outputId": "9e4f028f-096c-4fe2-ed68-af9b496930da"
      },
      "source": [
        "### Testing AVL tree using last preclass work (10.1)\n",
        "avl = None\n",
        "\n",
        "AVLNodes = [AVLNode(val) for val in [ 41, 38, 31, 12, 19, 8]]\n",
        "\n",
        "for node in AVLNodes:\n",
        "    if (avl == None):\n",
        "        avl = node\n",
        "    else:\n",
        "        avl = avl.insert(node)\n",
        "\n",
        "avl.to_string()\n",
        "avl.height\n",
        "\n",
        "# works fine now"
      ],
      "execution_count": 45,
      "outputs": [
        {
          "output_type": "stream",
          "text": [
            "self.data 19\n",
            "self.data 38\n",
            "self.data 41\n",
            "self.data 31\n",
            "self.data 12\n",
            "self.data 8\n"
          ],
          "name": "stdout"
        },
        {
          "output_type": "execute_result",
          "data": {
            "text/plain": [
              "2"
            ]
          },
          "metadata": {
            "tags": []
          },
          "execution_count": 45
        }
      ]
    },
    {
      "cell_type": "markdown",
      "metadata": {
        "deletable": false,
        "editable": false,
        "nbgrader": {
          "checksum": "92c9e3b666432f9bf7e2b691b376313a",
          "grade": false,
          "grade_id": "cell-4dec73b8479def4e",
          "locked": true,
          "schema_version": 1,
          "solution": false
        },
        "id": "tXIrXtvLpUhd",
        "colab_type": "text"
      },
      "source": [
        "## Question 3.\n",
        "We will now use the code above to build a BST and an AVL by randomly inserting to the trees, then produce a plot to compare their expected heights. **Carefully** follow the instructions below to fill in the code.\n",
        "\n",
        "### Question 3a.\n",
        "\n",
        "Complete the function `height` to compute the height of a tree rooted at a node. This should also be a matter of copying and pasting because you can utilize what you wrote for `max_depth` in lesson 9.1 (recall that maximum depth of a tree rooted at a node is the node's height in the tree.)"
      ]
    },
    {
      "cell_type": "code",
      "metadata": {
        "id": "kGPA_2rMpUhf",
        "colab_type": "code",
        "colab": {}
      },
      "source": [
        "## Depth of a node in a tree rooted at the node 'root'\n",
        "def depth(root, node):\n",
        "    \"\"\"finds the depth of the node in a BST. depth of root is 0.\n",
        "\n",
        "    Input:\n",
        "    - root: a node, the root of the BST\n",
        "    - node: a node to compute the depth of\n",
        "\n",
        "    Output:\n",
        "    - d: int, distance from node to root\"\"\"\n",
        "    \n",
        "    distance = 0\n",
        "\n",
        "    # set the node as current node\n",
        "    # and continue going towards the parent until we reach the root and\n",
        "    # everytime increase the distance by 1\n",
        "    \n",
        "    current_node = node \n",
        "    while(current_node != root and current_node != None):\n",
        "        distance += 1\n",
        "        current_node = current_node.parent\n",
        "    return distance\n"
      ],
      "execution_count": 0,
      "outputs": []
    },
    {
      "cell_type": "code",
      "metadata": {
        "deletable": false,
        "nbgrader": {
          "checksum": "a926c72647c7f4653ed83a630a7abca9",
          "grade": false,
          "grade_id": "cell-67be70c6f7fed4d7",
          "locked": false,
          "schema_version": 1,
          "solution": true
        },
        "id": "iJoMgvuzpUhl",
        "colab_type": "code",
        "colab": {}
      },
      "source": [
        "import random\n",
        "import numpy as np\n",
        "import matplotlib.pyplot as plt\n",
        "def height(bst):\n",
        "    \"\"\"Finds the height of a BST rooted at a node.\n",
        "    \n",
        "    Input:\n",
        "    - node: a node, the root of the BST\n",
        "    \n",
        "    Output:\n",
        "    - h: int, the height of the BST\"\"\"\n",
        "    \n",
        "    # initially tree_height is 0,\n",
        "    # calculate depth for each node and everytime the tree_height as the \n",
        "    # maximum of current tree_height and the depth of the node\n",
        "    \n",
        "    tree_height = 0\n",
        "    for node in bst.node_list:\n",
        "        tree_height = max(tree_height, depth(bst, node))\n",
        "\n",
        "    return tree_height\n",
        "    #raise NotImplementedError()"
      ],
      "execution_count": 0,
      "outputs": []
    },
    {
      "cell_type": "markdown",
      "metadata": {
        "deletable": false,
        "editable": false,
        "nbgrader": {
          "checksum": "951ed871170d84e77bf0894ea995e67f",
          "grade": false,
          "grade_id": "cell-380cdb956934e0ba",
          "locked": true,
          "schema_version": 1,
          "solution": false
        },
        "id": "c8ZjwoTKpUht",
        "colab_type": "text"
      },
      "source": [
        "# Question 3b.\n",
        "Fill in the `get_expected_height_stats` function below to get the data ready for plotting. You need to follow the template and the instructions written in the code to produce consistent data to plot. "
      ]
    },
    {
      "cell_type": "code",
      "metadata": {
        "deletable": false,
        "nbgrader": {
          "checksum": "db7d02190fb5fa9d6177cdf63b8e8a71",
          "grade": false,
          "grade_id": "cell-7f81be8024b68ab4",
          "locked": false,
          "schema_version": 1,
          "solution": true
        },
        "id": "PVn9TFEXpUhv",
        "colab_type": "code",
        "colab": {}
      },
      "source": [
        "import random \n",
        "\n",
        "def get_expected_height_stats(iterations):\n",
        "    \"\"\"Generate the data for plotting the expected heights of BST and AVL.\n",
        "    \n",
        "    Input:\n",
        "    - iterations: int, the number of times to insert into the tree for each \n",
        "    value of the number of nodes to insert. For each iteration, a height is \n",
        "    computed. After all the iterations, all the computed heights are averaged\n",
        "    to get an estimate of the expected height. \n",
        "    \n",
        "    Output:\n",
        "    - bst_expected_heights, avl_expected_heights: list of float, containing\n",
        "    the expected heights for the two types of trees. Each element in each list\n",
        "    corresponds to one value of n, the number of nodes in the tree. The values \n",
        "    of n are taken from range(1,500,10) (1, 11, 21, 31, etc.)\"\"\"\n",
        "    bst_expected_heights = []\n",
        "    avl_expected_heights = []\n",
        "    \n",
        "    for n in range(1,500,10):\n",
        "        # For each value of n, you need to insert n nodes to each tree for \n",
        "        # `iterations` times. For each iteration:\n",
        "            # 1. Create a list containing all integers from 0 to n-1\n",
        "            # 2. SET A RANDOM SEED TO THE INDEX OF THE CURRENT ITERATION and\n",
        "            # shuffle the list. For example, if your code is `for i in range(iterations)`,\n",
        "            # then use random.seed(i). Also, see the sample code in the next step.\n",
        "            # 3. Create BST nodes and AVL nodes taking the values from the list \n",
        "            # and insert those nodes to the respective trees IN THAT ORDER.\n",
        "            # Do make use of these lines of code:\n",
        "                # vals = list(range(int(n)))\n",
        "                # random.seed(i)\n",
        "                # random.shuffle(vals)\n",
        "                # BSTnodes = [Node(val) for val in vals]\n",
        "                # AVLnodes = [AVLNode(val) for val in vals]\n",
        "            # 4. After inserting to both trees, compute the heights.\n",
        "\n",
        "        # to storing value for the height for the list with 0 to n-1\n",
        "        bst_expected_height = 0\n",
        "        avl_expected_height = 0\n",
        "\n",
        "        for i in range(iterations):\n",
        "            values = list(range(int(n)))\n",
        "            random.seed(i)\n",
        "            random.shuffle(values)\n",
        "            BSTnodes = [Node(value) for value in values]\n",
        "            AVLnodes = [AVLNode(value) for value in values]\n",
        "\n",
        "            bst = None\n",
        "            avl = None\n",
        "\n",
        "            # insert bstnodes in bst tree\n",
        "            for node in BSTnodes:\n",
        "              if (bst == None):\n",
        "                bst = node\n",
        "              else:\n",
        "                bst = bst.insert(node)\n",
        "\n",
        "            bst_expected_height += height(bst)\n",
        "\n",
        "            # insert avlnodes in avl tree\n",
        "            # updating the root everytime after inserting\n",
        "            for node in AVLnodes:\n",
        "              if (avl == None):\n",
        "                avl = node\n",
        "              else:\n",
        "                avl = avl.insert(node)\n",
        "\n",
        "            avl_expected_height += (avl.height) # using the height property of AVLnode class\n",
        "\n",
        "        # appending the avg height\n",
        "        bst_expected_heights.append(bst_expected_height/iterations)\n",
        "        avl_expected_heights.append(avl_expected_height/iterations)\n",
        "\n",
        "        #raise NotImplementedError()\n",
        "    return bst_expected_heights, avl_expected_heights"
      ],
      "execution_count": 0,
      "outputs": []
    },
    {
      "cell_type": "code",
      "metadata": {
        "deletable": false,
        "editable": false,
        "nbgrader": {
          "checksum": "78ecdec6c1dcb0ad786b79fd6d9b2295",
          "grade": true,
          "grade_id": "cell-e36f0f152ef65c10",
          "locked": true,
          "points": 1,
          "schema_version": 1,
          "solution": false
        },
        "id": "3Ki6IDxmpUh1",
        "colab_type": "code",
        "colab": {
          "base_uri": "https://localhost:8080/",
          "height": 88
        },
        "outputId": "f21531ac-999e-4d7d-f167-745b4cdad067"
      },
      "source": [
        "bst_expected_heights, avl_expected_heights = get_expected_height_stats(10)\n",
        "\n",
        "print(bst_expected_heights)\n",
        "print(avl_expected_heights)\n",
        "assertAVL = [0.0, 3.0, 4.1, 5.0, 5.4, 6.0, 6.0, 6.1, 6.8, 6.9, 7.0, 7.0, 7.3, 7.3, 7.5, 8.0, 8.0, 8.0, 8.0, 8.0, 8.0, 8.2, 8.2, 8.0, 8.4, 8.5, 8.7, 8.8, 8.9, 8.8, 8.9, 9.0, 9.0, 9.0, 9.0, 9.0, 9.0, 9.0, 9.3, 9.1, 9.1, 9.3, 9.3, 9.7, 9.5, 9.6, 9.8, 9.8, 9.9, 9.8]\n",
        "\n",
        "assert(bst_expected_heights == [0.0, 5.3, 6.8, 7.8, 9.9, 10.2, 9.9, 11.2, 12.0, 12.2, 12.3, \n",
        "                                12.2, 12.1, 13.4, 13.2, 13.0, 14.3, 14.7, 13.8, 14.1, 14.5, \n",
        "                                15.5, 14.9, 16.0, 16.1, 16.2, 15.4, 17.5, 16.7, 16.1, 16.4, \n",
        "                                17.4, 16.1, 17.3, 16.8, 16.2, 16.7, 17.5, 17.1, 18.4, 17.5, \n",
        "                                17.0, 17.8, 18.4, 18.3, 17.8, 17.7, 17.3, 18.0, 19.5])\n",
        "assert(avl_expected_heights == [0.0, 3.0, 4.1, 5.0, 5.4, 6.0, 6.0, 6.1, 6.8, 6.9, 7.0, 7.0, \n",
        "                                7.3, 7.3, 7.5, 8.0, 8.0, 8.0, 8.0, 8.0, 8.0, 8.2, 8.2, 8.0, \n",
        "                                8.4, 8.5, 8.7, 8.8, 8.9, 8.8, 8.9, 9.0, 9.0, 9.0, 9.0, 9.0, \n",
        "                                9.0, 9.0, 9.3, 9.1, 9.1, 9.3, 9.3, 9.7, 9.5, 9.6, 9.8, 9.8, \n",
        "                                9.9, 9.8])\n",
        "\n",
        "\n",
        "print(assertAVL)\n"
      ],
      "execution_count": 37,
      "outputs": [
        {
          "output_type": "stream",
          "text": [
            "[0.0, 5.3, 6.8, 7.8, 9.9, 10.2, 9.9, 11.2, 12.0, 12.2, 12.3, 12.2, 12.1, 13.4, 13.2, 13.0, 14.3, 14.7, 13.8, 14.1, 14.5, 15.5, 14.9, 16.0, 16.1, 16.2, 15.4, 17.5, 16.7, 16.1, 16.4, 17.4, 16.1, 17.3, 16.8, 16.2, 16.7, 17.5, 17.1, 18.4, 17.5, 17.0, 17.8, 18.4, 18.3, 17.8, 17.7, 17.3, 18.0, 19.5]\n",
            "[0.0, 3.0, 4.1, 5.0, 5.4, 6.0, 6.0, 6.1, 6.8, 6.9, 7.0, 7.0, 7.3, 7.3, 7.5, 8.0, 8.0, 8.0, 8.0, 8.0, 8.0, 8.2, 8.2, 8.0, 8.4, 8.5, 8.7, 8.8, 8.9, 8.8, 8.9, 9.0, 9.0, 9.0, 9.0, 9.0, 9.0, 9.0, 9.3, 9.1, 9.1, 9.3, 9.3, 9.7, 9.5, 9.6, 9.8, 9.8, 9.9, 9.8]\n",
            "[0.0, 3.0, 4.1, 5.0, 5.4, 6.0, 6.0, 6.1, 6.8, 6.9, 7.0, 7.0, 7.3, 7.3, 7.5, 8.0, 8.0, 8.0, 8.0, 8.0, 8.0, 8.2, 8.2, 8.0, 8.4, 8.5, 8.7, 8.8, 8.9, 8.8, 8.9, 9.0, 9.0, 9.0, 9.0, 9.0, 9.0, 9.0, 9.3, 9.1, 9.1, 9.3, 9.3, 9.7, 9.5, 9.6, 9.8, 9.8, 9.9, 9.8]\n"
          ],
          "name": "stdout"
        }
      ]
    },
    {
      "cell_type": "markdown",
      "metadata": {
        "deletable": false,
        "editable": false,
        "nbgrader": {
          "checksum": "9c5e80c043dfcf6a468da6103b588233",
          "grade": false,
          "grade_id": "cell-929bd013372e6130",
          "locked": true,
          "schema_version": 1,
          "solution": false
        },
        "id": "0_h9KrTEpUh-",
        "colab_type": "text"
      },
      "source": [
        "If you have done everything correctly, running the following code will produce a plot that compares the expected heights of BST and AVL tree. "
      ]
    },
    {
      "cell_type": "code",
      "metadata": {
        "id": "3F19lceypUiA",
        "colab_type": "code",
        "colab": {
          "base_uri": "https://localhost:8080/",
          "height": 298
        },
        "outputId": "b8798f48-547c-4d5d-fa4b-64359a13b421"
      },
      "source": [
        "bst_expected_heights, avl_expected_heights = get_expected_height_stats(10)\n",
        "\n",
        "plt.plot(range(1,500,10), bst_expected_heights, color = 'red',label = 'BST', linewidth = 1.0)\n",
        "plt.plot(range(1,500,10), avl_expected_heights, color = 'blue',label = 'AVL', linewidth = 1.0)\n",
        "plt.xlabel('$N$', fontsize=10)\n",
        "plt.ylabel('Expected height', fontsize=10)\n",
        "plt.legend()"
      ],
      "execution_count": 39,
      "outputs": [
        {
          "output_type": "execute_result",
          "data": {
            "text/plain": [
              "<matplotlib.legend.Legend at 0x7efd00b4bdd8>"
            ]
          },
          "metadata": {
            "tags": []
          },
          "execution_count": 39
        },
        {
          "output_type": "display_data",
          "data": {
            "image/png": "[encoded data removed]",
            "text/plain": [
              "<Figure size 432x288 with 1 Axes>"
            ]
          },
          "metadata": {
            "tags": []
          }
        }
      ]
    },
    {
      "cell_type": "code",
      "metadata": {
        "id": "4zq3rjI_tJCI",
        "colab_type": "code",
        "colab": {}
      },
      "source": [
        ""
      ],
      "execution_count": 0,
      "outputs": []
    }
  ]
}