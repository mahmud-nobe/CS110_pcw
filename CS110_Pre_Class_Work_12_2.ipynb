{
  "nbformat": 4,
  "nbformat_minor": 0,
  "metadata": {
    "kernelspec": {
      "display_name": "Python 3",
      "language": "python",
      "name": "python3"
    },
    "language_info": {
      "codemirror_mode": {
        "name": "ipython",
        "version": 3
      },
      "file_extension": ".py",
      "mimetype": "text/x-python",
      "name": "python",
      "nbconvert_exporter": "python",
      "pygments_lexer": "ipython3",
      "version": "3.6.5"
    },
    "colab": {
      "name": "CS110 Pre Class Work 12.2",
      "provenance": [],
      "include_colab_link": true
    }
  },
  "cells": [
    {
      "cell_type": "markdown",
      "metadata": {
        "id": "view-in-github",
        "colab_type": "text"
      },
      "source": [
        "<a href=\"https://colab.research.google.com/github/mahmud-nobe/CS110_pcw/blob/master/CS110_Pre_Class_Work_12_2.ipynb\" target=\"_parent\"><img src=\"https://colab.research.google.com/assets/colab-badge.svg\" alt=\"Open In Colab\"/></a>"
      ]
    },
    {
      "cell_type": "markdown",
      "metadata": {
        "id": "DO5NnSvtU_rx",
        "colab_type": "text"
      },
      "source": [
        "Before you turn this problem in, make sure everything runs as expected. First, **restart the kernel** (in the menubar, select Kernel$\\rightarrow$Restart) and then **run all cells** (in the menubar, select Cell$\\rightarrow$Run All).\n",
        "\n",
        "Make sure you fill in any place that says `YOUR CODE HERE` or \"YOUR ANSWER HERE\", as well as your name and collaborators below:"
      ]
    },
    {
      "cell_type": "code",
      "metadata": {
        "id": "Svnk6HAYU_r0",
        "colab_type": "code",
        "colab": {}
      },
      "source": [
        "NAME = \"Md Mahmudunnobe\"\n",
        "COLLABORATORS = \"\""
      ],
      "execution_count": 0,
      "outputs": []
    },
    {
      "cell_type": "markdown",
      "metadata": {
        "id": "-Sc7BpQ9U_r8",
        "colab_type": "text"
      },
      "source": [
        "---"
      ]
    },
    {
      "cell_type": "markdown",
      "metadata": {
        "deletable": false,
        "editable": false,
        "nbgrader": {
          "checksum": "d7cae628a3a7dfc685fb4a651b255e7f",
          "grade": false,
          "grade_id": "cell-7c653a07f1dcf31f",
          "locked": true,
          "schema_version": 1,
          "solution": false
        },
        "id": "UMdQE-84U_r9",
        "colab_type": "text"
      },
      "source": [
        "# CS110 Pre-class Work 11.2\n",
        "\n",
        "## Part A.  Currency trading (Slightly simplified version of 15.3-6 from Cormen et al.)\n",
        "\n",
        "Imagine that you wish to exchange one currency for another. You realize that instead of directly exchanging one currency for another, you might be better off making a series of trades through other currencies, winding up with the currency you want.\n",
        "\n",
        "Suppose that you can trade n different currencies, numbered $1,2,… ,n$, where you start with currency 1 and wish to wind up with currency $n$. You are given, for each pair of currencies $i$ and $j$ , an exchange rate $r_{ij}$ , meaning that if you start with $d$ units of currency $i$ , you can trade for $dr_{ij}$ units of currency $j$. Note that the total number of trades allowed is limited to $n$.\n",
        "\n",
        "Assuming there is no commission, propose an algorithm (described in prose) to solve this problem using either a memoization or bottom-up strategy. **Note that we will be working on the Python implementation in class.**\n",
        "\n",
        "Click [here](https://drive.google.com/open?id=1L8Fjo1Xt8sltab-tz3m91eTuiE9LYWF7) for some example data."
      ]
    },
    {
      "cell_type": "markdown",
      "metadata": {
        "deletable": false,
        "nbgrader": {
          "checksum": "6a364d83fa9056b77c801ed198a4bb4b",
          "grade": true,
          "grade_id": "cell-3f8a8808c720baf2",
          "locked": false,
          "points": 0,
          "schema_version": 1,
          "solution": true
        },
        "id": "l1thT10mU_r_",
        "colab_type": "text"
      },
      "source": [
        "optimal substructure:\n"
      ]
    },
    {
      "cell_type": "markdown",
      "metadata": {
        "deletable": false,
        "editable": false,
        "nbgrader": {
          "checksum": "0f0c3ae16f851ad36fa786f2a5876c04",
          "grade": false,
          "grade_id": "cell-a98b3a35b99eff16",
          "locked": true,
          "schema_version": 1,
          "solution": false
        },
        "id": "q1z-KNFoU_sB",
        "colab_type": "text"
      },
      "source": [
        "## Part B - Money game (Solution)\n",
        "Consider a row of n coins of values $v_1, v_2,...,v_n$, **where $n$ is even**. We play a game against an opponent by alternating turns. In each turn, a player selects either the first or last coin from the row, removes it from the row permanently, and receives the value of the coin. Determine the maximum possible amount of money we can definitely win if we move first.\n",
        "\n",
        "For example, consider the game:\n",
        "\n",
        "\\$2, \\$10, \\$1, \\$5\n",
        "\n",
        "By moving first and playing optimally one can be guaranteed of \\$15. The first move is to take \\$5. This forces your opponent to take either \\$2 or \\$1, and then allows you to take \\$10. Assume that the opposing player also plays optimally (i.e., minimizing the gain of the first-move player.)\n",
        "\n",
        "As a hint, we will provide the recurrence for the solution to this problem. Suppose $c(i,j)$ is the maximum possible amount of money the first player can win for the row of coins of value $v_i, v){i+1},...,v_j$ (so to solve our problem, we need to compute $c(1,n)$. Then:\n",
        "\n",
        "$$c(i,j)=max[v_i+min(c(i+2,j), c(i+1,j-1)), v_j+min(c(i,j-2), c(i+1,j-1))]$$\n",
        "\n",
        "You are also encouraged to watch [this video](https://www.youtube.com/watch?v=KnP8_L13xW4&list=PLF_a-qBXTGFektoI6JUOTRL36JlvD04BR&index=5) if you need some more hints.\n",
        "\n",
        "## Question 1. \n",
        "Complete the following function to solve the game using a bottom-up strategy, assuming that the opposing player also plays optimally. \n"
      ]
    },
    {
      "cell_type": "code",
      "metadata": {
        "deletable": false,
        "nbgrader": {
          "checksum": "e61cd25280229deedb59dc70bebca774",
          "grade": false,
          "grade_id": "cell-4014ae901b66304b",
          "locked": false,
          "schema_version": 1,
          "solution": true
        },
        "id": "7Wgld6JuU_sD",
        "colab_type": "code",
        "colab": {}
      },
      "source": [
        "\n",
        "\n",
        "def bottom_up_coin_game(A):\n",
        "    \"\"\"\n",
        "    Returns the maximum possible amount of money the first-move player can win,\n",
        "    given an array of coin values. The function solves this using a bottom-up \n",
        "    approach.\n",
        "    \n",
        "    Inputs:\n",
        "    - A: list of floats, values of the coins, of even length. \n",
        "    \n",
        "    Outputs:\n",
        "    - max_val: float, maximum possible amount of money that can be won by the first \n",
        "    player. max_val is None when the length of list A is odd.\n",
        "    \"\"\"\n",
        "    \n",
        "    # when it is odd, return None\n",
        "    if(len(A)%2 == 1): \n",
        "        return None\n",
        "    \n",
        "    else:\n",
        "        if (len(A) == 2):\n",
        "            return max(A[0], A[1])\n",
        "        elif(len(A) == 0):\n",
        "            return 0\n",
        "        else:\n",
        "            choice_1 = A[0] + min(bottom_up_coin_game(A[2:]), bottom_up_coin_game(A[1:-1])) \n",
        "            choice_2 = A[-1] + min(bottom_up_coin_game(A[:-2]), bottom_up_coin_game(A[1:-1]))\n",
        "            return max(choice_1, choice_2)\n",
        "\n",
        "    raise NotImplementedError()"
      ],
      "execution_count": 0,
      "outputs": []
    },
    {
      "cell_type": "code",
      "metadata": {
        "deletable": false,
        "editable": false,
        "nbgrader": {
          "checksum": "64d503b9fb6026f9ee38108702bb7b78",
          "grade": true,
          "grade_id": "cell-f7a5d6c26e95dab2",
          "locked": true,
          "points": 1,
          "schema_version": 1,
          "solution": false
        },
        "id": "-O1hOsqTU_sI",
        "colab_type": "code",
        "colab": {}
      },
      "source": [
        "import numpy as np\n",
        "assert(bottom_up_coin_game([2, 10, 1, 5]) == 15)  \n",
        "assert(bottom_up_coin_game([2, 10, 1, 5, 5]) is None)  \n",
        "assert(bottom_up_coin_game([]) == 0)  "
      ],
      "execution_count": 0,
      "outputs": []
    },
    {
      "cell_type": "markdown",
      "metadata": {
        "deletable": false,
        "editable": false,
        "nbgrader": {
          "checksum": "1ddaa5e6e10fdbf969bafae2eb91e530",
          "grade": false,
          "grade_id": "cell-9f26726550c78cce",
          "locked": true,
          "schema_version": 1,
          "solution": false
        },
        "id": "IcHZ2aAUU_s4",
        "colab_type": "text"
      },
      "source": [
        "## [Optional]  Question 2. \n",
        "\n",
        "Complete the function `print_strategy` to print out a solution to the coin game. Completing the helper function `extended_bottom_up_coin_game` to use in `print_strategy` is optional."
      ]
    },
    {
      "cell_type": "code",
      "metadata": {
        "id": "ZUvAOIta5LOr",
        "colab_type": "code",
        "colab": {}
      },
      "source": [
        "def extended_bottom_up_coin_game(A, choice list):\n",
        "\n",
        "    # when it is odd, return None\n",
        "    if(len(A)%2 == 1): \n",
        "        return None\n",
        "    \n",
        "    else:\n",
        "        if (len(A) == 2):\n",
        "            return max(A[0], A[1])\n",
        "        elif(len(A) == 0):\n",
        "            return 0\n",
        "        else:\n",
        "            choice_1 = A[0] + min(bottom_up_coin_game(A[2:]), bottom_up_coin_game(A[1:-1])) \n",
        "            choice_2 = A[-1] + min(bottom_up_coin_game(A[:-2]), bottom_up_coin_game(A[1:-1]))\n",
        "            return max(choice_1, choice_2)\n",
        "\n",
        "    raise NotImplementedError()"
      ],
      "execution_count": 0,
      "outputs": []
    },
    {
      "cell_type": "code",
      "metadata": {
        "id": "xuoCepTW58gP",
        "colab_type": "code",
        "colab": {}
      },
      "source": [
        ""
      ],
      "execution_count": 0,
      "outputs": []
    },
    {
      "cell_type": "code",
      "metadata": {
        "deletable": false,
        "nbgrader": {
          "checksum": "33605d2bb0815e4281897b4e5170655d",
          "grade": false,
          "grade_id": "cell-4583755bc245e1e9",
          "locked": false,
          "schema_version": 1,
          "solution": true
        },
        "id": "jq0c2apWU_s6",
        "colab_type": "code",
        "colab": {}
      },
      "source": [
        "def print_strategy(A):\n",
        "    \"\"\"\n",
        "    Print coins to pick for the first player\n",
        "    \n",
        "    Inputs:\n",
        "    - A: list of floats, values of the coins, of even length.\n",
        "    \n",
        "    Outputs:\n",
        "    - max_val: float, maximum possible amount of money that can be won by the first \n",
        "    player. \n",
        "        * max_val is None if the length of list A is odd.\n",
        "        * max_val is 0 if list A is empty (no coins)\n",
        "    - out: list of values of the coins that the first player picks in that\n",
        "    order.\n",
        "        * out is None if max_val is 0 or None.\n",
        "    \"\"\"\n",
        "    # YOUR CODE HERE\n",
        "    raise NotImplementedError()"
      ],
      "execution_count": 0,
      "outputs": []
    },
    {
      "cell_type": "code",
      "metadata": {
        "deletable": false,
        "editable": false,
        "nbgrader": {
          "checksum": "0cbc17ad7f81722cda989375cae1d00b",
          "grade": true,
          "grade_id": "cell-75ce551c5185e374",
          "locked": true,
          "points": 0,
          "schema_version": 1,
          "solution": false
        },
        "id": "qD4lwy18U_tF",
        "colab_type": "code",
        "colab": {}
      },
      "source": [
        "assert(print_strategy([4,6,5,20,4,6,4,8])[0] == 40)\n",
        "assert(print_strategy([4,6,5,20,4,6,4,8])[1] == [8, 6, 6, 20])"
      ],
      "execution_count": 0,
      "outputs": []
    }
  ]
}