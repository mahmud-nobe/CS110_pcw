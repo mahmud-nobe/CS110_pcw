{
  "nbformat": 4,
  "nbformat_minor": 0,
  "metadata": {
    "kernelspec": {
      "display_name": "Python 3",
      "language": "python",
      "name": "python3"
    },
    "language_info": {
      "codemirror_mode": {
        "name": "ipython",
        "version": 3
      },
      "file_extension": ".py",
      "mimetype": "text/x-python",
      "name": "python",
      "nbconvert_exporter": "python",
      "pygments_lexer": "ipython3",
      "version": "3.6.5"
    },
    "colab": {
      "name": "CS110 Pre-Class Work 5.1",
      "provenance": [],
      "include_colab_link": true
    }
  },
  "cells": [
    {
      "cell_type": "markdown",
      "metadata": {
        "id": "view-in-github",
        "colab_type": "text"
      },
      "source": [
        "<a href=\"https://colab.research.google.com/github/mahmud-nobe/CS110_pcw/blob/master/CS110_Pre_Class_Work_5_1.ipynb\" target=\"_parent\"><img src=\"https://colab.research.google.com/assets/colab-badge.svg\" alt=\"Open In Colab\"/></a>"
      ]
    },
    {
      "cell_type": "markdown",
      "metadata": {
        "id": "XM9NGXOocEXo",
        "colab_type": "text"
      },
      "source": [
        "Before you turn this problem in, make sure everything runs as expected. First, **restart the kernel** (in the menubar, select Kernel$\\rightarrow$Restart) and then **run all cells** (in the menubar, select Cell$\\rightarrow$Run All).\n",
        "\n",
        "Make sure you fill in any place that says `YOUR CODE HERE` or \"YOUR ANSWER HERE\", as well as your name and collaborators below:"
      ]
    },
    {
      "cell_type": "code",
      "metadata": {
        "id": "iNWtj1KLcEXq",
        "colab_type": "code",
        "colab": {}
      },
      "source": [
        "NAME = \"Md Mahmudunnobe\"\n",
        "COLLABORATORS = \"\""
      ],
      "execution_count": 0,
      "outputs": []
    },
    {
      "cell_type": "markdown",
      "metadata": {
        "id": "Nu5_7AZzcEXw",
        "colab_type": "text"
      },
      "source": [
        "---"
      ]
    },
    {
      "cell_type": "markdown",
      "metadata": {
        "deletable": false,
        "editable": false,
        "nbgrader": {
          "checksum": "69779d40de39e2fcb822ffd099ed946a",
          "grade": false,
          "grade_id": "cell-361a67c139252f60",
          "locked": true,
          "schema_version": 1,
          "solution": false
        },
        "id": "kaRBA2w1cEXx",
        "colab_type": "text"
      },
      "source": [
        "# CS110 Pre-class Work 5.1\n",
        "\n",
        "## Question 1.\n",
        "\n",
        "### Question 1a.\n",
        "\n",
        "Write the worst sort function in the world, `worst_sort`. This function takes a list, and then randomly shuffles it until it happens to be in sorted order. Once it is in sorted order then the list is returned.\n"
      ]
    },
    {
      "cell_type": "code",
      "metadata": {
        "deletable": false,
        "nbgrader": {
          "checksum": "c144735a0a3c9ee1e5a60e781fec46a9",
          "grade": false,
          "grade_id": "cell-ead9c74054a1c5da",
          "locked": false,
          "schema_version": 1,
          "solution": true
        },
        "id": "bVC_8JgmcEXy",
        "colab_type": "code",
        "colab": {}
      },
      "source": [
        "import random\n",
        "import numpy as np\n",
        "def worst_sort(A):\n",
        "    \"\"\"\n",
        "    Sort A in ascending order by randomly shuffling its \n",
        "    elements until they are in order.\n",
        "    \n",
        "    Input:\n",
        "    - A: list of numerical values\n",
        "    \n",
        "    Output:\n",
        "    - A: Sorted list\n",
        "    \"\"\"\n",
        "    \n",
        "    # initially the value of sorted is True\n",
        "    sorted = True\n",
        "    \n",
        "    # go through every element, if any element is bigger then its next element,\n",
        "    # the array is not sorted, break the loop and make sorted False\n",
        "    for i in range(len(A)-1): ### Complexity O(n) - best case\n",
        "      if (A[i] > A[i+1]):\n",
        "        sorted = False\n",
        "        break\n",
        "    \n",
        "    # while the array is not sorted, suffle the array randomly\n",
        "    while (not sorted):  ### O(E), where E = expected value of the number of suffle needed for sorting\n",
        "      np.random.shuffle(A)\n",
        "\n",
        "      # go through every element, if any element is bigger then its next element,\n",
        "      # the array is not sorted, break the loop and make sorted False\n",
        "      sorted = True\n",
        "      for i in range(len(A)-1): ### O(n) ### Together: O(E)*O(n)\n",
        "        if (A[i] > A[i+1]):\n",
        "          sorted = False\n",
        "          break\n",
        "    \n",
        "    return A\n",
        "    \n",
        "    raise NotImplementedError()"
      ],
      "execution_count": 0,
      "outputs": []
    },
    {
      "cell_type": "code",
      "metadata": {
        "id": "DqtJyThpeu4j",
        "colab_type": "code",
        "colab": {
          "base_uri": "https://localhost:8080/",
          "height": 34
        },
        "outputId": "274a8e8d-1cac-4a22-f881-a4ab96dadd5c"
      },
      "source": [
        "A = [4,3,2,1,0,-1,-2,-3,-4]\n",
        "worst_sort(A)"
      ],
      "execution_count": 6,
      "outputs": [
        {
          "output_type": "execute_result",
          "data": {
            "text/plain": [
              "[-4, -3, -2, -1, 0, 1, 2, 3, 4]"
            ]
          },
          "metadata": {
            "tags": []
          },
          "execution_count": 6
        }
      ]
    },
    {
      "cell_type": "code",
      "metadata": {
        "deletable": false,
        "editable": false,
        "nbgrader": {
          "checksum": "09c3f02f46b5ba86c3aa80498b9c8c34",
          "grade": true,
          "grade_id": "cell-ff4db3a3e8b04515",
          "locked": true,
          "points": 1,
          "schema_version": 1,
          "solution": false
        },
        "id": "dzP1SaGycEX4",
        "colab_type": "code",
        "colab": {}
      },
      "source": [
        "# Please ignore this cell. This cell is for us to implement the tests \n",
        "# to see if your code works properly. "
      ],
      "execution_count": 0,
      "outputs": []
    },
    {
      "cell_type": "markdown",
      "metadata": {
        "deletable": false,
        "editable": false,
        "nbgrader": {
          "checksum": "18d2bd43c2db165cb6806cb1e14df4f1",
          "grade": false,
          "grade_id": "cell-3ffcfdae9ec3ea41",
          "locked": true,
          "schema_version": 1,
          "solution": false
        },
        "id": "LC-sGfPqcEX9",
        "colab_type": "text"
      },
      "source": [
        "### Question 1b.\n",
        "What is the best case complexity of this algorithm?"
      ]
    },
    {
      "cell_type": "markdown",
      "metadata": {
        "deletable": false,
        "nbgrader": {
          "checksum": "76bf94004078f73d21791758ac6db72b",
          "grade": true,
          "grade_id": "cell-afac80171b3b6232",
          "locked": false,
          "points": 0,
          "schema_version": 1,
          "solution": true
        },
        "id": "oHMRtkuHcEX-",
        "colab_type": "text"
      },
      "source": [
        "YOUR ANSWER HERE"
      ]
    },
    {
      "cell_type": "markdown",
      "metadata": {
        "deletable": false,
        "editable": false,
        "nbgrader": {
          "checksum": "1b1210d5a27f9933086d0f3a0d234361",
          "grade": false,
          "grade_id": "cell-d98018127b7e79f4",
          "locked": true,
          "schema_version": 1,
          "solution": false
        },
        "id": "iZXHfpjRcEYA",
        "colab_type": "text"
      },
      "source": [
        "### Question 1c.\n",
        "\n",
        "What is the average case complexity?\n"
      ]
    },
    {
      "cell_type": "markdown",
      "metadata": {
        "deletable": false,
        "nbgrader": {
          "checksum": "97d1e74314efdae93ea73d510e233468",
          "grade": true,
          "grade_id": "cell-9d52d34daa1e3478",
          "locked": false,
          "points": 0,
          "schema_version": 1,
          "solution": true
        },
        "id": "cHRV33OhcEYB",
        "colab_type": "text"
      },
      "source": [
        "YOUR ANSWER HERE"
      ]
    },
    {
      "cell_type": "markdown",
      "metadata": {
        "deletable": false,
        "editable": false,
        "nbgrader": {
          "checksum": "fdbf5403114d2a68085e8172d0122685",
          "grade": false,
          "grade_id": "cell-d6d8ad45088488eb",
          "locked": true,
          "schema_version": 1,
          "solution": false
        },
        "id": "kwhtz_MicEYD",
        "colab_type": "text"
      },
      "source": [
        "### Question 1d.\n",
        "\n",
        "For what size lists is this a feasible method?"
      ]
    },
    {
      "cell_type": "markdown",
      "metadata": {
        "deletable": false,
        "nbgrader": {
          "checksum": "080a5eecbe3afcffed278b7cbba7f51a",
          "grade": true,
          "grade_id": "cell-ab40f08768579798",
          "locked": false,
          "points": 0,
          "schema_version": 1,
          "solution": true
        },
        "id": "Jcxks_wecEYE",
        "colab_type": "text"
      },
      "source": [
        "YOUR ANSWER HERE"
      ]
    },
    {
      "cell_type": "markdown",
      "metadata": {
        "deletable": false,
        "editable": false,
        "nbgrader": {
          "checksum": "cbe19c6348c19b5df04e84b537f6ebf0",
          "grade": false,
          "grade_id": "cell-56ae4e75a4086ee8",
          "locked": true,
          "schema_version": 1,
          "solution": false
        },
        "id": "xh1gy9rrcEYH",
        "colab_type": "text"
      },
      "source": [
        "### [Optional] Question 1e.\n",
        "\n",
        "Can you think of an even worse sorting method? In such a case, what would its complexity be? How big a list could you sort?"
      ]
    },
    {
      "cell_type": "markdown",
      "metadata": {
        "deletable": false,
        "nbgrader": {
          "checksum": "564b860df18fb1bb2fc987ec4240f98d",
          "grade": true,
          "grade_id": "cell-ac05806942341926",
          "locked": false,
          "points": 0,
          "schema_version": 1,
          "solution": true
        },
        "id": "EF5NQWmqcEYJ",
        "colab_type": "text"
      },
      "source": [
        "YOUR ANSWER HERE"
      ]
    },
    {
      "cell_type": "markdown",
      "metadata": {
        "deletable": false,
        "editable": false,
        "nbgrader": {
          "checksum": "40515e7d9388c7d96f739bacbce82dc9",
          "grade": false,
          "grade_id": "cell-16012d2af0ef00ec",
          "locked": true,
          "schema_version": 1,
          "solution": false
        },
        "id": "qr75JzBLcEYK",
        "colab_type": "text"
      },
      "source": [
        "## Question 2.\n",
        "\n",
        "Approximate median finder. Given a list and $δ$ (a number between 0 and 0.5), the approximate median finder function returns a number that is guaranteed to lie between the $(50-\\tilde{δ}/2)$% and $(50+\\tilde{δ}/2)$% percentiles, where $\\tilde{δ}=100\\timesδ$. Implement such a function by randomly selecting an element from the list and testing whether or not it lies within the bounds. If it doesn’t then retry with a new random element, but only a limited number of retries are allowed (you decide the maximum number of retries.)\n",
        "\n",
        "### Question 2a.\n",
        "Complete the following function\n"
      ]
    },
    {
      "cell_type": "code",
      "metadata": {
        "deletable": false,
        "nbgrader": {
          "checksum": "548fd28a258929e5cc8df24ef955088e",
          "grade": false,
          "grade_id": "cell-2ab65512a6148d3c",
          "locked": false,
          "schema_version": 1,
          "solution": true
        },
        "id": "yNNgtdJNcEYL",
        "colab_type": "code",
        "colab": {}
      },
      "source": [
        "def check_approx_med(A, num, delta):\n",
        "    \"\"\"\n",
        "    Given a list and a number in a list, determine whether it is within (50-tilde{delta}/2)% and \n",
        "    (50+\\tilde{delta}/2)% percentiles.\n",
        "    X% percentile of a list is defined to be the smallest number in the list that is as large as at least\n",
        "    X% numbers in the list. \n",
        "    \n",
        "    Input:\n",
        "    - A: list of numerical values\n",
        "    - num: the number of interest\n",
        "    - delta: the error, lies between 0 and 0.5\n",
        "    \n",
        "    Output:\n",
        "    - isApproxMed: a boolean value indicating whether num is within the bound\n",
        "    \"\"\"\n",
        "\n",
        "    sortedA = worst_sort(A)\n",
        "\n",
        "    p_value_high = 0.5+(delta/2)\n",
        "    index_high = int(p_value_high * len(A)) \n",
        "\n",
        "    p_value_low = 0.5-(delta/2)\n",
        "    index_low = int(p_value_low * len(A)) \n",
        "\n",
        "    print(p_value_low, p_value_high, index_low, index_high)\n",
        "    return (num >= sortedA[index_low] and num <= sortedA[index_high])\n",
        "    raise NotImplementedError()"
      ],
      "execution_count": 0,
      "outputs": []
    },
    {
      "cell_type": "code",
      "metadata": {
        "id": "E81I4MKgqOt6",
        "colab_type": "code",
        "colab": {
          "base_uri": "https://localhost:8080/",
          "height": 51
        },
        "outputId": "bd0f55c2-a759-442c-c87b-d6185b556cc2"
      },
      "source": [
        "check_approx_med([0,1], 0, .25)"
      ],
      "execution_count": 20,
      "outputs": [
        {
          "output_type": "stream",
          "text": [
            "0.375 0.625 0 1\n"
          ],
          "name": "stdout"
        },
        {
          "output_type": "execute_result",
          "data": {
            "text/plain": [
              "True"
            ]
          },
          "metadata": {
            "tags": []
          },
          "execution_count": 20
        }
      ]
    },
    {
      "cell_type": "code",
      "metadata": {
        "id": "H34To9mhrBYy",
        "colab_type": "code",
        "colab": {
          "base_uri": "https://localhost:8080/",
          "height": 51
        },
        "outputId": "6993b47c-5ea3-4cf7-eb73-e484ba480ad4"
      },
      "source": [
        "check_approx_med([0], 0, .25)"
      ],
      "execution_count": 21,
      "outputs": [
        {
          "output_type": "stream",
          "text": [
            "0.375 0.625 0 0\n"
          ],
          "name": "stdout"
        },
        {
          "output_type": "execute_result",
          "data": {
            "text/plain": [
              "True"
            ]
          },
          "metadata": {
            "tags": []
          },
          "execution_count": 21
        }
      ]
    },
    {
      "cell_type": "code",
      "metadata": {
        "deletable": false,
        "editable": false,
        "nbgrader": {
          "checksum": "e36da35c2400ca389ff7bb609167a787",
          "grade": true,
          "grade_id": "cell-df56d7433abb6517",
          "locked": true,
          "points": 1,
          "schema_version": 1,
          "solution": false
        },
        "id": "3ywQhbx0cEYQ",
        "colab_type": "code",
        "colab": {
          "base_uri": "https://localhost:8080/",
          "height": 214
        },
        "outputId": "d5c1e1d9-da58-4148-bf8d-eec5b6612fe5"
      },
      "source": [
        "assert(check_approx_med([0,1], 0, .25) == True)\n",
        "assert(check_approx_med([0], 0, .25) == False)"
      ],
      "execution_count": 19,
      "outputs": [
        {
          "output_type": "stream",
          "text": [
            "0.375 0.625 0 1\n",
            "0.375 0.625 0 0\n"
          ],
          "name": "stdout"
        },
        {
          "output_type": "error",
          "ename": "AssertionError",
          "evalue": "ignored",
          "traceback": [
            "\u001b[0;31m---------------------------------------------------------------------------\u001b[0m",
            "\u001b[0;31mAssertionError\u001b[0m                            Traceback (most recent call last)",
            "\u001b[0;32m<ipython-input-19-aa1f56e94d4b>\u001b[0m in \u001b[0;36m<module>\u001b[0;34m()\u001b[0m\n\u001b[1;32m      1\u001b[0m \u001b[0;32massert\u001b[0m\u001b[0;34m(\u001b[0m\u001b[0mcheck_approx_med\u001b[0m\u001b[0;34m(\u001b[0m\u001b[0;34m[\u001b[0m\u001b[0;36m0\u001b[0m\u001b[0;34m,\u001b[0m\u001b[0;36m1\u001b[0m\u001b[0;34m]\u001b[0m\u001b[0;34m,\u001b[0m \u001b[0;36m0\u001b[0m\u001b[0;34m,\u001b[0m \u001b[0;36m.25\u001b[0m\u001b[0;34m)\u001b[0m \u001b[0;34m==\u001b[0m \u001b[0;32mTrue\u001b[0m\u001b[0;34m)\u001b[0m\u001b[0;34m\u001b[0m\u001b[0;34m\u001b[0m\u001b[0m\n\u001b[0;32m----> 2\u001b[0;31m \u001b[0;32massert\u001b[0m\u001b[0;34m(\u001b[0m\u001b[0mcheck_approx_med\u001b[0m\u001b[0;34m(\u001b[0m\u001b[0;34m[\u001b[0m\u001b[0;36m0\u001b[0m\u001b[0;34m]\u001b[0m\u001b[0;34m,\u001b[0m \u001b[0;36m0\u001b[0m\u001b[0;34m,\u001b[0m \u001b[0;36m.25\u001b[0m\u001b[0;34m)\u001b[0m \u001b[0;34m==\u001b[0m \u001b[0;32mFalse\u001b[0m\u001b[0;34m)\u001b[0m\u001b[0;34m\u001b[0m\u001b[0;34m\u001b[0m\u001b[0m\n\u001b[0m",
            "\u001b[0;31mAssertionError\u001b[0m: "
          ]
        }
      ]
    },
    {
      "cell_type": "markdown",
      "metadata": {
        "deletable": false,
        "editable": false,
        "nbgrader": {
          "checksum": "ea4f76410780e7134e2bc46fbe5663e9",
          "grade": false,
          "grade_id": "cell-18a16dfd102f137c",
          "locked": true,
          "schema_version": 1,
          "solution": false
        },
        "id": "KsllgjUCcEYU",
        "colab_type": "text"
      },
      "source": [
        "### Question 2b.\n",
        "Complete the following function that makes use of `check_approx_med` above.\n"
      ]
    },
    {
      "cell_type": "code",
      "metadata": {
        "deletable": false,
        "nbgrader": {
          "checksum": "2b3cfdf82e0efce4078cc52b3680f7be",
          "grade": false,
          "grade_id": "cell-e19685b545147dde",
          "locked": false,
          "schema_version": 1,
          "solution": true
        },
        "id": "roo5FUyOcEYW",
        "colab_type": "code",
        "colab": {}
      },
      "source": [
        "def approx_med_finder(A, delta):\n",
        "    \"\"\"\n",
        "    Given a list, find a number in the list that is between 50-delta/2% and 50+delta/2% percentiles\n",
        "    \n",
        "    Input:\n",
        "    - A: list of numerical values\n",
        "    - delta: the error, lies between 0 and 0.5\n",
        "    \n",
        "    Output:\n",
        "    - num: the approximated median, if it is found within 100//delta trials (this is one possible \n",
        "    maximum number of retries. While you are encouraged to play around with another limits, the \n",
        "    submitted work must use this number.)\n",
        "    - None: finding failed, if nothing found within 100//delta trials\n",
        "\n",
        "    Note: the 100//delta is chosen here as it is the expected number of trials for the first successful finding to occur (using geometric distribution)\n",
        "    \"\"\"\n",
        "    # YOUR CODE HERE\n",
        "    raise NotImplementedError()"
      ],
      "execution_count": 0,
      "outputs": []
    },
    {
      "cell_type": "markdown",
      "metadata": {
        "deletable": false,
        "editable": false,
        "nbgrader": {
          "checksum": "77b77f7047dea39f9b7526a785f0e652",
          "grade": false,
          "grade_id": "cell-1863e0846b176982",
          "locked": true,
          "schema_version": 1,
          "solution": false
        },
        "id": "XWU8OUKncEYb",
        "colab_type": "text"
      },
      "source": [
        "### Question 2c.\n",
        "\n",
        "What is the probability of failure in each random trial? What is the probability of failure after all the allowed random trials? Does this scale with δ or N (the number of elements in a list)?\n"
      ]
    },
    {
      "cell_type": "markdown",
      "metadata": {
        "deletable": false,
        "nbgrader": {
          "checksum": "f7d6ed353a91d12d66b53a735d84f81b",
          "grade": true,
          "grade_id": "cell-efe7ab76f6a2546a",
          "locked": false,
          "points": 0,
          "schema_version": 1,
          "solution": true
        },
        "id": "QrxGayz6cEYd",
        "colab_type": "text"
      },
      "source": [
        "YOUR ANSWER HERE"
      ]
    },
    {
      "cell_type": "markdown",
      "metadata": {
        "deletable": false,
        "editable": false,
        "nbgrader": {
          "checksum": "a602a3cad0ff35029b447d00dcee6b6c",
          "grade": false,
          "grade_id": "cell-a41fe377076cd283",
          "locked": true,
          "schema_version": 1,
          "solution": false
        },
        "id": "9u3iir_IcEYe",
        "colab_type": "text"
      },
      "source": [
        "### Question 2d.\n",
        "Analyze the expected runtime of `approx_med_finder`. Note that because the function uses `check_approx_med`, you will most likely need to analyze the runtime of that function, too."
      ]
    },
    {
      "cell_type": "markdown",
      "metadata": {
        "deletable": false,
        "nbgrader": {
          "checksum": "255d88cf8e4f6ff8b3eb05cab2aa5f48",
          "grade": true,
          "grade_id": "cell-86b199798477fc2a",
          "locked": false,
          "points": 0,
          "schema_version": 1,
          "solution": true
        },
        "id": "J6qVcecNcEYg",
        "colab_type": "text"
      },
      "source": [
        "YOUR ANSWER HERE"
      ]
    }
  ]
}