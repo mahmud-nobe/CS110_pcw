{
  "nbformat": 4,
  "nbformat_minor": 0,
  "metadata": {
    "kernelspec": {
      "display_name": "Python 3",
      "language": "python",
      "name": "python3"
    },
    "language_info": {
      "codemirror_mode": {
        "name": "ipython",
        "version": 3
      },
      "file_extension": ".py",
      "mimetype": "text/x-python",
      "name": "python",
      "nbconvert_exporter": "python",
      "pygments_lexer": "ipython3",
      "version": "3.6.5"
    },
    "colab": {
      "name": "CS110 pre class work 3.2",
      "provenance": [],
      "include_colab_link": true
    }
  },
  "cells": [
    {
      "cell_type": "markdown",
      "metadata": {
        "id": "view-in-github",
        "colab_type": "text"
      },
      "source": [
        "<a href=\"https://colab.research.google.com/github/mahmud-nobe/CS110_pcw/blob/master/CS110_pre_class_work_3_2.ipynb\" target=\"_parent\"><img src=\"https://colab.research.google.com/assets/colab-badge.svg\" alt=\"Open In Colab\"/></a>"
      ]
    },
    {
      "cell_type": "markdown",
      "metadata": {
        "id": "jkgaa89Qy5dU",
        "colab_type": "text"
      },
      "source": [
        "Before you turn this problem in, make sure everything runs as expected. First, **restart the kernel** (in the menubar, select Kernel$\\rightarrow$Restart) and then **run all cells** (in the menubar, select Cell$\\rightarrow$Run All).\n",
        "\n",
        "Make sure you fill in any place that says `YOUR CODE HERE` or \"YOUR ANSWER HERE\", as well as your name and collaborators below:"
      ]
    },
    {
      "cell_type": "code",
      "metadata": {
        "id": "J6a2LbwHy5dW",
        "colab_type": "code",
        "colab": {}
      },
      "source": [
        "NAME = \"Md Mahmudunnobe\"\n",
        "COLLABORATORS = \"\""
      ],
      "execution_count": 0,
      "outputs": []
    },
    {
      "cell_type": "markdown",
      "metadata": {
        "id": "tSmQNx1Gy5db",
        "colab_type": "text"
      },
      "source": [
        "---"
      ]
    },
    {
      "cell_type": "markdown",
      "metadata": {
        "deletable": false,
        "editable": false,
        "nbgrader": {
          "checksum": "1090720698e48f7dfc9df7cd4b80574c",
          "grade": false,
          "grade_id": "cell-7eb07d86e7defd94",
          "locked": true,
          "schema_version": 1,
          "solution": false
        },
        "id": "0ZTmhqr4y5dc",
        "colab_type": "text"
      },
      "source": [
        "# CS110 Pre-class Work 3.2\n",
        "\n",
        "## Question 1.\n",
        "Given the array `H=[39, 85, 85, 16, 49, 7, 49, 92, 76, 15, 21, 30, 29, 31, 28]`, perform the following operations:\n",
        "1. Draw the corresponding binary tree of H. Is the binary tree a valid max heap? Explain your answer.\n",
        "2. Using as a model the drawing examples illustrated in Figure 6.2 of Cormen et al.,  draw a step-by-step transformation of the array above into a valid max heap. \n",
        "3. Now that you have obtained a valid max heap, write out the corresponding array that stores the valid max-heap.\n",
        "\n",
        "Use as many cells as you wish for this question."
      ]
    },
    {
      "cell_type": "markdown",
      "metadata": {
        "deletable": false,
        "nbgrader": {
          "checksum": "b4db406d794de2ca2c0ee97172df6c5f",
          "grade": true,
          "grade_id": "cell-b1f821b034b44619",
          "locked": false,
          "points": 0,
          "schema_version": 1,
          "solution": true
        },
        "id": "HdQx_efNy5de",
        "colab_type": "text"
      },
      "source": [
        "1. Corresponding binary tree of H (note that array H is donated by A in the picture)\n",
        "![heap1](https://github.com/mahmud-nobe/CS110_pcw/raw/master/Heap_1.jpg)\n",
        "\n",
        "\n",
        "\n",
        "\n"
      ]
    },
    {
      "cell_type": "markdown",
      "metadata": {
        "id": "TVtNfSYRVR7Z",
        "colab_type": "text"
      },
      "source": [
        "This binary tree is not a valid max-heap because every parent is not larger then both of its child, in this binary tree. For example, the first parent is 39, which is lower than both of its child (85 and 85) "
      ]
    },
    {
      "cell_type": "markdown",
      "metadata": {
        "id": "lyYTzM8uI1CR",
        "colab_type": "text"
      },
      "source": [
        "2. Step-by-step Transformation to a max-heap:\n",
        "\n",
        "![heap1](https://github.com/mahmud-nobe/CS110_pcw/raw/master/Heap_1.jpg)\n",
        "\n",
        "![heap2](https://github.com/mahmud-nobe/CS110_pcw/raw/master/Heap_2.jpg)\n",
        "\n",
        "![heap3](https://github.com/mahmud-nobe/CS110_pcw/raw/master/Heap_3.jpg)\n",
        "\n",
        "![heap4](https://github.com/mahmud-nobe/CS110_pcw/raw/master/Heap_4.jpg)\n"
      ]
    },
    {
      "cell_type": "markdown",
      "metadata": {
        "id": "rdnkea7pJKaH",
        "colab_type": "text"
      },
      "source": [
        "3. Corresponding array that stores the valid max-heap is already shown in the above picture:\n",
        "\n",
        "- H_valid_max-heap = [92, 85, 85, 76, 49, 30, 49, 16, 39, 15, 21, 7, 29, 31, 28]"
      ]
    },
    {
      "cell_type": "markdown",
      "metadata": {
        "deletable": false,
        "editable": false,
        "nbgrader": {
          "checksum": "5f4f7806e0dca417bbd35743ff694dee",
          "grade": false,
          "grade_id": "cell-1d9ef3625bdd556d",
          "locked": true,
          "schema_version": 1,
          "solution": false
        },
        "id": "GzFrx99ry5df",
        "colab_type": "text"
      },
      "source": [
        "## Question 2. \n",
        "Consider the following questions on the $MAX-HEAPIFY$ operation.\n",
        "### Question 2a.\n",
        "\n",
        "In the pseudocode of $MAX-HEAPIFY$ (Cormen et al., p.154, or you can view it [here](https://drive.google.com/open?id=1e_3jsX4-qQCfZXKMok_T6LPFh9FwtmT5)), what does A.heap-size mean and what is the idea behind the local variable largest? \n"
      ]
    },
    {
      "cell_type": "markdown",
      "metadata": {
        "deletable": false,
        "nbgrader": {
          "checksum": "8d8b7cdabce48f4b8b4429ea7fafe13a",
          "grade": true,
          "grade_id": "cell-06106b81a909b9e6",
          "locked": false,
          "points": 0,
          "schema_version": 1,
          "solution": true
        },
        "id": "2Wue5xaky5dg",
        "colab_type": "text"
      },
      "source": [
        "**A.heap-size:**\n",
        "\n",
        "A.heap-size is the number of element of which we want to build the binary tree. Usually the heap-size could be equal to the array size and we represent the whole array as a binary tree. But sometimes we could want the heap size to be smaller than the array size, in which case, we are removing the extra elements of the original array from our binary tree. This strategy can he useful in many cases including sorting an array using the heap methods.\n",
        "\n",
        "**largest:**\n",
        "\n",
        "The local variable *largest* stores the index number of the largest value of the subtree. In *max-heapify* function, we are comparing the parent with its left and right child and in *largest* variable we are storing the index number of the largest value among these three."
      ]
    },
    {
      "cell_type": "markdown",
      "metadata": {
        "deletable": false,
        "editable": false,
        "nbgrader": {
          "checksum": "b85f44c1afefc375fc36d41458e9e8da",
          "grade": false,
          "grade_id": "cell-c274a369170d9c75",
          "locked": true,
          "schema_version": 1,
          "solution": false
        },
        "id": "quXAOMIFy5dh",
        "colab_type": "text"
      },
      "source": [
        "### Question 2b.\n",
        "The functions $LEFT(i)$ and $RIGHT(i)$, lines 1 and 2 in the $MAX-HEAPIFY$ pseudocode, return the array index of the left and right child, respectively, of a node in a binary tree. From reading Section 6.1, you know that the input to both functions is an integer number, $i$, which corresponds to the array index of the parent node in the array. Review Section 6.1 for more information. Write a Python implementation of the functions $LEFT(i)$ and $RIGHT(i)$ by filling in the cells below."
      ]
    },
    {
      "cell_type": "code",
      "metadata": {
        "deletable": false,
        "nbgrader": {
          "checksum": "de40c348d2617b4d3e44fae18c1389ce",
          "grade": false,
          "grade_id": "cell-2efd4017321c8d48",
          "locked": false,
          "schema_version": 1,
          "solution": true
        },
        "id": "Y3TT8qPEy5di",
        "colab_type": "code",
        "colab": {}
      },
      "source": [
        "def left(i):\n",
        "    # As python starts counting from 0, the left child's index no will be an odd number\n",
        "    # and it will be 1 larger than the twice of the parent's index\n",
        "    return 2*i + 1 \n",
        "    raise NotImplementedError()"
      ],
      "execution_count": 0,
      "outputs": []
    },
    {
      "cell_type": "code",
      "metadata": {
        "deletable": false,
        "editable": false,
        "nbgrader": {
          "checksum": "a7a9d607eb7f71f1151b83972ff0c0fb",
          "grade": true,
          "grade_id": "cell-507ddbab62e6a32c",
          "locked": true,
          "points": 1,
          "schema_version": 1,
          "solution": false
        },
        "id": "KWuTw2cwy5dl",
        "colab_type": "code",
        "colab": {}
      },
      "source": [
        "# Please ignore this cell. This cell is for us to implement the tests \n",
        "# to see if your code works properly. "
      ],
      "execution_count": 0,
      "outputs": []
    },
    {
      "cell_type": "code",
      "metadata": {
        "deletable": false,
        "nbgrader": {
          "checksum": "9cb29b6fcee2e02b85efad7065632bd9",
          "grade": false,
          "grade_id": "cell-b7e5ceeacaeaf1b8",
          "locked": false,
          "schema_version": 1,
          "solution": true
        },
        "id": "pPYAJOapy5dq",
        "colab_type": "code",
        "colab": {}
      },
      "source": [
        "def right(i):\n",
        "    # As python starts counting from 0, the right child's index no will be an even number\n",
        "    # and it will be 2 larger than the twice of the parent's index\n",
        "    return 2*i + 2\n",
        "    raise NotImplementedError()"
      ],
      "execution_count": 0,
      "outputs": []
    },
    {
      "cell_type": "code",
      "metadata": {
        "deletable": false,
        "editable": false,
        "nbgrader": {
          "checksum": "db02f794412224105f1ddc365ed7d2b9",
          "grade": true,
          "grade_id": "cell-c24867515653788a",
          "locked": true,
          "points": 1,
          "schema_version": 1,
          "solution": false
        },
        "id": "U19IAkdxy5du",
        "colab_type": "code",
        "colab": {}
      },
      "source": [
        "# Please ignore this cell. This cell is for us to implement the tests \n",
        "# to see if your code works properly. "
      ],
      "execution_count": 0,
      "outputs": []
    },
    {
      "cell_type": "markdown",
      "metadata": {
        "deletable": false,
        "editable": false,
        "nbgrader": {
          "checksum": "6b956caaed539971565797cd7b977fb4",
          "grade": false,
          "grade_id": "cell-ede2c6c59d13f051",
          "locked": true,
          "schema_version": 1,
          "solution": false
        },
        "id": "PR9lrV2Uy5dx",
        "colab_type": "text"
      },
      "source": [
        "### Question 2c.\n",
        "Write a Python implementation of the MAX-HEAPIFY operation using the pseudocode above, and your newly written functions, `left` and `right`."
      ]
    },
    {
      "cell_type": "code",
      "metadata": {
        "deletable": false,
        "nbgrader": {
          "checksum": "437f86fe310bc360e4cff404a25821e4",
          "grade": false,
          "grade_id": "cell-52289253a243341b",
          "locked": false,
          "schema_version": 1,
          "solution": true
        },
        "id": "TyNX9Jpiy5dy",
        "colab_type": "code",
        "colab": {}
      },
      "source": [
        "def heapify(heap, i):\n",
        "    \"\"\"\n",
        "    Inputs:\n",
        "    - heap: a list of floats. Assume that the heap size is the length of the heap.\n",
        "    \n",
        "    No output is needed. This function should modify (if necessary) heap in-place.\n",
        "    \"\"\"\n",
        "    # determine the index of the both child, where parent's index is i\n",
        "    l = left(i)\n",
        "    r = right(i)\n",
        "\n",
        "    # check if there is any left child exist (is it less than the heap length) and\n",
        "    # compare if the value of left child is larger than the value of parent\n",
        "    # if yes, store the left child index in a variable 'largest', otherwise store the parent's index\n",
        "    if (l < len(heap) and heap[l] > heap[i] ):\n",
        "      largest = l\n",
        "    else:\n",
        "      largest = i\n",
        "\n",
        "    # check if there is any right child exist (is it less than the heap length) and\n",
        "    # compare the right child value with the maximum of the parent and left child\n",
        "    # if it is larger, store its index at 'largest'\n",
        "    if (r < len(heap) and heap[r] > heap[largest] ):\n",
        "      largest = r\n",
        "\n",
        "    # if the largest value is any of the child, then swap the child value with the parent and\n",
        "    # call a recusrsive heapify function for the subtree rooted at the newly replaced child index\n",
        "    if (largest != i):\n",
        "      A[i], A[largest] = A[largest], A[i]\n",
        "      heapify(heap, largest)\n",
        "    #return heap\n",
        "    #raise NotImplementedError()"
      ],
      "execution_count": 0,
      "outputs": []
    },
    {
      "cell_type": "code",
      "metadata": {
        "deletable": false,
        "editable": false,
        "nbgrader": {
          "checksum": "1324f2f1d6c279abfbb60df89bb4503e",
          "grade": true,
          "grade_id": "cell-7f63745ff34b881b",
          "locked": true,
          "points": 1,
          "schema_version": 1,
          "solution": false
        },
        "id": "LcNFn8KNy5d1",
        "colab_type": "code",
        "colab": {}
      },
      "source": [
        "A = [39, 85, 85, 16, 49, 7, 49, 92, 76, 15, 21, 30, 29, 31, 28]\n",
        "heapify(A,0)\n",
        "assert(A == [85, 49, 85, 16, 39, 7, 49, 92, 76, 15, 21, 30, 29, 31, 28])\n"
      ],
      "execution_count": 0,
      "outputs": []
    },
    {
      "cell_type": "markdown",
      "metadata": {
        "deletable": false,
        "editable": false,
        "nbgrader": {
          "checksum": "f3fbda39f18c774ac14e5c959b90370b",
          "grade": false,
          "grade_id": "cell-d2e6b91e47491b21",
          "locked": true,
          "schema_version": 1,
          "solution": false
        },
        "id": "5CNJcupKy5d5",
        "colab_type": "text"
      },
      "source": [
        "## Question 3. \n",
        "Next, write a Python implementation of the BUILD_MAX_HEAP operation using the pseudocode provided in Section 6.3 of Cormen et. al. Test your Python implementation using the array in problem 1, and make sure your Python codes produce a valid max heap."
      ]
    },
    {
      "cell_type": "code",
      "metadata": {
        "deletable": false,
        "nbgrader": {
          "checksum": "3b25ccceae833d7b33202f027074e3d5",
          "grade": false,
          "grade_id": "cell-9237da6268a5e3eb",
          "locked": false,
          "schema_version": 1,
          "solution": true
        },
        "id": "GgtDUqe6y5d7",
        "colab_type": "code",
        "colab": {}
      },
      "source": [
        "def build_max_heap(A):\n",
        "    \"\"\"\n",
        "    Input:\n",
        "    - A: a list of floats.\n",
        "    \n",
        "    No output is needed. The function should turn A into a valid max heap, in-place.\n",
        "    \"\"\"\n",
        "    # every elements larger than len(A)/2 are the leaves of the heap tree\n",
        "    # so heapify every subtree from the one rooted at len(A)/2 downto the subtree rooted at the 1st index (i.e. the main root of the tree)\n",
        "    for i in reversed(range(int(len(A)/2))):\n",
        "      heapify(A,i)\n",
        "    #raise NotImplementedError()"
      ],
      "execution_count": 0,
      "outputs": []
    },
    {
      "cell_type": "code",
      "metadata": {
        "deletable": false,
        "editable": false,
        "nbgrader": {
          "checksum": "3ac35aff291e838fe69f72be6f27e762",
          "grade": true,
          "grade_id": "cell-5dc147b837da3f7e",
          "locked": true,
          "points": 1,
          "schema_version": 1,
          "solution": false
        },
        "id": "OwvkTKp9y5d-",
        "colab_type": "code",
        "colab": {}
      },
      "source": [
        "A = [4, 1, 3, 2, 16, 9, 10, 14, 8, 7]\n",
        "build_max_heap(A)\n",
        "assert(A == [16, 14, 10, 8, 7, 9, 3, 2, 4, 1])"
      ],
      "execution_count": 0,
      "outputs": []
    },
    {
      "cell_type": "markdown",
      "metadata": {
        "deletable": false,
        "editable": false,
        "nbgrader": {
          "checksum": "c996bb21edeef2d4946ddd03b78159ea",
          "grade": false,
          "grade_id": "cell-8fa5348173dad225",
          "locked": true,
          "schema_version": 1,
          "solution": false
        },
        "id": "X2Zrem9Ky5eA",
        "colab_type": "text"
      },
      "source": [
        "## Question 4. \n",
        "\n",
        "Lastly, write Python implementations of the $MIN-HEAPIFY$ and $BUILD-MIN-HEAP$ operations for a min heap data structure. You can use your $MAX-HEAPIFY$ and $BUILD-MAX-HEAP$ Python function as models, just remember that the latter two functions support operations for the max heap data structure. Test your Python implementation of $BUILD-MIN-HEAP$ using the array in problem 1, and make sure your Python codes produce a valid min heap. "
      ]
    },
    {
      "cell_type": "code",
      "metadata": {
        "deletable": false,
        "nbgrader": {
          "checksum": "2d3d509af26d1c25fa2caa6b4f02d337",
          "grade": false,
          "grade_id": "cell-d86943f127876fc8",
          "locked": false,
          "schema_version": 1,
          "solution": true
        },
        "id": "UtQ7YLQBy5eB",
        "colab_type": "code",
        "colab": {}
      },
      "source": [
        "def min_heapify(heap, i):\n",
        "    \"\"\"\n",
        "    Inputs:\n",
        "    - heap: a list of floats. Assume that the heap size is the length of the heap.\n",
        "    \n",
        "    No output is needed. This function should modify (if necessary) heap in-place.\n",
        "    \"\"\"\n",
        "    # determine the index of the both child, where parent's index is i\n",
        "    l = left(i)\n",
        "    r = right(i)\n",
        "\n",
        "    # check if there is any left child exist (is it less than the heap length) and\n",
        "    # compare if the value of left child is smaller than the value of parent\n",
        "    # if yes, store the left child index in a variable 'smallest', otherwise store the parent's index\n",
        "    if (l < len(heap) and heap[l] < heap[i] ):\n",
        "      smallest = l\n",
        "    else:\n",
        "      smallest = i\n",
        "\n",
        "    # check if there is any right child exist (is it less than the heap length) and\n",
        "    # compare the right child value with the minimum of the parent and left child\n",
        "    # if it is smaller, store its index at 'smallest'\n",
        "    if (r < len(heap) and heap[r] < heap[smallest] ):\n",
        "      smallest = r\n",
        "\n",
        "    # if the smallest value is any of the child, then swap the child value with the parent and\n",
        "    # call a recusrsive min_heapify function for the subtree rooted at the newly replaced child index\n",
        "    if (smallest != i):\n",
        "      A[i], A[smallest] = A[smallest], A[i]\n",
        "      min_heapify(heap, smallest)    \n",
        "    \n",
        "    # raise NotImplementedError()"
      ],
      "execution_count": 0,
      "outputs": []
    },
    {
      "cell_type": "code",
      "metadata": {
        "id": "BoGQ2U2zPKgq",
        "colab_type": "code",
        "colab": {}
      },
      "source": [
        ""
      ],
      "execution_count": 0,
      "outputs": []
    },
    {
      "cell_type": "code",
      "metadata": {
        "deletable": false,
        "nbgrader": {
          "checksum": "f066ec74b8334b1177c123b51b68e53b",
          "grade": false,
          "grade_id": "cell-6efa45e3956ad0b8",
          "locked": false,
          "schema_version": 1,
          "solution": true
        },
        "id": "Z3Yi_wsEy5eE",
        "colab_type": "code",
        "colab": {}
      },
      "source": [
        "def build_min_heap(A):\n",
        "    \"\"\"\n",
        "    Input:\n",
        "    - A: a list of floats.\n",
        "    \n",
        "    No output is needed. The function should turn A into a valid min heap, in-place.\n",
        "    \"\"\"\n",
        "    # every elements larger than len(A)/2 are the leaves of the heap tree\n",
        "    # so min_heapify every subtree from the one rooted at len(A)/2 downto the subtree rooted at the 1st index (i.e. the main root of the tree)\n",
        "    for i in reversed(range(int(len(A)/2))):\n",
        "      min_heapify(A,i)\n",
        "\n",
        "    #raise NotImplementedError()"
      ],
      "execution_count": 0,
      "outputs": []
    },
    {
      "cell_type": "code",
      "metadata": {
        "id": "m4vM7BHnPRAH",
        "colab_type": "code",
        "outputId": "5b27bf67-780d-4346-82a5-c086d505d0db",
        "colab": {
          "base_uri": "https://localhost:8080/",
          "height": 52
        }
      },
      "source": [
        "A = [4, 1, 3, 2, 16, 9, 10, 14, 8, 7]\n",
        "print(A)\n",
        "build_min_heap(A)\n",
        "print(A)"
      ],
      "execution_count": 0,
      "outputs": [
        {
          "output_type": "stream",
          "text": [
            "[4, 1, 3, 2, 16, 9, 10, 14, 8, 7]\n",
            "[1, 2, 3, 4, 7, 9, 10, 14, 8, 16]\n"
          ],
          "name": "stdout"
        }
      ]
    },
    {
      "cell_type": "code",
      "metadata": {
        "id": "JOTOIq-qPYqW",
        "colab_type": "code",
        "outputId": "099ea71c-7d95-4c4a-eb07-fb9e0afcaaf6",
        "colab": {
          "base_uri": "https://localhost:8080/",
          "height": 52
        }
      },
      "source": [
        "A = [39, 85, 85, 16, 49, 7, 49, 92, 76, 15, 21, 30, 29, 31, 28]\n",
        "print(A)\n",
        "build_min_heap(A)\n",
        "print(A)"
      ],
      "execution_count": 0,
      "outputs": [
        {
          "output_type": "stream",
          "text": [
            "[39, 85, 85, 16, 49, 7, 49, 92, 76, 15, 21, 30, 29, 31, 28]\n",
            "[7, 15, 28, 16, 21, 29, 31, 92, 76, 49, 85, 30, 85, 39, 49]\n"
          ],
          "name": "stdout"
        }
      ]
    },
    {
      "cell_type": "code",
      "metadata": {
        "deletable": false,
        "editable": false,
        "nbgrader": {
          "checksum": "8645e43d1c1d94c49a14c4e624488ef6",
          "grade": true,
          "grade_id": "cell-7e64941402f819c2",
          "locked": true,
          "points": 1,
          "schema_version": 1,
          "solution": false
        },
        "id": "oZcL2xWQy5eI",
        "colab_type": "code",
        "colab": {}
      },
      "source": [
        "# Please ignore this cell. This cell is for us to implement the tests \n",
        "# to see if your code works properly. "
      ],
      "execution_count": 0,
      "outputs": []
    }
  ]
}