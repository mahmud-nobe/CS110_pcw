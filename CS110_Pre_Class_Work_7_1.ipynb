{
  "nbformat": 4,
  "nbformat_minor": 0,
  "metadata": {
    "kernelspec": {
      "display_name": "Python 3",
      "language": "python",
      "name": "python3"
    },
    "language_info": {
      "codemirror_mode": {
        "name": "ipython",
        "version": 3
      },
      "file_extension": ".py",
      "mimetype": "text/x-python",
      "name": "python",
      "nbconvert_exporter": "python",
      "pygments_lexer": "ipython3",
      "version": "3.6.5"
    },
    "colab": {
      "name": "CS110 Pre Class Work 7.1",
      "provenance": [],
      "include_colab_link": true
    }
  },
  "cells": [
    {
      "cell_type": "markdown",
      "metadata": {
        "id": "view-in-github",
        "colab_type": "text"
      },
      "source": [
        "<a href=\"https://colab.research.google.com/github/mahmud-nobe/CS110_pcw/blob/master/CS110_Pre_Class_Work_7_1.ipynb\" target=\"_parent\"><img src=\"https://colab.research.google.com/assets/colab-badge.svg\" alt=\"Open In Colab\"/></a>"
      ]
    },
    {
      "cell_type": "markdown",
      "metadata": {
        "id": "hqE4BfEJWaA2",
        "colab_type": "text"
      },
      "source": [
        "Before you turn this problem in, make sure everything runs as expected. First, **restart the kernel** (in the menubar, select Kernel$\\rightarrow$Restart) and then **run all cells** (in the menubar, select Cell$\\rightarrow$Run All).\n",
        "\n",
        "Make sure you fill in any place that says `YOUR CODE HERE` or \"YOUR ANSWER HERE\", as well as your name and collaborators below:"
      ]
    },
    {
      "cell_type": "code",
      "metadata": {
        "id": "V6k1Ep-vWaA5",
        "colab_type": "code",
        "colab": {}
      },
      "source": [
        "NAME = \"\"\n",
        "COLLABORATORS = \"\""
      ],
      "execution_count": 0,
      "outputs": []
    },
    {
      "cell_type": "markdown",
      "metadata": {
        "id": "ZfTEaJyZWaA9",
        "colab_type": "text"
      },
      "source": [
        "---"
      ]
    },
    {
      "cell_type": "markdown",
      "metadata": {
        "deletable": false,
        "editable": false,
        "nbgrader": {
          "checksum": "b829d01fa88366d60630dae1299fa764",
          "grade": false,
          "grade_id": "cell-d94cea4a211410ce",
          "locked": true,
          "schema_version": 1,
          "solution": false
        },
        "id": "_gZWkQBmWaA-",
        "colab_type": "text"
      },
      "source": [
        "# CS110 Pre-class Work 7.1\n",
        "\n",
        "## Part A. Median Heap (watch this [video explanation](https://www.youtube.com/watch?v=756_8C9YBZQ&list=PLF_a-qBXTGFektoI6JUOTRL36JlvD04BR&index=5&t=0s) or read this [description](https://stackoverflow.com/a/15319593/7946759))\n",
        "\n",
        "Throughout this pre-class work, please use the following definition of median: the median of a list of numbers is the one in the middle of the list when the list is ordered. When such the middle element can’t be determined (i.e., in a list of even length), the average of the two middle elements is the median. For example, 5 is the median of [-1,2,4,5,8,10,12], and (5+7)/2=6 is the median of [1,2,3,5,7,8,10,11].\n",
        "\n",
        "Using the idea from Lesson 3.2, we can use a pair of heaps to create a data structure which allows fast access to the median. Use the heapq module in python to create both a max-heap and a min-heap. Note that by default, the heapq module in python only creates min-heaps, but if we multiply elements by -1 when we store them, then we can also create max-heaps.\n",
        "\n",
        "\n",
        "## Question 1.\n",
        "Write a function `add_to_median_heap(minh, maxh, elem)`. It must accept a min heap, a max heap, and an element to add.\n"
      ]
    },
    {
      "cell_type": "code",
      "metadata": {
        "deletable": false,
        "nbgrader": {
          "checksum": "3f8e0bb0de793ce786eba2f6715d69b3",
          "grade": false,
          "grade_id": "cell-50cb08de70712ee7",
          "locked": false,
          "schema_version": 1,
          "solution": true
        },
        "id": "ZvA-8DH2WaA_",
        "colab_type": "code",
        "colab": {}
      },
      "source": [
        "import heapq\n",
        "\n",
        "def add_to_median_heap(minh, maxh, elem):\n",
        "    # YOUR CODE HERE\n",
        "    raise NotImplementedError()"
      ],
      "execution_count": 0,
      "outputs": []
    },
    {
      "cell_type": "markdown",
      "metadata": {
        "deletable": false,
        "editable": false,
        "nbgrader": {
          "checksum": "47ae2ae64e7e5a094e32b8e29577ebd2",
          "grade": false,
          "grade_id": "cell-b62f7899e36af96f",
          "locked": true,
          "schema_version": 1,
          "solution": false
        },
        "id": "fgVVJ1sJWaBE",
        "colab_type": "text"
      },
      "source": [
        "## Question 2\n",
        "Write a function `median(minh, maxh)`. It must return the median element.\n"
      ]
    },
    {
      "cell_type": "code",
      "metadata": {
        "deletable": false,
        "nbgrader": {
          "checksum": "4fdb08f74f611846be80db8164227117",
          "grade": false,
          "grade_id": "cell-43ce866dd1dc2d5b",
          "locked": false,
          "schema_version": 1,
          "solution": true
        },
        "id": "iSFqFrSaWaBF",
        "colab_type": "code",
        "colab": {}
      },
      "source": [
        "def median(minh, maxh):\n",
        "    # YOUR CODE HERE\n",
        "    raise NotImplementedError()"
      ],
      "execution_count": 0,
      "outputs": []
    },
    {
      "cell_type": "code",
      "metadata": {
        "deletable": false,
        "editable": false,
        "nbgrader": {
          "checksum": "9f79f245efea8c7b7d7c444af36ad997",
          "grade": true,
          "grade_id": "cell-673faa69bf330eda",
          "locked": true,
          "points": 0,
          "schema_version": 1,
          "solution": false
        },
        "id": "Dxx0czfOWaBK",
        "colab_type": "code",
        "colab": {}
      },
      "source": [
        "# Please ignore this cell. This cell is for us to implement the tests \n",
        "# to see if your code works properly. "
      ],
      "execution_count": 0,
      "outputs": []
    },
    {
      "cell_type": "markdown",
      "metadata": {
        "deletable": false,
        "editable": false,
        "nbgrader": {
          "checksum": "ea112ad1eac7cf41487236cf22381071",
          "grade": false,
          "grade_id": "cell-ec86b3a3c5adaedf",
          "locked": true,
          "schema_version": 1,
          "solution": false
        },
        "id": "0IkvbtZWWaBP",
        "colab_type": "text"
      },
      "source": [
        "## Question 3.\n",
        "\n",
        "Uncomment and run the testing code given below to test your functions. It should print out numbers ranging from 1 to 50, in that order."
      ]
    },
    {
      "cell_type": "code",
      "metadata": {
        "id": "M5UB16YQWaBR",
        "colab_type": "code",
        "colab": {}
      },
      "source": [
        "# minh = []\n",
        "# maxh = []\n",
        "# for a in range(1,100,2):\n",
        "#     add_to_median_heap(minh, maxh, a)\n",
        "#     print(median(minh, maxh))  "
      ],
      "execution_count": 0,
      "outputs": []
    },
    {
      "cell_type": "markdown",
      "metadata": {
        "deletable": false,
        "editable": false,
        "nbgrader": {
          "checksum": "be3a94b3063c99a265c7b868e45a5f69",
          "grade": false,
          "grade_id": "cell-11d4510a48c38394",
          "locked": true,
          "schema_version": 1,
          "solution": false
        },
        "id": "VIvH1bGFWaBW",
        "colab_type": "text"
      },
      "source": [
        "## Question 4.\n",
        "What’s the worst case complexity to build a median heap using `add_to_median_heap`?"
      ]
    },
    {
      "cell_type": "markdown",
      "metadata": {
        "deletable": false,
        "nbgrader": {
          "checksum": "4ddd5b5c6be74e7306bd08ee76a1b858",
          "grade": true,
          "grade_id": "cell-c8e33ebdc8aaf328",
          "locked": false,
          "points": 0,
          "schema_version": 1,
          "solution": true
        },
        "id": "tKAjo0vWWaBX",
        "colab_type": "text"
      },
      "source": [
        "YOUR ANSWER HERE"
      ]
    },
    {
      "cell_type": "markdown",
      "metadata": {
        "deletable": false,
        "editable": false,
        "nbgrader": {
          "checksum": "8a1276ebbad9b1292badcb9090c8a910",
          "grade": false,
          "grade_id": "cell-dada08b7f913c96f",
          "locked": true,
          "schema_version": 1,
          "solution": false
        },
        "id": "lNxNoAMxWaBa",
        "colab_type": "text"
      },
      "source": [
        "## Question 5.\n",
        "What’s the worst case complexity of `median`?"
      ]
    },
    {
      "cell_type": "markdown",
      "metadata": {
        "deletable": false,
        "nbgrader": {
          "checksum": "7d67e5e84a28b798ba456d72603533f0",
          "grade": true,
          "grade_id": "cell-c061920faa337890",
          "locked": false,
          "points": 0,
          "schema_version": 1,
          "solution": true
        },
        "id": "B2dmqFU2WaBb",
        "colab_type": "text"
      },
      "source": [
        "YOUR ANSWER HERE"
      ]
    },
    {
      "cell_type": "markdown",
      "metadata": {
        "deletable": false,
        "editable": false,
        "nbgrader": {
          "checksum": "73694bd23377143032d5224818a389b7",
          "grade": false,
          "grade_id": "cell-fcf89277dcd46cbe",
          "locked": true,
          "schema_version": 1,
          "solution": false
        },
        "id": "eefIDT4rWaBc",
        "colab_type": "text"
      },
      "source": [
        "## Question 6.\n",
        "\n",
        "How does this way of finding the median compare with the vanilla way of sorting the list and pick the middle element? Use arguments based on efficiency or clearity of the respective algorithms."
      ]
    },
    {
      "cell_type": "markdown",
      "metadata": {
        "deletable": false,
        "nbgrader": {
          "checksum": "733fe35313ebf5888c622423bb7462b4",
          "grade": true,
          "grade_id": "cell-1f31afecda9730a7",
          "locked": false,
          "points": 0,
          "schema_version": 1,
          "solution": true
        },
        "id": "0VQ7WFgcWaBe",
        "colab_type": "text"
      },
      "source": [
        "YOUR ANSWER HERE"
      ]
    },
    {
      "cell_type": "markdown",
      "metadata": {
        "deletable": false,
        "editable": false,
        "nbgrader": {
          "checksum": "d4869e0b17f0248df4c3ae91668257e8",
          "grade": false,
          "grade_id": "cell-695c23986b831032",
          "locked": true,
          "schema_version": 1,
          "solution": false
        },
        "id": "K0ppeesaWaBf",
        "colab_type": "text"
      },
      "source": [
        "## [Optional] Question 7.\n",
        "\n",
        "Is it possible to extend this idea to any percentile? If it is, then write code to do so. If it’s not possible, prove why it is not possible."
      ]
    },
    {
      "cell_type": "code",
      "metadata": {
        "deletable": false,
        "nbgrader": {
          "checksum": "c293e85a4cf43662dc635c9e0f511be4",
          "grade": true,
          "grade_id": "cell-4d0c197e6d484338",
          "locked": false,
          "points": 0,
          "schema_version": 1,
          "solution": true
        },
        "id": "aGyLoRRZWaBg",
        "colab_type": "code",
        "colab": {}
      },
      "source": [
        "# YOUR CODE HERE\n",
        "raise NotImplementedError()"
      ],
      "execution_count": 0,
      "outputs": []
    },
    {
      "cell_type": "markdown",
      "metadata": {
        "deletable": false,
        "editable": false,
        "nbgrader": {
          "checksum": "bd7ff85760b2e8303c3b4482b6ca44b2",
          "grade": false,
          "grade_id": "cell-3cba7ecc0de11f1b",
          "locked": true,
          "schema_version": 1,
          "solution": false
        },
        "id": "lt1m9IHVWaBl",
        "colab_type": "text"
      },
      "source": [
        "## Part B. Quickselect\n",
        "\n",
        "Quicksort can be modified to find the $k$-th smallest element in an unordered list. This is known as quickselect. It does this by choosing a partition (as in quicksort). Once the list has been partitioned then we know how many elements lie to the left and to the right of the partition. This allows us to recursively call quickselect on the correct sublist.\n",
        "\n",
        "## Question 1.\n",
        "\n",
        "Write a function `qselect(lst, k)`, which takes both a list and an index $k$. The function must then return the $k$-th smallest item in the list.\n"
      ]
    },
    {
      "cell_type": "code",
      "metadata": {
        "deletable": false,
        "nbgrader": {
          "checksum": "3714ebe85f9dbc77eb3bb3c106a009ea",
          "grade": false,
          "grade_id": "cell-fb9c2bc9d5b4bc92",
          "locked": false,
          "schema_version": 1,
          "solution": true
        },
        "id": "GSghQ2C5WaBm",
        "colab_type": "code",
        "colab": {}
      },
      "source": [
        "def qselect(lst,k):\n",
        "    # YOUR CODE HERE\n",
        "    raise NotImplementedError()"
      ],
      "execution_count": 0,
      "outputs": []
    },
    {
      "cell_type": "code",
      "metadata": {
        "deletable": false,
        "editable": false,
        "nbgrader": {
          "checksum": "5ee41421528107f7ae195a7197a5d6d9",
          "grade": true,
          "grade_id": "cell-85a25ed6a1f62a66",
          "locked": true,
          "points": 0,
          "schema_version": 1,
          "solution": false
        },
        "id": "GqvHpfktWaBr",
        "colab_type": "code",
        "colab": {}
      },
      "source": [
        "import random\n",
        "random.seed(123) # introducing a seed for reproducibility purposes\n",
        "lst1 = list(range(100))\n",
        "random.shuffle(lst1)\n",
        "lst2 = []\n",
        "for a in range(100):\n",
        "    lst2.append(qselect(lst1, a))\n",
        "assert(lst2 == list(range(100)))"
      ],
      "execution_count": 0,
      "outputs": []
    },
    {
      "cell_type": "markdown",
      "metadata": {
        "deletable": false,
        "editable": false,
        "nbgrader": {
          "checksum": "54fddc25ea0529f44aa6653b18ff7745",
          "grade": false,
          "grade_id": "cell-8013044acd03642a",
          "locked": true,
          "schema_version": 1,
          "solution": false
        },
        "id": "voslWBV3WaBv",
        "colab_type": "text"
      },
      "source": [
        "## Question 2.\n",
        "Uncomment and run the testing code given below to test your function. It should print out integers from 0 to 99.\n"
      ]
    },
    {
      "cell_type": "code",
      "metadata": {
        "id": "X1CrsFjxWaBw",
        "colab_type": "code",
        "colab": {}
      },
      "source": [
        "# import random\n",
        "# random.seed(123) # introducing a seed for reproducibility purposes\n",
        "# lst = list(range(100))\n",
        "# random.shuffle(lst)\n",
        "# for a in range(100):\n",
        "#     print(qselect(lst, a))\n"
      ],
      "execution_count": 0,
      "outputs": []
    },
    {
      "cell_type": "markdown",
      "metadata": {
        "deletable": false,
        "editable": false,
        "nbgrader": {
          "checksum": "3fede812466807c2a250ab3c6427f75c",
          "grade": false,
          "grade_id": "cell-e7a965de7bb56aa3",
          "locked": true,
          "schema_version": 1,
          "solution": false
        },
        "id": "v3bdbMNYWaBz",
        "colab_type": "text"
      },
      "source": [
        "## Question 3.\n",
        "\n",
        "Write down the recurrence relation for your code."
      ]
    },
    {
      "cell_type": "markdown",
      "metadata": {
        "deletable": false,
        "nbgrader": {
          "checksum": "6fb3d2481f5df1b96c902e5446844f87",
          "grade": true,
          "grade_id": "cell-24144607b3ffade3",
          "locked": false,
          "points": 0,
          "schema_version": 1,
          "solution": true
        },
        "id": "9pzrEUPDWaB0",
        "colab_type": "text"
      },
      "source": [
        "YOUR ANSWER HERE"
      ]
    },
    {
      "cell_type": "markdown",
      "metadata": {
        "deletable": false,
        "editable": false,
        "nbgrader": {
          "checksum": "311ee23a32dbc3ba43d3bba0d433871b",
          "grade": false,
          "grade_id": "cell-fd740516f4259f3c",
          "locked": true,
          "schema_version": 1,
          "solution": false
        },
        "id": "7s3l2n6AWaB1",
        "colab_type": "text"
      },
      "source": [
        "## Question 4.\n",
        "\n",
        "Solve the recurrence relation for quickselect in the best case.\n"
      ]
    },
    {
      "cell_type": "markdown",
      "metadata": {
        "deletable": false,
        "nbgrader": {
          "checksum": "78416da569a0269f78967b11d7b93332",
          "grade": true,
          "grade_id": "cell-c125f4742933e820",
          "locked": false,
          "points": 0,
          "schema_version": 1,
          "solution": true
        },
        "id": "YbdePm1RWaB2",
        "colab_type": "text"
      },
      "source": [
        "YOUR ANSWER HERE"
      ]
    },
    {
      "cell_type": "markdown",
      "metadata": {
        "deletable": false,
        "editable": false,
        "nbgrader": {
          "checksum": "7cc9c5e0531e8ece71be2ff60ee65995",
          "grade": false,
          "grade_id": "cell-e281cecc190fd662",
          "locked": true,
          "schema_version": 1,
          "solution": false
        },
        "id": "irKEMKmCWaB4",
        "colab_type": "text"
      },
      "source": [
        "## Question 5.\n",
        "\n",
        "Solve the recurrence relation for quickselect in the worst case."
      ]
    },
    {
      "cell_type": "markdown",
      "metadata": {
        "deletable": false,
        "nbgrader": {
          "checksum": "f4cceeaea59e48c3fabdb8d19e302db5",
          "grade": true,
          "grade_id": "cell-852c3a71d8c2d7c1",
          "locked": false,
          "points": 0,
          "schema_version": 1,
          "solution": true
        },
        "id": "TUPXhzcIWaB6",
        "colab_type": "text"
      },
      "source": [
        "YOUR ANSWER HERE"
      ]
    }
  ]
}