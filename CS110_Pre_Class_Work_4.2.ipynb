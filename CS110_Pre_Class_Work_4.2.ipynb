{
  "nbformat": 4,
  "nbformat_minor": 0,
  "metadata": {
    "kernelspec": {
      "display_name": "Python 3",
      "language": "python",
      "name": "python3"
    },
    "language_info": {
      "codemirror_mode": {
        "name": "ipython",
        "version": 3
      },
      "file_extension": ".py",
      "mimetype": "text/x-python",
      "name": "python",
      "nbconvert_exporter": "python",
      "pygments_lexer": "ipython3",
      "version": "3.6.5"
    },
    "colab": {
      "name": "CS110 Pre Class Work 4.2",
      "provenance": [],
      "include_colab_link": true
    }
  },
  "cells": [
    {
      "cell_type": "markdown",
      "metadata": {
        "id": "view-in-github",
        "colab_type": "text"
      },
      "source": [
        "<a href=\"https://colab.research.google.com/github/mahmud-nobe/CS110_pcw/blob/master/CS110_Pre_Class_Work_4.2.ipynb\" target=\"_parent\"><img src=\"https://colab.research.google.com/assets/colab-badge.svg\" alt=\"Open In Colab\"/></a>"
      ]
    },
    {
      "cell_type": "markdown",
      "metadata": {
        "id": "fQKbfNpdLowU",
        "colab_type": "text"
      },
      "source": [
        "Before you turn this problem in, make sure everything runs as expected. First, **restart the kernel** (in the menubar, select Kernel$\\rightarrow$Restart) and then **run all cells** (in the menubar, select Cell$\\rightarrow$Run All).\n",
        "\n",
        "Make sure you fill in any place that says `YOUR CODE HERE` or \"YOUR ANSWER HERE\", as well as your name and collaborators below:"
      ]
    },
    {
      "cell_type": "code",
      "metadata": {
        "id": "qNIeBzQ4LowW",
        "colab_type": "code",
        "colab": {}
      },
      "source": [
        "NAME = \"Md Mahmudunnobe\"\n",
        "COLLABORATORS = \"\""
      ],
      "execution_count": 0,
      "outputs": []
    },
    {
      "cell_type": "markdown",
      "metadata": {
        "id": "jxZpWICbLowb",
        "colab_type": "text"
      },
      "source": [
        "---"
      ]
    },
    {
      "cell_type": "markdown",
      "metadata": {
        "deletable": false,
        "editable": false,
        "nbgrader": {
          "checksum": "fe57a13a2ba710371e280641c9f21c35",
          "grade": false,
          "grade_id": "cell-90b6f68e307cf4d7",
          "locked": true,
          "schema_version": 1,
          "solution": false
        },
        "id": "cKdnGz_ULowc",
        "colab_type": "text"
      },
      "source": [
        "# CS110 Pre-class Work 4.2\n",
        "\n",
        "## Part A. The Hire-Assistant Problem.\n",
        "\n",
        "Imagine that you need to hire a new assistant. Every day an agency sends a new assistant for you to interview. If the assistant is better than your current assistant, then you fire your current assistant and you hire the better assistant. You may assume that assistant quality is uniformly distributed between 0 and 1.\n",
        "\n",
        "## Question 1.\n",
        "Write a function, named hire_assistant, that takes applicants (a list of the numbers that represent the level of qualification of the applicants; the higher the number, the better qualified), and returns the number hires if the applicants are presented in the exact same order as the input list applicants. Note that your function should not randomize anything (or else it would be called a randomized algorithm)."
      ]
    },
    {
      "cell_type": "code",
      "metadata": {
        "deletable": false,
        "nbgrader": {
          "checksum": "3e823066b88c3701b5aa6feb0b29ea00",
          "grade": false,
          "grade_id": "cell-d011f5f4707fe41a",
          "locked": false,
          "schema_version": 1,
          "solution": true
        },
        "id": "1EezrZgtLowe",
        "colab_type": "code",
        "colab": {}
      },
      "source": [
        "def hire_assistant(applicants):\n",
        "    \"\"\"\n",
        "    Return the number of assistant hired.\n",
        "    Inputs:\n",
        "    - applicants: a list of the numbers that represent the level of qualification of \n",
        "    the applicants; the higher the number, the better qualified\n",
        "    \n",
        "    Outputs:\n",
        "    - hires: Number of assistants hired\n",
        "    \"\"\"\n",
        "    # intially my assistant is worst possible\n",
        "    current = -float('INF')\n",
        "    # number of hire is 0\n",
        "    hires = 0\n",
        "\n",
        "    # for every candidate, if they are better than the current\n",
        "    # hire them and increase the number of hire\n",
        "    for i in applicants:\n",
        "      if i > current:\n",
        "        current = i\n",
        "        hires += 1\n",
        "    return hires\n",
        "    raise NotImplementedError()"
      ],
      "execution_count": 0,
      "outputs": []
    },
    {
      "cell_type": "code",
      "metadata": {
        "deletable": false,
        "editable": false,
        "nbgrader": {
          "checksum": "1cf91a3b99ed87bfe9ea81d9a9252e16",
          "grade": true,
          "grade_id": "cell-66778b97ad66f71e",
          "locked": true,
          "points": 1,
          "schema_version": 1,
          "solution": false
        },
        "id": "h0CTvz1kLowi",
        "colab_type": "code",
        "colab": {}
      },
      "source": [
        "assert(hire_assistant([1])==1)\n",
        "assert(hire_assistant([-1, -2, -3, -4])==1)"
      ],
      "execution_count": 0,
      "outputs": []
    },
    {
      "cell_type": "markdown",
      "metadata": {
        "deletable": false,
        "editable": false,
        "nbgrader": {
          "checksum": "950e8b4c047988bb6493460be72d1bc7",
          "grade": false,
          "grade_id": "cell-e5d810828093b20d",
          "locked": true,
          "schema_version": 1,
          "solution": false
        },
        "id": "otLqWwNjLowm",
        "colab_type": "text"
      },
      "source": [
        "## Question 2. \n",
        "Assuming the applicants are presented in a random order, write a function that receives the number of applicants as input and returns the average number of assistants hired.\n",
        "\n",
        "**N.B.:** Don’t forget to run the simulation several times for each given number of applicants to better estimate the number of hires (please refer to task 3 of the Study Guide)."
      ]
    },
    {
      "cell_type": "code",
      "metadata": {
        "deletable": false,
        "nbgrader": {
          "checksum": "7038d9d8cc9239d5ca15f5d21aa986e3",
          "grade": true,
          "grade_id": "cell-b223520ca72942a0",
          "locked": false,
          "points": 0,
          "schema_version": 1,
          "solution": true
        },
        "id": "ieHJHEbYLown",
        "colab_type": "code",
        "colab": {}
      },
      "source": [
        "import random\n",
        "def experimental_hires(N):\n",
        "    \"\"\"\n",
        "    Return the experimental expected number of hires if there are N applicants\n",
        "    Inputs:\n",
        "    - N: Number of applicants\n",
        "    Outputs:\n",
        "    - hires: Average number of assistants hired\n",
        "    \"\"\"    \n",
        "    # sum is initially 0, we will store the hire number here\n",
        "    sum = 0\n",
        "\n",
        "    for i in range(100):  # running 100 times to get better estimate\n",
        "      # Creating the applicant list, which will be random order of N number  \n",
        "      applicants = random.choices(range(-100,100),k = N)\n",
        "\n",
        "      # Derive the number of hires, add them in the sum\n",
        "      sum += hire_assistant(applicants)\n",
        "\n",
        "    # return the average hires number of 100 simulation\n",
        "    return sum/100\n",
        "    raise NotImplementedError()"
      ],
      "execution_count": 0,
      "outputs": []
    },
    {
      "cell_type": "code",
      "metadata": {
        "id": "dP31-DJ_F0lk",
        "colab_type": "code",
        "colab": {
          "base_uri": "https://localhost:8080/",
          "height": 34
        },
        "outputId": "1ca1ec4c-340c-4a4f-eeb9-a8153e908135"
      },
      "source": [
        "experimental_hires(12)"
      ],
      "execution_count": 11,
      "outputs": [
        {
          "output_type": "execute_result",
          "data": {
            "text/plain": [
              "3.26"
            ]
          },
          "metadata": {
            "tags": []
          },
          "execution_count": 11
        }
      ]
    },
    {
      "cell_type": "markdown",
      "metadata": {
        "deletable": false,
        "editable": false,
        "nbgrader": {
          "checksum": "7f78b31a96cb5ddc8eb534ab037d9fee",
          "grade": false,
          "grade_id": "cell-a55a7b3d12ef78bb",
          "locked": true,
          "schema_version": 1,
          "solution": false
        },
        "id": "oimTZhExLows",
        "colab_type": "text"
      },
      "source": [
        "## Question 3.\n",
        "\n",
        "Use the function below, `analytical_hires(N)`, which returns the analytical expected number of hires, given the number of applicants, along with the function you created in question 2 to create a graph with two curves such that:\n",
        "* The x-axis shows the total number of applicants (make sure label the x-axis)\n",
        "* The y-axis shows the average number of hires (make sure label the y-axis)\n",
        "* The graph contains two curves;\n",
        "    * Curve 1: the theoretical performance estimates computed calls to the function `analytical_hires`.\n",
        "    * Curve 2: the simulated or experimental estimates using the function you created in question 2.\n"
      ]
    },
    {
      "cell_type": "code",
      "metadata": {
        "deletable": false,
        "editable": false,
        "nbgrader": {
          "checksum": "1e514458253b863a6c69ce09ccd2d9de",
          "grade": false,
          "grade_id": "cell-4092502cb05933d4",
          "locked": true,
          "schema_version": 1,
          "solution": false
        },
        "id": "Rnoi2CHULowt",
        "colab_type": "code",
        "colab": {}
      },
      "source": [
        "def analytical_hires(N):\n",
        "    \"\"\"\n",
        "    Return the analytical expected number of hires if there are N applicants\n",
        "    Inputs:\n",
        "    - N: Number of applicants\n",
        "    Outputs:\n",
        "    - hires: Average number of assistants hired\n",
        "    \"\"\"\n",
        "    # from the textbook, we know that the analytical result is \n",
        "    # 1 + 1/2 + 1/3 + ... + 1/N\n",
        "    hires = 0\n",
        "    for n in range(N):\n",
        "        hires += 1/(n+1)\n",
        "    return hires"
      ],
      "execution_count": 0,
      "outputs": []
    },
    {
      "cell_type": "code",
      "metadata": {
        "id": "AD9_xDs_GJRF",
        "colab_type": "code",
        "colab": {
          "base_uri": "https://localhost:8080/",
          "height": 34
        },
        "outputId": "d89d868e-7ed6-4b87-b2bc-e99b0177bec1"
      },
      "source": [
        "analytical_hires(12)"
      ],
      "execution_count": 13,
      "outputs": [
        {
          "output_type": "execute_result",
          "data": {
            "text/plain": [
              "3.103210678210678"
            ]
          },
          "metadata": {
            "tags": []
          },
          "execution_count": 13
        }
      ]
    },
    {
      "cell_type": "code",
      "metadata": {
        "deletable": false,
        "nbgrader": {
          "checksum": "055b3a48707a83f9330ab3b00c45144a",
          "grade": true,
          "grade_id": "cell-f9c07920c069ce20",
          "locked": false,
          "points": 0,
          "schema_version": 1,
          "solution": true
        },
        "id": "ShMOwxy8Lowy",
        "colab_type": "code",
        "colab": {
          "base_uri": "https://localhost:8080/",
          "height": 279
        },
        "outputId": "3f1b0146-151f-4017-b3fd-ef505d68fa61"
      },
      "source": [
        "import matplotlib.pyplot as plt\n",
        "\n",
        "# an empty list for storing the average number of \n",
        "# experimental hires and analytical hires\n",
        "experimental_hire = []\n",
        "analytical_hire = []\n",
        "\n",
        "# append the number of hires for n = 0 to 50\n",
        "for n in range(50):\n",
        "  experimental_hire.append(experimental_hires(n))\n",
        "  analytical_hire.append(analytical_hires(n))\n",
        "\n",
        "plt.plot(range(50), experimental_hire, 'b') # line plot\n",
        "plt.plot(range(50), analytical_hire, 'g')\n",
        "plt.ylabel('Average number of hires') # axis label\n",
        "plt.xlabel('Total number of applicants') \n",
        "plt.legend(('Experimental Hires', 'Analytical Hires')) # legend \n",
        "plt.show()\n",
        "# raise NotImplementedError()"
      ],
      "execution_count": 16,
      "outputs": [
        {
          "output_type": "display_data",
          "data": {
            "image/png": "[encoded data removed]",
            "text/plain": [
              "<Figure size 432x288 with 1 Axes>"
            ]
          },
          "metadata": {
            "tags": []
          }
        }
      ]
    },
    {
      "cell_type": "markdown",
      "metadata": {
        "deletable": false,
        "editable": false,
        "nbgrader": {
          "checksum": "f5c0fc54ac7e38140eacf7a0d3877a00",
          "grade": false,
          "grade_id": "cell-8720f8d8a6a98422",
          "locked": true,
          "schema_version": 1,
          "solution": false
        },
        "id": "hFung1rrLow1",
        "colab_type": "text"
      },
      "source": [
        "## Question 4.\n",
        "\n",
        "Plot a graph with the x-axis showing the total number of applicants and the y-axis showing the probability that exactly one assistant is hired."
      ]
    },
    {
      "cell_type": "code",
      "metadata": {
        "id": "H3Dy7QkBH-3i",
        "colab_type": "code",
        "colab": {}
      },
      "source": [
        "import random\n",
        "def prob_of_1_hire(N):\n",
        "    \"\"\"\n",
        "    Return the probability of exactly 1 applicant is hired when there are N applicants\n",
        "    Inputs:\n",
        "    - N: Number of applicants\n",
        "    Outputs:\n",
        "    - prob_1: Probability of only 1 applicant is hired\n",
        "    \"\"\"    \n",
        "    # counter is initially 0\n",
        "    counter = 0\n",
        "\n",
        "    for i in range(1000):  # running 1000 times to get better estimate\n",
        "      # Creating the applicant list, which will be random order of N number  \n",
        "      applicants = random.choices(range(-100,100),k = N)\n",
        "\n",
        "      # if exactly 1 applicant is hired, increase the counter\n",
        "      if(hire_assistant(applicants) == 1):\n",
        "        counter += 1\n",
        "\n",
        "    # return the probability of exactly 1 applicant hires: \n",
        "    # total such case/ total simulation (1000)\n",
        "    return counter/1000\n",
        "    raise NotImplementedError()"
      ],
      "execution_count": 0,
      "outputs": []
    },
    {
      "cell_type": "code",
      "metadata": {
        "deletable": false,
        "nbgrader": {
          "checksum": "99500575978918dad34be4dfe49fff36",
          "grade": true,
          "grade_id": "cell-d3fe1b7d6d175ad7",
          "locked": false,
          "points": 0,
          "schema_version": 1,
          "solution": true
        },
        "id": "C8TWn9HlLow2",
        "colab_type": "code",
        "colab": {
          "base_uri": "https://localhost:8080/",
          "height": 279
        },
        "outputId": "6bbd4ffb-cd89-47d4-9abd-21ceb9e49551"
      },
      "source": [
        "# an empty list for storing the probability that only 1 applicant is hired\n",
        "prob_of_1 = []\n",
        "\n",
        "# store the probability when n = 1 to 50\n",
        "for n in range(2,50):\n",
        "  prob_of_1.append(prob_of_1_hire(n))\n",
        "\n",
        "plt.plot(range(2,50), prob_of_1, 'b') # line plot\n",
        "plt.xlabel('Total number of applicants')\n",
        "plt.ylabel('Probability that only 1 applicant is hired')\n",
        "plt.show()\n",
        "# raise NotImplementedError()"
      ],
      "execution_count": 39,
      "outputs": [
        {
          "output_type": "display_data",
          "data": {
            "image/png": "[encoded data removed]",
            "text/plain": [
              "<Figure size 432x288 with 1 Axes>"
            ]
          },
          "metadata": {
            "tags": []
          }
        }
      ]
    },
    {
      "cell_type": "markdown",
      "metadata": {
        "deletable": false,
        "editable": false,
        "nbgrader": {
          "checksum": "5721e2312411a707d06a42f45aa28d6a",
          "grade": false,
          "grade_id": "cell-2bd2500c3ca4cf02",
          "locked": true,
          "schema_version": 1,
          "solution": false
        },
        "id": "Nmoi5LS2Low5",
        "colab_type": "text"
      },
      "source": [
        "## [Optional] Question 5.\n",
        "Assume that an assistant is able to perform an amount of work each day that is equal to their “quality”. You have a total amount of work M that needs to be accomplished. Your costs are as follows:\n",
        "* X = daily salary for the assistant,\n",
        "* Y = fee to the employment agency,\n",
        "* Z = retrenchment fee for the old assistant.\n",
        "\n",
        "Try to formulate an optimal stopping rule (i.e., at what point should one stop requesting new potential hires from the agency?) Make any necessary assumptions to ensure the problem is well-formulated.\n"
      ]
    },
    {
      "cell_type": "code",
      "metadata": {
        "deletable": false,
        "nbgrader": {
          "checksum": "43b6a51878665a39b0ede1313448eaa6",
          "grade": true,
          "grade_id": "cell-af2f0291eced6982",
          "locked": false,
          "points": 0,
          "schema_version": 1,
          "solution": true
        },
        "id": "RKzerxa4Low6",
        "colab_type": "code",
        "colab": {}
      },
      "source": [
        "# YOUR CODE HERE\n",
        "raise NotImplementedError()"
      ],
      "execution_count": 0,
      "outputs": []
    },
    {
      "cell_type": "markdown",
      "metadata": {
        "deletable": false,
        "editable": false,
        "nbgrader": {
          "checksum": "33ac7721d636faf76ce7bdbda1b443d6",
          "grade": false,
          "grade_id": "cell-92211f5b42929c46",
          "locked": true,
          "schema_version": 1,
          "solution": false
        },
        "id": "Iaa3B6_LLow_",
        "colab_type": "text"
      },
      "source": [
        "## Part B. The Hat Check Problem.\n",
        "\n",
        "There is a coat check at a party, where an attendant stores everyone’s hat while they attend the party. The attendant receives the N hats from everyone attending (all attendees come with a hat). Unfortunately, the coat check attendant forgets which hat belongs to whom. Rather than admitting a mistake, the attendant simply returns random hats back to the party-goers. \n",
        "\n",
        "What is the average number of correct hats returned? Here are some guiding questions to help you to simulate this problem. \n",
        "\n",
        "## Question 1. \n",
        "Knowing that everyone’s hats are unique and every guest has a hat. Do you need to generate a random sample in a similar way as what you did for the hiring assistant problem? "
      ]
    },
    {
      "cell_type": "markdown",
      "metadata": {
        "deletable": false,
        "nbgrader": {
          "checksum": "259c6115bee56676178f28ab36d6db2f",
          "grade": true,
          "grade_id": "cell-e786799fc4eb1499",
          "locked": false,
          "points": 0,
          "schema_version": 1,
          "solution": true
        },
        "id": "84SEpb98LoxA",
        "colab_type": "text"
      },
      "source": [
        "No, we can simply call the hat number as the party attender number. So, the hat if i'th people will have the number i. if i'th numbered hat goes to i'th numbered party attender, then it is correct, otherwise it's wrong. \n",
        "\n",
        "But in hiring assistant, the quality was not unique for each candidate, that's why we need to generate a random sample."
      ]
    },
    {
      "cell_type": "markdown",
      "metadata": {
        "deletable": false,
        "editable": false,
        "nbgrader": {
          "checksum": "c9f8182f3dd59f572cb797f373fb7464",
          "grade": false,
          "grade_id": "cell-e2f68e2bd4c2d099",
          "locked": true,
          "schema_version": 1,
          "solution": false
        },
        "id": "Q9IORZMKLoxB",
        "colab_type": "text"
      },
      "source": [
        "## Question 2. \n",
        "Which of the following commands do you think is the Pythonic way to implement that? \n",
        "```\n",
        "import numpy as np\n",
        "n = 100 #the number of party attendants `\n",
        "```\n",
        "**Command 1.**\n",
        "```\n",
        "hat_list = [np.random.integers(0,n) for i in range(n)]`\n",
        "```\n",
        "**Command 2.**\n",
        "```\n",
        "hat_list = list(range(n)) \n",
        "np.random.shuffle(hat_list) \n",
        "```\n",
        "**Command 3.**\n",
        "```\n",
        "hat_list = np.random.sample(n)\n",
        "```"
      ]
    },
    {
      "cell_type": "markdown",
      "metadata": {
        "deletable": false,
        "nbgrader": {
          "checksum": "b5e83025692b2772640e9e58f0f36af1",
          "grade": true,
          "grade_id": "cell-b8da78e72c1c0738",
          "locked": false,
          "points": 0,
          "schema_version": 1,
          "solution": true
        },
        "id": "PLL9UjZCLoxC",
        "colab_type": "text"
      },
      "source": [
        "It will be command 2. \n",
        "\n",
        "Command 1 firstly has a syntax error that there is no function called integers in np.random. But what it tried to impliment is for n times, it will randomly select 1 integer between 1 and n.\n",
        "\n",
        "In command 3, it will only return 1 random sample from a list of n.\n",
        "\n",
        "But in command 2, hat_list creates a list of 1 to n, then suffles it randomly, exactly what we want."
      ]
    },
    {
      "cell_type": "markdown",
      "metadata": {
        "deletable": false,
        "editable": false,
        "nbgrader": {
          "checksum": "ec25d5c32cc709928fa50666f21d9808",
          "grade": false,
          "grade_id": "cell-8915979a0b8cf6ce",
          "locked": true,
          "schema_version": 1,
          "solution": false
        },
        "id": "-mJWevaSLoxD",
        "colab_type": "text"
      },
      "source": [
        "## Question 3.\n",
        "Now write a function `hat_check(N)` that has: \n",
        "* Input: N the number of party attendants. \n",
        "* Output: the number of hats correctly returned despite the fact that hats are randomly handed back to the guests.\n",
        "\n",
        "You should use the command you picked for question 2. "
      ]
    },
    {
      "cell_type": "code",
      "metadata": {
        "deletable": false,
        "nbgrader": {
          "checksum": "c37f6cdc2ca8cbb92644fa2746445779",
          "grade": true,
          "grade_id": "cell-c8499aeb1b1d76c7",
          "locked": false,
          "points": 0,
          "schema_version": 1,
          "solution": true
        },
        "id": "zUOhlBy6LoxE",
        "colab_type": "code",
        "colab": {}
      },
      "source": [
        "import numpy as np\n",
        "def hat_check(N):\n",
        "    \"\"\"\n",
        "    Return the number of hats correctly returned by randomly handed back them\n",
        "    to N party attenders.\n",
        "    Inputs:\n",
        "    - N: Number of party attendants\n",
        "    Outputs:\n",
        "    - correct: Number of hats correctly returned \n",
        "    \"\"\"   \n",
        "    # create a ordered list of N elements\n",
        "    hat_list = list(range(N)) \n",
        "\n",
        "    # shuffle the list randomly\n",
        "    np.random.shuffle(hat_list) \n",
        "\n",
        "    # initially correct return number is 0\n",
        "    correct = 0\n",
        "\n",
        "    # for each hat, check if the element in suffle hat_list is equal\n",
        "    # to the index number, if yes, increase the number of correct return\n",
        "    for i in range(N):\n",
        "      if (hat_list[i] == i):\n",
        "        correct += 1\n",
        "    \n",
        "    return correct\n",
        "\n",
        "# raise NotImplementedError()"
      ],
      "execution_count": 0,
      "outputs": []
    },
    {
      "cell_type": "code",
      "metadata": {
        "id": "bn-qyZaJSn9g",
        "colab_type": "code",
        "colab": {
          "base_uri": "https://localhost:8080/",
          "height": 34
        },
        "outputId": "b853b385-a6c1-41b2-9054-9e4bfb82836d"
      },
      "source": [
        "hat_check(10)"
      ],
      "execution_count": 32,
      "outputs": [
        {
          "output_type": "execute_result",
          "data": {
            "text/plain": [
              "1"
            ]
          },
          "metadata": {
            "tags": []
          },
          "execution_count": 32
        }
      ]
    },
    {
      "cell_type": "markdown",
      "metadata": {
        "deletable": false,
        "editable": false,
        "nbgrader": {
          "checksum": "1ff8b95312de63513a2107ffb7ab9d5a",
          "grade": false,
          "grade_id": "cell-086d4cc0fc5b0155",
          "locked": true,
          "schema_version": 1,
          "solution": false
        },
        "id": "kHMTKrxkLoxH",
        "colab_type": "text"
      },
      "source": [
        "## Question 4.\n",
        "\n",
        "Plot a curve with the x-axis showing the total number of party attendants and the y-axis showing the average number of hats correctly returned. As always, remember to run several trials. "
      ]
    },
    {
      "cell_type": "code",
      "metadata": {
        "id": "N9LiZPO9TLjq",
        "colab_type": "code",
        "colab": {}
      },
      "source": [
        "def average_hat_check(N):\n",
        "    \"\"\"\n",
        "    Return the average number of hats correctly returned by randomly handed \n",
        "    back them to N party attenders.\n",
        "    Inputs:\n",
        "    - N: Number of party attendants\n",
        "    Outputs:\n",
        "    - correct: Number of hats correctly returned \n",
        "    \"\"\"   \n",
        "\n",
        "    # initially sum is 0\n",
        "    sum = 0\n",
        "\n",
        "    # run the hat_check 100 times for N\n",
        "    # and return the average correctly returned hat number\n",
        "    for i in range(100):\n",
        "      sum += hat_check(N)\n",
        "\n",
        "    return sum/100"
      ],
      "execution_count": 0,
      "outputs": []
    },
    {
      "cell_type": "code",
      "metadata": {
        "deletable": false,
        "nbgrader": {
          "checksum": "c4d1251529b962f3d3ce28f6ac9f244e",
          "grade": true,
          "grade_id": "cell-597031ea2a5a512a",
          "locked": false,
          "points": 0,
          "schema_version": 1,
          "solution": true
        },
        "id": "BK9z1Rv-LoxI",
        "colab_type": "code",
        "colab": {
          "base_uri": "https://localhost:8080/",
          "height": 280
        },
        "outputId": "734730a8-94e0-4d3d-d188-23ac3ba3ee91"
      },
      "source": [
        "# an empty list for storing the average number of hats correctly returned\n",
        "correct_hat = []\n",
        "\n",
        "# for n = 0 to 50, store the number in the array\n",
        "for n in range(50):\n",
        "  correct_hat.append(average_hat_check(n))\n",
        "\n",
        "plt.plot(range(50), correct_hat, 'b') # line plot\n",
        "plt.ylabel('Average number of hats correctly returned')\n",
        "plt.xlabel('Number of party attenders')\n",
        "plt.show()\n",
        "\n",
        "# raise NotImplementedError()"
      ],
      "execution_count": 43,
      "outputs": [
        {
          "output_type": "display_data",
          "data": {
            "image/png": "[encoded data removed]",
            "text/plain": [
              "<Figure size 432x288 with 1 Axes>"
            ]
          },
          "metadata": {
            "tags": []
          }
        }
      ]
    },
    {
      "cell_type": "markdown",
      "metadata": {
        "deletable": false,
        "editable": false,
        "nbgrader": {
          "checksum": "aad5d529ed9af56148bfc12691cdb950",
          "grade": false,
          "grade_id": "cell-f74b2078132a5177",
          "locked": true,
          "schema_version": 1,
          "solution": false
        },
        "id": "ldUOmnNQLoxK",
        "colab_type": "text"
      },
      "source": [
        "## [Optional] Question 5.\n",
        "As $N$ tends to infinity, the number of correct hats returned tends towards a well-known statistical distribution. State the distribution with all its parameters. Plot several samples using your code. Does the empirical distribution match your theoretical prediction?"
      ]
    },
    {
      "cell_type": "markdown",
      "metadata": {
        "deletable": false,
        "nbgrader": {
          "checksum": "33f94a80e6d5d9c371e6c39790bd67eb",
          "grade": true,
          "grade_id": "cell-32fe26c1d99fdd2a",
          "locked": false,
          "points": 0,
          "schema_version": 1,
          "solution": true
        },
        "id": "gP8J1mROLoxM",
        "colab_type": "text"
      },
      "source": [
        "YOUR ANSWER HERE"
      ]
    }
  ]
}