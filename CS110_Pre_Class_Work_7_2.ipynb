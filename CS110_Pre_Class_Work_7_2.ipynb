{
  "nbformat": 4,
  "nbformat_minor": 0,
  "metadata": {
    "kernelspec": {
      "display_name": "Python 3",
      "language": "python",
      "name": "python3"
    },
    "language_info": {
      "codemirror_mode": {
        "name": "ipython",
        "version": 3
      },
      "file_extension": ".py",
      "mimetype": "text/x-python",
      "name": "python",
      "nbconvert_exporter": "python",
      "pygments_lexer": "ipython3",
      "version": "3.6.5"
    },
    "colab": {
      "name": "CS110 Pre Class Work 7.2",
      "provenance": [],
      "include_colab_link": true
    }
  },
  "cells": [
    {
      "cell_type": "markdown",
      "metadata": {
        "id": "view-in-github",
        "colab_type": "text"
      },
      "source": [
        "<a href=\"https://colab.research.google.com/github/mahmud-nobe/CS110_pcw/blob/master/CS110_Pre_Class_Work_7_2.ipynb\" target=\"_parent\"><img src=\"https://colab.research.google.com/assets/colab-badge.svg\" alt=\"Open In Colab\"/></a>"
      ]
    },
    {
      "cell_type": "markdown",
      "metadata": {
        "id": "joSvLqTpw8tC",
        "colab_type": "text"
      },
      "source": [
        "Before you turn this problem in, make sure everything runs as expected. First, **restart the kernel** (in the menubar, select Kernel$\\rightarrow$Restart) and then **run all cells** (in the menubar, select Cell$\\rightarrow$Run All).\n",
        "\n",
        "Make sure you fill in any place that says `YOUR CODE HERE` or \"YOUR ANSWER HERE\", as well as your name and collaborators below:"
      ]
    },
    {
      "cell_type": "code",
      "metadata": {
        "id": "6FJmN_sgw8tM",
        "colab_type": "code",
        "colab": {}
      },
      "source": [
        "NAME = \"Md Mahmudunnobe\"\n",
        "COLLABORATORS = \"\""
      ],
      "execution_count": 0,
      "outputs": []
    },
    {
      "cell_type": "markdown",
      "metadata": {
        "id": "7fOJOqypw8ta",
        "colab_type": "text"
      },
      "source": [
        "---"
      ]
    },
    {
      "cell_type": "markdown",
      "metadata": {
        "deletable": false,
        "editable": false,
        "nbgrader": {
          "checksum": "2843e94073cad72d7107eb55b3f5d153",
          "grade": false,
          "grade_id": "cell-5b237cc13279b029",
          "locked": true,
          "schema_version": 1,
          "solution": false
        },
        "id": "5Md43_EEw8td",
        "colab_type": "text"
      },
      "source": [
        "# CS110 Pre-class Work 7.2\n",
        "\n",
        "## Part A. Direct Address Tables\n",
        "As the first step in setting up a crossword solving algorithm you need to create 2 direct address tables, one to store all the “up” answers-whether correct or not-and one to store all the “across” answers. Write python code to create a direct address table that allows you to:\n",
        "\n",
        "1. initialize N empty guesses\n",
        "2. set a guess for the i-th entry\n",
        "3. clear an incorrect guess for the i-th entry\n"
      ]
    },
    {
      "cell_type": "code",
      "metadata": {
        "deletable": false,
        "nbgrader": {
          "checksum": "69e5d714c7245702b8732209ea0b2b42",
          "grade": true,
          "grade_id": "cell-d8d2e3c1b136cdb9",
          "locked": false,
          "points": 0,
          "schema_version": 1,
          "solution": true
        },
        "id": "uKZv9czXw8tg",
        "colab_type": "code",
        "colab": {}
      },
      "source": [
        "# initialize a hask table with N element by putting null in every entry\n",
        "def initialize_guess(N):\n",
        "  return ['' for i in range(N)]\n",
        "\n",
        "# set a guess in ith value of a table\n",
        "def set_guess(table, i, guess):\n",
        "  table[i] = guess\n",
        "  return table\n",
        "\n",
        "# clear the incorrect guess of the ith entry of a table\n",
        "def clear_incorrect_guess(table, i):\n",
        "  table[i] = ''\n",
        "  return table\n",
        "\n",
        "#raise NotImplementedError()"
      ],
      "execution_count": 0,
      "outputs": []
    },
    {
      "cell_type": "code",
      "metadata": {
        "id": "8_eah-azzcxd",
        "colab_type": "code",
        "colab": {
          "base_uri": "https://localhost:8080/",
          "height": 34
        },
        "outputId": "c718b43a-7ecf-42d1-b6ab-79dd5ad6a7b2"
      },
      "source": [
        "initialize_guess(4)\n"
      ],
      "execution_count": 12,
      "outputs": [
        {
          "output_type": "execute_result",
          "data": {
            "text/plain": [
              "['', '', '', '']"
            ]
          },
          "metadata": {
            "tags": []
          },
          "execution_count": 12
        }
      ]
    },
    {
      "cell_type": "markdown",
      "metadata": {
        "deletable": false,
        "editable": false,
        "nbgrader": {
          "checksum": "cdb562114e50f9ce1c97be3536b59efa",
          "grade": false,
          "grade_id": "cell-b27891b3ff16f730",
          "locked": true,
          "schema_version": 1,
          "solution": false
        },
        "id": "aMEaGsBXw8tr",
        "colab_type": "text"
      },
      "source": [
        "## Part B. Social Security\n",
        "\n",
        "Could we use a direct address table to store a country's entire set of social security numbers (aka id numbers)? Why or why not?\n"
      ]
    },
    {
      "cell_type": "markdown",
      "metadata": {
        "deletable": false,
        "nbgrader": {
          "checksum": "7b193e66cbea5bd9dac131a3d6adfefa",
          "grade": true,
          "grade_id": "cell-e751647d9af78c11",
          "locked": false,
          "points": 0,
          "schema_version": 1,
          "solution": true
        },
        "id": "QIMHnn2lw8tu",
        "colab_type": "text"
      },
      "source": [
        "No. In order to do that we need to order each citizen with a number and that number will be the key for their SSN. So we need a HUGE list, where the poeple without SSN will be null. It is not feasible to have so huge list for storing SSN, so we cannot use direct address."
      ]
    },
    {
      "cell_type": "markdown",
      "metadata": {
        "deletable": false,
        "editable": false,
        "nbgrader": {
          "checksum": "35f74a7f882cabb36df7ee2c43ee51db",
          "grade": false,
          "grade_id": "cell-cba2028918eea1fd",
          "locked": true,
          "schema_version": 1,
          "solution": false
        },
        "id": "8cvOPR58w8ty",
        "colab_type": "text"
      },
      "source": [
        "## Part C. Chained Hash-table\n",
        "\n",
        "## Question 1.\n",
        "\n",
        "Using the code in the cell below, complete the missing sections of code. You should copy and paste the code in an additional cell and fill in the code there."
      ]
    },
    {
      "cell_type": "code",
      "metadata": {
        "deletable": false,
        "editable": false,
        "nbgrader": {
          "checksum": "ffc1d9c145de9e5c52f96dfdc8a66fe2",
          "grade": false,
          "grade_id": "cell-9e41d88b035338f4",
          "locked": true,
          "schema_version": 1,
          "solution": false
        },
        "id": "MqR9ZRqYw8t3",
        "colab_type": "code",
        "colab": {}
      },
      "source": [
        "import random\n",
        "import string\n",
        "\n",
        "\n",
        "def randomword(length):\n",
        "    return ''.join(random.choice(string.ascii_lowercase) for i in range(length))\n",
        "\n",
        "\n",
        "def empty_hash_table(N):\n",
        "    return [[] for n in range(N)]\n",
        "\n",
        "\n",
        "def add_to_hash_table(hash_table, item, hash_function):\n",
        "    N = len(hash_table)\n",
        "    # Your code here\n",
        "    return hash_table\n",
        "\n",
        "\n",
        "def contains(hash_table, item, hash_function):\n",
        "    N = len(hash_table)\n",
        "    # Your code here\n",
        "    # return true if the item has already been stored in the hash_table\n",
        "\n",
        "\n",
        "def remove(hash_table, item, hash_function):\n",
        "    if not contains(hash_table, item, hash_function):\n",
        "        raise ValueError()\n",
        "    # Your code here\n",
        "    return hash_table\n",
        "\n",
        "\n",
        "def hash_str1(string):\n",
        "    ans = 0\n",
        "    for chr in string:\n",
        "        ans += ord(chr)\n",
        "    return ans\n",
        "\n",
        "def hash_str2(string):\n",
        "    ans=int(ord(string[0]))\n",
        "    for ix in range(1, len(string)):\n",
        "        ans = ans ^ ord(string[ix]) \n",
        "    return int(bin(ans).split('b')[1])\n",
        "\n",
        "\n",
        "def hash_str3(string):\n",
        "    ans = 0\n",
        "    for chr in string:\n",
        "        ans = ans * 128 + ord(chr)\n",
        "    return ans\n",
        "\n",
        "\n",
        "def hash_str4(string):\n",
        "    random.seed(ord(string[0]))\n",
        "    return random.getrandbits(32)"
      ],
      "execution_count": 0,
      "outputs": []
    },
    {
      "cell_type": "code",
      "metadata": {
        "deletable": false,
        "nbgrader": {
          "checksum": "b39c1af2de8a4581d16a2d630fcaac74",
          "grade": true,
          "grade_id": "cell-1b6cc6df105c101f",
          "locked": false,
          "points": 0,
          "schema_version": 1,
          "solution": true
        },
        "id": "IiJyPYkow8uA",
        "colab_type": "code",
        "colab": {}
      },
      "source": [
        "import random\n",
        "import string\n",
        "\n",
        "\n",
        "def randomword(length):\n",
        "    return ''.join(random.choice(string.ascii_lowercase) for i in range(length))\n",
        "\n",
        "\n",
        "def empty_hash_table(N):\n",
        "    return [[] for n in range(N)]\n",
        "\n",
        "\n",
        "def add_to_hash_table(hash_table, item, hash_function):\n",
        "    N = len(hash_table)\n",
        "    # here as we don't take any key as input, I assume the key is equal to the item\n",
        "    # so the slot in the table (or key in the hash_table) will be the hash_function of the item\n",
        "    # but to ensure the key doesn't become larger than N, we take key mode N\n",
        "    # then we will store item there.\n",
        "    \n",
        "    key = hash_function(item) % N\n",
        "    hash_table[key].append(item)\n",
        "    return hash_table\n",
        "\n",
        "\n",
        "def contains(hash_table, item, hash_function):\n",
        "    N = len(hash_table)\n",
        "    key = hash_function(item) % N\n",
        "    for i in hash_table[key]:\n",
        "      if (i == item): \n",
        "        return True\n",
        "    return False\n",
        "    # return true if the item has already been stored in the hash_table\n",
        "\n",
        "\n",
        "def remove(hash_table, item, hash_function):\n",
        "    if not contains(hash_table, item, hash_function):\n",
        "        raise ValueError()\n",
        "    N = len(hash_table)\n",
        "    key = hash_function(item) % N\n",
        "    hash_table[key] = []\n",
        "    return hash_table\n",
        "\n",
        "\n",
        "def hash_str1(string):\n",
        "    ans = 0\n",
        "    for chr in string:\n",
        "        ans += ord(chr)\n",
        "    return ans\n",
        "\n",
        "def hash_str2(string):\n",
        "    ans=int(ord(string[0]))\n",
        "    for ix in range(1, len(string)):\n",
        "        ans = ans ^ ord(string[ix]) \n",
        "    return int(bin(ans).split('b')[1])\n",
        "\n",
        "\n",
        "def hash_str3(string):\n",
        "    ans = 0\n",
        "    for chr in string:\n",
        "        ans = ans * 128 + ord(chr)\n",
        "    return ans\n",
        "\n",
        "\n",
        "def hash_str4(string):\n",
        "    random.seed(ord(string[0]))\n",
        "    return random.getrandbits(32)\n",
        "    \n",
        "    #raise NotImplementedError()"
      ],
      "execution_count": 0,
      "outputs": []
    },
    {
      "cell_type": "markdown",
      "metadata": {
        "deletable": false,
        "editable": false,
        "nbgrader": {
          "checksum": "d323c68243f6d1fe79cbf5ad01ee85ae",
          "grade": false,
          "grade_id": "cell-66fb150dd2e509a7",
          "locked": true,
          "schema_version": 1,
          "solution": false
        },
        "id": "GQT-JoMKw8uR",
        "colab_type": "text"
      },
      "source": [
        "## Question 2.\n",
        "Using the code, create 100,000 words of 10 characters each.\n"
      ]
    },
    {
      "cell_type": "code",
      "metadata": {
        "id": "wNyLx07R30Nb",
        "colab_type": "code",
        "colab": {}
      },
      "source": [
        "\n"
      ],
      "execution_count": 0,
      "outputs": []
    },
    {
      "cell_type": "code",
      "metadata": {
        "deletable": false,
        "nbgrader": {
          "checksum": "b9d2f1faad23eecd6f3691968bb4e455",
          "grade": true,
          "grade_id": "cell-234b1e83c871ddc7",
          "locked": false,
          "points": 0,
          "schema_version": 1,
          "solution": true
        },
        "id": "dxv3SoRpw8uY",
        "colab_type": "code",
        "colab": {
          "base_uri": "https://localhost:8080/",
          "height": 187
        },
        "outputId": "de4f9d2f-3b2d-4310-ee98-da1d02c10876"
      },
      "source": [
        "words = []\n",
        "\n",
        "for i in range(100000):\n",
        "  words.append(randomword(10))\n",
        "\n",
        "words[:10]\n",
        "\n",
        "# raise NotImplementedError()"
      ],
      "execution_count": 64,
      "outputs": [
        {
          "output_type": "execute_result",
          "data": {
            "text/plain": [
              "['xtrxjayudx',\n",
              " 'epphinsnsc',\n",
              " 'ockyqkpbrz',\n",
              " 'qdmofvrlep',\n",
              " 'rcqotgsmri',\n",
              " 'wlmbnzuamv',\n",
              " 'yvwhkxsuda',\n",
              " 'wnkjhlpnfz',\n",
              " 'xjxbvxmmdb',\n",
              " 'jbfkibpbei']"
            ]
          },
          "metadata": {
            "tags": []
          },
          "execution_count": 64
        }
      ]
    },
    {
      "cell_type": "markdown",
      "metadata": {
        "deletable": false,
        "editable": false,
        "nbgrader": {
          "checksum": "190e7fdc00fc311f5ff32a390fff1ca4",
          "grade": false,
          "grade_id": "cell-2fbadca52cec7230",
          "locked": true,
          "schema_version": 1,
          "solution": false
        },
        "id": "UPEpVdaxw8uk",
        "colab_type": "text"
      },
      "source": [
        "## Question 3.\n",
        "\n",
        "Create four chained hash-tables with 5000 slots."
      ]
    },
    {
      "cell_type": "code",
      "metadata": {
        "deletable": false,
        "nbgrader": {
          "checksum": "0d1473300ae336ceb57d11687ab3ec0a",
          "grade": true,
          "grade_id": "cell-2dabefc41493ec16",
          "locked": false,
          "points": 0,
          "schema_version": 1,
          "solution": true
        },
        "id": "Rg3SbMI2w8un",
        "colab_type": "code",
        "colab": {}
      },
      "source": [
        "\n",
        "hash_table1 = empty_hash_table(5000)\n",
        "hash_table2 = empty_hash_table(5000)\n",
        "hash_table3 = empty_hash_table(5000)\n",
        "hash_table4 = empty_hash_table(5000)\n",
        "\n",
        "# raise NotImplementedError()"
      ],
      "execution_count": 0,
      "outputs": []
    },
    {
      "cell_type": "markdown",
      "metadata": {
        "deletable": false,
        "editable": false,
        "nbgrader": {
          "checksum": "c3d147917ae237a6dc75eddab48dbaa6",
          "grade": false,
          "grade_id": "cell-cc2e6d00330e691e",
          "locked": true,
          "schema_version": 1,
          "solution": false
        },
        "id": "a18C2TBqw8ux",
        "colab_type": "text"
      },
      "source": [
        "## Question 4.\n",
        "\n",
        "Store all the words in each chained hash table using each of the different hash functions."
      ]
    },
    {
      "cell_type": "code",
      "metadata": {
        "deletable": false,
        "nbgrader": {
          "checksum": "af209dceb17bf5f8d9fadf0808855f79",
          "grade": true,
          "grade_id": "cell-8a08ade8d45590a7",
          "locked": false,
          "points": 0,
          "schema_version": 1,
          "solution": true
        },
        "id": "naXslw01w8u0",
        "colab_type": "code",
        "colab": {}
      },
      "source": [
        "for word in words:\n",
        "  add_to_hash_table(hash_table1, word, hash_str1)\n",
        "\n",
        "for word in words:\n",
        "  add_to_hash_table(hash_table2, word, hash_str2)\n",
        "\n",
        "for word in words:\n",
        "  add_to_hash_table(hash_table3, word, hash_str3)\n",
        "\n",
        "for word in words:\n",
        "  add_to_hash_table(hash_table4, word, hash_str4)\n",
        "\n",
        "# raise NotImplementedError()"
      ],
      "execution_count": 0,
      "outputs": []
    },
    {
      "cell_type": "markdown",
      "metadata": {
        "deletable": false,
        "editable": false,
        "nbgrader": {
          "checksum": "858437d142a66b825fb0bebdb1c4d9fe",
          "grade": false,
          "grade_id": "cell-da2c8b42618fbde4",
          "locked": true,
          "schema_version": 1,
          "solution": false
        },
        "id": "kcgBZwBkw8u-",
        "colab_type": "text"
      },
      "source": [
        "## Question 5.\n",
        "\n",
        "Measure the number of collisions for each hash function."
      ]
    },
    {
      "cell_type": "code",
      "metadata": {
        "deletable": false,
        "nbgrader": {
          "checksum": "156f57bc1c6c1a3e10ca1804aa205099",
          "grade": true,
          "grade_id": "cell-a968f9e14a0416c4",
          "locked": false,
          "points": 0,
          "schema_version": 1,
          "solution": true
        },
        "id": "-PdY7ZX0w8u_",
        "colab_type": "code",
        "colab": {
          "base_uri": "https://localhost:8080/",
          "height": 85
        },
        "outputId": "f4348877-91cb-47a1-d691-a3e9d8168c21"
      },
      "source": [
        "# if the bucket is not empty than the collision number is the len(bucket) - 1 for that bucket\n",
        "collision1 = 0\n",
        "for bucket in hash_table1:\n",
        "  if(len(bucket) != 0):\n",
        "    collision1 += len(bucket) - 1\n",
        "print('Collision in table 1:', collision1)\n",
        "\n",
        "collision2 = 0\n",
        "for bucket in hash_table2:\n",
        "  if(len(bucket) != 0):\n",
        "    collision2 += len(bucket) - 1\n",
        "print('Collision in table 2:', collision2)\n",
        "\n",
        "collision3 = 0\n",
        "for bucket in hash_table3:\n",
        "  if(len(bucket) != 0):\n",
        "    collision3 += len(bucket) - 1\n",
        "print('Collision in table 3:', collision3)\n",
        "\n",
        "collision4 = 0\n",
        "for bucket in hash_table4:\n",
        "  if(len(bucket) != 0):\n",
        "    collision4 += len(bucket) - 1\n",
        "print('Collision in table 4:', collision4)\n",
        "\n",
        "# raise NotImplementedError()"
      ],
      "execution_count": 67,
      "outputs": [
        {
          "output_type": "stream",
          "text": [
            "Collision in table 1: 99823\n",
            "Collision in table 2: 99984\n",
            "Collision in table 3: 95000\n",
            "Collision in table 4: 99974\n"
          ],
          "name": "stdout"
        }
      ]
    },
    {
      "cell_type": "code",
      "metadata": {
        "id": "V6KtUwp99KLe",
        "colab_type": "code",
        "colab": {}
      },
      "source": [
        ""
      ],
      "execution_count": 0,
      "outputs": []
    },
    {
      "cell_type": "markdown",
      "metadata": {
        "deletable": false,
        "editable": false,
        "nbgrader": {
          "checksum": "ef47cabb10897284ca375490003e6b3d",
          "grade": false,
          "grade_id": "cell-435ba1cfb2d80447",
          "locked": true,
          "schema_version": 1,
          "solution": false
        },
        "id": "CLpH_45Bw8vF",
        "colab_type": "text"
      },
      "source": [
        "## Question 6.\n",
        "\n",
        "For each of the hash functions, how many elements are in a bucket on average (if it is not empty)?\n"
      ]
    },
    {
      "cell_type": "code",
      "metadata": {
        "deletable": false,
        "nbgrader": {
          "checksum": "9f77d346c6e5ffbfb92ac0707c3c1d72",
          "grade": true,
          "grade_id": "cell-b4052afa2ee7c702",
          "locked": false,
          "points": 0,
          "schema_version": 1,
          "solution": true
        },
        "id": "DMx4LzDjw8vG",
        "colab_type": "code",
        "colab": {
          "base_uri": "https://localhost:8080/",
          "height": 85
        },
        "outputId": "82f4c990-ab83-47fc-b606-7fa02b5ba125"
      },
      "source": [
        "non_empty_bucket1 = 0\n",
        "for bucket in hash_table1:\n",
        "  if(len(bucket) != 0):\n",
        "    non_empty_bucket1 += 1\n",
        "print('Average elements in table 1:', 100000/non_empty_bucket1)\n",
        "\n",
        "non_empty_bucket2 = 0\n",
        "for bucket in hash_table2:\n",
        "  if(len(bucket) != 0):\n",
        "    non_empty_bucket2 += 1\n",
        "print('Average elements in table 2:', 100000/non_empty_bucket2)\n",
        "\n",
        "non_empty_bucket3 = 0\n",
        "for bucket in hash_table3:\n",
        "  if(len(bucket) != 0):\n",
        "    non_empty_bucket3 += 1\n",
        "print('Average elements in table 3:', 100000/non_empty_bucket3)\n",
        "\n",
        "non_empty_bucket4 = 0\n",
        "for bucket in hash_table4:\n",
        "  if(len(bucket) != 0):\n",
        "    non_empty_bucket4 += 1\n",
        "print('Average elements in table 4:', 100000/non_empty_bucket4)\n",
        "\n",
        "# raise NotImplementedError()"
      ],
      "execution_count": 68,
      "outputs": [
        {
          "output_type": "stream",
          "text": [
            "Average elements in table 1: 564.9717514124294\n",
            "Average elements in table 2: 6250.0\n",
            "Average elements in table 3: 20.0\n",
            "Average elements in table 4: 3846.153846153846\n"
          ],
          "name": "stdout"
        }
      ]
    },
    {
      "cell_type": "markdown",
      "metadata": {
        "deletable": false,
        "editable": false,
        "nbgrader": {
          "checksum": "aaeb9bd55b7a86f8bc8079cbb7f8bca4",
          "grade": false,
          "grade_id": "cell-b86aef4dd22c236c",
          "locked": true,
          "schema_version": 1,
          "solution": false
        },
        "id": "X9ciQSdYw8vM",
        "colab_type": "text"
      },
      "source": [
        "## Question 7.\n",
        "\n",
        "Time how long it takes to find elements that are in each hash table.\n"
      ]
    },
    {
      "cell_type": "code",
      "metadata": {
        "deletable": false,
        "nbgrader": {
          "checksum": "23927c46b8067f49ef10e9b4183f7680",
          "grade": true,
          "grade_id": "cell-0605f7dec7128414",
          "locked": false,
          "points": 0,
          "schema_version": 1,
          "solution": true
        },
        "id": "EBKDl9dVw8vN",
        "colab_type": "code",
        "colab": {
          "base_uri": "https://localhost:8080/",
          "height": 85
        },
        "outputId": "9701f530-21f3-496e-a609-7bc0feb11ad8"
      },
      "source": [
        "import time\n",
        "\n",
        "avg_time = []\n",
        "\n",
        "start = time.time()\n",
        "for word in words:\n",
        "  contains(hash_table1, word, hash_str1)\n",
        "end = time.time()\n",
        "avg_time.append((end-start)/len(words))\n",
        "print('Average time for 1 search in Table 1:', avg_time[0])\n",
        "\n",
        "start = time.time()\n",
        "for word in words:\n",
        "  contains(hash_table2, word, hash_str2)\n",
        "end = time.time()\n",
        "avg_time.append((end-start)/len(words))\n",
        "print('Average time for 1 search in Table 2:', avg_time[1])\n",
        "\n",
        "start = time.time()\n",
        "for word in words:\n",
        "  contains(hash_table3, word, hash_str3)\n",
        "end = time.time()\n",
        "avg_time.append((end-start)/len(words))\n",
        "print('Average time for 1 search in Table 3:', avg_time[2])\n",
        "\n",
        "start = time.time()\n",
        "for word in words:\n",
        "  contains(hash_table4, word, hash_str4)\n",
        "end = time.time()\n",
        "avg_time.append((end-start)/len(words))\n",
        "print('Average time for 1 search in Table 4:', avg_time[3])\n",
        "\n",
        "\n",
        "# raise NotImplementedError()"
      ],
      "execution_count": 79,
      "outputs": [
        {
          "output_type": "stream",
          "text": [
            "Average time for 1 search in Table 1: 4.0637643337249756e-05\n",
            "Average time for 1 search in Table 2: 0.0001810192084312439\n",
            "Average time for 1 search in Table 3: 3.103652000427246e-06\n",
            "Average time for 1 search in Table 4: 0.00013237826347351075\n"
          ],
          "name": "stdout"
        }
      ]
    },
    {
      "cell_type": "code",
      "metadata": {
        "id": "BXyv9CBdCvJU",
        "colab_type": "code",
        "colab": {
          "base_uri": "https://localhost:8080/",
          "height": 265
        },
        "outputId": "0873b14c-7c32-4cb0-fdff-0b2b3c16af71"
      },
      "source": [
        "import matplotlib.pyplot as plt\n",
        "\n",
        "plt.bar(['Table 1', 'Table 2', 'Tab;e 3', 'Table 4'], avg_time)\n",
        "plt.ylabel('Average Search Time (s)')\n",
        "plt.show()"
      ],
      "execution_count": 80,
      "outputs": [
        {
          "output_type": "display_data",
          "data": {
            "image/png": "[encoded data removed]",
            "text/plain": [
              "<Figure size 432x288 with 1 Axes>"
            ]
          },
          "metadata": {
            "tags": []
          }
        }
      ]
    },
    {
      "cell_type": "markdown",
      "metadata": {
        "deletable": false,
        "editable": false,
        "nbgrader": {
          "checksum": "b051093ca9a2faf1658679380bf29033",
          "grade": false,
          "grade_id": "cell-75db2c2e62cec090",
          "locked": true,
          "schema_version": 1,
          "solution": false
        },
        "id": "rL80Tr4Ww8vR",
        "colab_type": "text"
      },
      "source": [
        "## Question 8.\n",
        "For each hash table, time how long it takes to find 10,000 elements that have not been stored."
      ]
    },
    {
      "cell_type": "code",
      "metadata": {
        "deletable": false,
        "nbgrader": {
          "checksum": "99b2fa8c88000c2143cb00fac1f6aa5f",
          "grade": true,
          "grade_id": "cell-b846b45e1b98ae59",
          "locked": false,
          "points": 0,
          "schema_version": 1,
          "solution": true
        },
        "id": "6Gw9XDsWw8vS",
        "colab_type": "code",
        "colab": {
          "base_uri": "https://localhost:8080/",
          "height": 85
        },
        "outputId": "3e34af58-5055-4cb2-9365-dbd9d728fde5"
      },
      "source": [
        "\n",
        "new_words = []\n",
        "\n",
        "for i in range(10000):\n",
        "  new_words.append(randomword(10))\n",
        "\n",
        "avg_unsuccess_time = []\n",
        "\n",
        "start = time.time()\n",
        "for word in new_words:\n",
        "  contains(hash_table1, word, hash_str1)\n",
        "end = time.time()\n",
        "avg_unsuccess_time.append((end-start)/len(new_words))\n",
        "print('Average time for 1 unsuccessful search in Table 1:', avg_unsuccess_time[0])\n",
        "\n",
        "start = time.time()\n",
        "for word in new_words:\n",
        "  contains(hash_table2, word, hash_str2)\n",
        "end = time.time()\n",
        "avg_unsuccess_time.append((end-start)/len(new_words))\n",
        "print('Average time for 1 unsuccessful search in Table 2:', avg_unsuccess_time[1])\n",
        "\n",
        "start = time.time()\n",
        "for word in new_words:\n",
        "  contains(hash_table3, word, hash_str3)\n",
        "end = time.time()\n",
        "avg_unsuccess_time.append((end-start)/len(new_words))\n",
        "print('Average time for 1 unsuccessful search in Table 3:', avg_unsuccess_time[2])\n",
        "\n",
        "start = time.time()\n",
        "for word in new_words:\n",
        "  contains(hash_table4, word, hash_str4)\n",
        "end = time.time()\n",
        "avg_unsuccess_time.append((end-start)/len(new_words))\n",
        "print('Average time for 1 unsuccessful search in Table 4:', avg_unsuccess_time[3])\n",
        "\n",
        "# raise NotImplementedError()"
      ],
      "execution_count": 81,
      "outputs": [
        {
          "output_type": "stream",
          "text": [
            "Average time for 1 unsuccessful search in Table 1: 9.726223945617676e-05\n",
            "Average time for 1 unsuccessful search in Table 2: 0.0004925798654556275\n",
            "Average time for 1 unsuccessful search in Table 3: 4.5315265655517575e-06\n",
            "Average time for 1 unsuccessful search in Table 4: 0.0003327640771865845\n"
          ],
          "name": "stdout"
        }
      ]
    },
    {
      "cell_type": "code",
      "metadata": {
        "id": "L1X5RNqhDkJ2",
        "colab_type": "code",
        "colab": {
          "base_uri": "https://localhost:8080/",
          "height": 265
        },
        "outputId": "860f44e8-3901-43cd-db37-f662e9823f1d"
      },
      "source": [
        "plt.bar(['Table 1', 'Table 2', 'Tab;e 3', 'Table 4'], avg_unsuccess_time)\n",
        "plt.ylabel('Average Unsuccessful Search Time (s)')\n",
        "plt.show()"
      ],
      "execution_count": 82,
      "outputs": [
        {
          "output_type": "display_data",
          "data": {
            "image/png": "[encoded data removed]",
            "text/plain": [
              "<Figure size 432x288 with 1 Axes>"
            ]
          },
          "metadata": {
            "tags": []
          }
        }
      ]
    },
    {
      "cell_type": "code",
      "metadata": {
        "id": "AD9NYzt8Dn79",
        "colab_type": "code",
        "colab": {}
      },
      "source": [
        ""
      ],
      "execution_count": 0,
      "outputs": []
    }
  ]
}