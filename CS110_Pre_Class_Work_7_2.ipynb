{
  "nbformat": 4,
  "nbformat_minor": 0,
  "metadata": {
    "kernelspec": {
      "display_name": "Python 3",
      "language": "python",
      "name": "python3"
    },
    "language_info": {
      "codemirror_mode": {
        "name": "ipython",
        "version": 3
      },
      "file_extension": ".py",
      "mimetype": "text/x-python",
      "name": "python",
      "nbconvert_exporter": "python",
      "pygments_lexer": "ipython3",
      "version": "3.6.5"
    },
    "colab": {
      "name": "CS110 Pre Class Work 7.2",
      "provenance": [],
      "include_colab_link": true
    }
  },
  "cells": [
    {
      "cell_type": "markdown",
      "metadata": {
        "id": "view-in-github",
        "colab_type": "text"
      },
      "source": [
        "<a href=\"https://colab.research.google.com/github/mahmud-nobe/CS110_pcw/blob/master/CS110_Pre_Class_Work_7_2.ipynb\" target=\"_parent\"><img src=\"https://colab.research.google.com/assets/colab-badge.svg\" alt=\"Open In Colab\"/></a>"
      ]
    },
    {
      "cell_type": "markdown",
      "metadata": {
        "id": "joSvLqTpw8tC",
        "colab_type": "text"
      },
      "source": [
        "Before you turn this problem in, make sure everything runs as expected. First, **restart the kernel** (in the menubar, select Kernel$\\rightarrow$Restart) and then **run all cells** (in the menubar, select Cell$\\rightarrow$Run All).\n",
        "\n",
        "Make sure you fill in any place that says `YOUR CODE HERE` or \"YOUR ANSWER HERE\", as well as your name and collaborators below:"
      ]
    },
    {
      "cell_type": "code",
      "metadata": {
        "id": "6FJmN_sgw8tM",
        "colab_type": "code",
        "colab": {}
      },
      "source": [
        "NAME = \"\"\n",
        "COLLABORATORS = \"\""
      ],
      "execution_count": 0,
      "outputs": []
    },
    {
      "cell_type": "markdown",
      "metadata": {
        "id": "7fOJOqypw8ta",
        "colab_type": "text"
      },
      "source": [
        "---"
      ]
    },
    {
      "cell_type": "markdown",
      "metadata": {
        "deletable": false,
        "editable": false,
        "nbgrader": {
          "checksum": "2843e94073cad72d7107eb55b3f5d153",
          "grade": false,
          "grade_id": "cell-5b237cc13279b029",
          "locked": true,
          "schema_version": 1,
          "solution": false
        },
        "id": "5Md43_EEw8td",
        "colab_type": "text"
      },
      "source": [
        "# CS110 Pre-class Work 7.2\n",
        "\n",
        "## Part A. Direct Address Tables\n",
        "As the first step in setting up a crossword solving algorithm you need to create 2 direct address tables, one to store all the “up” answers-whether correct or not-and one to store all the “across” answers. Write python code to create a direct address table that allows you to:\n",
        "\n",
        "1. initialize N empty guesses\n",
        "2. set a guess for the i-th entry\n",
        "3. clear an incorrect guess for the i-th entry\n"
      ]
    },
    {
      "cell_type": "code",
      "metadata": {
        "deletable": false,
        "nbgrader": {
          "checksum": "69e5d714c7245702b8732209ea0b2b42",
          "grade": true,
          "grade_id": "cell-d8d2e3c1b136cdb9",
          "locked": false,
          "points": 0,
          "schema_version": 1,
          "solution": true
        },
        "id": "uKZv9czXw8tg",
        "colab_type": "code",
        "colab": {}
      },
      "source": [
        "# YOUR CODE HERE\n",
        "raise NotImplementedError()"
      ],
      "execution_count": 0,
      "outputs": []
    },
    {
      "cell_type": "markdown",
      "metadata": {
        "deletable": false,
        "editable": false,
        "nbgrader": {
          "checksum": "cdb562114e50f9ce1c97be3536b59efa",
          "grade": false,
          "grade_id": "cell-b27891b3ff16f730",
          "locked": true,
          "schema_version": 1,
          "solution": false
        },
        "id": "aMEaGsBXw8tr",
        "colab_type": "text"
      },
      "source": [
        "## Part B. Social Security\n",
        "\n",
        "Could we use a direct address table to store a country's entire set of social security numbers (aka id numbers)? Why or why not?\n"
      ]
    },
    {
      "cell_type": "markdown",
      "metadata": {
        "deletable": false,
        "nbgrader": {
          "checksum": "7b193e66cbea5bd9dac131a3d6adfefa",
          "grade": true,
          "grade_id": "cell-e751647d9af78c11",
          "locked": false,
          "points": 0,
          "schema_version": 1,
          "solution": true
        },
        "id": "QIMHnn2lw8tu",
        "colab_type": "text"
      },
      "source": [
        "YOUR ANSWER HERE"
      ]
    },
    {
      "cell_type": "markdown",
      "metadata": {
        "deletable": false,
        "editable": false,
        "nbgrader": {
          "checksum": "35f74a7f882cabb36df7ee2c43ee51db",
          "grade": false,
          "grade_id": "cell-cba2028918eea1fd",
          "locked": true,
          "schema_version": 1,
          "solution": false
        },
        "id": "8cvOPR58w8ty",
        "colab_type": "text"
      },
      "source": [
        "## Part C. Chained Hash-table\n",
        "\n",
        "## Question 1.\n",
        "\n",
        "Using the code in the cell below, complete the missing sections of code. You should copy and paste the code in an additional cell and fill in the code there."
      ]
    },
    {
      "cell_type": "code",
      "metadata": {
        "deletable": false,
        "editable": false,
        "nbgrader": {
          "checksum": "ffc1d9c145de9e5c52f96dfdc8a66fe2",
          "grade": false,
          "grade_id": "cell-9e41d88b035338f4",
          "locked": true,
          "schema_version": 1,
          "solution": false
        },
        "id": "MqR9ZRqYw8t3",
        "colab_type": "code",
        "colab": {}
      },
      "source": [
        "import random\n",
        "import string\n",
        "\n",
        "\n",
        "def randomword(length):\n",
        "    return ''.join(random.choice(string.ascii_lowercase) for i in range(length))\n",
        "\n",
        "\n",
        "def empty_hash_table(N):\n",
        "    return [[] for n in range(N)]\n",
        "\n",
        "\n",
        "def add_to_hash_table(hash_table, item, hash_function):\n",
        "    N = len(hash_table)\n",
        "    # Your code here\n",
        "    return hash_table\n",
        "\n",
        "\n",
        "def contains(hash_table, item, hash_function):\n",
        "    N = len(hash_table)\n",
        "    # Your code here\n",
        "    # return true if the item has already been stored in the hash_table\n",
        "\n",
        "\n",
        "def remove(hash_table, item, hash_function):\n",
        "    if not contains(hash_table, item, hash_function):\n",
        "        raise ValueError()\n",
        "    # Your code here\n",
        "    return hash_table\n",
        "\n",
        "\n",
        "def hash_str1(string):\n",
        "    ans = 0\n",
        "    for chr in string:\n",
        "        ans += ord(chr)\n",
        "    return ans\n",
        "\n",
        "def hash_str2(string):\n",
        "    ans=int(ord(string[0]))\n",
        "    for ix in range(1, len(string)):\n",
        "        ans = ans ^ ord(string[ix]) \n",
        "    return int(bin(ans).split('b')[1])\n",
        "\n",
        "\n",
        "def hash_str3(string):\n",
        "    ans = 0\n",
        "    for chr in string:\n",
        "        ans = ans * 128 + ord(chr)\n",
        "    return ans\n",
        "\n",
        "\n",
        "def hash_str4(string):\n",
        "    random.seed(ord(string[0]))\n",
        "    return random.getrandbits(32)"
      ],
      "execution_count": 0,
      "outputs": []
    },
    {
      "cell_type": "code",
      "metadata": {
        "deletable": false,
        "nbgrader": {
          "checksum": "b39c1af2de8a4581d16a2d630fcaac74",
          "grade": true,
          "grade_id": "cell-1b6cc6df105c101f",
          "locked": false,
          "points": 0,
          "schema_version": 1,
          "solution": true
        },
        "id": "IiJyPYkow8uA",
        "colab_type": "code",
        "colab": {}
      },
      "source": [
        "# YOUR CODE HERE\n",
        "raise NotImplementedError()"
      ],
      "execution_count": 0,
      "outputs": []
    },
    {
      "cell_type": "markdown",
      "metadata": {
        "deletable": false,
        "editable": false,
        "nbgrader": {
          "checksum": "d323c68243f6d1fe79cbf5ad01ee85ae",
          "grade": false,
          "grade_id": "cell-66fb150dd2e509a7",
          "locked": true,
          "schema_version": 1,
          "solution": false
        },
        "id": "GQT-JoMKw8uR",
        "colab_type": "text"
      },
      "source": [
        "## Question 2.\n",
        "Using the code, create 100,000 words of 10 characters each.\n"
      ]
    },
    {
      "cell_type": "code",
      "metadata": {
        "deletable": false,
        "nbgrader": {
          "checksum": "b9d2f1faad23eecd6f3691968bb4e455",
          "grade": true,
          "grade_id": "cell-234b1e83c871ddc7",
          "locked": false,
          "points": 0,
          "schema_version": 1,
          "solution": true
        },
        "id": "dxv3SoRpw8uY",
        "colab_type": "code",
        "colab": {}
      },
      "source": [
        "# YOUR CODE HERE\n",
        "raise NotImplementedError()"
      ],
      "execution_count": 0,
      "outputs": []
    },
    {
      "cell_type": "markdown",
      "metadata": {
        "deletable": false,
        "editable": false,
        "nbgrader": {
          "checksum": "190e7fdc00fc311f5ff32a390fff1ca4",
          "grade": false,
          "grade_id": "cell-2fbadca52cec7230",
          "locked": true,
          "schema_version": 1,
          "solution": false
        },
        "id": "UPEpVdaxw8uk",
        "colab_type": "text"
      },
      "source": [
        "## Question 3.\n",
        "\n",
        "Create four chained hash-tables with 5000 slots."
      ]
    },
    {
      "cell_type": "code",
      "metadata": {
        "deletable": false,
        "nbgrader": {
          "checksum": "0d1473300ae336ceb57d11687ab3ec0a",
          "grade": true,
          "grade_id": "cell-2dabefc41493ec16",
          "locked": false,
          "points": 0,
          "schema_version": 1,
          "solution": true
        },
        "id": "Rg3SbMI2w8un",
        "colab_type": "code",
        "colab": {}
      },
      "source": [
        "# YOUR CODE HERE\n",
        "raise NotImplementedError()"
      ],
      "execution_count": 0,
      "outputs": []
    },
    {
      "cell_type": "markdown",
      "metadata": {
        "deletable": false,
        "editable": false,
        "nbgrader": {
          "checksum": "c3d147917ae237a6dc75eddab48dbaa6",
          "grade": false,
          "grade_id": "cell-cc2e6d00330e691e",
          "locked": true,
          "schema_version": 1,
          "solution": false
        },
        "id": "a18C2TBqw8ux",
        "colab_type": "text"
      },
      "source": [
        "## Question 4.\n",
        "\n",
        "Store all the words in each chained hash table using each of the different hash functions."
      ]
    },
    {
      "cell_type": "code",
      "metadata": {
        "deletable": false,
        "nbgrader": {
          "checksum": "af209dceb17bf5f8d9fadf0808855f79",
          "grade": true,
          "grade_id": "cell-8a08ade8d45590a7",
          "locked": false,
          "points": 0,
          "schema_version": 1,
          "solution": true
        },
        "id": "naXslw01w8u0",
        "colab_type": "code",
        "colab": {}
      },
      "source": [
        "# YOUR CODE HERE\n",
        "raise NotImplementedError()"
      ],
      "execution_count": 0,
      "outputs": []
    },
    {
      "cell_type": "markdown",
      "metadata": {
        "deletable": false,
        "editable": false,
        "nbgrader": {
          "checksum": "858437d142a66b825fb0bebdb1c4d9fe",
          "grade": false,
          "grade_id": "cell-da2c8b42618fbde4",
          "locked": true,
          "schema_version": 1,
          "solution": false
        },
        "id": "kcgBZwBkw8u-",
        "colab_type": "text"
      },
      "source": [
        "## Question 5.\n",
        "\n",
        "Measure the number of collisions for each hash function."
      ]
    },
    {
      "cell_type": "code",
      "metadata": {
        "deletable": false,
        "nbgrader": {
          "checksum": "156f57bc1c6c1a3e10ca1804aa205099",
          "grade": true,
          "grade_id": "cell-a968f9e14a0416c4",
          "locked": false,
          "points": 0,
          "schema_version": 1,
          "solution": true
        },
        "id": "-PdY7ZX0w8u_",
        "colab_type": "code",
        "colab": {}
      },
      "source": [
        "# YOUR CODE HERE\n",
        "raise NotImplementedError()"
      ],
      "execution_count": 0,
      "outputs": []
    },
    {
      "cell_type": "markdown",
      "metadata": {
        "deletable": false,
        "editable": false,
        "nbgrader": {
          "checksum": "ef47cabb10897284ca375490003e6b3d",
          "grade": false,
          "grade_id": "cell-435ba1cfb2d80447",
          "locked": true,
          "schema_version": 1,
          "solution": false
        },
        "id": "CLpH_45Bw8vF",
        "colab_type": "text"
      },
      "source": [
        "## Question 6.\n",
        "\n",
        "For each of the hash functions, how many elements are in a bucket on average (if it is not empty)?\n"
      ]
    },
    {
      "cell_type": "code",
      "metadata": {
        "deletable": false,
        "nbgrader": {
          "checksum": "9f77d346c6e5ffbfb92ac0707c3c1d72",
          "grade": true,
          "grade_id": "cell-b4052afa2ee7c702",
          "locked": false,
          "points": 0,
          "schema_version": 1,
          "solution": true
        },
        "id": "DMx4LzDjw8vG",
        "colab_type": "code",
        "colab": {}
      },
      "source": [
        "# YOUR CODE HERE\n",
        "raise NotImplementedError()"
      ],
      "execution_count": 0,
      "outputs": []
    },
    {
      "cell_type": "markdown",
      "metadata": {
        "deletable": false,
        "editable": false,
        "nbgrader": {
          "checksum": "aaeb9bd55b7a86f8bc8079cbb7f8bca4",
          "grade": false,
          "grade_id": "cell-b86aef4dd22c236c",
          "locked": true,
          "schema_version": 1,
          "solution": false
        },
        "id": "X9ciQSdYw8vM",
        "colab_type": "text"
      },
      "source": [
        "## Question 7.\n",
        "\n",
        "Time how long it takes to find elements that are in each hash table.\n"
      ]
    },
    {
      "cell_type": "code",
      "metadata": {
        "deletable": false,
        "nbgrader": {
          "checksum": "23927c46b8067f49ef10e9b4183f7680",
          "grade": true,
          "grade_id": "cell-0605f7dec7128414",
          "locked": false,
          "points": 0,
          "schema_version": 1,
          "solution": true
        },
        "id": "EBKDl9dVw8vN",
        "colab_type": "code",
        "colab": {}
      },
      "source": [
        "# YOUR CODE HERE\n",
        "raise NotImplementedError()"
      ],
      "execution_count": 0,
      "outputs": []
    },
    {
      "cell_type": "markdown",
      "metadata": {
        "deletable": false,
        "editable": false,
        "nbgrader": {
          "checksum": "b051093ca9a2faf1658679380bf29033",
          "grade": false,
          "grade_id": "cell-75db2c2e62cec090",
          "locked": true,
          "schema_version": 1,
          "solution": false
        },
        "id": "rL80Tr4Ww8vR",
        "colab_type": "text"
      },
      "source": [
        "## Question 8.\n",
        "For each hash table, time how long it takes to find 10,000 elements that have not been stored."
      ]
    },
    {
      "cell_type": "code",
      "metadata": {
        "deletable": false,
        "nbgrader": {
          "checksum": "99b2fa8c88000c2143cb00fac1f6aa5f",
          "grade": true,
          "grade_id": "cell-b846b45e1b98ae59",
          "locked": false,
          "points": 0,
          "schema_version": 1,
          "solution": true
        },
        "id": "6Gw9XDsWw8vS",
        "colab_type": "code",
        "colab": {}
      },
      "source": [
        "# YOUR CODE HERE\n",
        "raise NotImplementedError()"
      ],
      "execution_count": 0,
      "outputs": []
    }
  ]
}