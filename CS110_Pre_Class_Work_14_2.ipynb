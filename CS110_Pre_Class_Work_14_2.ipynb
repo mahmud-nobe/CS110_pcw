{
  "nbformat": 4,
  "nbformat_minor": 0,
  "metadata": {
    "kernelspec": {
      "display_name": "Python 3",
      "language": "python",
      "name": "python3"
    },
    "language_info": {
      "codemirror_mode": {
        "name": "ipython",
        "version": 3
      },
      "file_extension": ".py",
      "mimetype": "text/x-python",
      "name": "python",
      "nbconvert_exporter": "python",
      "pygments_lexer": "ipython3",
      "version": "3.6.5"
    },
    "colab": {
      "name": "CS110 Pre Class Work 14.2",
      "provenance": [],
      "include_colab_link": true
    }
  },
  "cells": [
    {
      "cell_type": "markdown",
      "metadata": {
        "id": "view-in-github",
        "colab_type": "text"
      },
      "source": [
        "<a href=\"https://colab.research.google.com/github/mahmud-nobe/CS110_pcw/blob/master/CS110_Pre_Class_Work_14_2.ipynb\" target=\"_parent\"><img src=\"https://colab.research.google.com/assets/colab-badge.svg\" alt=\"Open In Colab\"/></a>"
      ]
    },
    {
      "cell_type": "markdown",
      "metadata": {
        "id": "ARFOfxMNcKgl",
        "colab_type": "text"
      },
      "source": [
        "Before you turn this problem in, make sure everything runs as expected. First, **restart the kernel** (in the menubar, select Kernel$\\rightarrow$Restart) and then **run all cells** (in the menubar, select Cell$\\rightarrow$Run All).\n",
        "\n",
        "Make sure you fill in any place that says `YOUR CODE HERE` or \"YOUR ANSWER HERE\", as well as your name and collaborators below:"
      ]
    },
    {
      "cell_type": "code",
      "metadata": {
        "id": "v0WJzoSfcKgo",
        "colab_type": "code",
        "colab": {}
      },
      "source": [
        "NAME = \"Md Mahmudunnobe\"\n",
        "COLLABORATORS = \"\""
      ],
      "execution_count": 0,
      "outputs": []
    },
    {
      "cell_type": "markdown",
      "metadata": {
        "id": "YB-IyU2HcKgw",
        "colab_type": "text"
      },
      "source": [
        "---"
      ]
    },
    {
      "cell_type": "markdown",
      "metadata": {
        "deletable": false,
        "editable": false,
        "nbgrader": {
          "checksum": "66e4a5cae0e361c97d6c83e84754f7bb",
          "grade": false,
          "grade_id": "cell-aedfb9351c4dd419",
          "locked": true,
          "schema_version": 1,
          "solution": false
        },
        "id": "FpSChghBcKgw",
        "colab_type": "text"
      },
      "source": [
        "# CS110 Pre-class Work 14.1\n",
        "\n",
        "In this Pre-class work we will apply Huffman's algorithm in file compression. \n",
        "## Question 1.\n",
        "Below is the utility function for downloading a text file from a URL. "
      ]
    },
    {
      "cell_type": "code",
      "metadata": {
        "deletable": false,
        "editable": false,
        "nbgrader": {
          "checksum": "b4cfc6776ba647ea042e50771b3d8483",
          "grade": false,
          "grade_id": "cell-b84ee6c499c87372",
          "locked": true,
          "schema_version": 1,
          "solution": false
        },
        "id": "yEGn239WcKgx",
        "colab_type": "code",
        "colab": {}
      },
      "source": [
        "from urllib.request import urlopen\n",
        "import shutil\n",
        "import gzip\n",
        "import os\n",
        "\n",
        "\n",
        "# Download the file if need be:\n",
        "def download_file(url, filename):\n",
        "    if not os.path.exists(filename):\n",
        "        response = urlopen(url + filename)\n",
        "        shutil.copyfileobj(\n",
        "            gzip.GzipFile(fileobj=response), open(filename+'.txt', 'wb'))\n",
        "\n",
        "url = \"http://www.gutenberg.org/ebooks/\"\n",
        "filename = \"100.txt.utf-8\"\n",
        "\n",
        "download_file(url, filename) "
      ],
      "execution_count": 0,
      "outputs": []
    },
    {
      "cell_type": "markdown",
      "metadata": {
        "deletable": false,
        "editable": false,
        "nbgrader": {
          "checksum": "8a077d16d8c9d48ba47b01467d9fd9c2",
          "grade": false,
          "grade_id": "cell-c2e379e275938e68",
          "locked": true,
          "schema_version": 1,
          "solution": false
        },
        "id": "Hc23F02rcKg0",
        "colab_type": "text"
      },
      "source": [
        "Your tasks:\n",
        "\n",
        "1. Run the cell so that the file \"100.txt.utf-8\" is downloaded to your local machine. Please allow some time for the code to complete.\n",
        "2. Check that the file \"100.txt.utf-8\" has been downloaded to your computer.\n",
        "3. Open and view the file with your favorite text editor. \n",
        "4. In the cell below, write down the size of the downloaded file (for example, 1.2GB)"
      ]
    },
    {
      "cell_type": "markdown",
      "metadata": {
        "deletable": false,
        "nbgrader": {
          "checksum": "f18750524ace65719b91a60e8d9a43b8",
          "grade": true,
          "grade_id": "cell-b83cd656878410be",
          "locked": false,
          "points": 0,
          "schema_version": 1,
          "solution": true
        },
        "id": "g28T5kCQcKg0",
        "colab_type": "text"
      },
      "source": [
        "\n",
        "5459 KB"
      ]
    },
    {
      "cell_type": "markdown",
      "metadata": {
        "deletable": false,
        "editable": false,
        "nbgrader": {
          "checksum": "80849f8ac566ae2fe64a35cc8c8e882d",
          "grade": false,
          "grade_id": "cell-5ffca685c11b6b4d",
          "locked": true,
          "schema_version": 1,
          "solution": false
        },
        "id": "2DcbDDJscKg3",
        "colab_type": "text"
      },
      "source": [
        "## Question 2. \n",
        "Now, as a bit of an interlude, we will get familiar with the `bitarray` Python library, which is helpful for completing this pre-class work. Go to this [link](https://pypi.org/project/bitarray/) and read the examples in the first three cell of section **Using the module**. Once you complete the reading task, please complete the function `get_bit_array` in the cell below."
      ]
    },
    {
      "cell_type": "code",
      "metadata": {
        "id": "PuD1QCP5BG8x",
        "colab_type": "code",
        "colab": {
          "base_uri": "https://localhost:8080/",
          "height": 207
        },
        "outputId": "eb30de41-b006-4710-f05d-2680b57e1cba"
      },
      "source": [
        "!pip install bitarray"
      ],
      "execution_count": 3,
      "outputs": [
        {
          "output_type": "stream",
          "text": [
            "Collecting bitarray\n",
            "\u001b[?25l  Downloading https://files.pythonhosted.org/packages/3d/78/99528059e42f199910df89bd0ad8d9238f41d0499b506e0b3174340075ea/bitarray-1.2.1.tar.gz (48kB)\n",
            "\r\u001b[K     |██████▉                         | 10kB 15.6MB/s eta 0:00:01\r\u001b[K     |█████████████▋                  | 20kB 1.5MB/s eta 0:00:01\r\u001b[K     |████████████████████▍           | 30kB 2.3MB/s eta 0:00:01\r\u001b[K     |███████████████████████████▏    | 40kB 1.6MB/s eta 0:00:01\r\u001b[K     |████████████████████████████████| 51kB 1.6MB/s \n",
            "\u001b[?25hBuilding wheels for collected packages: bitarray\n",
            "  Building wheel for bitarray (setup.py) ... \u001b[?25l\u001b[?25hdone\n",
            "  Created wheel for bitarray: filename=bitarray-1.2.1-cp36-cp36m-linux_x86_64.whl size=105034 sha256=c62c02f9a3095631fbbad54b88948f554c00bef141ef4ba97f400e8235cbed29\n",
            "  Stored in directory: /root/.cache/pip/wheels/8e/4f/42/90d76aca9f4a7420c8c82fe15ed949777ab3fafe9fc1d705b3\n",
            "Successfully built bitarray\n",
            "Installing collected packages: bitarray\n",
            "Successfully installed bitarray-1.2.1\n"
          ],
          "name": "stdout"
        }
      ]
    },
    {
      "cell_type": "code",
      "metadata": {
        "deletable": false,
        "nbgrader": {
          "checksum": "ec3c2a880c1c14e2d359fac0dada1c28",
          "grade": false,
          "grade_id": "cell-7ba9ec08bcd38455",
          "locked": false,
          "schema_version": 1,
          "solution": true
        },
        "id": "Z-FQ5omicKg4",
        "colab_type": "code",
        "colab": {}
      },
      "source": [
        "from bitarray import bitarray\n",
        "class Node(object):\n",
        "    \"\"\"A node in a binary tree that represents a prefix code.\"\"\"\n",
        "    def __init__(self, freq, symb, parent = None, lchild = None, rchild = None):\n",
        "        \"\"\"\n",
        "        - freq: float, frequency of the character\n",
        "        - symb: string, a character in the file \n",
        "        - parent: a node, parent of the current node in the tree\n",
        "        - lchild, rchild: left child node and right child node of the current node \n",
        "        in the tree.\n",
        "        \"\"\"\n",
        "        self.freq = freq\n",
        "        self.symb = symb\n",
        "        self.parent = parent\n",
        "        self.lchild = lchild\n",
        "        self.rchild = rchild\n",
        "    \n",
        "    def __lt__(self, other):\n",
        "        \"\"\"\n",
        "        nodeA < nodeB returns True if nodeA.freq < nodeB.freq. This enables\n",
        "        us to use the module heapq on nodes. In other words, with this function,\n",
        "        we can now push/insert a node into a heap as well as extract/pop the \n",
        "        minimum node from a heap. We studied the module heapq before. You can brush\n",
        "        up your memory by visiting this link: \n",
        "        https://docs.python.org/3.0/library/heapq.html\n",
        "        \n",
        "        \"\"\"\n",
        "        return self.freq < other.freq\n",
        "    \n",
        "def get_bitarray(node):\n",
        "    \"\"\"\n",
        "    Given a node in the tree, determines the corresponding codeword for character\n",
        "    node.symb, using the rule in Cormen et al.: the binary codeword for a character \n",
        "    is the simple path from the root to that character, where 0 means “go to the \n",
        "    left child” and 1 means “go to the right child.\n",
        "    \n",
        "    Inputs:\n",
        "    - node: a node, whose codeword represented by the tree is of interest\n",
        "    \n",
        "    Outputs:\n",
        "    - a: a bit array that represents the codeword. For example, if the codeword is \n",
        "    01001, then a is bitarray('01001')\n",
        "    \n",
        "    \"\"\"\n",
        "    current_node = node\n",
        "    lst = [] #list for adding the truth value\n",
        "\n",
        "    # bottom-up approach\n",
        "    while(current_node.parent != None):\n",
        "        if(current_node == current_node.parent.lchild):\n",
        "            lst.append(False)\n",
        "        elif(current_node == current_node.parent.rchild):\n",
        "            lst.append(True)\n",
        "\n",
        "        current_node = current_node.parent\n",
        "    \n",
        "    lst.reverse()\n",
        "\n",
        "    codeword = bitarray(lst)\n",
        "    return codeword\n",
        "\n",
        "    raise NotImplementedError()"
      ],
      "execution_count": 0,
      "outputs": []
    },
    {
      "cell_type": "markdown",
      "metadata": {
        "deletable": false,
        "editable": false,
        "nbgrader": {
          "checksum": "2fe3268d072490748502ac5657baf039",
          "grade": false,
          "grade_id": "cell-30c0c74327992b26",
          "locked": true,
          "schema_version": 1,
          "solution": false
        },
        "id": "TxTT5An4cKg-",
        "colab_type": "text"
      },
      "source": [
        "## Question 3. \n",
        "Complete the following function that builds a Huffman code, making use of `get_bitarray` and the module `heapq`. "
      ]
    },
    {
      "cell_type": "code",
      "metadata": {
        "deletable": false,
        "nbgrader": {
          "checksum": "ff946fc33af51c13fefcf767c4f91292",
          "grade": false,
          "grade_id": "cell-a99a125161e64aac",
          "locked": false,
          "schema_version": 1,
          "solution": true
        },
        "id": "PzlCq6MucKg-",
        "colab_type": "code",
        "colab": {}
      },
      "source": [
        "import heapq\n",
        "def encode(symb2freq):\n",
        "    \"\"\"\n",
        "    Huffman encode the given dict mapping symbols to weights. \n",
        "    \n",
        "    Inputs:\n",
        "    - symb2freq: a dictionary that maps a symbol/character to\n",
        "    the probability frequency in the text file. For example,\n",
        "    {'a': .3, 'b':.6, 'c': .1}. This example symb2freq means \n",
        "    that symbol 'a' appears with frequency 30%, symbol 'b' 60%, \n",
        "    and symbol 'c' 10%.\n",
        "    \n",
        "    Outputs:\n",
        "    - out: a dictionary that maps a symbol/charcater to a bitarray\n",
        "    that represents the codeword for that symbol. For example,\n",
        "    out = {'a': bitarray('01'), 'b': bitarray('11'), 'c': bitarray('101')}.\n",
        "    \"\"\"\n",
        "    \n",
        "    n = len(symb2freq)\n",
        "    q = []\n",
        "    node_dict = dict({})\n",
        "\n",
        "    for i in symb2freq:\n",
        "        a = Node(symb2freq[i], i)\n",
        "        heapq.heappush(q, a)\n",
        "        node_dict[i] = a\n",
        "    \n",
        "    for i in range(n-1):\n",
        "        x = heapq.heappop(q)\n",
        "        y = heapq.heappop(q)\n",
        "        z = Node(x.freq + y.freq, x.symb+y.symb, lchild=x, rchild=y)\n",
        "        x.parent = z\n",
        "        y.parent = z\n",
        "        heapq.heappush(q, z)\n",
        "\n",
        "    for i in node_dict:\n",
        "        node_dict[i] = get_bitarray(node_dict[i])\n",
        "    \n",
        "    return node_dict\n",
        "\n",
        "    #raise NotImplementedError()"
      ],
      "execution_count": 0,
      "outputs": []
    },
    {
      "cell_type": "code",
      "metadata": {
        "id": "ikfR00YWgEQa",
        "colab_type": "code",
        "colab": {
          "base_uri": "https://localhost:8080/",
          "height": 34
        },
        "outputId": "bc718c75-4310-46e7-f109-7e93405a4a56"
      },
      "source": [
        "test = {'a': .3, 'b':.6, 'c': .1}\n",
        "encode(test)"
      ],
      "execution_count": 48,
      "outputs": [
        {
          "output_type": "execute_result",
          "data": {
            "text/plain": [
              "{'a': bitarray('01'), 'b': bitarray('1'), 'c': bitarray('00')}"
            ]
          },
          "metadata": {
            "tags": []
          },
          "execution_count": 48
        }
      ]
    },
    {
      "cell_type": "markdown",
      "metadata": {
        "deletable": false,
        "editable": false,
        "nbgrader": {
          "checksum": "cfdc434c6f29f0186e0bcadcec736d83",
          "grade": false,
          "grade_id": "cell-fa651be15a7f3559",
          "locked": true,
          "schema_version": 1,
          "solution": false
        },
        "id": "E09EGdZXcKhB",
        "colab_type": "text"
      },
      "source": [
        "# Question 4. \n",
        "Below you are given three functions to 1) build a frequency table for a file, 2) compress a file, and 3) decompress a file. Make use of these functions to do the following:\n",
        "\n",
        "1. Create a compressed version of file `100.txt.utf-8.txt` that is named `100.txt.utf-8.txt.huff`.\n",
        "2. Decompress `100.txt.utf-8.txt.huff` to file `100.txt.utf-8.txt.huff.dehuff.txt`. "
      ]
    },
    {
      "cell_type": "code",
      "metadata": {
        "deletable": false,
        "nbgrader": {
          "checksum": "f1a7d2cdc3ec444c75a311ce72630ee3",
          "grade": false,
          "grade_id": "cell-7c911f3552280b25",
          "locked": false,
          "schema_version": 1,
          "solution": true
        },
        "id": "essG5HJMcKhB",
        "colab_type": "code",
        "colab": {}
      },
      "source": [
        "from collections import defaultdict \n",
        "import pickle\n",
        "# build a frequency table:\n",
        "def build_freq(filename):\n",
        "    freq = defaultdict(int)\n",
        "    with open(filename, 'rb') as f:\n",
        "        for line in f:\n",
        "            for char in line:\n",
        "                freq[char] += 1\n",
        "    total = float(sum(freq.values()))\n",
        "    return {char: count / total for (char, count) in freq.items()}\n",
        "\n",
        "# Now compress the file:\n",
        "def compress(filename, encoding, compressed_name=None):\n",
        "    if compressed_name is None:\n",
        "        compressed_name = filename + \".huff\"\n",
        "    output = bitarray()\n",
        "    with open(filename, 'rb') as f:\n",
        "        for line in f:\n",
        "            for char in line:\n",
        "                output.extend(encoding[char])\n",
        "    N = len(output)\n",
        "    with open(compressed_name, 'wb') as f:\n",
        "        pickle.dump(N, f)\n",
        "        pickle.dump(encoding, f)\n",
        "        output.tofile(f)\n",
        "\n",
        "\n",
        "# Now decompress the file:\n",
        "def decompress(filename, decompressed_name=None):\n",
        "    if decompressed_name is None:\n",
        "        decompressed_name = filename + \".dehuff.txt\"\n",
        "    with open(filename, 'rb') as f:\n",
        "        N = pickle.load(f)\n",
        "        encoding = pickle.load(f)\n",
        "        bits = bitarray()\n",
        "        bits.fromfile(f)\n",
        "        bits = bits[:N]\n",
        "\n",
        "    # Totally cheating here and using a builtin method:\n",
        "    output = bits.decode(encoding)\n",
        "    with open(decompressed_name, 'wb') as f:\n",
        "        f.write(bytes(output))\n",
        "        \n",
        "\n"
      ],
      "execution_count": 0,
      "outputs": []
    },
    {
      "cell_type": "code",
      "metadata": {
        "id": "O6ukdN93esR0",
        "colab_type": "code",
        "colab": {}
      },
      "source": [
        "freq_table = build_freq(filename = '100.txt.utf-8.txt')\n",
        "# raise NotImplementedError()"
      ],
      "execution_count": 0,
      "outputs": []
    },
    {
      "cell_type": "code",
      "metadata": {
        "id": "yQ1PwPZefZy_",
        "colab_type": "code",
        "colab": {}
      },
      "source": [
        "encoder = encode(freq_table)"
      ],
      "execution_count": 0,
      "outputs": []
    },
    {
      "cell_type": "code",
      "metadata": {
        "id": "C9Ojzn2qfjYe",
        "colab_type": "code",
        "colab": {}
      },
      "source": [
        "compress(filename = '100.txt.utf-8.txt', encoding=encoder, compressed_name=None)"
      ],
      "execution_count": 0,
      "outputs": []
    },
    {
      "cell_type": "code",
      "metadata": {
        "id": "KThad_fDkerr",
        "colab_type": "code",
        "colab": {}
      },
      "source": [
        "decompress(filename = '100.txt.utf-8.txt.huff', decompressed_name=None)"
      ],
      "execution_count": 0,
      "outputs": []
    },
    {
      "cell_type": "markdown",
      "metadata": {
        "deletable": false,
        "editable": false,
        "nbgrader": {
          "checksum": "4df4ea196f6952f4b7e15d7ed2ea9430",
          "grade": false,
          "grade_id": "cell-b564d21e754a0461",
          "locked": true,
          "schema_version": 1,
          "solution": false
        },
        "id": "IThU5nDIcKhE",
        "colab_type": "text"
      },
      "source": [
        "## Question 5. \n",
        "Give your answer in the cell below:\n",
        "1. Report the size of the compressed file and the decompressed file in the cell below.\n",
        "2. How does the size of the decompressed file compare to the size of the original file (`100.txt.utf-8.txt`)?\n",
        "3. Visually skim the decompressed file and the original file. Do they appear identical?"
      ]
    },
    {
      "cell_type": "markdown",
      "metadata": {
        "deletable": false,
        "nbgrader": {
          "checksum": "4c171a626010799721ff7c9e3ac9a22a",
          "grade": true,
          "grade_id": "cell-b5988d6026475a88",
          "locked": false,
          "points": 0,
          "schema_version": 1,
          "solution": true
        },
        "id": "Y4_-mQIzcKhH",
        "colab_type": "text"
      },
      "source": [
        "1. Compressed File: 3.13 M\n",
        "\n",
        "    Decompressed File: 5.33 M\n",
        "\n",
        "2. Original File: 5.33 M\n",
        "\n",
        "3. Yes, They do."
      ]
    },
    {
      "cell_type": "markdown",
      "metadata": {
        "deletable": false,
        "editable": false,
        "nbgrader": {
          "checksum": "499835f219f42c8fb92f0ac6136707a4",
          "grade": false,
          "grade_id": "cell-b9ea500bebcac4dd",
          "locked": true,
          "schema_version": 1,
          "solution": false
        },
        "id": "qtQDevAycKhI",
        "colab_type": "text"
      },
      "source": [
        "## Question 6.\n",
        "Compute and print out:\n",
        "1. The percentage of 1’s in the compressed version\n",
        "2. The percentage of 1’s in the uncompressed version"
      ]
    },
    {
      "cell_type": "code",
      "metadata": {
        "deletable": false,
        "nbgrader": {
          "checksum": "e1287afdf6be4303ec9293e1894b9643",
          "grade": true,
          "grade_id": "cell-a1f9f58458cf80d5",
          "locked": false,
          "points": 0,
          "schema_version": 1,
          "solution": true
        },
        "id": "zQRDn29PcKhJ",
        "colab_type": "code",
        "colab": {}
      },
      "source": [
        "# YOUR CODE HERE\n",
        "raise NotImplementedError()"
      ],
      "execution_count": 0,
      "outputs": []
    }
  ]
}