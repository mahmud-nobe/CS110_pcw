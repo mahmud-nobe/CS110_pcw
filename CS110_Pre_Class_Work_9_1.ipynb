{
  "nbformat": 4,
  "nbformat_minor": 0,
  "metadata": {
    "kernelspec": {
      "display_name": "Python 3",
      "language": "python",
      "name": "python3"
    },
    "language_info": {
      "codemirror_mode": {
        "name": "ipython",
        "version": 3
      },
      "file_extension": ".py",
      "mimetype": "text/x-python",
      "name": "python",
      "nbconvert_exporter": "python",
      "pygments_lexer": "ipython3",
      "version": "3.6.5"
    },
    "colab": {
      "name": "CS110 Pre Class Work 9.1",
      "provenance": [],
      "include_colab_link": true
    }
  },
  "cells": [
    {
      "cell_type": "markdown",
      "metadata": {
        "id": "view-in-github",
        "colab_type": "text"
      },
      "source": [
        "<a href=\"https://colab.research.google.com/github/mahmud-nobe/CS110_pcw/blob/master/CS110_Pre_Class_Work_9_1.ipynb\" target=\"_parent\"><img src=\"https://colab.research.google.com/assets/colab-badge.svg\" alt=\"Open In Colab\"/></a>"
      ]
    },
    {
      "cell_type": "markdown",
      "metadata": {
        "id": "I7b9oRReDKJk",
        "colab_type": "text"
      },
      "source": [
        "Before you turn this problem in, make sure everything runs as expected. First, **restart the kernel** (in the menubar, select Kernel$\\rightarrow$Restart) and then **run all cells** (in the menubar, select Cell$\\rightarrow$Run All).\n",
        "\n",
        "Make sure you fill in any place that says `YOUR CODE HERE` or \"YOUR ANSWER HERE\", as well as your name and collaborators below:"
      ]
    },
    {
      "cell_type": "code",
      "metadata": {
        "id": "y9xPy07LDKJo",
        "colab_type": "code",
        "colab": {}
      },
      "source": [
        "NAME = \"Md Mahmudunnobe\"\n",
        "COLLABORATORS = \"\""
      ],
      "execution_count": 0,
      "outputs": []
    },
    {
      "cell_type": "code",
      "metadata": {
        "id": "kLrCaB5JH2cG",
        "colab_type": "code",
        "colab": {}
      },
      "source": [
        "## code from last preclass work\n",
        "\n",
        "## Binary Search Tree\n",
        "##\n",
        "class Node:\n",
        "    def __init__(self, val):\n",
        "        self.l_child = None\n",
        "        self.r_child = None\n",
        "        self.parent = None\n",
        "        self.data = val\n",
        "        self.node_list = [self]\n",
        "\n",
        "    def insert(self, node):\n",
        "        \"\"\"inserts a node into a *non-empty* tree rooted at the node, returns\n",
        "        the root\"\"\"\n",
        "        self.node_list.append(node)\n",
        "        if self.data > node.data:\n",
        "            if self.l_child is None:\n",
        "                self.l_child = node\n",
        "                node.parent = self\n",
        "            else:\n",
        "                self.l_child.insert(node)\n",
        "        else:\n",
        "            if self.r_child is None:\n",
        "                self.r_child = node\n",
        "                node.parent = self\n",
        "            else:\n",
        "                self.r_child.insert(node)\n",
        "        return self\n",
        "    \n",
        "    def minimum(self):\n",
        "        node = self\n",
        "        while node.l_child != None:\n",
        "            node = node.l_child\n",
        "        return node\n",
        "\n",
        "    def search_data(self, value):\n",
        "        \"\"\"searches a *non-empty* tree rooted at the node for a node with\n",
        "        data = value, returns the value if found, None otherwise\"\"\"\n",
        "        node = self.search(value)\n",
        "        if node:\n",
        "            return node.data\n",
        "        else:\n",
        "            return node\n",
        "        \n",
        "    def to_string(self): \n",
        "        print('self.data', self.data)\n",
        "        root=self\n",
        "        if not root: \n",
        "            return 'Nil'\n",
        "        else: \n",
        "            r = root.r_child.to_string() if root.r_child else 'Nil'\n",
        "            l = root.l_child.to_string() if root.l_child else 'Nil'\n",
        "        return 'Node(' + str(root.data) + ' L: ' + l + ' R: ' + r + ')'\n",
        "\n",
        "    def to_node(self, node_list): \n",
        "        print('self', self)\n",
        "        root = self\n",
        "        if not root: \n",
        "            return node_list\n",
        "        else: \n",
        "          if (root.r_child):\n",
        "            r = root.r_child.to_node(node_list) \n",
        "          if (root.l_child):\n",
        "            l = root.l_child.to_node(node_list)\n",
        "        node_list.append(root)\n",
        "        if(l):\n",
        "          node_list.append(l)\n",
        "        if(r):\n",
        "          node_list.append(r)\n",
        "        return  node_list \n",
        "    \n",
        "    # def inorder(self):\n",
        "\n",
        "\n",
        "    # raise NotImplementedError()\n"
      ],
      "execution_count": 0,
      "outputs": []
    },
    {
      "cell_type": "markdown",
      "metadata": {
        "id": "ia8VKaxTDKJs",
        "colab_type": "text"
      },
      "source": [
        "---"
      ]
    },
    {
      "cell_type": "markdown",
      "metadata": {
        "deletable": false,
        "editable": false,
        "nbgrader": {
          "checksum": "1b7edf2a96e908cf96bc1c9e0d3104a4",
          "grade": false,
          "grade_id": "cell-bd90321d310ba2d4",
          "locked": true,
          "schema_version": 1,
          "solution": false
        },
        "id": "xzvNxg7xDKJt",
        "colab_type": "text"
      },
      "source": [
        "# CS110 Pre-class Work 9.1\n",
        "\n",
        "## Part A. Average number of comparisons when searching"
      ]
    },
    {
      "cell_type": "markdown",
      "metadata": {
        "deletable": false,
        "editable": false,
        "nbgrader": {
          "checksum": "a79cbf2799a45e4c351c9ed9f600c3b5",
          "grade": false,
          "grade_id": "cell-d3f754a4d3637207",
          "locked": true,
          "schema_version": 1,
          "solution": false
        },
        "id": "7IK3W2edDKJu",
        "colab_type": "text"
      },
      "source": [
        "\n",
        "## Question 1. \n",
        "\n",
        "Complete the following function that computes the depth of a given node in a BST identified by its root. Use the test below to make sure your code works properly (Optional: Why does the test work?)"
      ]
    },
    {
      "cell_type": "code",
      "metadata": {
        "deletable": false,
        "nbgrader": {
          "checksum": "6040a364ba7372adc7f259a4b0d875fc",
          "grade": false,
          "grade_id": "cell-cd10e9a432673bd9",
          "locked": false,
          "schema_version": 1,
          "solution": true
        },
        "id": "9cQivfLzDKJv",
        "colab_type": "code",
        "colab": {}
      },
      "source": [
        "def depth(root, node):\n",
        "    \"\"\"finds the depth of the node in a BST. depth of root is 0.\n",
        "\n",
        "    Input:\n",
        "    - root: a node, the root of the BST\n",
        "    - node: a node to compute the depth of\n",
        "\n",
        "    Output:\n",
        "    - d: int, distance from node to root\"\"\"\n",
        "    \n",
        "    distance = 0\n",
        "    \n",
        "    current_node = root\n",
        "    while(current_node.data != node.data):\n",
        "      distance += 1\n",
        "      if(node.data < current_node.data):\n",
        "        current_node = current_node.l_child\n",
        "      else: \n",
        "        current_node = current_node.r_child\n",
        "    return distance\n",
        "\n",
        "    raise NotImplementedError()"
      ],
      "execution_count": 0,
      "outputs": []
    },
    {
      "cell_type": "code",
      "metadata": {
        "id": "X9CWCKP7DKJy",
        "colab_type": "code",
        "outputId": "2f5aacfb-e78b-4a40-d363-81728a41fb9a",
        "colab": {
          "base_uri": "https://localhost:8080/",
          "height": 170
        }
      },
      "source": [
        "import math\n",
        "# Testing code \n",
        "bst = None\n",
        "nodes = [Node(15), Node(6), Node(18), Node(3), Node(7), \n",
        "         Node(17), Node(20), Node(2), Node(4)]\n",
        "for node in nodes:\n",
        "    if not bst:\n",
        "        bst = node\n",
        "    else:\n",
        "        bst.insert(node)\n",
        "#         insert(bst, node)\n",
        "for i in range(len(nodes)):\n",
        "  print(depth(bst, nodes[i]), int(math.log(i+1,2)))\n",
        "  assert(depth(bst, nodes[i]) == int(math.log(i+1,2)))"
      ],
      "execution_count": 52,
      "outputs": [
        {
          "output_type": "stream",
          "text": [
            "0 0\n",
            "1 1\n",
            "1 1\n",
            "2 2\n",
            "2 2\n",
            "2 2\n",
            "2 2\n",
            "3 3\n",
            "3 3\n"
          ],
          "name": "stdout"
        }
      ]
    },
    {
      "cell_type": "code",
      "metadata": {
        "id": "l4LyGTJmPiLp",
        "colab_type": "code",
        "colab": {
          "base_uri": "https://localhost:8080/",
          "height": 88
        },
        "outputId": "dfffc840-92da-49d2-e9e8-33a0e876abc5"
      },
      "source": [
        "print(nodes)\n",
        "print(bst.node_list)\n",
        "len(nodes), len(bst.node_list)"
      ],
      "execution_count": 53,
      "outputs": [
        {
          "output_type": "stream",
          "text": [
            "[<__main__.Node object at 0x7fcabee03a58>, <__main__.Node object at 0x7fcabee03b70>, <__main__.Node object at 0x7fcabee03c88>, <__main__.Node object at 0x7fcabee03c18>, <__main__.Node object at 0x7fcabee03f98>, <__main__.Node object at 0x7fcabee03cc0>, <__main__.Node object at 0x7fcabee03978>, <__main__.Node object at 0x7fcabee036d8>, <__main__.Node object at 0x7fcabee03e10>]\n",
            "[<__main__.Node object at 0x7fcabee03a58>, <__main__.Node object at 0x7fcabee03b70>, <__main__.Node object at 0x7fcabee03c88>, <__main__.Node object at 0x7fcabee03c18>, <__main__.Node object at 0x7fcabee03f98>, <__main__.Node object at 0x7fcabee03cc0>, <__main__.Node object at 0x7fcabee03978>, <__main__.Node object at 0x7fcabee036d8>, <__main__.Node object at 0x7fcabee03e10>]\n"
          ],
          "name": "stdout"
        },
        {
          "output_type": "execute_result",
          "data": {
            "text/plain": [
              "(9, 9)"
            ]
          },
          "metadata": {
            "tags": []
          },
          "execution_count": 53
        }
      ]
    },
    {
      "cell_type": "code",
      "metadata": {
        "deletable": false,
        "editable": false,
        "nbgrader": {
          "checksum": "46a630a4c6307c799c44715ec3868d58",
          "grade": true,
          "grade_id": "cell-c57bc5138040968c",
          "locked": true,
          "points": 1,
          "schema_version": 1,
          "solution": false
        },
        "id": "io9LQPhBDKJ1",
        "colab_type": "code",
        "colab": {}
      },
      "source": [
        "# Please ignore this cell. This cell is for us to implement the tests \n",
        "# to see if your code works properly. "
      ],
      "execution_count": 0,
      "outputs": []
    },
    {
      "cell_type": "markdown",
      "metadata": {
        "deletable": false,
        "editable": false,
        "nbgrader": {
          "checksum": "01fa65ccabde3f2f6a8c62aca64dcd53",
          "grade": false,
          "grade_id": "cell-bd8ce3e36c859c2e",
          "locked": true,
          "schema_version": 1,
          "solution": false
        },
        "id": "ZT83WxnZDKJ4",
        "colab_type": "text"
      },
      "source": [
        "## Question 2.\n",
        "\n",
        "Complete the following function, making use of `depth`, to calculate the average number of comparisons required to search for a randomly chosen element of a standard BST. For example, the following tree:\n",
        "\n",
        "                            12\n",
        "                              \\\n",
        "                               14\n",
        "\n",
        "will have an average number of comparisons of 1.5. This is because 50% of the time we will be searching for 12 (1 comparison), and 50% of the time we will be searching for 14 (2 comparisons).\n",
        "\n",
        "You can test your function with this test case by constructing the tree using the code from the last session's pre-class work. \n",
        "\n",
        "\n",
        "(*Hint*: the number of comparisons required to search for node a is `depth(root, a) + 1`.) "
      ]
    },
    {
      "cell_type": "code",
      "metadata": {
        "deletable": false,
        "nbgrader": {
          "checksum": "5de9ebf48a00878b4b565237c2d88265",
          "grade": false,
          "grade_id": "cell-34e9cb302f1dad00",
          "locked": false,
          "schema_version": 1,
          "solution": true
        },
        "id": "hHs2H5h_DKJ5",
        "colab_type": "code",
        "colab": {}
      },
      "source": [
        "def avg_cmp(bst):\n",
        "    \"\"\"Finds the average number of comparisons required \n",
        "    to search for a randomly chosen element of a standard BST. \n",
        "    \n",
        "    Input:\n",
        "    - bst: a Node, the root of the BST\n",
        "    \n",
        "    Output:\n",
        "    - n: float, average number of comparisons\"\"\"\n",
        "    \n",
        "    comparisons = 0\n",
        "    \n",
        "    for node in bst.node_list:\n",
        "      comparisons += depth(bst, node) + 1\n",
        "\n",
        "    return comparisons/len(bst.node_list)\n",
        "\n",
        "\n",
        "    raise NotImplementedError()"
      ],
      "execution_count": 0,
      "outputs": []
    },
    {
      "cell_type": "code",
      "metadata": {
        "id": "OjQ7WtqRRPul",
        "colab_type": "code",
        "colab": {
          "base_uri": "https://localhost:8080/",
          "height": 34
        },
        "outputId": "9c51a0c6-b62c-424d-bc11-db1345ca23de"
      },
      "source": [
        "bst = None\n",
        "node_list = [Node(value) for value in [1,2,3,12,14]]\n",
        "\n",
        "for node in node_list:\n",
        "  if (bst == None):\n",
        "    bst = node\n",
        "  else:\n",
        "    bst.insert(node)\n",
        "\n",
        "avg_cmp(bst)"
      ],
      "execution_count": 76,
      "outputs": [
        {
          "output_type": "execute_result",
          "data": {
            "text/plain": [
              "3.0"
            ]
          },
          "metadata": {
            "tags": []
          },
          "execution_count": 76
        }
      ]
    },
    {
      "cell_type": "code",
      "metadata": {
        "id": "vI4iViqvSflM",
        "colab_type": "code",
        "colab": {
          "base_uri": "https://localhost:8080/",
          "height": 170
        },
        "outputId": "569040f5-1ef0-40f3-a96d-47968264b3c2"
      },
      "source": [
        "\n",
        "bst = None\n",
        "node_list = [Node(value) for value in [1, 8, 2, 7, 3, 6, 4, 5]]\n",
        "\n",
        "for node in node_list:\n",
        "  if (bst == None):\n",
        "    bst = node\n",
        "  else:\n",
        "    bst.insert(node)\n",
        "\n",
        "bst.to_string()\n",
        "max_depth(bst)"
      ],
      "execution_count": 80,
      "outputs": [
        {
          "output_type": "stream",
          "text": [
            "self.data 1\n",
            "self.data 8\n",
            "self.data 2\n",
            "self.data 7\n",
            "self.data 3\n",
            "self.data 6\n",
            "self.data 4\n",
            "self.data 5\n"
          ],
          "name": "stdout"
        },
        {
          "output_type": "execute_result",
          "data": {
            "text/plain": [
              "7"
            ]
          },
          "metadata": {
            "tags": []
          },
          "execution_count": 80
        }
      ]
    },
    {
      "cell_type": "code",
      "metadata": {
        "deletable": false,
        "editable": false,
        "nbgrader": {
          "checksum": "7c94a3d9e151e1a920e846ff98e118a8",
          "grade": true,
          "grade_id": "cell-dedc229bbb15d811",
          "locked": true,
          "points": 1,
          "schema_version": 1,
          "solution": false
        },
        "id": "4mVzRoQYDKJ8",
        "colab_type": "code",
        "colab": {}
      },
      "source": [
        "# Please ignore this cell. This cell is for us to implement the tests \n",
        "# to see if your code works properly. "
      ],
      "execution_count": 0,
      "outputs": []
    },
    {
      "cell_type": "markdown",
      "metadata": {
        "deletable": false,
        "editable": false,
        "nbgrader": {
          "checksum": "219e1c0aea58c5955539210f5c34b000",
          "grade": false,
          "grade_id": "cell-4b7d0c4e86568346",
          "locked": true,
          "schema_version": 1,
          "solution": false
        },
        "id": "RYCMcSSaDKKA",
        "colab_type": "text"
      },
      "source": [
        "## Part B. Depth of randomly-built trees\n",
        "The average number of comparisons for a randomly chosen element within the tree is related to the “average depth” of the tree. Here the average depth of a tree is defined to be the average of the depths of all the nodes in the tree. \n",
        "## Question 1. \n",
        "\n",
        "Complete the following function to find the maximum depth of a node in a given BST. The function must run in $\\mathrm{O}(N)$ time and use $\\mathrm{O}(h)$ space (where $N$ is the number of elements in the BST and $h$ is the height of the tree). Also, note that the maximum depth is equal to the height of the tree.\n"
      ]
    },
    {
      "cell_type": "code",
      "metadata": {
        "deletable": false,
        "nbgrader": {
          "checksum": "71f602309416ba9c718f06f4cc466075",
          "grade": false,
          "grade_id": "cell-64aba253c2b1bada",
          "locked": false,
          "schema_version": 1,
          "solution": true
        },
        "id": "WmlVO5mVDKKB",
        "colab_type": "code",
        "colab": {}
      },
      "source": [
        "def max_depth(bst):\n",
        "    \"\"\"Finds the maximum depth of node in a BST.\n",
        "    \n",
        "    Input:\n",
        "    - bst: a Node, the root of the BST\n",
        "    \n",
        "    Output:\n",
        "    - h: int, the maximum depth in a BST\"\"\"\n",
        "    \n",
        "    max_depth = 0\n",
        "    for node in bst.node_list:\n",
        "      max_depth = max(max_depth, depth(bst, node))\n",
        "\n",
        "    return max_depth\n",
        "\n",
        "    raise NotImplementedError()"
      ],
      "execution_count": 0,
      "outputs": []
    },
    {
      "cell_type": "code",
      "metadata": {
        "id": "xoBBgAkIY-J6",
        "colab_type": "code",
        "colab": {
          "base_uri": "https://localhost:8080/",
          "height": 34
        },
        "outputId": "7ceb794e-66d0-4ade-dd79-eb298055d171"
      },
      "source": [
        "max_depth(bst)"
      ],
      "execution_count": 60,
      "outputs": [
        {
          "output_type": "execute_result",
          "data": {
            "text/plain": [
              "3"
            ]
          },
          "metadata": {
            "tags": []
          },
          "execution_count": 60
        }
      ]
    },
    {
      "cell_type": "code",
      "metadata": {
        "deletable": false,
        "editable": false,
        "nbgrader": {
          "checksum": "641f559b2bcdfad11577dd6202a0e378",
          "grade": true,
          "grade_id": "cell-82deabcb0ea2e594",
          "locked": true,
          "points": 1,
          "schema_version": 1,
          "solution": false
        },
        "id": "hoCy8HmNDKKE",
        "colab_type": "code",
        "colab": {}
      },
      "source": [
        "# Please ignore this cell. This cell is for us to implement the tests \n",
        "# to see if your code works properly. "
      ],
      "execution_count": 0,
      "outputs": []
    },
    {
      "cell_type": "markdown",
      "metadata": {
        "deletable": false,
        "editable": false,
        "nbgrader": {
          "checksum": "3224988f295d6adc77632f7f4ff5c8e2",
          "grade": false,
          "grade_id": "cell-fd78b979c52b9527",
          "locked": true,
          "schema_version": 1,
          "solution": false
        },
        "id": "OavxmKmrDKKH",
        "colab_type": "text"
      },
      "source": [
        "## Question 2. \n",
        "\n",
        "Using the `avg_cmp` function, complete the following function to return the average depth of the tree. The average depth is related to the average number of comparisons as `average depth = (average comparisons - 1)`, since the root has depth zero."
      ]
    },
    {
      "cell_type": "code",
      "metadata": {
        "deletable": false,
        "nbgrader": {
          "checksum": "90d64051c00f344fc6baaf3ae169c87f",
          "grade": false,
          "grade_id": "cell-347916904e4a8379",
          "locked": false,
          "schema_version": 1,
          "solution": true
        },
        "id": "duLBVNoVDKKH",
        "colab_type": "code",
        "colab": {}
      },
      "source": [
        "def avg_depth(bst):\n",
        "    \"\"\"Computes the average depth of a BST\n",
        "    \n",
        "    Input:\n",
        "    - bst: a Node, root of the BST\n",
        "    \n",
        "    Output:\n",
        "    - avg_d: float, average depth of the BST\"\"\"\n",
        "    \n",
        "    avg_comparisons = avg_cmp(bst)\n",
        "    \n",
        "    return avg_comparisons - 1\n",
        "\n",
        "    raise NotImplementedError()"
      ],
      "execution_count": 0,
      "outputs": []
    },
    {
      "cell_type": "code",
      "metadata": {
        "id": "DOBwdAU_ZYH2",
        "colab_type": "code",
        "colab": {
          "base_uri": "https://localhost:8080/",
          "height": 34
        },
        "outputId": "17fdcaf4-1014-427b-9319-40da55cd5a55"
      },
      "source": [
        "avg_depth(bst)"
      ],
      "execution_count": 62,
      "outputs": [
        {
          "output_type": "execute_result",
          "data": {
            "text/plain": [
              "1.7777777777777777"
            ]
          },
          "metadata": {
            "tags": []
          },
          "execution_count": 62
        }
      ]
    },
    {
      "cell_type": "code",
      "metadata": {
        "deletable": false,
        "editable": false,
        "nbgrader": {
          "checksum": "43da2ece71043e2a56753ec2f9b208dc",
          "grade": true,
          "grade_id": "cell-1bd7535fe6950d5f",
          "locked": true,
          "points": 1,
          "schema_version": 1,
          "solution": false
        },
        "id": "R1Tr7oONDKKL",
        "colab_type": "code",
        "colab": {}
      },
      "source": [
        "# Please ignore this cell. This cell is for us to implement the tests \n",
        "# to see if your code works properly. "
      ],
      "execution_count": 0,
      "outputs": []
    },
    {
      "cell_type": "markdown",
      "metadata": {
        "deletable": false,
        "editable": false,
        "nbgrader": {
          "checksum": "25274f67359e9c4280895dca8e0589d1",
          "grade": false,
          "grade_id": "cell-6365329a3c57c1b1",
          "locked": true,
          "schema_version": 1,
          "solution": false
        },
        "id": "8tuEG-s_DKKO",
        "colab_type": "text"
      },
      "source": [
        "## Question 3.\n",
        "Now, insert randomly shuffled lists into BSTs, and measure the average depth and the maximum depth. How do these statistics scale as you increase $N$, the number of nodes? Make sure to give a compelling argument that motivates this scaling behaviour (you do not need to provide a technical derivation)."
      ]
    },
    {
      "cell_type": "markdown",
      "metadata": {
        "deletable": false,
        "nbgrader": {
          "checksum": "8a281cd793099803988046803bed99ba",
          "grade": true,
          "grade_id": "cell-bad918a333cabe43",
          "locked": false,
          "points": 0,
          "schema_version": 1,
          "solution": true
        },
        "id": "SQjCr3AfDKKP",
        "colab_type": "text"
      },
      "source": [
        "\n",
        "As seen in the plots generated in the next question, we can see that avg_depth and max_depth both scales as logN when we inserting the values randomly.\n",
        "\n",
        "But for non-randomization it is linear as N, so it continue increasing as we increase our number of values."
      ]
    },
    {
      "cell_type": "markdown",
      "metadata": {
        "deletable": false,
        "editable": false,
        "nbgrader": {
          "checksum": "dd1dd0c5c45fc94abb6229a38d8e04a2",
          "grade": false,
          "grade_id": "cell-3255b4081c295fa6",
          "locked": true,
          "schema_version": 1,
          "solution": false
        },
        "id": "KlqxPn1PDKKQ",
        "colab_type": "text"
      },
      "source": [
        "\n",
        "## Question 4.\n",
        "\n",
        "Produce a plot showing the scaling behavior that you saw of both the average depth and the maximum depth as a function of the length of the shuffled list. For a meaningful figure, be sure to scale out to a list of size 10,000 and average the timings 50 times. (You don’t have to sample each value from 1 to 10,000!). Is this plot in agreement with the theoretical result you obtained in the previous question? Explain. \n"
      ]
    },
    {
      "cell_type": "code",
      "metadata": {
        "deletable": false,
        "nbgrader": {
          "checksum": "a870cffbb739ec466993697791c20248",
          "grade": true,
          "grade_id": "cell-3034eb71070a6734",
          "locked": false,
          "points": 0,
          "schema_version": 1,
          "solution": true
        },
        "id": "wiESsrAaDKKQ",
        "colab_type": "code",
        "colab": {}
      },
      "source": [
        "import numpy as np\n",
        "\n",
        "N = range(1,1000)\n",
        "max_depths = []\n",
        "avg_depths = []\n",
        "avg_cmps = []\n",
        "\n",
        "for i in N:\n",
        "  bst_max_depth = 0\n",
        "  bst_avg_depth = 0\n",
        "  bst_avg_cmps = 0\n",
        "\n",
        "  for iter in range(50):\n",
        "    bst = None\n",
        "\n",
        "    value_list = np.array(range(i))\n",
        "    np.random.shuffle(value_list)\n",
        "\n",
        "    node_list = [Node(value) for value in value_list]\n",
        "\n",
        "    for node in node_list:\n",
        "      if (bst == None):\n",
        "        bst = node\n",
        "      else:\n",
        "        bst.insert(node)\n",
        "    \n",
        "    bst_max_depth += max_depth(bst)\n",
        "    bst_avg_depth += avg_depth(bst)\n",
        "    bst_avg_cmps += avg_cmp(bst)\n",
        "\n",
        "  max_depths.append(bst_max_depth/50)\n",
        "  avg_depths.append(bst_avg_depth/50)\n",
        "  avg_cmps.append(bst_avg_cmps/50)\n",
        "\n",
        "# raise NotImplementedError()"
      ],
      "execution_count": 0,
      "outputs": []
    },
    {
      "cell_type": "code",
      "metadata": {
        "id": "5tYQ9NHxDKKT",
        "colab_type": "code",
        "colab": {
          "base_uri": "https://localhost:8080/",
          "height": 281
        },
        "outputId": "da015e70-8935-4df4-ae54-130a23cce9c4"
      },
      "source": [
        "import matplotlib.pyplot as plt\n",
        "\n",
        "plt.plot(N, max_depths, color = 'red',label = 'max depth', linewidth = 1.0)\n",
        "plt.plot(N, avg_depths, color = 'blue',label = 'average depth', linewidth = 1.0)\n",
        "plt.plot(N, avg_cmps, color = 'green',label = 'average comparisons', linewidth = 1.0)\n",
        "plt.xlabel('$N$', fontsize=10)\n",
        "plt.ylabel('depths', fontsize=10)\n",
        "plt.legend()\n",
        "plt.show()"
      ],
      "execution_count": 90,
      "outputs": [
        {
          "output_type": "display_data",
          "data": {
            "image/png": "[encoded data removed]",
            "text/plain": [
              "<Figure size 432x288 with 1 Axes>"
            ]
          },
          "metadata": {
            "tags": []
          }
        }
      ]
    },
    {
      "cell_type": "code",
      "metadata": {
        "id": "CBKIxhAvcj1n",
        "colab_type": "code",
        "colab": {}
      },
      "source": [
        "### Without Randomization\n",
        "\n",
        "import numpy as np\n",
        "\n",
        "N = range(1,100)\n",
        "max_depths = []\n",
        "avg_depths = []\n",
        "\n",
        "for i in N:\n",
        "  bst_max_depth = 0\n",
        "  bst_avg_depth = 0\n",
        "  \n",
        "  for iter in range(50):\n",
        "    bst = None\n",
        "\n",
        "    value_list = np.array(range(i))\n",
        "    # np.random.shuffle(value_list)\n",
        "\n",
        "    node_list = [Node(value) for value in value_list]\n",
        "\n",
        "    for node in node_list:\n",
        "      if (bst == None):\n",
        "        bst = node\n",
        "      else:\n",
        "        bst.insert(node)\n",
        "    \n",
        "    bst_max_depth += max_depth(bst)\n",
        "    bst_avg_depth += avg_depth(bst)\n",
        "\n",
        "  max_depths.append(bst_max_depth/50)\n",
        "  avg_depths.append(bst_avg_depth/50)\n",
        "\n",
        "# raise NotImplementedError()"
      ],
      "execution_count": 0,
      "outputs": []
    },
    {
      "cell_type": "code",
      "metadata": {
        "id": "x4X83NWAfk7I",
        "colab_type": "code",
        "colab": {
          "base_uri": "https://localhost:8080/",
          "height": 281
        },
        "outputId": "3f6903c4-bf68-46c6-8fa7-f34e7a6e44cf"
      },
      "source": [
        "import matplotlib.pyplot as plt\n",
        "\n",
        "plt.plot(N, max_depths, color = 'red',label = 'max depth', linewidth = 1.0)\n",
        "plt.plot(N, avg_depths, color = 'blue',label = 'average depth', linewidth = 1.0)\n",
        "plt.xlabel('$N$', fontsize=10)\n",
        "plt.ylabel('depths', fontsize=10)\n",
        "plt.legend()\n",
        "plt.show()"
      ],
      "execution_count": 92,
      "outputs": [
        {
          "output_type": "display_data",
          "data": {
            "image/png": "[encoded data removed]",
            "text/plain": [
              "<Figure size 432x288 with 1 Axes>"
            ]
          },
          "metadata": {
            "tags": []
          }
        }
      ]
    },
    {
      "cell_type": "code",
      "metadata": {
        "id": "APIj8H9IfnYx",
        "colab_type": "code",
        "colab": {}
      },
      "source": [
        ""
      ],
      "execution_count": 0,
      "outputs": []
    }
  ]
}