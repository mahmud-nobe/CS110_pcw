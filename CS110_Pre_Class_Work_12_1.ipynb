{
  "nbformat": 4,
  "nbformat_minor": 0,
  "metadata": {
    "kernelspec": {
      "display_name": "Python 3",
      "language": "python",
      "name": "python3"
    },
    "language_info": {
      "codemirror_mode": {
        "name": "ipython",
        "version": 3
      },
      "file_extension": ".py",
      "mimetype": "text/x-python",
      "name": "python",
      "nbconvert_exporter": "python",
      "pygments_lexer": "ipython3",
      "version": "3.6.5"
    },
    "colab": {
      "name": "CS110 Pre Class Work 12.1",
      "provenance": [],
      "include_colab_link": true
    }
  },
  "cells": [
    {
      "cell_type": "markdown",
      "metadata": {
        "id": "view-in-github",
        "colab_type": "text"
      },
      "source": [
        "<a href=\"https://colab.research.google.com/github/mahmud-nobe/CS110_pcw/blob/master/CS110_Pre_Class_Work_12_1.ipynb\" target=\"_parent\"><img src=\"https://colab.research.google.com/assets/colab-badge.svg\" alt=\"Open In Colab\"/></a>"
      ]
    },
    {
      "cell_type": "markdown",
      "metadata": {
        "id": "CoeIzpv9aBUs",
        "colab_type": "text"
      },
      "source": [
        "Before you turn this problem in, make sure everything runs as expected. First, **restart the kernel** (in the menubar, select Kernel$\\rightarrow$Restart) and then **run all cells** (in the menubar, select Cell$\\rightarrow$Run All).\n",
        "\n",
        "Make sure you fill in any place that says `YOUR CODE HERE` or \"YOUR ANSWER HERE\", as well as your name and collaborators below:"
      ]
    },
    {
      "cell_type": "code",
      "metadata": {
        "id": "IM7gPgJ_aBUu",
        "colab_type": "code",
        "colab": {}
      },
      "source": [
        "NAME = \"Md Mahmudunnobe\"\n",
        "COLLABORATORS = \"\""
      ],
      "execution_count": 0,
      "outputs": []
    },
    {
      "cell_type": "markdown",
      "metadata": {
        "id": "eH2wv1kiaBU0",
        "colab_type": "text"
      },
      "source": [
        "---"
      ]
    },
    {
      "cell_type": "markdown",
      "metadata": {
        "deletable": false,
        "editable": false,
        "nbgrader": {
          "checksum": "21540c1c5e00b9c4f14c9766c63b92ee",
          "grade": false,
          "grade_id": "cell-2258ae9711c0b029",
          "locked": true,
          "schema_version": 1,
          "solution": false
        },
        "id": "C0tWPba_aBU0",
        "colab_type": "text"
      },
      "source": [
        "# CS110 Pre-class Work 11.1\n",
        "\n",
        "The pre-class work for this session will focus on the rod cutting problem. Recall that the rod cutting problem takes as an input the length n of a rodand a table of prices $p_i$ for $i = 1,2,... n$, and one needs to determine the maximum revenue $r$ obtainable by cutting up the rod and selling the pieces. \n",
        "\n",
        "## Part A. \n",
        "\n",
        "You will implement in Python two solutions to the rod cutting problem, namely:\n",
        "\n",
        "## Question 1. \n",
        "A recursive top-down solution to the rod cutting problem. Please complete the cut_rod function below:\n"
      ]
    },
    {
      "cell_type": "code",
      "metadata": {
        "deletable": false,
        "nbgrader": {
          "checksum": "7237c900fdd06ab972ae58cfd3037231",
          "grade": false,
          "grade_id": "cell-d85ce9860c9ea1e5",
          "locked": false,
          "schema_version": 1,
          "solution": true
        },
        "id": "yo8_cqt1aBU1",
        "colab_type": "code",
        "colab": {}
      },
      "source": [
        "def cut_rod(p,n):\n",
        "    \"\"\"\n",
        "    A recursive top-down solution to the rod cutting problem as described in \n",
        "    Cormen et. al. (pp 363) This calculates the maximum revenue that could be \n",
        "    earned by cutting up a rod of length n.\n",
        "    \n",
        "    Inputs;:\n",
        "    - p: list of floats, the prices of rods of different lengths. p[i] gives the dollars\n",
        "    of revenue the company earns selling a rod of length i+1.\n",
        "    - n: int, length of the rod\n",
        "    \n",
        "    Outputs:\n",
        "    - q: float, the optimal revenue\n",
        "    \"\"\"\n",
        "    \n",
        "    # base case\n",
        "    if n == 0: \n",
        "      return 0\n",
        "\n",
        "    q = -float('INF')\n",
        "    for i in range(n):\n",
        "      q = max(q, p[i] + cut_rod(p, n-i-1))\n",
        "\n",
        "    return q\n",
        "    raise NotImplementedError()\n",
        "    "
      ],
      "execution_count": 0,
      "outputs": []
    },
    {
      "cell_type": "code",
      "metadata": {
        "deletable": false,
        "editable": false,
        "nbgrader": {
          "checksum": "10d4aaa19c12d9b56addd9cca9b13975",
          "grade": true,
          "grade_id": "cell-0288a4047be5088d",
          "locked": true,
          "points": 1,
          "schema_version": 1,
          "solution": false
        },
        "id": "pVs4WW4daBU7",
        "colab_type": "code",
        "colab": {}
      },
      "source": [
        "# price list from textbook\n",
        "p = [1,5,8,9,10,17,17,20,24,30] #p[i] gives the price of length i+1\n",
        "\n",
        "#results from textbook\n",
        "r = [0,1,5,8,10,13,17,18,22,25,30]\n",
        "for i in range(len(r)):\n",
        "    assert(cut_rod(p,i)==r[i])"
      ],
      "execution_count": 0,
      "outputs": []
    },
    {
      "cell_type": "markdown",
      "metadata": {
        "deletable": false,
        "editable": false,
        "nbgrader": {
          "checksum": "66f4b595bbff340b7c3114c913a755aa",
          "grade": false,
          "grade_id": "cell-cb7764a3a73bcdb7",
          "locked": true,
          "schema_version": 1,
          "solution": false
        },
        "id": "zlIsp3fsaBU-",
        "colab_type": "text"
      },
      "source": [
        "## Question 2.\n",
        "\n",
        "An optimal rod cutting solution using dynamic programming (see figure [here](https://drive.google.com/open?id=1nu9gETKX4KJCHZDi17fZLQtkDVig81Zk) for inspiration). Please complete the following two functions: \n"
      ]
    },
    {
      "cell_type": "code",
      "metadata": {
        "deletable": false,
        "nbgrader": {
          "checksum": "6684945acab69b9f7ed6c202452bc769",
          "grade": false,
          "grade_id": "cell-eb49e8516ebf80aa",
          "locked": false,
          "schema_version": 1,
          "solution": true
        },
        "id": "dv9Iz3dhaBU_",
        "colab_type": "code",
        "colab": {}
      },
      "source": [
        "def extended_bottom_up_cut_rod(p,n):\n",
        "    \"\"\"\n",
        "    Implements a bottom-up dynamic programming approach to the rod cutting problem.\n",
        "    Here, \"extended\" means the function is geared in a way amenable to reconstructing\n",
        "    an optimal solution, on top of the returned optimal value. See Cormen et al.,\n",
        "    p. 269 for the implementation details.\n",
        "    \n",
        "    Inputs:\n",
        "    - p: list of floats, the prices of rods of different lengths. p[i] gives the dollars\n",
        "    of revenue the company earns selling a rod of length i+1.\n",
        "    - n: int, length of the rod\n",
        "    \n",
        "    Outputs:\n",
        "    - r: list of floats, the maximum revenues. r[i] gives the maximum revenue for a rod\n",
        "    of length i. As such:\n",
        "        * r[0] = 0\n",
        "        * len(r) == n + 1\n",
        "    - s: list of ints, the optimal sizes of the first piece to cut off. Also make sure \n",
        "    that:\n",
        "        * s[0] = 0\n",
        "        * len(s) == n + 1\n",
        "    \"\"\"\n",
        "    # initialize array r and s\n",
        "    r = [0]*(n+1)\n",
        "    s = [0]*(n+1)\n",
        "\n",
        "    for j in range(1,n+1):\n",
        "      q = -float('INF')\n",
        "      for i in range(1,j+1):\n",
        "        if q < p[i-1] + r[j-i]:\n",
        "          q = p[i-1] + r[j-i]\n",
        "          s[j] = i\n",
        "\n",
        "      r[j] = q\n",
        "\n",
        "    return (r,s)  \n",
        "    raise NotImplementedError()"
      ],
      "execution_count": 0,
      "outputs": []
    },
    {
      "cell_type": "code",
      "metadata": {
        "deletable": false,
        "nbgrader": {
          "checksum": "0721b1c26ef2b06505e7329f286ba386",
          "grade": false,
          "grade_id": "cell-1d52c9519ccb3502",
          "locked": false,
          "schema_version": 1,
          "solution": true
        },
        "id": "SWqTBA19aBVC",
        "colab_type": "code",
        "colab": {}
      },
      "source": [
        "def print_cut_rod_solution(p,n):\n",
        "    \"\"\"\n",
        "    Gives a solution to the rod cutting problem of size n. \n",
        "    \n",
        "    Inputs:\n",
        "    - p: list of floats, the prices of rods of different lengths. p[i] gives the revenue (in USD, for example) the company earns selling a rod of length i+1.\n",
        "    - n: int, length of the rod\n",
        "    \n",
        "    Outputs:\n",
        "    - sol: a list of ints, indicating how to cut the rod. Cutting the rod with the lengths\n",
        "    given in sol gives the optimal revenue.\n",
        "        * print_cut_rod_solution(p,0) == []\n",
        "    \"\"\"\n",
        "    r,s = extended_bottom_up_cut_rod(p,n)\n",
        "    # printing the solution\n",
        "    while(n > 0):\n",
        "      print(s[n])\n",
        "      n = n - s[n]\n",
        "\n",
        "    return 0\n",
        "    raise NotImplementedError()\n"
      ],
      "execution_count": 0,
      "outputs": []
    },
    {
      "cell_type": "code",
      "metadata": {
        "deletable": false,
        "editable": false,
        "nbgrader": {
          "checksum": "78b3a62a448ff29e2050fdadd39dc70f",
          "grade": true,
          "grade_id": "cell-6575aa2769e0eab1",
          "locked": true,
          "points": 1,
          "schema_version": 1,
          "solution": false
        },
        "id": "YRAFvK5ZaBVF",
        "colab_type": "code",
        "colab": {}
      },
      "source": [
        "# price list from textbook\n",
        "p = [1,5,8,9,10,17,17,20,24,30] #p[i] gives the price of length i+1\n",
        "# Result of R and S from textbook:\n",
        "R = [0,1,5,8,10,13,17,18,22,25,30]\n",
        "S = [0,1,2,3,2,2,6,1,2,3,10]\n",
        "# Test:\n",
        "r, s = extended_bottom_up_cut_rod(p,10)\n",
        "\n",
        "assert(r==R)\n",
        "assert(s==S)"
      ],
      "execution_count": 0,
      "outputs": []
    },
    {
      "cell_type": "markdown",
      "metadata": {
        "deletable": false,
        "editable": false,
        "nbgrader": {
          "checksum": "0937ad8ecbd17b5eca4db79a21d117b8",
          "grade": false,
          "grade_id": "cell-0832a56453a9026d",
          "locked": true,
          "schema_version": 1,
          "solution": false
        },
        "id": "YoxwlYjbaBVL",
        "colab_type": "text"
      },
      "source": [
        "## Part B - Experiments\n",
        "\n",
        "## Question 1.\n",
        "\n",
        "Use the function below to generate a list of prices of length n=20 and assign that list to a new variable, `P`. You MUST use this list for parts 2 and 3 below.\n"
      ]
    },
    {
      "cell_type": "code",
      "metadata": {
        "id": "aCDiyvjAaBVM",
        "colab_type": "code",
        "colab": {}
      },
      "source": [
        "import numpy as np\n",
        "def generate_price_list(n):\n",
        "    \"\"\"Generates a price list of length n\n",
        "    \n",
        "    Inputs:\n",
        "    - n: integer, length of the list, must be positive\n",
        "    \n",
        "    Outputs:\n",
        "    - p: list, the ordered price list for each rod cut\n",
        "    \"\"\"\n",
        "    p = [1]\n",
        "    for i in range(1,n):\n",
        "        np.random.seed(0)\n",
        "        p.append(np.random.randint(p[i-1]+1, i*3+1))\n",
        "    return p\n"
      ],
      "execution_count": 0,
      "outputs": []
    },
    {
      "cell_type": "markdown",
      "metadata": {
        "deletable": false,
        "editable": false,
        "nbgrader": {
          "checksum": "deeb7b0872934debc2d63c1647b5ac06",
          "grade": false,
          "grade_id": "cell-c7fdedff7b334b75",
          "locked": true,
          "schema_version": 1,
          "solution": false
        },
        "id": "Y_H0uBrhaBVR",
        "colab_type": "text"
      },
      "source": [
        "## Question 2.\n",
        "\n",
        "Time (using the time library) the implementation of `cut_rod` for different rod lengths for values of up to $n=20.$ Present your results in a plot. \n"
      ]
    },
    {
      "cell_type": "code",
      "metadata": {
        "deletable": false,
        "nbgrader": {
          "checksum": "99c151824efdb32faba7a3f771d1b9f6",
          "grade": true,
          "grade_id": "cell-e094e913d8bc139f",
          "locked": false,
          "points": 0,
          "schema_version": 1,
          "solution": true
        },
        "id": "VIcUKlk4aBVS",
        "colab_type": "code",
        "colab": {}
      },
      "source": [
        "import time\n",
        "\n",
        "def time_for_cut_rod(n, iteration = 5):\n",
        "\n",
        "  cut_rod_time = []\n",
        "\n",
        "  for i in range(1,n+1):\n",
        "    times = 0\n",
        "    for _ in range(iteration):\n",
        "      p = generate_price_list(n)\n",
        "\n",
        "      start = time.time()\n",
        "      cut_rod(p,i)\n",
        "      end = time.time()\n",
        "\n",
        "      times += (end-start)\n",
        "\n",
        "    cut_rod_time.append(times/iteration)\n",
        "\n",
        "  return cut_rod_time\n",
        "\n",
        "# raise NotImplementedError()"
      ],
      "execution_count": 0,
      "outputs": []
    },
    {
      "cell_type": "code",
      "metadata": {
        "id": "9sYmmXGhiq8W",
        "colab_type": "code",
        "colab": {}
      },
      "source": [
        "cut_rod_time = time_for_cut_rod(20)"
      ],
      "execution_count": 0,
      "outputs": []
    },
    {
      "cell_type": "code",
      "metadata": {
        "id": "BVVHxiNOixtW",
        "colab_type": "code",
        "colab": {
          "base_uri": "https://localhost:8080/",
          "height": 54
        },
        "outputId": "1957f338-618f-49e2-d5f1-61e1547b87c2"
      },
      "source": [
        "print(cut_rod_time)"
      ],
      "execution_count": 50,
      "outputs": [
        {
          "output_type": "stream",
          "text": [
            "[6.341934204101563e-06, 6.723403930664062e-06, 9.298324584960938e-06, 1.86920166015625e-05, 3.299713134765625e-05, 5.91278076171875e-05, 0.00014081001281738282, 0.00016732215881347655, 0.00031151771545410154, 0.000576925277709961, 0.0011121749877929688, 0.0022828102111816405, 0.004597854614257812, 0.008449077606201172, 0.0168001651763916, 0.034000730514526366, 0.06908116340637208, 0.13867011070251464, 0.2773418426513672, 0.5534959316253663]\n"
          ],
          "name": "stdout"
        }
      ]
    },
    {
      "cell_type": "code",
      "metadata": {
        "id": "MrFoxu6PgDKY",
        "colab_type": "code",
        "colab": {
          "base_uri": "https://localhost:8080/",
          "height": 279
        },
        "outputId": "895abd45-b482-44f5-b279-694a25f5f402"
      },
      "source": [
        "import matplotlib.pyplot as plt\n",
        "\n",
        "plt.plot(range(1,21), cut_rod_time, label='cut_rod')\n",
        "plt.xlabel('n')\n",
        "plt.ylabel('Time')\n",
        "plt.legend()\n",
        "plt.show()"
      ],
      "execution_count": 51,
      "outputs": [
        {
          "output_type": "display_data",
          "data": {
            "image/png": "[encoded data removed]",
            "text/plain": [
              "<Figure size 432x288 with 1 Axes>"
            ]
          },
          "metadata": {
            "tags": []
          }
        }
      ]
    },
    {
      "cell_type": "markdown",
      "metadata": {
        "deletable": false,
        "editable": false,
        "nbgrader": {
          "checksum": "b8fa06392ba05e21f83f34e1bd84c0e4",
          "grade": false,
          "grade_id": "cell-8076e5401f46000c",
          "locked": true,
          "schema_version": 1,
          "solution": false
        },
        "id": "bBzZJ0xiaBVW",
        "colab_type": "text"
      },
      "source": [
        "## Question 3.\n",
        "\n",
        "Time (using the time library) the implementation of `extended_bottom_up_cut_rod` for different rod lengths for values of up to $n=20$. Add the curve corresponding to this algorithm to the previous plot."
      ]
    },
    {
      "cell_type": "code",
      "metadata": {
        "deletable": false,
        "nbgrader": {
          "checksum": "a06be2cc09d0a0b5fa89b8d110ec18a7",
          "grade": true,
          "grade_id": "cell-210aa3d5a2743bd8",
          "locked": false,
          "points": 0,
          "schema_version": 1,
          "solution": true
        },
        "id": "LBjEVJ1SaBVW",
        "colab_type": "code",
        "colab": {}
      },
      "source": [
        "def time_for_bottom_up_cut_rod(n, iteration = 5):\n",
        "\n",
        "  bottom_up_cut_rod_time = []\n",
        "\n",
        "  for i in range(n):\n",
        "    times = 0\n",
        "    for _ in range(iteration):\n",
        "      p = generate_price_list(n)\n",
        "\n",
        "      start = time.time()\n",
        "      r,s = extended_bottom_up_cut_rod(p,i)\n",
        "      end = time.time()\n",
        "\n",
        "      times += (end-start)\n",
        "\n",
        "    bottom_up_cut_rod_time.append(times/iteration)\n",
        "\n",
        "  return bottom_up_cut_rod_time\n",
        "  raise NotImplementedError()"
      ],
      "execution_count": 0,
      "outputs": []
    },
    {
      "cell_type": "code",
      "metadata": {
        "id": "QlJ9h7-ljFGV",
        "colab_type": "code",
        "colab": {}
      },
      "source": [
        "# cut_rod_time = time_for_cut_rod(20)\n",
        "bottom_up_cut_rod_time = time_for_bottom_up_cut_rod(20)"
      ],
      "execution_count": 0,
      "outputs": []
    },
    {
      "cell_type": "code",
      "metadata": {
        "id": "R1G6JkJ1hbzt",
        "colab_type": "code",
        "colab": {
          "base_uri": "https://localhost:8080/",
          "height": 279
        },
        "outputId": "e392253d-4763-4c31-dfb1-f7d6969e9dfe"
      },
      "source": [
        "# plotting\n",
        "plt.plot(range(1,21), cut_rod_time, label = 'cut_rod')\n",
        "plt.plot(range(1,21), bottom_up_cut_rod_time, label = 'extended_bottom_up_cut_rod')\n",
        "\n",
        "plt.xlabel('n')\n",
        "plt.ylabel('Time')\n",
        "plt.legend()\n",
        "plt.show()"
      ],
      "execution_count": 54,
      "outputs": [
        {
          "output_type": "display_data",
          "data": {
            "image/png": "[encoded data removed]",
            "text/plain": [
              "<Figure size 432x288 with 1 Axes>"
            ]
          },
          "metadata": {
            "tags": []
          }
        }
      ]
    },
    {
      "cell_type": "markdown",
      "metadata": {
        "deletable": false,
        "editable": false,
        "nbgrader": {
          "checksum": "1c820ccd68543bac236215ff32626ae1",
          "grade": false,
          "grade_id": "cell-5aa5079c4bcac376",
          "locked": true,
          "schema_version": 1,
          "solution": false
        },
        "id": "wxPwfir_aBVa",
        "colab_type": "text"
      },
      "source": [
        "## Question 4.\n",
        "\n",
        "Contrast both curves. What can you conclude?"
      ]
    },
    {
      "cell_type": "markdown",
      "metadata": {
        "deletable": false,
        "nbgrader": {
          "checksum": "921656651f11cce29dfe7bf75650d129",
          "grade": true,
          "grade_id": "cell-0e62cc5b19840488",
          "locked": false,
          "points": 0,
          "schema_version": 1,
          "solution": true
        },
        "id": "qQxqnSSYaBVc",
        "colab_type": "text"
      },
      "source": [
        "YOUR ANSWER HERE"
      ]
    },
    {
      "cell_type": "markdown",
      "metadata": {
        "deletable": false,
        "editable": false,
        "nbgrader": {
          "checksum": "a69d913354531fef3bd30538d2f77e96",
          "grade": false,
          "grade_id": "cell-15e017ea29c2ae87",
          "locked": true,
          "schema_version": 1,
          "solution": false
        },
        "id": "40SOIOddaBVd",
        "colab_type": "text"
      },
      "source": [
        "## Part C - After completing your experiments above, answer the following questions:\n",
        "\n",
        "## Question 1.\n",
        "Estimate how big $n$ has to be before the non-dynamic-programming version will take a million years to finish. Call this value N."
      ]
    },
    {
      "cell_type": "markdown",
      "metadata": {
        "deletable": false,
        "nbgrader": {
          "checksum": "ee93061dcb5a4ab6fba26904d7230956",
          "grade": true,
          "grade_id": "cell-a11f4fd6a03e2cf5",
          "locked": false,
          "points": 0,
          "schema_version": 1,
          "solution": true
        },
        "id": "goVLv7zqaBVe",
        "colab_type": "text"
      },
      "source": [
        "YOUR ANSWER HERE"
      ]
    },
    {
      "cell_type": "markdown",
      "metadata": {
        "deletable": false,
        "editable": false,
        "nbgrader": {
          "checksum": "2a89a2ec215e318b3c6f14141437f812",
          "grade": false,
          "grade_id": "cell-53a067a7b6a21694",
          "locked": true,
          "schema_version": 1,
          "solution": false
        },
        "id": "D-bT_EThaBVg",
        "colab_type": "text"
      },
      "source": [
        "## Question 2.\n",
        "Estimate (or time) how long it takes to evaluate `extended_bottom_up_cut_rod(p,N)`, where `N` is the value you got from the previous question. "
      ]
    },
    {
      "cell_type": "markdown",
      "metadata": {
        "deletable": false,
        "nbgrader": {
          "checksum": "45ccf902eb5847cbae75c4394b6d7cb7",
          "grade": true,
          "grade_id": "cell-89ed2dd6f3310c96",
          "locked": false,
          "points": 0,
          "schema_version": 1,
          "solution": true
        },
        "id": "3W_c5KF-aBVh",
        "colab_type": "text"
      },
      "source": [
        "YOUR ANSWER HERE"
      ]
    },
    {
      "cell_type": "markdown",
      "metadata": {
        "deletable": false,
        "editable": false,
        "nbgrader": {
          "checksum": "f273d3c9906b4a2f9069dec4ec6d9e98",
          "grade": false,
          "grade_id": "cell-570ff6554dfb5b4f",
          "locked": true,
          "schema_version": 1,
          "solution": false
        },
        "id": "RUmuTVbCaBVi",
        "colab_type": "text"
      },
      "source": [
        "## [Optional]  Question 3. \n",
        "Do you notice anything peculiar about the solution for large n?"
      ]
    },
    {
      "cell_type": "markdown",
      "metadata": {
        "deletable": false,
        "nbgrader": {
          "checksum": "15a99ef0f160ca439cb8be6e2c4f2384",
          "grade": true,
          "grade_id": "cell-fd4c9c91a42f178a",
          "locked": false,
          "points": 0,
          "schema_version": 1,
          "solution": true
        },
        "id": "X0hugzeFaBVi",
        "colab_type": "text"
      },
      "source": [
        "YOUR ANSWER HERE"
      ]
    }
  ]
}