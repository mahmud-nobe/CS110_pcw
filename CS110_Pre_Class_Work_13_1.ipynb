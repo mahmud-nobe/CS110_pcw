{
  "nbformat": 4,
  "nbformat_minor": 0,
  "metadata": {
    "kernelspec": {
      "display_name": "Python 3",
      "language": "python",
      "name": "python3"
    },
    "language_info": {
      "codemirror_mode": {
        "name": "ipython",
        "version": 3
      },
      "file_extension": ".py",
      "mimetype": "text/x-python",
      "name": "python",
      "nbconvert_exporter": "python",
      "pygments_lexer": "ipython3",
      "version": "3.6.5"
    },
    "colab": {
      "name": "CS110 Pre Class Work 13.1",
      "provenance": [],
      "include_colab_link": true
    }
  },
  "cells": [
    {
      "cell_type": "markdown",
      "metadata": {
        "id": "view-in-github",
        "colab_type": "text"
      },
      "source": [
        "<a href=\"https://colab.research.google.com/github/mahmud-nobe/CS110_pcw/blob/master/CS110_Pre_Class_Work_13_1.ipynb\" target=\"_parent\"><img src=\"https://colab.research.google.com/assets/colab-badge.svg\" alt=\"Open In Colab\"/></a>"
      ]
    },
    {
      "cell_type": "markdown",
      "metadata": {
        "id": "tOJxYsAYbGZY",
        "colab_type": "text"
      },
      "source": [
        "Before you turn this problem in, make sure everything runs as expected. First, **restart the kernel** (in the menubar, select Kernel$\\rightarrow$Restart) and then **run all cells** (in the menubar, select Cell$\\rightarrow$Run All).\n",
        "\n",
        "Make sure you fill in any place that says `YOUR CODE HERE` or \"YOUR ANSWER HERE\", as well as your name and collaborators below:"
      ]
    },
    {
      "cell_type": "code",
      "metadata": {
        "id": "AZLJYjBqbGZc",
        "colab_type": "code",
        "colab": {}
      },
      "source": [
        "NAME = \"\"\n",
        "COLLABORATORS = \"\""
      ],
      "execution_count": 0,
      "outputs": []
    },
    {
      "cell_type": "markdown",
      "metadata": {
        "id": "JHbV33IlbGZh",
        "colab_type": "text"
      },
      "source": [
        "---"
      ]
    },
    {
      "cell_type": "markdown",
      "metadata": {
        "deletable": false,
        "editable": false,
        "nbgrader": {
          "checksum": "79a6cbf153cc50422f9a0065ccadacb0",
          "grade": false,
          "grade_id": "cell-6988e414270fd484",
          "locked": true,
          "schema_version": 1,
          "solution": false
        },
        "id": "ROdmi9VQbGZh",
        "colab_type": "text"
      },
      "source": [
        "# CS110 Pre-class Work 13.1\n",
        "\n",
        "## Question 1.\n",
        "\n",
        "Complete the following functions, following the algorithms in Cormen et al."
      ]
    },
    {
      "cell_type": "code",
      "metadata": {
        "deletable": false,
        "nbgrader": {
          "checksum": "41c10c1f28d75445b9f4bac2f9c8d2ae",
          "grade": false,
          "grade_id": "cell-542b2dce56293aef",
          "locked": false,
          "schema_version": 1,
          "solution": true
        },
        "id": "1cwMZkCKbGZi",
        "colab_type": "code",
        "colab": {}
      },
      "source": [
        "def lcs_length(x, y):\n",
        "    \"\"\"\n",
        "    Computes the length of an LCS of strings x and y.\n",
        "    \n",
        "    Inputs:\n",
        "    - x, y: strings\n",
        "    \n",
        "    Outputs:\n",
        "    - c: a list of lists of ints OR a numpy array. c[i,j] contains the \n",
        "    length of a LCS of x[:i] and y[:j]\n",
        "    - b: a list of lists of strings OR a numpy array, containing the information\n",
        "    used for LCS reconstruction (See Cormen et al.) Use \"N\" (North), \"Y\" \n",
        "    (North West), and \"W\" (West) that correspond to the directions of the arrows \n",
        "    used in Cormen et al.\n",
        "    \"\"\"\n",
        "    \n",
        "    # list for lengths of LCS and the information\n",
        "    b = np.zeros((len(x), len(y)), dtype=str)\n",
        "    c = np.zeros((len(x), len(y)))\n",
        "    \n",
        "\n",
        "    for i in range(len(x)):\n",
        "        for j in range(len(y)):\n",
        "            if x[i] == y[j]:\n",
        "                if(i == 0  or j == 0):\n",
        "                    c[i,j] = 1\n",
        "                else:\n",
        "                    c[i,j] = c[i-1, j-1] + 1\n",
        "                b[i,j] = 'Y'\n",
        "            elif (c[i-1, j] >= c[i,j-1]):\n",
        "                c[i,j] = c[i-1, j]\n",
        "                b[i,j] = 'N'\n",
        "            else:\n",
        "                c[i,j] = c[i, j-1]\n",
        "                b[i,j] = 'W'\n",
        "    \n",
        "    return c, b\n",
        "\n",
        "    # raise NotImplementedError()"
      ],
      "execution_count": 0,
      "outputs": []
    },
    {
      "cell_type": "code",
      "metadata": {
        "deletable": false,
        "nbgrader": {
          "checksum": "461d600457c90d15b0e62453a571ff5e",
          "grade": false,
          "grade_id": "cell-6b825bf900c2cf0b",
          "locked": false,
          "schema_version": 1,
          "solution": true
        },
        "id": "RI3TcVu3bGZl",
        "colab_type": "code",
        "colab": {}
      },
      "source": [
        "def print_lcs(b,x,i,j):\n",
        "    \"\"\"\n",
        "    Finds a LCS.\n",
        "    \n",
        "    Inputs:\n",
        "    - b: a list of lists of strings OR a numpy array, returned by lcs_length\n",
        "    - x: string, an input to lcs_length\n",
        "    - i, j: ints. print_lcs(b,x,i,j) returns a lcs of x[:i] and y[:j], where y\n",
        "    is an input to lcs_length.\n",
        "    \n",
        "    Outputs:\n",
        "    - lcs: list of strings, representing a LCS of x and y\n",
        "    - length: int, the length of the LCS\n",
        "    \n",
        "    You can choose to actually PRINT OUT the LCS or not using the print function.\n",
        "    \n",
        "    \"\"\"\n",
        "    \n",
        "    length = 0\n",
        "    lcs = []\n",
        "\n",
        "    while(i >= 0 and j >= 0):\n",
        "\n",
        "        if(b[i,j] == 'Y'):\n",
        "            #print(lcs)\n",
        "            lcs += x[i]\n",
        "            length += 1\n",
        "            i,j = i-1, j-1\n",
        "            \n",
        "        elif(b[i,j] == 'N'):\n",
        "            #print(b[i,j], i-1, j)\n",
        "            i,j = i-1, j\n",
        "        else:\n",
        "            i,j = i, j-1\n",
        "            #print_lcs(b,x,i,j-1)\n",
        "\n",
        "    lcs.reverse()\n",
        "    \n",
        "    return (lcs, length)\n",
        "\n",
        "    raise NotImplementedError()"
      ],
      "execution_count": 0,
      "outputs": []
    },
    {
      "cell_type": "code",
      "metadata": {
        "id": "hiFbVhIUnTLo",
        "colab_type": "code",
        "colab": {
          "base_uri": "https://localhost:8080/",
          "height": 34
        },
        "outputId": "2639c855-5283-4615-e62d-92dc7f0eb358"
      },
      "source": [
        "\n",
        "x, y = 'ambgdec', 'aubyci'\n",
        "c, b = lcs_length(x, y)\n",
        "print_lcs(b,x,len(x)-1,len(y)-1)[0]"
      ],
      "execution_count": 9,
      "outputs": [
        {
          "output_type": "execute_result",
          "data": {
            "text/plain": [
              "['a', 'b', 'c']"
            ]
          },
          "metadata": {
            "tags": []
          },
          "execution_count": 9
        }
      ]
    },
    {
      "cell_type": "code",
      "metadata": {
        "deletable": false,
        "editable": false,
        "nbgrader": {
          "checksum": "a31a295498f3b30f47b9b871b0393427",
          "grade": true,
          "grade_id": "cell-e06e8f09bb8a5063",
          "locked": true,
          "points": 1,
          "schema_version": 1,
          "solution": false
        },
        "id": "krtvWsL5bGZo",
        "colab_type": "code",
        "colab": {}
      },
      "source": [
        "import numpy as np\n",
        "x, y = 'ambgdec', 'aubyci'\n",
        "c, b = lcs_length(x, y)\n",
        "assert(print_lcs(b,x,len(x)-1,len(y)-1)[0] == ['a', 'b', 'c'])\n",
        "assert(print_lcs(b,x,len(x)-1,len(y)-1)[1] == 3)\n",
        "\n",
        "x, y = 'xyqwsssazdesaqqf', 'xoppoypllzookjdef'\n",
        "c, b = lcs_length(x, y)\n",
        "assert(print_lcs(b,x,len(x)-1,len(y)-1)[0]  == ['x', 'y', 'z', 'd', 'e', 'f'])\n",
        "assert(print_lcs(b,x,len(x)-1,len(y)-1)[1]  == 6)\n"
      ],
      "execution_count": 0,
      "outputs": []
    },
    {
      "cell_type": "markdown",
      "metadata": {
        "deletable": false,
        "editable": false,
        "nbgrader": {
          "checksum": "57e7e7602ecc6a6e68a43e8617b53ce4",
          "grade": false,
          "grade_id": "cell-ec09089cf7743c1f",
          "locked": true,
          "schema_version": 1,
          "solution": false
        },
        "id": "qtjGNelDbGZt",
        "colab_type": "text"
      },
      "source": [
        "## Question 2. (Adapted from Exercise 15-4.1 Cormen et al.)\n",
        "Use the functions built in Question 1 to find the LCS of `'10010101'` and `'010110110'`. You should store the list that represents the LCS you found in a variable named `lcs_q2`"
      ]
    },
    {
      "cell_type": "code",
      "metadata": {
        "deletable": false,
        "nbgrader": {
          "checksum": "a56c7ef2c4a16d927d4dd74a899d0d3e",
          "grade": true,
          "grade_id": "cell-5d742a82dde1229f",
          "locked": false,
          "points": 0,
          "schema_version": 1,
          "solution": true
        },
        "id": "-WR7k6XkbGZu",
        "colab_type": "code",
        "colab": {
          "base_uri": "https://localhost:8080/",
          "height": 34
        },
        "outputId": "8c7cb961-7277-46f2-a3d0-d1863fce0523"
      },
      "source": [
        "x, y = '10010101', '010110110'\n",
        "c, b = lcs_length(x, y)\n",
        "lcs_q2 = print_lcs(b,x,len(x)-1,len(y)-1)[0]\n",
        "lcs_q2\n",
        "# raise NotImplementedError()"
      ],
      "execution_count": 11,
      "outputs": [
        {
          "output_type": "execute_result",
          "data": {
            "text/plain": [
              "['1', '0', '0', '1', '1', '0']"
            ]
          },
          "metadata": {
            "tags": []
          },
          "execution_count": 11
        }
      ]
    },
    {
      "cell_type": "markdown",
      "metadata": {
        "deletable": false,
        "editable": false,
        "nbgrader": {
          "checksum": "ea6714ebe001a871d5b981d9f6a5c24a",
          "grade": false,
          "grade_id": "cell-c95fae244dee1762",
          "locked": true,
          "schema_version": 1,
          "solution": false
        },
        "id": "OpraaeB8bGZw",
        "colab_type": "text"
      },
      "source": [
        "## Question 3. (Adapted from Exercise 15-4.5 Cormen et al.)\n",
        "Complete the following function, making use of `lcs_length` and `print_lcs`. \n",
        "\n"
      ]
    },
    {
      "cell_type": "code",
      "metadata": {
        "deletable": false,
        "nbgrader": {
          "checksum": "07848d8cca7a0d100120951571e605d7",
          "grade": true,
          "grade_id": "cell-429c944f34a54c91",
          "locked": false,
          "points": 0,
          "schema_version": 1,
          "solution": true
        },
        "id": "gNHrei6WbGZx",
        "colab_type": "code",
        "colab": {}
      },
      "source": [
        "def lmis(lst):\n",
        "    \"\"\"\n",
        "    Finds the Longest Monotonically Increasing Subsequence (LMIS) of a list \n",
        "    (lst) of n numbers in O(n^2) time. Note that a monotonically increasing \n",
        "    sequence is a sequence of numbers such that: a_1 <= a_2 <= ... <= a_n .\n",
        "    \n",
        "    Inputs:\n",
        "    - lst: a list of ints\n",
        "    \n",
        "    Outputs:\n",
        "    - out_lst: a list of ints, a longest monotonically increasing subsequence\n",
        "    of lst\n",
        "    \"\"\"\n",
        "    x = [str(i) for i in lst]\n",
        "    y = [str(i) for i in sorted(lst)]\n",
        "\n",
        "    c, b = lcs_length(x, y)\n",
        "    lmis_lst = print_lcs(b,x,len(x)-1,len(y)-1)[0]\n",
        "\n",
        "\n",
        "    lmis_int_lst = []\n",
        "\n",
        "    for i in range(len(lmis_lst)):\n",
        "        if(lmis_lst[i] == '-'):\n",
        "            lmis_int_lst += [int(lmis_lst[i] + lmis_lst[i-1])]\n",
        "            del lmis_int_lst[i-1]\n",
        "        else:\n",
        "            lmis_int_lst += [int(lmis_lst[i])]\n",
        "\n",
        "    return lmis_int_lst\n",
        "\n",
        "    #raise NotImplementedError()"
      ],
      "execution_count": 0,
      "outputs": []
    },
    {
      "cell_type": "code",
      "metadata": {
        "id": "mFself1EoVT1",
        "colab_type": "code",
        "colab": {
          "base_uri": "https://localhost:8080/",
          "height": 34
        },
        "outputId": "61b600cf-470f-4ce5-f46c-7c7b260b7e5e"
      },
      "source": [
        "lmis([5, 1, 0, 4, 2, 6, 7, 9])"
      ],
      "execution_count": 51,
      "outputs": [
        {
          "output_type": "execute_result",
          "data": {
            "text/plain": [
              "[1, 4, 6, 7, 9]"
            ]
          },
          "metadata": {
            "tags": []
          },
          "execution_count": 51
        }
      ]
    },
    {
      "cell_type": "code",
      "metadata": {
        "id": "e3eRz7JOoZHl",
        "colab_type": "code",
        "colab": {
          "base_uri": "https://localhost:8080/",
          "height": 34
        },
        "outputId": "40a99f74-0136-418c-d267-7105b21b4968"
      },
      "source": [
        "lmis([6, -1,4,5,5,7,-6,2])"
      ],
      "execution_count": 52,
      "outputs": [
        {
          "output_type": "execute_result",
          "data": {
            "text/plain": [
              "[-1, 4, 5, 5, 7]"
            ]
          },
          "metadata": {
            "tags": []
          },
          "execution_count": 52
        }
      ]
    },
    {
      "cell_type": "code",
      "metadata": {
        "deletable": false,
        "editable": false,
        "nbgrader": {
          "checksum": "76332bc03995fdbf3d2b61d41dc672ad",
          "grade": true,
          "grade_id": "cell-f8b218898fb43d19",
          "locked": true,
          "points": 0,
          "schema_version": 1,
          "solution": false
        },
        "id": "UfVYtm4PbGZ0",
        "colab_type": "code",
        "colab": {}
      },
      "source": [
        "assert(lmis([5, 1, 0, 4, 2, 6, 7, 9]) == [1, 4, 6, 7, 9])\n",
        "assert(lmis([6, -1,4,5,5,7,-6,2]) == [-1, 4, 5, 5, 7])"
      ],
      "execution_count": 0,
      "outputs": []
    },
    {
      "cell_type": "code",
      "metadata": {
        "id": "Wcgq9QO8td2-",
        "colab_type": "code",
        "colab": {}
      },
      "source": [
        ""
      ],
      "execution_count": 0,
      "outputs": []
    }
  ]
}